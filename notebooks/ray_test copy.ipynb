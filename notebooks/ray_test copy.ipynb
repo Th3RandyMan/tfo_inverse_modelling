{
 "cells": [
  {
   "attachments": {},
   "cell_type": "markdown",
   "metadata": {},
   "source": [
    "# Ray Tune Test\n",
    "Ray tune is a hyperparameter tuning library. Trying to figure out how this works\n",
    "\n",
    "## Issues\n",
    "1. How do I set which GPU to use? Disabled my GPU choosing code to make this run(Uncomment that thing in model_train later!). \n",
    "2. Trials are somehow limited to only 3? And then it just stops. How to make it do more tries.\n",
    "3. We can make ray tune run trials in parallel. (With fractional GPUs, more CPUs etc.) Maybe explore\n",
    "4. using the tune.report() reports the results and will be used to early stop training. Currently, I only report at the very end. Which is not ideal. Modify to report at each stage!"
   ]
  },
  {
   "cell_type": "code",
   "execution_count": 25,
   "metadata": {},
   "outputs": [],
   "source": [
    "from torch.optim import Adam, SGD\n",
    "import torch.nn as nn\n",
    "import torch\n",
    "import matplotlib.pyplot as plt\n",
    "import numpy as np\n",
    "import pandas as pd\n",
    "from sklearn import preprocessing\n",
    "from inverse_modelling_tfo.models import train_model, create_perceptron_model, train_model_wtih_reporting\n",
    "from inverse_modelling_tfo.data import generate_data_loaders, equidistance_detector_normalization, constant_detector_count_normalization\n",
    "from inverse_modelling_tfo.data.intensity_interpolation import get_interpolate_fit_params_custom\n",
    "from inverse_modelling_tfo.data.interpolation_function_zoo import *"
   ]
  },
  {
   "cell_type": "code",
   "execution_count": 26,
   "metadata": {},
   "outputs": [],
   "source": [
    "data = pd.read_pickle(r'/home/rraiyan/personal_projects/tfo_inverse_modelling/data/intensity/intensity_summed_sim_data_equidistance_detector_extended.pkl')\n",
    "equidistance_detector_normalization(data)\n",
    "\n",
    "data = data[data[\"Wave Int\"] == 2.0]    # Keep only 1 wavelength\n",
    "data['Intensity'] = np.log10(data['Intensity'])        # Far values wayy to small to affect anything. Take log\n",
    "\n",
    "# From long to wide\n",
    "data = pd.pivot(data, index=['Wave Int', 'Uterus Thickness', 'Maternal Wall Thickness', \"Maternal Mu_a\", \"Fetal Mu_a\"], columns=\"SDD\", values=\"Intensity\").reset_index()\n",
    "# Since SDD's have integer values, the columns get integer names - > which can't be accessed -> str conversion\n",
    "data.columns = [str(X) for X in data.columns]   \n",
    "x_columns = list(filter(lambda X: X.isdigit(), data.columns))"
   ]
  },
  {
   "cell_type": "code",
   "execution_count": 43,
   "metadata": {},
   "outputs": [],
   "source": [
    "a = data['Maternal Mu_a'].unique()\n",
    "b = data['Fetal Mu_a'].unique()"
   ]
  },
  {
   "cell_type": "code",
   "execution_count": 44,
   "metadata": {},
   "outputs": [],
   "source": [
    "from itertools import product\n",
    "m = product(a, b)"
   ]
  },
  {
   "cell_type": "code",
   "execution_count": 45,
   "metadata": {},
   "outputs": [
    {
     "data": {
      "text/plain": [
       "84"
      ]
     },
     "execution_count": 45,
     "metadata": {},
     "output_type": "execute_result"
    }
   ],
   "source": [
    "n = list(m)\n",
    "len(n)"
   ]
  },
  {
   "cell_type": "code",
   "execution_count": 28,
   "metadata": {},
   "outputs": [
    {
     "data": {
      "text/plain": [
       "Index(['Wave Int', 'Uterus Thickness', 'Maternal Wall Thickness',\n",
       "       'Maternal Mu_a', 'Fetal Mu_a', '10', '14', '19', '23', '28', '32', '37',\n",
       "       '41', '46', '50', '55', '59', '64', '68', '73', '77', '82', '86', '91',\n",
       "       '95'],\n",
       "      dtype='object')"
      ]
     },
     "execution_count": 28,
     "metadata": {},
     "output_type": "execute_result"
    }
   ],
   "source": [
    "data.columns"
   ]
  },
  {
   "cell_type": "code",
   "execution_count": 29,
   "metadata": {},
   "outputs": [],
   "source": [
    "\n",
    "params = {\n",
    "        'batch_size': 32, 'shuffle': True, 'num_workers': 2\n",
    "    }\n",
    "train, val = generate_data_loaders(data, params, x_columns, y_columns, 0.8)"
   ]
  }
 ],
 "metadata": {
  "kernelspec": {
   "display_name": "cybercat",
   "language": "python",
   "name": "python3"
  },
  "language_info": {
   "codemirror_mode": {
    "name": "ipython",
    "version": 3
   },
   "file_extension": ".py",
   "mimetype": "text/x-python",
   "name": "python",
   "nbconvert_exporter": "python",
   "pygments_lexer": "ipython3",
   "version": "3.8.10"
  },
  "orig_nbformat": 4
 },
 "nbformat": 4,
 "nbformat_minor": 2
}
