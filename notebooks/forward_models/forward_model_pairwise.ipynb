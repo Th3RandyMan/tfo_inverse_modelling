{
 "cells": [
  {
   "cell_type": "code",
   "execution_count": 20,
   "metadata": {},
   "outputs": [],
   "source": [
    "from torch.optim import Adam, SGD\n",
    "import torch.nn as nn\n",
    "import torch\n",
    "import matplotlib.pyplot as plt\n",
    "import numpy as np\n",
    "import pandas as pd\n",
    "import os\n",
    "from sklearn import preprocessing\n",
    "from inverse_modelling_tfo.data import generate_data_loaders, equidistance_detector_normalization, constant_detector_count_normalization\n",
    "from inverse_modelling_tfo.data.intensity_interpolation import interpolate_exp\n",
    "from inverse_modelling_tfo.data.interpolation_function_zoo import *\n",
    "from inverse_modelling_tfo.models import RandomSplit, ValidationMethod, HoldOneOut, CVSplit\n",
    "from inverse_modelling_tfo.models.custom_models import SplitChannelCNN, PerceptronReLU, PerceptronBN, PerceptronDO, PerceptronBD\n",
    "from inverse_modelling_tfo.features.build_features import create_ratio, create_spatial_intensity, create_ratio_and_intensity, create_row_combos\n",
    "from ray import tune\n",
    "from ray.tune import CLIReporter\n",
    "from ray.tune.schedulers import ASHAScheduler\n",
    "import torchinfo\n",
    "from inverse_modelling_tfo.misc.misc_training import set_seed\n",
    "# Set my GPU\n",
    "os.environ[\"CUDA_VISIBLE_DEVICES\"]=\"3\""
   ]
  },
  {
   "cell_type": "code",
   "execution_count": 21,
   "metadata": {},
   "outputs": [
    {
     "name": "stdout",
     "output_type": "stream",
     "text": [
      "The autoreload extension is already loaded. To reload it, use:\n",
      "  %reload_ext autoreload\n"
     ]
    }
   ],
   "source": [
    "%load_ext autoreload\n",
    "%autoreload 2"
   ]
  },
  {
   "cell_type": "code",
   "execution_count": 22,
   "metadata": {},
   "outputs": [],
   "source": [
    "DATA_PATH = r'/home/rraiyan/personal_projects/tfo_inverse_modelling/data/intensity/s_based_intensity_low_conc3.pkl'\n",
    "\n",
    "data = pd.read_pickle(DATA_PATH)\n",
    "# Drop Thickness values which I did not calculate the close concnetration points\n",
    "equidistance_detector_normalization(data)\n",
    "\n",
    "# Drop Uterus Thickness for now\n",
    "data = data.drop(columns='Uterus Thickness')\n",
    "\n",
    "# Interpolate intensity to remove noise\n",
    "data = interpolate_exp(data, weights=(1, 0.7))\n",
    "data['Intensity'] = data['Interpolated Intensity']\n",
    "data = data.drop(columns='Interpolated Intensity')\n",
    "\n",
    "# Manual log(intensity) normalization\n",
    "data['Intensity'] = np.log10(data['Intensity'])        # Far values wayy to small to affect anything. Take log\n",
    "\n",
    "\n",
    "# data = create_ratio_and_intensity(data, True)\n",
    "# data, x_columns, labels = create_ratio(data, True)\n",
    "data, x_columns, labels = create_spatial_intensity(data)\n",
    "\n",
    "# data.head()\n",
    "# NOTE: Have only 1 on at the same time!\n",
    "\n",
    "# Cleanup\n",
    "data.dropna(inplace=True)"
   ]
  },
  {
   "cell_type": "markdown",
   "metadata": {},
   "source": [
    "# Create Combinations"
   ]
  },
  {
   "cell_type": "code",
   "execution_count": 23,
   "metadata": {},
   "outputs": [
    {
     "name": "stdout",
     "output_type": "stream",
     "text": [
      "['Maternal Wall Thickness', 'Maternal Hb Concentration', 'Maternal Saturation', 'Fetal Saturation', 'FconcCenters', 'Fetal Hb Concentration 0', 'Fetal Hb Concentration 1']\n"
     ]
    }
   ],
   "source": [
    "# Add new columns to group close concentrations\n",
    "# data['MconcCenters'] = np.round(data['Maternal Hb Concentration']).astype(int)\n",
    "data['FconcCenters'] = np.round(data['Fetal Hb Concentration'] * 20, 0)\n",
    "fixed_columns = ['Maternal Wall Thickness', \"Maternal Hb Concentration\", \"Maternal Saturation\", \"Fetal Saturation\", \"FconcCenters\"]\n",
    "data, x_columns, labels = create_row_combos(data, x_columns, fixed_columns, [\"Fetal Hb Concentration\"], combo_count=2)\n",
    "print(labels)"
   ]
  },
  {
   "attachments": {},
   "cell_type": "markdown",
   "metadata": {},
   "source": [
    "## Normalizing Features\n",
    "x_columns will be the input features and y_columns are the target"
   ]
  },
  {
   "cell_type": "code",
   "execution_count": 24,
   "metadata": {},
   "outputs": [],
   "source": [
    "# For the forward model, x -> The labels/TMPs i.e., the input to the model\n",
    "x_columns = labels.copy()\n",
    "x_columns.remove('FconcCenters')\n",
    "\n",
    "## Y -> The features to predict, output of the model\n",
    "ratio_columns = list(filter(lambda X: X.isdigit(), data.columns))   # Can be empty \n",
    "intensity_columns = list(filter(lambda X: '_' in X, data.columns))  # Can be empty \n",
    "y_columns = ratio_columns + intensity_columns\n",
    "\n",
    "## Pass in maternal info\n",
    "# x_columns += [\"Maternal Hb Concentration\", \"Maternal Saturation\"]\n",
    "# x_columns = list(filter(lambda X: 'alpha' in X, data.columns))\n",
    "\n",
    "## Scale y\n",
    "y_scaler = preprocessing.StandardScaler()\n",
    "data[y_columns] = y_scaler.fit_transform(data[y_columns])\n",
    "\n",
    "## Scale x\n",
    "x_scaler = preprocessing.StandardScaler()\n",
    "data[x_columns] = x_scaler.fit_transform(data[x_columns])"
   ]
  },
  {
   "cell_type": "code",
   "execution_count": 25,
   "metadata": {},
   "outputs": [
    {
     "data": {
      "text/html": [
       "<div>\n",
       "<style scoped>\n",
       "    .dataframe tbody tr th:only-of-type {\n",
       "        vertical-align: middle;\n",
       "    }\n",
       "\n",
       "    .dataframe tbody tr th {\n",
       "        vertical-align: top;\n",
       "    }\n",
       "\n",
       "    .dataframe thead th {\n",
       "        text-align: right;\n",
       "    }\n",
       "</style>\n",
       "<table border=\"1\" class=\"dataframe\">\n",
       "  <thead>\n",
       "    <tr style=\"text-align: right;\">\n",
       "      <th></th>\n",
       "      <th>x_0</th>\n",
       "      <th>x_1</th>\n",
       "      <th>x_2</th>\n",
       "      <th>x_3</th>\n",
       "      <th>x_4</th>\n",
       "      <th>x_5</th>\n",
       "      <th>x_6</th>\n",
       "      <th>x_7</th>\n",
       "      <th>x_8</th>\n",
       "      <th>x_9</th>\n",
       "      <th>...</th>\n",
       "      <th>x_77</th>\n",
       "      <th>x_78</th>\n",
       "      <th>x_79</th>\n",
       "      <th>Maternal Wall Thickness</th>\n",
       "      <th>Maternal Hb Concentration</th>\n",
       "      <th>Maternal Saturation</th>\n",
       "      <th>Fetal Saturation</th>\n",
       "      <th>FconcCenters</th>\n",
       "      <th>Fetal Hb Concentration 0</th>\n",
       "      <th>Fetal Hb Concentration 1</th>\n",
       "    </tr>\n",
       "  </thead>\n",
       "  <tbody>\n",
       "    <tr>\n",
       "      <th>count</th>\n",
       "      <td>5.150000e+04</td>\n",
       "      <td>5.150000e+04</td>\n",
       "      <td>5.150000e+04</td>\n",
       "      <td>5.150000e+04</td>\n",
       "      <td>5.150000e+04</td>\n",
       "      <td>5.150000e+04</td>\n",
       "      <td>5.150000e+04</td>\n",
       "      <td>5.150000e+04</td>\n",
       "      <td>5.150000e+04</td>\n",
       "      <td>5.150000e+04</td>\n",
       "      <td>...</td>\n",
       "      <td>5.150000e+04</td>\n",
       "      <td>5.150000e+04</td>\n",
       "      <td>5.150000e+04</td>\n",
       "      <td>5.150000e+04</td>\n",
       "      <td>5.150000e+04</td>\n",
       "      <td>5.150000e+04</td>\n",
       "      <td>5.150000e+04</td>\n",
       "      <td>51500.000000</td>\n",
       "      <td>5.150000e+04</td>\n",
       "      <td>5.150000e+04</td>\n",
       "    </tr>\n",
       "    <tr>\n",
       "      <th>mean</th>\n",
       "      <td>5.111691e-13</td>\n",
       "      <td>-1.802875e-13</td>\n",
       "      <td>2.809721e-14</td>\n",
       "      <td>8.234018e-15</td>\n",
       "      <td>2.992502e-14</td>\n",
       "      <td>1.106405e-14</td>\n",
       "      <td>-3.288309e-14</td>\n",
       "      <td>-2.521861e-14</td>\n",
       "      <td>1.962036e-14</td>\n",
       "      <td>-4.351446e-14</td>\n",
       "      <td>...</td>\n",
       "      <td>6.128052e-15</td>\n",
       "      <td>6.004431e-16</td>\n",
       "      <td>-4.321424e-14</td>\n",
       "      <td>7.064037e-17</td>\n",
       "      <td>1.854310e-16</td>\n",
       "      <td>1.246692e-15</td>\n",
       "      <td>8.616193e-17</td>\n",
       "      <td>2.728155</td>\n",
       "      <td>-4.525398e-17</td>\n",
       "      <td>-9.492299e-17</td>\n",
       "    </tr>\n",
       "    <tr>\n",
       "      <th>std</th>\n",
       "      <td>1.000010e+00</td>\n",
       "      <td>1.000010e+00</td>\n",
       "      <td>1.000010e+00</td>\n",
       "      <td>1.000010e+00</td>\n",
       "      <td>1.000010e+00</td>\n",
       "      <td>1.000010e+00</td>\n",
       "      <td>1.000010e+00</td>\n",
       "      <td>1.000010e+00</td>\n",
       "      <td>1.000010e+00</td>\n",
       "      <td>1.000010e+00</td>\n",
       "      <td>...</td>\n",
       "      <td>1.000010e+00</td>\n",
       "      <td>1.000010e+00</td>\n",
       "      <td>1.000010e+00</td>\n",
       "      <td>1.000010e+00</td>\n",
       "      <td>1.000010e+00</td>\n",
       "      <td>1.000010e+00</td>\n",
       "      <td>1.000010e+00</td>\n",
       "      <td>0.444915</td>\n",
       "      <td>1.000010e+00</td>\n",
       "      <td>1.000010e+00</td>\n",
       "    </tr>\n",
       "    <tr>\n",
       "      <th>min</th>\n",
       "      <td>-2.655479e+00</td>\n",
       "      <td>-1.361816e+00</td>\n",
       "      <td>-1.324031e+00</td>\n",
       "      <td>-1.311535e+00</td>\n",
       "      <td>-1.751095e+00</td>\n",
       "      <td>-2.018314e+00</td>\n",
       "      <td>-2.458896e+00</td>\n",
       "      <td>-2.751767e+00</td>\n",
       "      <td>-3.057090e+00</td>\n",
       "      <td>-3.261551e+00</td>\n",
       "      <td>...</td>\n",
       "      <td>-3.484365e+00</td>\n",
       "      <td>-3.521678e+00</td>\n",
       "      <td>-3.550383e+00</td>\n",
       "      <td>-1.437876e+00</td>\n",
       "      <td>-1.462280e+00</td>\n",
       "      <td>-1.414214e+00</td>\n",
       "      <td>-1.414214e+00</td>\n",
       "      <td>2.000000</td>\n",
       "      <td>-1.960385e+00</td>\n",
       "      <td>-1.960385e+00</td>\n",
       "    </tr>\n",
       "    <tr>\n",
       "      <th>25%</th>\n",
       "      <td>-6.544556e-01</td>\n",
       "      <td>-7.069781e-01</td>\n",
       "      <td>-7.348542e-01</td>\n",
       "      <td>-7.446917e-01</td>\n",
       "      <td>-8.911100e-01</td>\n",
       "      <td>-8.835831e-01</td>\n",
       "      <td>-8.485697e-01</td>\n",
       "      <td>-8.058049e-01</td>\n",
       "      <td>-7.411502e-01</td>\n",
       "      <td>-6.887725e-01</td>\n",
       "      <td>...</td>\n",
       "      <td>-8.161061e-01</td>\n",
       "      <td>-8.185276e-01</td>\n",
       "      <td>-8.189804e-01</td>\n",
       "      <td>-8.963727e-01</td>\n",
       "      <td>-7.571543e-01</td>\n",
       "      <td>-7.071068e-01</td>\n",
       "      <td>-7.071068e-01</td>\n",
       "      <td>2.000000</td>\n",
       "      <td>-7.527314e-01</td>\n",
       "      <td>-7.527314e-01</td>\n",
       "    </tr>\n",
       "    <tr>\n",
       "      <th>50%</th>\n",
       "      <td>-3.293674e-02</td>\n",
       "      <td>-3.413246e-01</td>\n",
       "      <td>-3.914362e-01</td>\n",
       "      <td>-3.936744e-01</td>\n",
       "      <td>-1.421642e-01</td>\n",
       "      <td>-8.415316e-02</td>\n",
       "      <td>-2.422660e-02</td>\n",
       "      <td>1.854206e-02</td>\n",
       "      <td>6.299182e-02</td>\n",
       "      <td>9.511829e-02</td>\n",
       "      <td>...</td>\n",
       "      <td>1.318810e-01</td>\n",
       "      <td>1.444594e-01</td>\n",
       "      <td>1.543058e-01</td>\n",
       "      <td>1.866348e-01</td>\n",
       "      <td>-5.202868e-02</td>\n",
       "      <td>0.000000e+00</td>\n",
       "      <td>0.000000e+00</td>\n",
       "      <td>3.000000</td>\n",
       "      <td>-2.813949e-02</td>\n",
       "      <td>-2.813949e-02</td>\n",
       "    </tr>\n",
       "    <tr>\n",
       "      <th>75%</th>\n",
       "      <td>5.817656e-01</td>\n",
       "      <td>4.129812e-01</td>\n",
       "      <td>5.958339e-01</td>\n",
       "      <td>6.426249e-01</td>\n",
       "      <td>9.006186e-01</td>\n",
       "      <td>8.972979e-01</td>\n",
       "      <td>8.872830e-01</td>\n",
       "      <td>8.768054e-01</td>\n",
       "      <td>8.619735e-01</td>\n",
       "      <td>8.505704e-01</td>\n",
       "      <td>...</td>\n",
       "      <td>8.333147e-01</td>\n",
       "      <td>8.276332e-01</td>\n",
       "      <td>8.225438e-01</td>\n",
       "      <td>7.281385e-01</td>\n",
       "      <td>7.236095e-01</td>\n",
       "      <td>7.071068e-01</td>\n",
       "      <td>7.071068e-01</td>\n",
       "      <td>3.000000</td>\n",
       "      <td>6.964524e-01</td>\n",
       "      <td>6.964524e-01</td>\n",
       "    </tr>\n",
       "    <tr>\n",
       "      <th>max</th>\n",
       "      <td>3.025937e+00</td>\n",
       "      <td>2.429430e+00</td>\n",
       "      <td>2.206100e+00</td>\n",
       "      <td>2.142614e+00</td>\n",
       "      <td>1.713573e+00</td>\n",
       "      <td>1.666294e+00</td>\n",
       "      <td>1.604175e+00</td>\n",
       "      <td>1.554916e+00</td>\n",
       "      <td>1.496052e+00</td>\n",
       "      <td>1.451918e+00</td>\n",
       "      <td>...</td>\n",
       "      <td>1.435640e+00</td>\n",
       "      <td>1.435055e+00</td>\n",
       "      <td>1.434437e+00</td>\n",
       "      <td>2.352650e+00</td>\n",
       "      <td>1.569760e+00</td>\n",
       "      <td>1.414214e+00</td>\n",
       "      <td>1.414214e+00</td>\n",
       "      <td>3.000000</td>\n",
       "      <td>1.421044e+00</td>\n",
       "      <td>1.421044e+00</td>\n",
       "    </tr>\n",
       "  </tbody>\n",
       "</table>\n",
       "<p>8 rows × 87 columns</p>\n",
       "</div>"
      ],
      "text/plain": [
       "                x_0           x_1           x_2           x_3           x_4  \\\n",
       "count  5.150000e+04  5.150000e+04  5.150000e+04  5.150000e+04  5.150000e+04   \n",
       "mean   5.111691e-13 -1.802875e-13  2.809721e-14  8.234018e-15  2.992502e-14   \n",
       "std    1.000010e+00  1.000010e+00  1.000010e+00  1.000010e+00  1.000010e+00   \n",
       "min   -2.655479e+00 -1.361816e+00 -1.324031e+00 -1.311535e+00 -1.751095e+00   \n",
       "25%   -6.544556e-01 -7.069781e-01 -7.348542e-01 -7.446917e-01 -8.911100e-01   \n",
       "50%   -3.293674e-02 -3.413246e-01 -3.914362e-01 -3.936744e-01 -1.421642e-01   \n",
       "75%    5.817656e-01  4.129812e-01  5.958339e-01  6.426249e-01  9.006186e-01   \n",
       "max    3.025937e+00  2.429430e+00  2.206100e+00  2.142614e+00  1.713573e+00   \n",
       "\n",
       "                x_5           x_6           x_7           x_8           x_9  \\\n",
       "count  5.150000e+04  5.150000e+04  5.150000e+04  5.150000e+04  5.150000e+04   \n",
       "mean   1.106405e-14 -3.288309e-14 -2.521861e-14  1.962036e-14 -4.351446e-14   \n",
       "std    1.000010e+00  1.000010e+00  1.000010e+00  1.000010e+00  1.000010e+00   \n",
       "min   -2.018314e+00 -2.458896e+00 -2.751767e+00 -3.057090e+00 -3.261551e+00   \n",
       "25%   -8.835831e-01 -8.485697e-01 -8.058049e-01 -7.411502e-01 -6.887725e-01   \n",
       "50%   -8.415316e-02 -2.422660e-02  1.854206e-02  6.299182e-02  9.511829e-02   \n",
       "75%    8.972979e-01  8.872830e-01  8.768054e-01  8.619735e-01  8.505704e-01   \n",
       "max    1.666294e+00  1.604175e+00  1.554916e+00  1.496052e+00  1.451918e+00   \n",
       "\n",
       "       ...          x_77          x_78          x_79  Maternal Wall Thickness  \\\n",
       "count  ...  5.150000e+04  5.150000e+04  5.150000e+04             5.150000e+04   \n",
       "mean   ...  6.128052e-15  6.004431e-16 -4.321424e-14             7.064037e-17   \n",
       "std    ...  1.000010e+00  1.000010e+00  1.000010e+00             1.000010e+00   \n",
       "min    ... -3.484365e+00 -3.521678e+00 -3.550383e+00            -1.437876e+00   \n",
       "25%    ... -8.161061e-01 -8.185276e-01 -8.189804e-01            -8.963727e-01   \n",
       "50%    ...  1.318810e-01  1.444594e-01  1.543058e-01             1.866348e-01   \n",
       "75%    ...  8.333147e-01  8.276332e-01  8.225438e-01             7.281385e-01   \n",
       "max    ...  1.435640e+00  1.435055e+00  1.434437e+00             2.352650e+00   \n",
       "\n",
       "       Maternal Hb Concentration  Maternal Saturation  Fetal Saturation  \\\n",
       "count               5.150000e+04         5.150000e+04      5.150000e+04   \n",
       "mean                1.854310e-16         1.246692e-15      8.616193e-17   \n",
       "std                 1.000010e+00         1.000010e+00      1.000010e+00   \n",
       "min                -1.462280e+00        -1.414214e+00     -1.414214e+00   \n",
       "25%                -7.571543e-01        -7.071068e-01     -7.071068e-01   \n",
       "50%                -5.202868e-02         0.000000e+00      0.000000e+00   \n",
       "75%                 7.236095e-01         7.071068e-01      7.071068e-01   \n",
       "max                 1.569760e+00         1.414214e+00      1.414214e+00   \n",
       "\n",
       "       FconcCenters  Fetal Hb Concentration 0  Fetal Hb Concentration 1  \n",
       "count  51500.000000              5.150000e+04              5.150000e+04  \n",
       "mean       2.728155             -4.525398e-17             -9.492299e-17  \n",
       "std        0.444915              1.000010e+00              1.000010e+00  \n",
       "min        2.000000             -1.960385e+00             -1.960385e+00  \n",
       "25%        2.000000             -7.527314e-01             -7.527314e-01  \n",
       "50%        3.000000             -2.813949e-02             -2.813949e-02  \n",
       "75%        3.000000              6.964524e-01              6.964524e-01  \n",
       "max        3.000000              1.421044e+00              1.421044e+00  \n",
       "\n",
       "[8 rows x 87 columns]"
      ]
     },
     "execution_count": 25,
     "metadata": {},
     "output_type": "execute_result"
    }
   ],
   "source": [
    "data.describe()"
   ]
  },
  {
   "attachments": {},
   "cell_type": "markdown",
   "metadata": {},
   "source": [
    "## Model Configuration"
   ]
  },
  {
   "cell_type": "code",
   "execution_count": 26,
   "metadata": {},
   "outputs": [],
   "source": [
    "IN_FEATURES = len(x_columns)\n",
    "OUT_FEATURES = len(y_columns)\n",
    "\n",
    "from inverse_modelling_tfo.models.train_model import ModelTrainerFactory\n",
    "datagen_kw = {\n",
    "    'table' : data,\n",
    "    'data_loader_params' : \n",
    "        {\n",
    "            'batch_size': 64, 'shuffle': True, 'num_workers': 2\n",
    "        }, \n",
    "    'x_columns': x_columns,\n",
    "    'y_columns': y_columns,\n",
    "    # Standard Scaling w.r.t. Maternal Wall thickness : The original values are gone. Hold one out for some value\n",
    "    # in the middle of the pack\n",
    "    'validation_method' : HoldOneOut('Maternal Wall Thickness', data[\"Maternal Wall Thickness\"].unique()[4])\n",
    "    # 'validation_method' : HoldOneOut('Maternal Hb Concentration', 13.0)\n",
    "    # 'validation_method' : HoldOneOut('Maternal Saturation', 1.0)\n",
    "}\n",
    "\n",
    "# trainer_factory = ModelTrainerFactory(PerceptronReLU, {'node_counts' : [IN_FEATURES, 8, 2, OUT_FEATURES]}, generate_data_loaders, datagen_kw, 100, nn.MSELoss())\n",
    "# trainer_factory = ModelTrainerFactory(PerceptronBN, {'node_counts' : [IN_FEATURES, 8, 2, OUT_FEATURES]}, generate_data_loaders, datagen_kw, 100, nn.MSELoss())\n",
    "# trainer_factory = ModelTrainerFactory(PerceptronDO, {'node_counts' : [IN_FEATURES, 8, 2, OUT_FEATURES]}, generate_data_loaders, datagen_kw, 100, nn.MSELoss())\n",
    "trainer_factory = ModelTrainerFactory(PerceptronBD, {'node_counts' : [IN_FEATURES, 10, 20, OUT_FEATURES], 'dropout_rates': [0.01, 0.01, 0.01]}, generate_data_loaders, datagen_kw, 100, nn.MSELoss())"
   ]
  },
  {
   "cell_type": "markdown",
   "metadata": {},
   "source": [
    "## Hyper Parameter Tuning"
   ]
  },
  {
   "cell_type": "code",
   "execution_count": 27,
   "metadata": {},
   "outputs": [],
   "source": [
    "# Custom Train Function \n",
    "def train_with_tuning(iteration_config):\n",
    "    set_seed(42)\n",
    "    trainer_tuning = trainer_factory.create()\n",
    "    trainer_tuning.reporting = True     # Report at each epoch to Ray Tune\n",
    "    if 'batch_size' in iteration_config:\n",
    "        trainer_tuning.change_batch_size(iteration_config['batch_size'])    # If batch_size needs tuning\n",
    "    trainer_tuning.set_optimizer(SGD, {'lr': iteration_config[\"lr\"], 'momentum': iteration_config[\"momentum\"]})\n",
    "    trainer_tuning.run()"
   ]
  },
  {
   "cell_type": "code",
   "execution_count": 28,
   "metadata": {},
   "outputs": [],
   "source": [
    "# # Hyper Parameter Search \n",
    "# iteration_config = {\n",
    "#     \"lr\" : tune.loguniform(1e-5, 1e-3),\n",
    "#     # \"batch_size\": tune.choice([128, 256]),\n",
    "#     \"momentum\": tune.uniform(0.8, 0.99),\n",
    "# }\n",
    "# scheduler = ASHAScheduler(metric=\"combined_loss\", mode=\"min\", max_t=60, grace_period=5, reduction_factor=2)\n",
    "# reporter = CLIReporter(metric_columns=[\"train_loss\", \"val_loss\", \"combined_loss\", \"training_iteration\"])\n",
    "# result = tune.run(train_with_tuning, config=iteration_config, scheduler=scheduler, progress_reporter=reporter,\n",
    "#                   num_samples=80, resources_per_trial={\"cpu\": 0, \"gpu\": 0.5},)\n",
    "\n",
    "# best_trial = result.get_best_trial(\"val_loss\", \"min\", \"last\")\n",
    "# # best_trial = result.get_best_trial(\"combined_loss\", \"min\", \"last\")\n",
    "# print(\"Best trial config: {}\".format(best_trial.config))\n",
    "# print(\"Best trial final validation loss: {}\".format(best_trial.last_result[\"val_loss\"]))\n",
    "# print(\"Best trial final train loss: {}\".format(best_trial.last_result[\"train_loss\"]))\n"
   ]
  },
  {
   "attachments": {},
   "cell_type": "markdown",
   "metadata": {},
   "source": [
    "<!-- Best trial config: {'lr': 0.0010630834634709364, 'b1': 0.4282116859842134, 'b2': 0.3089991262211405, 'batch_size': 8, 'model': [20, 16, 8, 4, 2, 1]}\n",
    "Best trial final validation loss: 0.09234625198878348\n",
    "Best trial final train loss: 0.22368373312056064 -->"
   ]
  },
  {
   "cell_type": "code",
   "execution_count": 29,
   "metadata": {},
   "outputs": [],
   "source": [
    "# best_trial.config"
   ]
  },
  {
   "cell_type": "markdown",
   "metadata": {},
   "source": [
    "## Custom Training"
   ]
  },
  {
   "cell_type": "code",
   "execution_count": 30,
   "metadata": {},
   "outputs": [],
   "source": [
    "set_seed(42)\n",
    "trainer = trainer_factory.create()\n",
    "# trainer.change_batch_size(16)\n",
    "# trainer.set_optimizer(SGD, {'lr': best_trial.config['lr'], 'momentum': best_trial.config['lr'][\"momentum\"]})\n",
    "trainer.set_optimizer(SGD, {'lr': 4e-3, 'momentum': 0.90})\n",
    "trainer.epochs = 100\n",
    "trainer.run()"
   ]
  },
  {
   "cell_type": "code",
   "execution_count": 31,
   "metadata": {},
   "outputs": [],
   "source": [
    "# trainer.epochs = 50\n",
    "# trainer.run()"
   ]
  },
  {
   "cell_type": "code",
   "execution_count": 32,
   "metadata": {},
   "outputs": [
    {
     "data": {
      "text/plain": [
       "<matplotlib.legend.Legend at 0x7f3a21711be0>"
      ]
     },
     "execution_count": 32,
     "metadata": {},
     "output_type": "execute_result"
    },
    {
     "data": {
      "image/png": "[encoded data removed]",
      "text/plain": [
       "<Figure size 640x480 with 1 Axes>"
      ]
     },
     "metadata": {},
     "output_type": "display_data"
    }
   ],
   "source": [
    "plt.figure()\n",
    "plt.plot(trainer.train_loss, label='Training Loss', marker='x')\n",
    "plt.plot(trainer.validation_loss, label='Validation Loss', marker='x')\n",
    "# plt.yscale('log')\n",
    "plt.legend()"
   ]
  },
  {
   "cell_type": "code",
   "execution_count": 33,
   "metadata": {},
   "outputs": [
    {
     "name": "stdout",
     "output_type": "stream",
     "text": [
      "\n",
      "        Model Properties:\n",
      "        PerceptronBD(\n",
      "  (model): Sequential(\n",
      "    (0): Linear(in_features=6, out_features=10, bias=True)\n",
      "    (1): BatchNorm1d(10, eps=1e-05, momentum=0.1, affine=True, track_running_stats=True)\n",
      "    (2): Dropout1d(p=0.01, inplace=False)\n",
      "    (3): ReLU()\n",
      "    (4): Linear(in_features=10, out_features=20, bias=True)\n",
      "    (5): BatchNorm1d(20, eps=1e-05, momentum=0.1, affine=True, track_running_stats=True)\n",
      "    (6): Dropout1d(p=0.01, inplace=False)\n",
      "    (7): ReLU()\n",
      "    (8): Linear(in_features=20, out_features=80, bias=True)\n",
      "    (9): Flatten(start_dim=1, end_dim=-1)\n",
      "  )\n",
      ")\n",
      "        Optimizer Properties\"\n",
      "        SGD (\n",
      "Parameter Group 0\n",
      "    dampening: 0\n",
      "    differentiable: False\n",
      "    foreach: None\n",
      "    lr: 0.004\n",
      "    maximize: False\n",
      "    momentum: 0.9\n",
      "    nesterov: False\n",
      "    weight_decay: 0\n",
      ")\n",
      "        DataLoader Params: \n",
      "            Batch Size: 64\n",
      "            Validation Method: Holds out fMaternal Wall Thickness columns 0.7281384947898918 for validation. The rest are used             for training\n",
      "        Loss:\n",
      "            Train Loss: 0.0012548860541707423\n",
      "            Val. Loss: 0.011642051275906175\n"
     ]
    }
   ],
   "source": [
    "print(trainer)"
   ]
  },
  {
   "cell_type": "code",
   "execution_count": 34,
   "metadata": {},
   "outputs": [
    {
     "data": {
      "image/png": "[encoded data removed]",
      "text/plain": [
       "<Figure size 640x480 with 1 Axes>"
      ]
     },
     "metadata": {},
     "output_type": "display_data"
    }
   ],
   "source": [
    "# Get predictions\n",
    "with torch.no_grad():\n",
    "    x_data = torch.tensor(data[x_columns].values, dtype=torch.float).cuda()\n",
    "    trainer.model = trainer.model.eval()\n",
    "    predictions = trainer.model(x_data)\n",
    "    # predictions = fwd_model(x_data)\n",
    "    predictions = predictions.cpu().numpy()\n",
    "    predictions = y_scaler.inverse_transform(predictions).flatten()\n",
    "    y_data = data[y_columns].to_numpy()\n",
    "    y_data = y_scaler.inverse_transform(y_data).flatten()\n",
    "    absolute_error = np.abs(y_data - predictions)\n",
    "    # error_df = pd.DataFrame({'Truth': y_data, \"Predicted\": predictions, \"Absolute Error\": absolute_error, \"%tage\": absolute_error/y_data * 100})\n",
    "    error_df = pd.DataFrame({'Truth': y_data, \"Predicted\": predictions, \"Absolute Error\": absolute_error, \"%tage\": absolute_error})\n",
    "plt.figure()\n",
    "# error_df['%tage'].plot.hist(bins=100)\n",
    "error_df['Absolute Error'].plot.hist(bins=100)\n",
    "# plt.xlabel('(%) Error')\n",
    "plt.xlabel('Mean LogI Error')\n",
    "plt.ylabel('Count')\n",
    "plt.show()"
   ]
  },
  {
   "cell_type": "code",
   "execution_count": 35,
   "metadata": {},
   "outputs": [
    {
     "name": "stdout",
     "output_type": "stream",
     "text": [
      "Train Error(non-normalized): [1.71026635e-05 3.75576552e-04 1.67512232e-03 3.39592166e-03\n",
      " 7.71406227e-03 8.81783596e-03 1.04427778e-02 1.19389111e-02\n",
      " 1.40543025e-02 1.59427953e-02 1.85486362e-02 2.08294886e-02\n",
      " 1.36918594e-02 1.36889986e-02 1.36894497e-02 1.36930323e-02\n",
      " 1.37015376e-02 1.37115636e-02 1.37281232e-02 1.37445925e-02\n",
      " 1.29349849e-05 2.86748380e-04 1.66729182e-03 3.60234792e-03\n",
      " 1.62888556e-02 2.01641526e-02 2.62534473e-02 3.21210217e-02\n",
      " 4.07006631e-02 4.85605149e-02 5.96305031e-02 6.94826323e-02\n",
      " 3.79041636e-02 3.87728484e-02 3.98870533e-02 4.08010965e-02\n",
      " 4.19719995e-02 4.29314011e-02 4.41590021e-02 4.51637621e-02\n",
      " 1.71026635e-05 3.75576552e-04 1.67512232e-03 3.39592166e-03\n",
      " 7.71406227e-03 8.81783596e-03 1.04427778e-02 1.19389111e-02\n",
      " 1.40543025e-02 1.59427953e-02 1.85486362e-02 2.08294886e-02\n",
      " 1.36918594e-02 1.36889986e-02 1.36894497e-02 1.36930323e-02\n",
      " 1.37015376e-02 1.37115636e-02 1.37281232e-02 1.37445925e-02\n",
      " 1.29349849e-05 2.86748380e-04 1.66729182e-03 3.60234792e-03\n",
      " 1.62888556e-02 2.01641526e-02 2.62534473e-02 3.21210217e-02\n",
      " 4.07006631e-02 4.85605149e-02 5.96305031e-02 6.94826323e-02\n",
      " 3.79041636e-02 3.87728484e-02 3.98870533e-02 4.08010965e-02\n",
      " 4.19719995e-02 4.29314011e-02 4.41590021e-02 4.51637621e-02]\n",
      "Validation Error(non-normalized): [1.58667861e-04 3.48436535e-03 1.55407416e-02 3.15052462e-02\n",
      " 7.15662654e-02 8.18063903e-02 9.68815889e-02 1.10761782e-01\n",
      " 1.30387065e-01 1.47907326e-01 1.72082694e-01 1.93243023e-01\n",
      " 1.27024545e-01 1.26998004e-01 1.27002189e-01 1.27035426e-01\n",
      " 1.27114333e-01 1.27207347e-01 1.27360977e-01 1.27513769e-01\n",
      " 1.20002734e-04 2.66027289e-03 1.54680951e-02 3.34203405e-02\n",
      " 1.51117858e-01 1.87070450e-01 2.43563133e-01 2.97998835e-01\n",
      " 3.77595404e-01 4.50514214e-01 5.53214670e-01 6.44616589e-01\n",
      " 3.51651224e-01 3.59710340e-01 3.70047239e-01 3.78527163e-01\n",
      " 3.89390071e-01 3.98290802e-01 4.09679720e-01 4.19001257e-01\n",
      " 1.58667861e-04 3.48436535e-03 1.55407416e-02 3.15052462e-02\n",
      " 7.15662654e-02 8.18063903e-02 9.68815889e-02 1.10761782e-01\n",
      " 1.30387065e-01 1.47907326e-01 1.72082694e-01 1.93243023e-01\n",
      " 1.27024545e-01 1.26998004e-01 1.27002189e-01 1.27035426e-01\n",
      " 1.27114333e-01 1.27207347e-01 1.27360977e-01 1.27513769e-01\n",
      " 1.20002734e-04 2.66027289e-03 1.54680951e-02 3.34203405e-02\n",
      " 1.51117858e-01 1.87070450e-01 2.43563133e-01 2.97998835e-01\n",
      " 3.77595404e-01 4.50514214e-01 5.53214670e-01 6.44616589e-01\n",
      " 3.51651224e-01 3.59710340e-01 3.70047239e-01 3.78527163e-01\n",
      " 3.89390071e-01 3.98290802e-01 4.09679720e-01 4.19001257e-01]\n"
     ]
    }
   ],
   "source": [
    "# Rough MSE's in percentage\n",
    "print(f'Train Error(non-normalized): {trainer.train_loss[-1] * y_scaler.var_ }')\n",
    "print(f'Validation Error(non-normalized): {trainer.validation_loss[-1] * y_scaler.var_ }')"
   ]
  },
  {
   "cell_type": "code",
   "execution_count": 36,
   "metadata": {},
   "outputs": [
    {
     "data": {
      "text/plain": [
       "=================================================================\n",
       "Layer (type:depth-idx)                   Param #\n",
       "=================================================================\n",
       "PerceptronBD                             --\n",
       "├─Sequential: 1-1                        --\n",
       "│    └─Linear: 2-1                       70\n",
       "│    └─BatchNorm1d: 2-2                  20\n",
       "│    └─Dropout1d: 2-3                    --\n",
       "│    └─ReLU: 2-4                         --\n",
       "│    └─Linear: 2-5                       220\n",
       "│    └─BatchNorm1d: 2-6                  40\n",
       "│    └─Dropout1d: 2-7                    --\n",
       "│    └─ReLU: 2-8                         --\n",
       "│    └─Linear: 2-9                       1,680\n",
       "│    └─Flatten: 2-10                     --\n",
       "=================================================================\n",
       "Total params: 2,030\n",
       "Trainable params: 2,030\n",
       "Non-trainable params: 0\n",
       "================================================================="
      ]
     },
     "execution_count": 36,
     "metadata": {},
     "output_type": "execute_result"
    }
   ],
   "source": [
    "# Model Info\n",
    "torchinfo.summary(trainer.model)"
   ]
  },
  {
   "cell_type": "code",
   "execution_count": 37,
   "metadata": {},
   "outputs": [
    {
     "data": {
      "text/plain": [
       "['../models/forward_curve_fit_paramv2_yscaler']"
      ]
     },
     "execution_count": 37,
     "metadata": {},
     "output_type": "execute_result"
    }
   ],
   "source": [
    "# model_name = 'forward_curve_fit_paramv2'\n",
    "# import joblib\n",
    "# # Save Model\n",
    "# torch.save(trainer.model.state_dict(), rf'../models/{model_name}')\n",
    "# # Save the Scalers for Later Use\n",
    "# joblib.dump(x_scaler, rf'../models/{model_name}_xscaler')\n",
    "# joblib.dump(y_scaler, rf'../models/{model_name}_yscaler')"
   ]
  },
  {
   "cell_type": "code",
   "execution_count": 38,
   "metadata": {},
   "outputs": [],
   "source": [
    "# # Load Model Code\n",
    "# import joblib\n",
    "# model_name = 'forward_curve_fit_paramv1'\n",
    "# fwd_model = PerceptronBD([5, 6, 8, 8], dropout_rates = [0.2, 0.2])\n",
    "# fwd_model.load_state_dict(torch.load(rf'../models/{model_name}'))\n",
    "# fwd_model = fwd_model.cuda()\n",
    "# fwd_model = fwd_model.eval()\n",
    "# # The input TMPs will already be scaled. No need to further use an x_scaler\n",
    "# y_scaler_fwd = joblib.load(rf'../models/{model_name}_yscaler')\n",
    "# x_scaler_fwd = joblib.load(rf'../models/{model_name}_xscaler')"
   ]
  }
 ],
 "metadata": {
  "kernelspec": {
   "display_name": "cybercat",
   "language": "python",
   "name": "python3"
  },
  "language_info": {
   "codemirror_mode": {
    "name": "ipython",
    "version": 3
   },
   "file_extension": ".py",
   "mimetype": "text/x-python",
   "name": "python",
   "nbconvert_exporter": "python",
   "pygments_lexer": "ipython3",
   "version": "3.8.10"
  },
  "orig_nbformat": 4
 },
 "nbformat": 4,
 "nbformat_minor": 2
}
