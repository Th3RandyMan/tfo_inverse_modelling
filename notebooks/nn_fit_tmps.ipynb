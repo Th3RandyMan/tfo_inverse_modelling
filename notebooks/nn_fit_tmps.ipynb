{
 "cells": [
  {
   "attachments": {},
   "cell_type": "markdown",
   "metadata": {},
   "source": [
    "# Fitting a Neural Network to Simulation Data\n",
    "Can we successfully fit a neural network to predict model parameters given our fitting parameters(alphas)? Also what are the performance metrics for such a network?\n"
   ]
  },
  {
   "cell_type": "code",
   "execution_count": 1,
   "metadata": {},
   "outputs": [],
   "source": [
    "from torch.optim import Adam, SGD\n",
    "import torch.nn as nn\n",
    "import torch\n",
    "import matplotlib.pyplot as plt\n",
    "import numpy as np\n",
    "import pandas as pd\n",
    "from sklearn import preprocessing\n",
    "from inverse_modelling_tfo.models import train_model, create_perceptron_model\n",
    "from inverse_modelling_tfo.data import generate_data_loaders, equidistance_detector_normalization, constant_detector_count_normalization\n",
    "from inverse_modelling_tfo.data.intensity_interpolation import get_interpolate_fit_params_custom\n",
    "from inverse_modelling_tfo.data.interpolation_function_zoo import *\n"
   ]
  },
  {
   "cell_type": "code",
   "execution_count": 2,
   "metadata": {},
   "outputs": [
    {
     "data": {
      "text/html": [
       "<div>\n",
       "<style scoped>\n",
       "    .dataframe tbody tr th:only-of-type {\n",
       "        vertical-align: middle;\n",
       "    }\n",
       "\n",
       "    .dataframe tbody tr th {\n",
       "        vertical-align: top;\n",
       "    }\n",
       "\n",
       "    .dataframe thead th {\n",
       "        text-align: right;\n",
       "    }\n",
       "</style>\n",
       "<table border=\"1\" class=\"dataframe\">\n",
       "  <thead>\n",
       "    <tr style=\"text-align: right;\">\n",
       "      <th></th>\n",
       "      <th>SDD</th>\n",
       "      <th>Intensity</th>\n",
       "      <th>Wave Int</th>\n",
       "      <th>Uterus Thickness</th>\n",
       "      <th>Maternal Wall Thickness</th>\n",
       "      <th>Maternal Mu_a</th>\n",
       "      <th>Fetal Mu_a</th>\n",
       "    </tr>\n",
       "  </thead>\n",
       "  <tbody>\n",
       "    <tr>\n",
       "      <th>0</th>\n",
       "      <td>10</td>\n",
       "      <td>1.812894e-04</td>\n",
       "      <td>2.0</td>\n",
       "      <td>5.0</td>\n",
       "      <td>26.0</td>\n",
       "      <td>0.005</td>\n",
       "      <td>0.05</td>\n",
       "    </tr>\n",
       "    <tr>\n",
       "      <th>1</th>\n",
       "      <td>14</td>\n",
       "      <td>3.681103e-05</td>\n",
       "      <td>2.0</td>\n",
       "      <td>5.0</td>\n",
       "      <td>26.0</td>\n",
       "      <td>0.005</td>\n",
       "      <td>0.05</td>\n",
       "    </tr>\n",
       "    <tr>\n",
       "      <th>2</th>\n",
       "      <td>19</td>\n",
       "      <td>8.854552e-06</td>\n",
       "      <td>2.0</td>\n",
       "      <td>5.0</td>\n",
       "      <td>26.0</td>\n",
       "      <td>0.005</td>\n",
       "      <td>0.05</td>\n",
       "    </tr>\n",
       "    <tr>\n",
       "      <th>3</th>\n",
       "      <td>23</td>\n",
       "      <td>2.952029e-06</td>\n",
       "      <td>2.0</td>\n",
       "      <td>5.0</td>\n",
       "      <td>26.0</td>\n",
       "      <td>0.005</td>\n",
       "      <td>0.05</td>\n",
       "    </tr>\n",
       "    <tr>\n",
       "      <th>4</th>\n",
       "      <td>28</td>\n",
       "      <td>1.092797e-06</td>\n",
       "      <td>2.0</td>\n",
       "      <td>5.0</td>\n",
       "      <td>26.0</td>\n",
       "      <td>0.005</td>\n",
       "      <td>0.05</td>\n",
       "    </tr>\n",
       "    <tr>\n",
       "      <th>5</th>\n",
       "      <td>32</td>\n",
       "      <td>4.277922e-07</td>\n",
       "      <td>2.0</td>\n",
       "      <td>5.0</td>\n",
       "      <td>26.0</td>\n",
       "      <td>0.005</td>\n",
       "      <td>0.05</td>\n",
       "    </tr>\n",
       "    <tr>\n",
       "      <th>6</th>\n",
       "      <td>37</td>\n",
       "      <td>1.715046e-07</td>\n",
       "      <td>2.0</td>\n",
       "      <td>5.0</td>\n",
       "      <td>26.0</td>\n",
       "      <td>0.005</td>\n",
       "      <td>0.05</td>\n",
       "    </tr>\n",
       "    <tr>\n",
       "      <th>7</th>\n",
       "      <td>41</td>\n",
       "      <td>7.471047e-08</td>\n",
       "      <td>2.0</td>\n",
       "      <td>5.0</td>\n",
       "      <td>26.0</td>\n",
       "      <td>0.005</td>\n",
       "      <td>0.05</td>\n",
       "    </tr>\n",
       "    <tr>\n",
       "      <th>8</th>\n",
       "      <td>46</td>\n",
       "      <td>3.120305e-08</td>\n",
       "      <td>2.0</td>\n",
       "      <td>5.0</td>\n",
       "      <td>26.0</td>\n",
       "      <td>0.005</td>\n",
       "      <td>0.05</td>\n",
       "    </tr>\n",
       "    <tr>\n",
       "      <th>9</th>\n",
       "      <td>50</td>\n",
       "      <td>1.365238e-08</td>\n",
       "      <td>2.0</td>\n",
       "      <td>5.0</td>\n",
       "      <td>26.0</td>\n",
       "      <td>0.005</td>\n",
       "      <td>0.05</td>\n",
       "    </tr>\n",
       "  </tbody>\n",
       "</table>\n",
       "</div>"
      ],
      "text/plain": [
       "   SDD     Intensity  Wave Int  Uterus Thickness  Maternal Wall Thickness  \\\n",
       "0   10  1.812894e-04       2.0               5.0                     26.0   \n",
       "1   14  3.681103e-05       2.0               5.0                     26.0   \n",
       "2   19  8.854552e-06       2.0               5.0                     26.0   \n",
       "3   23  2.952029e-06       2.0               5.0                     26.0   \n",
       "4   28  1.092797e-06       2.0               5.0                     26.0   \n",
       "5   32  4.277922e-07       2.0               5.0                     26.0   \n",
       "6   37  1.715046e-07       2.0               5.0                     26.0   \n",
       "7   41  7.471047e-08       2.0               5.0                     26.0   \n",
       "8   46  3.120305e-08       2.0               5.0                     26.0   \n",
       "9   50  1.365238e-08       2.0               5.0                     26.0   \n",
       "\n",
       "   Maternal Mu_a  Fetal Mu_a  \n",
       "0          0.005        0.05  \n",
       "1          0.005        0.05  \n",
       "2          0.005        0.05  \n",
       "3          0.005        0.05  \n",
       "4          0.005        0.05  \n",
       "5          0.005        0.05  \n",
       "6          0.005        0.05  \n",
       "7          0.005        0.05  \n",
       "8          0.005        0.05  \n",
       "9          0.005        0.05  "
      ]
     },
     "execution_count": 2,
     "metadata": {},
     "output_type": "execute_result"
    }
   ],
   "source": [
    "# Load Data\n",
    "data = pd.read_pickle(r'/home/rraiyan/personal_projects/tfo_inverse_modelling/data/intensity/intensity_summed_sim_data_equidistance_detector_extended.pkl')\n",
    "equidistance_detector_normalization(data)\n",
    "data.head(10)"
   ]
  },
  {
   "cell_type": "code",
   "execution_count": 3,
   "metadata": {},
   "outputs": [
    {
     "data": {
      "text/html": [
       "<div>\n",
       "<style scoped>\n",
       "    .dataframe tbody tr th:only-of-type {\n",
       "        vertical-align: middle;\n",
       "    }\n",
       "\n",
       "    .dataframe tbody tr th {\n",
       "        vertical-align: top;\n",
       "    }\n",
       "\n",
       "    .dataframe thead th {\n",
       "        text-align: right;\n",
       "    }\n",
       "</style>\n",
       "<table border=\"1\" class=\"dataframe\">\n",
       "  <thead>\n",
       "    <tr style=\"text-align: right;\">\n",
       "      <th></th>\n",
       "      <th>Wave Int</th>\n",
       "      <th>Uterus Thickness</th>\n",
       "      <th>Maternal Wall Thickness</th>\n",
       "      <th>Maternal Mu_a</th>\n",
       "      <th>Fetal Mu_a</th>\n",
       "      <th>alpha0</th>\n",
       "      <th>alpha1</th>\n",
       "      <th>alpha2</th>\n",
       "      <th>alpha3</th>\n",
       "    </tr>\n",
       "  </thead>\n",
       "  <tbody>\n",
       "    <tr>\n",
       "      <th>0</th>\n",
       "      <td>2.0</td>\n",
       "      <td>5.0</td>\n",
       "      <td>26.0</td>\n",
       "      <td>0.005</td>\n",
       "      <td>0.05</td>\n",
       "      <td>-15.760771</td>\n",
       "      <td>56.475355</td>\n",
       "      <td>-59.975009</td>\n",
       "      <td>7.904351</td>\n",
       "    </tr>\n",
       "    <tr>\n",
       "      <th>1</th>\n",
       "      <td>2.0</td>\n",
       "      <td>5.0</td>\n",
       "      <td>26.0</td>\n",
       "      <td>0.009</td>\n",
       "      <td>0.05</td>\n",
       "      <td>-16.483848</td>\n",
       "      <td>53.546342</td>\n",
       "      <td>-57.661251</td>\n",
       "      <td>7.759519</td>\n",
       "    </tr>\n",
       "    <tr>\n",
       "      <th>2</th>\n",
       "      <td>2.0</td>\n",
       "      <td>5.0</td>\n",
       "      <td>26.0</td>\n",
       "      <td>0.013</td>\n",
       "      <td>0.05</td>\n",
       "      <td>-17.267424</td>\n",
       "      <td>51.666028</td>\n",
       "      <td>-56.185631</td>\n",
       "      <td>7.689011</td>\n",
       "    </tr>\n",
       "    <tr>\n",
       "      <th>3</th>\n",
       "      <td>2.0</td>\n",
       "      <td>5.0</td>\n",
       "      <td>26.0</td>\n",
       "      <td>0.017</td>\n",
       "      <td>0.05</td>\n",
       "      <td>-18.313355</td>\n",
       "      <td>51.486330</td>\n",
       "      <td>-56.197820</td>\n",
       "      <td>7.805500</td>\n",
       "    </tr>\n",
       "    <tr>\n",
       "      <th>4</th>\n",
       "      <td>2.0</td>\n",
       "      <td>5.0</td>\n",
       "      <td>26.0</td>\n",
       "      <td>0.021</td>\n",
       "      <td>0.05</td>\n",
       "      <td>-19.814529</td>\n",
       "      <td>53.669168</td>\n",
       "      <td>-58.312192</td>\n",
       "      <td>8.202734</td>\n",
       "    </tr>\n",
       "  </tbody>\n",
       "</table>\n",
       "</div>"
      ],
      "text/plain": [
       "   Wave Int  Uterus Thickness  Maternal Wall Thickness  Maternal Mu_a  \\\n",
       "0       2.0               5.0                     26.0          0.005   \n",
       "1       2.0               5.0                     26.0          0.009   \n",
       "2       2.0               5.0                     26.0          0.013   \n",
       "3       2.0               5.0                     26.0          0.017   \n",
       "4       2.0               5.0                     26.0          0.021   \n",
       "\n",
       "   Fetal Mu_a     alpha0     alpha1     alpha2    alpha3  \n",
       "0        0.05 -15.760771  56.475355 -59.975009  7.904351  \n",
       "1        0.05 -16.483848  53.546342 -57.661251  7.759519  \n",
       "2        0.05 -17.267424  51.666028 -56.185631  7.689011  \n",
       "3        0.05 -18.313355  51.486330 -56.197820  7.805500  \n",
       "4        0.05 -19.814529  53.669168 -58.312192  8.202734  "
      ]
     },
     "execution_count": 3,
     "metadata": {},
     "output_type": "execute_result"
    }
   ],
   "source": [
    "# fitting_param_table = get_interpolate_fit_params_custom(data, unity_at_zero_interpolation, weights=[0, 1])\n",
    "fitting_param_table = get_interpolate_fit_params_custom(data, exponenet_4, weights=[1, 0])\n",
    "fitting_param_table.head()"
   ]
  },
  {
   "cell_type": "code",
   "execution_count": 4,
   "metadata": {},
   "outputs": [],
   "source": [
    "# Let's Try only one wavelength at a time for now - The goal is to have 2 seperate NNs for each\n",
    "fitting_param_columns = list(filter(lambda X: 'alpha' in X, fitting_param_table.columns))\n",
    "y_columns = ['Fetal Mu_a', \"Maternal Mu_a\", \"Maternal Wall Thickness\"]\n",
    "# y_columns = ['Fetal Mu_a']\n",
    "filtered_fitting_param_table = fitting_param_table[fitting_param_table['Wave Int'] == 2.0]"
   ]
  },
  {
   "cell_type": "code",
   "execution_count": 5,
   "metadata": {},
   "outputs": [],
   "source": [
    "# Describe Data\n",
    "# print(filtered_fitting_param_table[y_columns].describe())\n",
    "# print(filtered_fitting_param_table['Fetal Mu_a'].value_counts())"
   ]
  },
  {
   "attachments": {},
   "cell_type": "markdown",
   "metadata": {},
   "source": [
    "# Normalize Fitting Parameters\n",
    "We should make sure the mean and variance of the fitting parameters are normalized before passing them into a neural network. This way the fitting should be much more reliable/robust. Using a very simple scaling approach for this"
   ]
  },
  {
   "cell_type": "code",
   "execution_count": 6,
   "metadata": {},
   "outputs": [
    {
     "name": "stdout",
     "output_type": "stream",
     "text": [
      "Sequential(\n",
      "  (0): Linear(in_features=4, out_features=6, bias=True)\n",
      "  (1): ReLU()\n",
      "  (2): Linear(in_features=6, out_features=6, bias=True)\n",
      "  (3): ReLU()\n",
      "  (4): Linear(in_features=6, out_features=3, bias=True)\n",
      "  (5): Flatten(start_dim=1, end_dim=-1)\n",
      "  (6): Sigmoid()\n",
      ")\n"
     ]
    },
    {
     "name": "stderr",
     "output_type": "stream",
     "text": [
      "/tmp/ipykernel_356697/1569301122.py:2: SettingWithCopyWarning: \n",
      "A value is trying to be set on a copy of a slice from a DataFrame.\n",
      "Try using .loc[row_indexer,col_indexer] = value instead\n",
      "\n",
      "See the caveats in the documentation: https://pandas.pydata.org/pandas-docs/stable/user_guide/indexing.html#returning-a-view-versus-a-copy\n",
      "  filtered_fitting_param_table[fitting_param_columns] = x_scaler.fit_transform(filtered_fitting_param_table[fitting_param_columns])\n",
      "/tmp/ipykernel_356697/1569301122.py:4: SettingWithCopyWarning: \n",
      "A value is trying to be set on a copy of a slice from a DataFrame.\n",
      "Try using .loc[row_indexer,col_indexer] = value instead\n",
      "\n",
      "See the caveats in the documentation: https://pandas.pydata.org/pandas-docs/stable/user_guide/indexing.html#returning-a-view-versus-a-copy\n",
      "  filtered_fitting_param_table[y_columns] = y_scaler.fit_transform(filtered_fitting_param_table[y_columns])\n"
     ]
    }
   ],
   "source": [
    "x_scaler = preprocessing.StandardScaler()\n",
    "filtered_fitting_param_table[fitting_param_columns] = x_scaler.fit_transform(filtered_fitting_param_table[fitting_param_columns])\n",
    "y_scaler = preprocessing.StandardScaler()\n",
    "filtered_fitting_param_table[y_columns] = y_scaler.fit_transform(filtered_fitting_param_table[y_columns])\n",
    "\n",
    "\n",
    "\n",
    "np.random.seed(70)  # Set seed for consistentcy\n",
    "params = {\n",
    "    'batch_size': 500, 'shuffle': True, 'num_workers': 2\n",
    "}\n",
    "train, val = generate_data_loaders(filtered_fitting_param_table, params, fitting_param_columns, y_columns, 0.9)\n",
    "# model = create_perceptron_model([3, 6, 3, 2, 1])\n",
    "model = create_perceptron_model([4, 6, 6, 3])\n",
    "print(model)"
   ]
  },
  {
   "cell_type": "code",
   "execution_count": 7,
   "metadata": {},
   "outputs": [],
   "source": [
    "criterion = nn.MSELoss()\n",
    "# optimizer = Adam(model.parameters(), lr=0.1)\n",
    "optimizer = SGD(model.parameters(), lr=0.0018, momentum=0.9)"
   ]
  },
  {
   "cell_type": "code",
   "execution_count": 8,
   "metadata": {},
   "outputs": [
    {
     "ename": "KeyboardInterrupt",
     "evalue": "",
     "output_type": "error",
     "traceback": [
      "\u001b[0;31m---------------------------------------------------------------------------\u001b[0m",
      "\u001b[0;31mKeyboardInterrupt\u001b[0m                         Traceback (most recent call last)",
      "\u001b[1;32m/home/rraiyan/personal_projects/tfo_inverse_modelling/notebooks/nn_fit_tmps.ipynb Cell 10\u001b[0m in \u001b[0;36m1\n\u001b[0;32m----> <a href='vscode-notebook-cell://ssh-remote%2Bblueberry.ece.ucdavis.edu/home/rraiyan/personal_projects/tfo_inverse_modelling/notebooks/nn_fit_tmps.ipynb#X12sdnNjb2RlLXJlbW90ZQ%3D%3D?line=0'>1</a>\u001b[0m train_loss, validation_loss \u001b[39m=\u001b[39m train_model(model, optimizer, criterion, train, val, epochs\u001b[39m=\u001b[39;49m\u001b[39m500\u001b[39;49m)\n",
      "File \u001b[0;32m~/personal_projects/tfo_inverse_modelling/inverse_modelling_tfo/models/train_model.py:82\u001b[0m, in \u001b[0;36mtrain_model\u001b[0;34m(model, optimizer, criterion, train_loader, validation_loader, epochs, gpu_to_use)\u001b[0m\n\u001b[1;32m     80\u001b[0m \u001b[39m# Validation Loop\u001b[39;00m\n\u001b[1;32m     81\u001b[0m running_loss \u001b[39m=\u001b[39m \u001b[39m0.0\u001b[39m\n\u001b[0;32m---> 82\u001b[0m \u001b[39mfor\u001b[39;00m i, data \u001b[39min\u001b[39;00m \u001b[39menumerate\u001b[39;49m(validation_loader, \u001b[39m0\u001b[39;49m):\n\u001b[1;32m     83\u001b[0m     \u001b[39m# get the inputs; data is a list of [inputs, labels]\u001b[39;00m\n\u001b[1;32m     84\u001b[0m     inputs, labels \u001b[39m=\u001b[39m data\n\u001b[1;32m     86\u001b[0m     \u001b[39m# to CUDA\u001b[39;00m\n",
      "File \u001b[0;32m~/cybercat/lib/python3.8/site-packages/torch/utils/data/dataloader.py:444\u001b[0m, in \u001b[0;36mDataLoader.__iter__\u001b[0;34m(self)\u001b[0m\n\u001b[1;32m    442\u001b[0m     \u001b[39mreturn\u001b[39;00m \u001b[39mself\u001b[39m\u001b[39m.\u001b[39m_iterator\n\u001b[1;32m    443\u001b[0m \u001b[39melse\u001b[39;00m:\n\u001b[0;32m--> 444\u001b[0m     \u001b[39mreturn\u001b[39;00m \u001b[39mself\u001b[39;49m\u001b[39m.\u001b[39;49m_get_iterator()\n",
      "File \u001b[0;32m~/cybercat/lib/python3.8/site-packages/torch/utils/data/dataloader.py:390\u001b[0m, in \u001b[0;36mDataLoader._get_iterator\u001b[0;34m(self)\u001b[0m\n\u001b[1;32m    388\u001b[0m \u001b[39melse\u001b[39;00m:\n\u001b[1;32m    389\u001b[0m     \u001b[39mself\u001b[39m\u001b[39m.\u001b[39mcheck_worker_number_rationality()\n\u001b[0;32m--> 390\u001b[0m     \u001b[39mreturn\u001b[39;00m _MultiProcessingDataLoaderIter(\u001b[39mself\u001b[39;49m)\n",
      "File \u001b[0;32m~/cybercat/lib/python3.8/site-packages/torch/utils/data/dataloader.py:1038\u001b[0m, in \u001b[0;36m_MultiProcessingDataLoaderIter.__init__\u001b[0;34m(self, loader)\u001b[0m\n\u001b[1;32m   1037\u001b[0m \u001b[39mdef\u001b[39;00m \u001b[39m__init__\u001b[39m(\u001b[39mself\u001b[39m, loader):\n\u001b[0;32m-> 1038\u001b[0m     \u001b[39msuper\u001b[39;49m(_MultiProcessingDataLoaderIter, \u001b[39mself\u001b[39;49m)\u001b[39m.\u001b[39;49m\u001b[39m__init__\u001b[39;49m(loader)\n\u001b[1;32m   1040\u001b[0m     \u001b[39massert\u001b[39;00m \u001b[39mself\u001b[39m\u001b[39m.\u001b[39m_num_workers \u001b[39m>\u001b[39m \u001b[39m0\u001b[39m\n\u001b[1;32m   1041\u001b[0m     \u001b[39massert\u001b[39;00m \u001b[39mself\u001b[39m\u001b[39m.\u001b[39m_prefetch_factor \u001b[39m>\u001b[39m \u001b[39m0\u001b[39m\n",
      "File \u001b[0;32m~/cybercat/lib/python3.8/site-packages/torch/utils/data/dataloader.py:632\u001b[0m, in \u001b[0;36m_BaseDataLoaderIter.__init__\u001b[0;34m(self, loader)\u001b[0m\n\u001b[1;32m    630\u001b[0m \u001b[39mself\u001b[39m\u001b[39m.\u001b[39m_auto_collation \u001b[39m=\u001b[39m loader\u001b[39m.\u001b[39m_auto_collation\n\u001b[1;32m    631\u001b[0m \u001b[39mself\u001b[39m\u001b[39m.\u001b[39m_drop_last \u001b[39m=\u001b[39m loader\u001b[39m.\u001b[39mdrop_last\n\u001b[0;32m--> 632\u001b[0m \u001b[39mself\u001b[39m\u001b[39m.\u001b[39m_index_sampler \u001b[39m=\u001b[39m loader\u001b[39m.\u001b[39;49m_index_sampler\n\u001b[1;32m    633\u001b[0m \u001b[39mself\u001b[39m\u001b[39m.\u001b[39m_num_workers \u001b[39m=\u001b[39m loader\u001b[39m.\u001b[39mnum_workers\n\u001b[1;32m    634\u001b[0m \u001b[39mself\u001b[39m\u001b[39m.\u001b[39m_prefetch_factor \u001b[39m=\u001b[39m loader\u001b[39m.\u001b[39mprefetch_factor\n",
      "File \u001b[0;32m~/cybercat/lib/python3.8/site-packages/torch/utils/data/dataloader.py:457\u001b[0m, in \u001b[0;36mDataLoader._index_sampler\u001b[0;34m(self)\u001b[0m\n\u001b[1;32m    450\u001b[0m \u001b[39m@property\u001b[39m\n\u001b[1;32m    451\u001b[0m \u001b[39mdef\u001b[39;00m \u001b[39m_index_sampler\u001b[39m(\u001b[39mself\u001b[39m):\n\u001b[1;32m    452\u001b[0m     \u001b[39m# The actual sampler used for generating indices for `_DatasetFetcher`\u001b[39;00m\n\u001b[0;32m   (...)\u001b[0m\n\u001b[1;32m    455\u001b[0m     \u001b[39m# We can't change `.sampler` and `.batch_sampler` attributes for BC\u001b[39;00m\n\u001b[1;32m    456\u001b[0m     \u001b[39m# reasons.\u001b[39;00m\n\u001b[0;32m--> 457\u001b[0m     \u001b[39mif\u001b[39;00m \u001b[39mself\u001b[39;49m\u001b[39m.\u001b[39;49m_auto_collation:\n\u001b[1;32m    458\u001b[0m         \u001b[39mreturn\u001b[39;00m \u001b[39mself\u001b[39m\u001b[39m.\u001b[39mbatch_sampler\n\u001b[1;32m    459\u001b[0m     \u001b[39melse\u001b[39;00m:\n",
      "File \u001b[0;32m~/cybercat/lib/python3.8/site-packages/torch/utils/data/dataloader.py:446\u001b[0m, in \u001b[0;36mDataLoader._auto_collation\u001b[0;34m(self)\u001b[0m\n\u001b[1;32m    443\u001b[0m     \u001b[39melse\u001b[39;00m:\n\u001b[1;32m    444\u001b[0m         \u001b[39mreturn\u001b[39;00m \u001b[39mself\u001b[39m\u001b[39m.\u001b[39m_get_iterator()\n\u001b[0;32m--> 446\u001b[0m \u001b[39m@property\u001b[39m\n\u001b[1;32m    447\u001b[0m \u001b[39mdef\u001b[39;00m \u001b[39m_auto_collation\u001b[39m(\u001b[39mself\u001b[39m):\n\u001b[1;32m    448\u001b[0m     \u001b[39mreturn\u001b[39;00m \u001b[39mself\u001b[39m\u001b[39m.\u001b[39mbatch_sampler \u001b[39mis\u001b[39;00m \u001b[39mnot\u001b[39;00m \u001b[39mNone\u001b[39;00m\n\u001b[1;32m    450\u001b[0m \u001b[39m@property\u001b[39m\n\u001b[1;32m    451\u001b[0m \u001b[39mdef\u001b[39;00m \u001b[39m_index_sampler\u001b[39m(\u001b[39mself\u001b[39m):\n\u001b[1;32m    452\u001b[0m     \u001b[39m# The actual sampler used for generating indices for `_DatasetFetcher`\u001b[39;00m\n\u001b[0;32m   (...)\u001b[0m\n\u001b[1;32m    455\u001b[0m     \u001b[39m# We can't change `.sampler` and `.batch_sampler` attributes for BC\u001b[39;00m\n\u001b[1;32m    456\u001b[0m     \u001b[39m# reasons.\u001b[39;00m\n",
      "\u001b[0;31mKeyboardInterrupt\u001b[0m: "
     ]
    }
   ],
   "source": [
    "train_loss, validation_loss = train_model(model, optimizer, criterion, train, val, epochs=300)"
   ]
  },
  {
   "cell_type": "code",
   "execution_count": null,
   "metadata": {},
   "outputs": [
    {
     "data": {
      "text/plain": [
       "<matplotlib.legend.Legend at 0x7f337f5f1940>"
      ]
     },
     "execution_count": 30,
     "metadata": {},
     "output_type": "execute_result"
    },
    {
     "data": {
      "image/png": "[encoded data removed]",
      "text/plain": [
       "<Figure size 640x480 with 1 Axes>"
      ]
     },
     "metadata": {},
     "output_type": "display_data"
    }
   ],
   "source": [
    "plt.figure()\n",
    "plt.plot(train_loss, label='Training Loss', marker='x')\n",
    "plt.plot(validation_loss, label='Validation Loss', marker='x')\n",
    "plt.legend()"
   ]
  },
  {
   "cell_type": "code",
   "execution_count": null,
   "metadata": {},
   "outputs": [],
   "source": [
    "# Save model\n",
    "torch.save(model.state_dict(), r'../inverse_modelling_tfo/models/fetal_mu_a_model.pt')"
   ]
  },
  {
   "cell_type": "code",
   "execution_count": null,
   "metadata": {},
   "outputs": [
    {
     "name": "stdout",
     "output_type": "stream",
     "text": [
      "[ -8.36710599   9.29361004 -21.46915369   3.94492118]\n",
      "[ 1258.39840231 28541.78721394 25152.15758128   578.76114821]\n",
      "[ 0.17   0.027 20.   ]\n",
      "[6.40000000e-03 1.90666667e-04 1.20000000e+02]\n"
     ]
    }
   ],
   "source": [
    "print(x_scaler.mean_)\n",
    "print(x_scaler.var_)\n",
    "print(y_scaler.mean_)\n",
    "print(y_scaler.var_)"
   ]
  },
  {
   "cell_type": "code",
   "execution_count": null,
   "metadata": {},
   "outputs": [],
   "source": []
  }
 ],
 "metadata": {
  "kernelspec": {
   "display_name": "Python 3",
   "language": "python",
   "name": "python3"
  },
  "language_info": {
   "codemirror_mode": {
    "name": "ipython",
    "version": 3
   },
   "file_extension": ".py",
   "mimetype": "text/x-python",
   "name": "python",
   "nbconvert_exporter": "python",
   "pygments_lexer": "ipython3",
   "version": "3.8.10"
  },
  "orig_nbformat": 4,
  "vscode": {
   "interpreter": {
    "hash": "e7370f93d1d0cde622a1f8e1c04877d8463912d04d973331ad4851f04de6915a"
   }
  }
 },
 "nbformat": 4,
 "nbformat_minor": 2
}
