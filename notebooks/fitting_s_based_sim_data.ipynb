{
 "cells": [
  {
   "attachments": {},
   "cell_type": "markdown",
   "metadata": {},
   "source": [
    "# Fitting Saturation-based Simulation Data\n",
    "In this notebook, we try to fit intensity data generated using a saturation based method. The mu_a for each of the maternal and fetal layer are based on a set oxygen saturation and HB concentration. The impact of all other pigments on mu_a are ignored. The goal for this experiment is to see if we can train a model to determine these hidden variables - the Hb conc. and the saturation just by looking at the intensity values!\n",
    "\n",
    "# Instructions\n",
    "I have the parameter search in one of the cells. Run eveerything above it to be able to run that cell.\n",
    "If you don't want to search, ignore that cell and run everything above and below. \n",
    "\n",
    "# Issues\n",
    "1. Only the mu_a's are changed, not any of the other properties! \n",
    "2. Fetal performance is not nearly as good as maternal. This could be due to the noise in the far ends of the plots. Maybe interpolation would help?\n",
    "3. Fetal errors: Sat: ~3% Sat., Conc: ~1.9\n",
    "\n",
    "\n",
    "# Notes\n",
    "1. Using interpolated values seems to make the fitting more stable. Not better however.\n",
    "2. Maternal is very good.\n",
    "3. Fetal just estimates a mean!\n",
    "\n",
    "# Things to Try\n",
    "1. Fetal | Maternal = known"
   ]
  },
  {
   "cell_type": "code",
   "execution_count": 61,
   "metadata": {},
   "outputs": [],
   "source": [
    "import json\n",
    "from pathlib import Path\n",
    "from torch.optim import Adam, SGD\n",
    "import torch.nn as nn\n",
    "import torch\n",
    "import matplotlib.pyplot as plt\n",
    "import numpy as np\n",
    "import pandas as pd\n",
    "import os\n",
    "from sklearn import preprocessing\n",
    "from inverse_modelling_tfo.data import (\n",
    "    generate_data_loaders,\n",
    "    config_based_normalization,\n",
    ")\n",
    "from inverse_modelling_tfo.data.intensity_interpolation import (\n",
    "    interpolate_exp,\n",
    "    get_interpolate_fit_params,\n",
    "    exp_piecewise_affine,\n",
    ")\n",
    "from inverse_modelling_tfo.data.interpolation_function_zoo import *\n",
    "from inverse_modelling_tfo.models import RandomSplit, ValidationMethod, HoldOneOut, CVSplit, CombineMethods\n",
    "from inverse_modelling_tfo.models.custom_models import (\n",
    "    SplitChannelCNN,\n",
    "    PerceptronReLU,\n",
    "    PerceptronBN,\n",
    "    PerceptronDO,\n",
    "    PerceptronBD,\n",
    ")\n",
    "from inverse_modelling_tfo.features.build_features import (\n",
    "    FetalACFeatureBuilder,\n",
    "    RowCombinationFeatureBuilder,\n",
    "    TwoColumnOperationFeatureBuilder,\n",
    "    FetalACbyDCFeatureBuilder,\n",
    "    LogTransformFeatureBuilder,\n",
    "    ConcatenateFeatureBuilder,\n",
    ")\n",
    "from inverse_modelling_tfo.features.data_transformations import (\n",
    "    LongToWideIntensityTransformation,\n",
    "    ToFittingParameterTransformation,\n",
    ")\n",
    "from inverse_modelling_tfo.visualization import generate_model_error_and_prediction\n",
    "from ray import tune\n",
    "from ray.tune import CLIReporter\n",
    "from ray.tune.schedulers import ASHAScheduler\n",
    "import torchinfo\n",
    "from inverse_modelling_tfo.misc.misc_training import set_seed\n",
    "\n",
    "# Set my GPU\n",
    "os.environ[\"CUDA_VISIBLE_DEVICES\"] = \"3\""
   ]
  },
  {
   "cell_type": "code",
   "execution_count": 62,
   "metadata": {},
   "outputs": [
    {
     "name": "stdout",
     "output_type": "stream",
     "text": [
      "The autoreload extension is already loaded. To reload it, use:\n",
      "  %reload_ext autoreload\n"
     ]
    }
   ],
   "source": [
    "%load_ext autoreload\n",
    "%autoreload 2"
   ]
  },
  {
   "cell_type": "markdown",
   "metadata": {},
   "source": [
    "# Load Pre-save data"
   ]
  },
  {
   "cell_type": "code",
   "execution_count": 63,
   "metadata": {},
   "outputs": [],
   "source": [
    "# file_name = 'logI2_by_I1'\n",
    "file_name = 'logI2_by_I1'\n",
    "# Load data\n",
    "DATA_PATH = Path().resolve().parent / \"data\" / \"processed_data\" / f\"{file_name}.pkl\"\n",
    "data = pd.read_pickle(DATA_PATH)\n",
    "\n",
    "# Load Configs\n",
    "CONFIG_PATH = Path().resolve().parent / \"data\" / \"processed_data\" / f\"{file_name}.json\"\n",
    "with open(CONFIG_PATH, \"r\") as f:\n",
    "    config = json.load(f)\n",
    "labels = config[\"labels\"]\n",
    "features = config[\"features\"]\n",
    "\n",
    "# Cleanup\n",
    "data.dropna(inplace=True)"
   ]
  },
  {
   "cell_type": "markdown",
   "metadata": {},
   "source": [
    "# Build Features"
   ]
  },
  {
   "cell_type": "markdown",
   "metadata": {},
   "source": [
    "## Fetal AC by DC Feature"
   ]
  },
  {
   "cell_type": "code",
   "execution_count": 64,
   "metadata": {},
   "outputs": [],
   "source": [
    "# fb1 = FetalACbyDCFeatureBuilder('FconcCenters', 'perm', intensity_columns, labels, \"max\")\n",
    "# feature_builder2 = TwoColumnOperationFeatureBuilder(x_columns1[len(x_columns1)//2:], x_columns1[:len(x_columns1)//2], \"/\", False, x_columns1, feature_builder1.get_label_names())"
   ]
  },
  {
   "cell_type": "markdown",
   "metadata": {},
   "source": [
    "## Row Combination Spatial Intensity (or their Log)"
   ]
  },
  {
   "cell_type": "code",
   "execution_count": 65,
   "metadata": {},
   "outputs": [],
   "source": [
    "# fixed_columns = ['Maternal Wall Thickness', \"Maternal Hb Concentration\", \"Maternal Saturation\", \"Fetal Saturation\", \"FconcCenters\"]\n",
    "# fb3 = RowCombinationFeatureBuilder(intensity_columns, fixed_columns, [\"Fetal Hb Concentration\"], 'perm', 2)"
   ]
  },
  {
   "cell_type": "markdown",
   "metadata": {},
   "source": [
    "## Fetal AC_wv1 by AC_wv2 Feature Builder"
   ]
  },
  {
   "cell_type": "code",
   "execution_count": 66,
   "metadata": {},
   "outputs": [],
   "source": [
    "# fb5 = FetalACFeatureBuilder('FconcCenters', 'perm', '/', intensity_columns, labels)\n",
    "# x_columns5 = fb5.get_feature_names()\n",
    "# fb6 = TwoColumnOperationFeatureBuilder.from_chain(fb5, x_columns5[len(x_columns5)//2:], x_columns5[:len(x_columns5)//2], \"/\", False)"
   ]
  },
  {
   "cell_type": "markdown",
   "metadata": {},
   "source": [
    "## Fitting Parameters"
   ]
  },
  {
   "cell_type": "code",
   "execution_count": 67,
   "metadata": {},
   "outputs": [],
   "source": [
    "# fb0 = RowCombinationFeatureBuilder(fitting_param_transformer.get_feature_names(), fixed_columns, [\"Fetal Hb Concentration\"], 'perm', 2)\n",
    "# x_columns0 = fb0.get_feature_names()\n",
    "# # AC operation\n",
    "# fb8 = TwoColumnOperationFeatureBuilder.from_chain(fb0, x_columns0[:len(x_columns0)//2], x_columns0[len(x_columns0)//2:], '*', True)\n",
    "# fb9 = TwoColumnOperationFeatureBuilder.from_chain(fb0, x_columns0[:len(x_columns0)//2], x_columns0[len(x_columns0)//2:], '+', False)\n",
    "# fb7 = ConcatenateFeatureBuilder([fb8, fb9])\n",
    "\n",
    "# data1 = fb7(fitting_params)"
   ]
  },
  {
   "cell_type": "markdown",
   "metadata": {},
   "source": [
    "## Combining Them Together"
   ]
  },
  {
   "cell_type": "code",
   "execution_count": 68,
   "metadata": {},
   "outputs": [],
   "source": [
    "# data = fb1(data)\n",
    "# Concat FBs\n",
    "# fb_concat = ConcatenateFeatureBuilder([fb1, fb3, fb6])\n",
    "# data2 = fb_concat(data)\n",
    "# data.head()"
   ]
  },
  {
   "cell_type": "code",
   "execution_count": 69,
   "metadata": {},
   "outputs": [],
   "source": [
    "# labels = fb1.get_label_names()\n",
    "# labels = fb_concat.get_label_names()\n",
    "# Merge Features + Modified intensity data\n",
    "# data = pd.merge(data1, data2, on=labels, how='inner')"
   ]
  },
  {
   "cell_type": "code",
   "execution_count": 70,
   "metadata": {},
   "outputs": [],
   "source": [
    "# Define the input & output parameters to the NN\n",
    "# x_columns = fb_concat.get_feature_names() + fb7.get_feature_names()\n",
    "# x_columns = fb_concat.get_feature_names()\n",
    "# x_columns = fb7.get_feature_names()\n",
    "# x_columns = fb1.get_feature_names()\n",
    "# Pick a single feature for the y_columns\n",
    "# y_columns = [\"Fetal Saturation\"]"
   ]
  },
  {
   "cell_type": "markdown",
   "metadata": {},
   "source": [
    "# Setup Training Objective"
   ]
  },
  {
   "cell_type": "code",
   "execution_count": 71,
   "metadata": {},
   "outputs": [
    {
     "name": "stdout",
     "output_type": "stream",
     "text": [
      "X Columns ['10_2.0_1_/_10_2.0_2', '15_2.0_1_/_15_2.0_2', '19_2.0_1_/_19_2.0_2', '24_2.0_1_/_24_2.0_2', '28_2.0_1_/_28_2.0_2', '33_2.0_1_/_33_2.0_2', '37_2.0_1_/_37_2.0_2', '41_2.0_1_/_41_2.0_2', '46_2.0_1_/_46_2.0_2', '50_2.0_1_/_50_2.0_2', '55_2.0_1_/_55_2.0_2', '59_2.0_1_/_59_2.0_2', '64_2.0_1_/_64_2.0_2', '68_2.0_1_/_68_2.0_2', '72_2.0_1_/_72_2.0_2', '77_2.0_1_/_77_2.0_2', '81_2.0_1_/_81_2.0_2', '86_2.0_1_/_86_2.0_2', '90_2.0_1_/_90_2.0_2', '94_2.0_1_/_94_2.0_2', '10_1.0_1_/_10_1.0_2', '15_1.0_1_/_15_1.0_2', '19_1.0_1_/_19_1.0_2', '24_1.0_1_/_24_1.0_2', '28_1.0_1_/_28_1.0_2', '33_1.0_1_/_33_1.0_2', '37_1.0_1_/_37_1.0_2', '41_1.0_1_/_41_1.0_2', '46_1.0_1_/_46_1.0_2', '50_1.0_1_/_50_1.0_2', '55_1.0_1_/_55_1.0_2', '59_1.0_1_/_59_1.0_2', '64_1.0_1_/_64_1.0_2', '68_1.0_1_/_68_1.0_2', '72_1.0_1_/_72_1.0_2', '77_1.0_1_/_77_1.0_2', '81_1.0_1_/_81_1.0_2', '86_1.0_1_/_86_1.0_2', '90_1.0_1_/_90_1.0_2', '94_1.0_1_/_94_1.0_2']\n"
     ]
    }
   ],
   "source": [
    "y_columns = [\"Fetal Saturation\"]    # What to predict\n",
    "\n",
    "x_columns = features  # What to use as input\n",
    "print(\"X Columns\", x_columns)"
   ]
  },
  {
   "attachments": {},
   "cell_type": "markdown",
   "metadata": {},
   "source": [
    "## Normalizing Features\n",
    "x_columns will be the input features and y_columns are the target"
   ]
  },
  {
   "cell_type": "code",
   "execution_count": 72,
   "metadata": {},
   "outputs": [],
   "source": [
    "## Scale y\n",
    "y_scaler = preprocessing.StandardScaler()\n",
    "data[y_columns] = y_scaler.fit_transform(data[y_columns])\n",
    "\n",
    "## Scale x\n",
    "x_scaler = preprocessing.StandardScaler()\n",
    "data[x_columns] = x_scaler.fit_transform(data[x_columns])"
   ]
  },
  {
   "attachments": {},
   "cell_type": "markdown",
   "metadata": {},
   "source": [
    "## Model Configuration"
   ]
  },
  {
   "cell_type": "code",
   "execution_count": 73,
   "metadata": {},
   "outputs": [
    {
     "name": "stdout",
     "output_type": "stream",
     "text": [
      "In Features : 40\n",
      "Out Features: 1\n"
     ]
    }
   ],
   "source": [
    "print(\"In Features :\", len(x_columns))  \n",
    "print(\"Out Features:\", len(y_columns))"
   ]
  },
  {
   "cell_type": "code",
   "execution_count": 94,
   "metadata": {},
   "outputs": [],
   "source": [
    "IN_FEATURES = len(x_columns)\n",
    "OUT_FEATURES = len(y_columns)\n",
    "\n",
    "from inverse_modelling_tfo.models.train_model import ModelTrainerFactory\n",
    "datagen_kw = {\n",
    "    'table' : data,\n",
    "    'data_loader_params' : \n",
    "        {\n",
    "            'batch_size': 256, 'shuffle': True, 'num_workers': 2\n",
    "        }, \n",
    "    'x_columns': x_columns,\n",
    "    'y_columns': y_columns,\n",
    "    'validation_method' : HoldOneOut('Maternal Wall Thickness', data['Maternal Wall Thickness'].unique()[3])\n",
    "    # 'validation_method' : RandomSplit(0.8)\n",
    "    # 'validation_method' : HoldOneOut('Maternal Hb Concentration', 13.0)\n",
    "    # 'validation_method' : HoldOneOut('Maternal Saturation', 1.0)\n",
    "}\n",
    "trainer_factory = ModelTrainerFactory(PerceptronBD, {'node_counts' : [IN_FEATURES, 20, 10, 5, 5, 2, OUT_FEATURES], 'dropout_rates': [0.5, 0.5, 0.5, 0.5, 0.5, 0.5]}, generate_data_loaders, datagen_kw, 100, nn.MSELoss())"
   ]
  },
  {
   "cell_type": "markdown",
   "metadata": {},
   "source": [
    "## Hyper Parameter Tuning"
   ]
  },
  {
   "cell_type": "code",
   "execution_count": 95,
   "metadata": {},
   "outputs": [],
   "source": [
    "# Custom Train Function \n",
    "def train_with_tuning(iteration_config):\n",
    "    set_seed(42)\n",
    "    trainer_tuning = trainer_factory.create()\n",
    "    trainer_tuning.reporting = True     # Report at each epoch to Ray Tune\n",
    "    if 'batch_size' in iteration_config:\n",
    "        trainer_tuning.change_batch_size(iteration_config['batch_size'])    # If batch_size needs tuning\n",
    "    trainer_tuning.set_optimizer(SGD, {'lr': iteration_config[\"lr\"], 'momentum': iteration_config[\"momentum\"]})\n",
    "    trainer_tuning.run()"
   ]
  },
  {
   "cell_type": "code",
   "execution_count": 96,
   "metadata": {},
   "outputs": [],
   "source": [
    "# ## Hyper Parameter Search \n",
    "# iteration_config = {\n",
    "#     \"lr\" : tune.loguniform(1e-5, 1e-3),\n",
    "#     # \"batch_size\": tune.choice([128, 256]),\n",
    "#     \"momentum\": tune.uniform(0.8, 0.99),\n",
    "# }\n",
    "# scheduler = ASHAScheduler(metric=\"combined_loss\", mode=\"min\", max_t=60, grace_period=5, reduction_factor=2)\n",
    "# reporter = CLIReporter(metric_columns=[\"train_loss\", \"val_loss\", \"combined_loss\"])\n",
    "# result = tune.run(train_with_tuning, config=iteration_config, scheduler=scheduler, progress_reporter=reporter,\n",
    "#                   num_samples=80, resources_per_trial={\"cpu\": 0, \"gpu\": 0.05},)\n",
    "\n",
    "# # best_trial = result.get_best_trial(\"combined_loss\", \"min\", \"last\")\n",
    "# best_trial = result.get_best_trial(\"val_loss\", \"min\", \"last\")\n",
    "# print(\"Best trial config: {}\".format(best_trial.config))\n",
    "# print(\"Best trial final validation loss: {}\".format(best_trial.last_result[\"val_loss\"]))\n",
    "# print(\"Best trial final train loss: {}\".format(best_trial.last_result[\"train_loss\"]))\n"
   ]
  },
  {
   "attachments": {},
   "cell_type": "markdown",
   "metadata": {},
   "source": [
    "<!-- Best trial config: {'lr': 0.0010630834634709364, 'b1': 0.4282116859842134, 'b2': 0.3089991262211405, 'batch_size': 8, 'model': [20, 16, 8, 4, 2, 1]}\n",
    "Best trial final validation loss: 0.09234625198878348\n",
    "Best trial final train loss: 0.22368373312056064 -->"
   ]
  },
  {
   "cell_type": "code",
   "execution_count": 97,
   "metadata": {},
   "outputs": [],
   "source": [
    "# best_trial.config"
   ]
  },
  {
   "cell_type": "markdown",
   "metadata": {},
   "source": [
    "## Custom Training"
   ]
  },
  {
   "cell_type": "code",
   "execution_count": 98,
   "metadata": {},
   "outputs": [],
   "source": [
    "set_seed(42)\n",
    "trainer = trainer_factory.create()\n",
    "trainer.set_optimizer(SGD, {'lr': 4e-3, 'momentum': 0.89})\n",
    "\n",
    "# trainer.change_batch_size(4096)\n",
    "trainer.change_batch_size(128)\n",
    "# trainer.change_batch_size(128)\n",
    "trainer.epochs = 100\n",
    "trainer.run()"
   ]
  },
  {
   "cell_type": "code",
   "execution_count": 99,
   "metadata": {},
   "outputs": [
    {
     "data": {
      "text/plain": [
       "<matplotlib.legend.Legend at 0x7f9c224ac910>"
      ]
     },
     "execution_count": 99,
     "metadata": {},
     "output_type": "execute_result"
    },
    {
     "data": {
      "image/png": "[encoded data removed]",
      "text/plain": [
       "<Figure size 640x480 with 1 Axes>"
      ]
     },
     "metadata": {},
     "output_type": "display_data"
    }
   ],
   "source": [
    "plt.figure()\n",
    "plt.plot(trainer.train_loss, label='Training Loss', marker='x')\n",
    "plt.plot(trainer.validation_loss, label='Validation Loss', marker='x')\n",
    "# plt.yscale('log')\n",
    "# plt.xlim([0, 10])\n",
    "plt.legend()"
   ]
  },
  {
   "cell_type": "code",
   "execution_count": 100,
   "metadata": {},
   "outputs": [
    {
     "name": "stdout",
     "output_type": "stream",
     "text": [
      "\n",
      "        Model Properties:\n",
      "        PerceptronBD(\n",
      "  (model): Sequential(\n",
      "    (0): Linear(in_features=40, out_features=20, bias=True)\n",
      "    (1): BatchNorm1d(20, eps=1e-05, momentum=0.1, affine=True, track_running_stats=True)\n",
      "    (2): Dropout1d(p=0.5, inplace=False)\n",
      "    (3): ReLU()\n",
      "    (4): Linear(in_features=20, out_features=10, bias=True)\n",
      "    (5): BatchNorm1d(10, eps=1e-05, momentum=0.1, affine=True, track_running_stats=True)\n",
      "    (6): Dropout1d(p=0.5, inplace=False)\n",
      "    (7): ReLU()\n",
      "    (8): Linear(in_features=10, out_features=5, bias=True)\n",
      "    (9): BatchNorm1d(5, eps=1e-05, momentum=0.1, affine=True, track_running_stats=True)\n",
      "    (10): Dropout1d(p=0.5, inplace=False)\n",
      "    (11): ReLU()\n",
      "    (12): Linear(in_features=5, out_features=5, bias=True)\n",
      "    (13): BatchNorm1d(5, eps=1e-05, momentum=0.1, affine=True, track_running_stats=True)\n",
      "    (14): Dropout1d(p=0.5, inplace=False)\n",
      "    (15): ReLU()\n",
      "    (16): Linear(in_features=5, out_features=2, bias=True)\n",
      "    (17): BatchNorm1d(2, eps=1e-05, momentum=0.1, affine=True, track_running_stats=True)\n",
      "    (18): Dropout1d(p=0.5, inplace=False)\n",
      "    (19): ReLU()\n",
      "    (20): Linear(in_features=2, out_features=1, bias=True)\n",
      "    (21): Flatten(start_dim=1, end_dim=-1)\n",
      "  )\n",
      ")\n",
      "        Optimizer Properties\"\n",
      "        SGD (\n",
      "Parameter Group 0\n",
      "    dampening: 0\n",
      "    differentiable: False\n",
      "    foreach: None\n",
      "    lr: 0.004\n",
      "    maximize: False\n",
      "    momentum: 0.89\n",
      "    nesterov: False\n",
      "    weight_decay: 0\n",
      ")\n",
      "        DataLoader Params: \n",
      "            Batch Size: 128\n",
      "            Validation Method: Holds out fMaternal Wall Thickness columns 7.0 for validation. The rest are used             for training\n",
      "        Loss:\n",
      "            Train Loss: 0.9988730956207622\n",
      "            Val. Loss: 1.000626226266225\n"
     ]
    }
   ],
   "source": [
    "print(trainer)"
   ]
  },
  {
   "cell_type": "code",
   "execution_count": 101,
   "metadata": {},
   "outputs": [],
   "source": [
    "train_error, train_pred = generate_model_error_and_prediction(trainer.model, trainer.train_loader, y_columns, y_scaler)\n",
    "val_error, val_pred = generate_model_error_and_prediction(trainer.model, trainer.validation_loader, y_columns, y_scaler)"
   ]
  },
  {
   "cell_type": "code",
   "execution_count": 102,
   "metadata": {},
   "outputs": [
    {
     "data": {
      "image/png": "[encoded data removed]",
      "text/plain": [
       "<Figure size 1700x800 with 2 Axes>"
      ]
     },
     "metadata": {},
     "output_type": "display_data"
    }
   ],
   "source": [
    "fig, axes = plt.subplots(2, 1, squeeze=True, figsize=(17, 8))\n",
    "BIN_COUNT = 50\n",
    "# Plot Errors\n",
    "ax = axes[0]\n",
    "plt.sca(ax)\n",
    "column_name = train_error.columns[0]\n",
    "plt.hist(train_error[column_name], bins=BIN_COUNT, color='blue')\n",
    "plt.hist(val_error[column_name], bins=BIN_COUNT, color='orange')\n",
    "plt.xlabel(column_name)\n",
    "plt.ylabel('Count')\n",
    "\n",
    "# Plot Predictions\n",
    "ax = axes[1]\n",
    "plt.sca(ax)\n",
    "column_name = train_pred.columns[0]\n",
    "plt.hist(train_pred[column_name], bins=BIN_COUNT, color='blue')\n",
    "plt.hist(val_pred[column_name], bins=BIN_COUNT, color='orange')\n",
    "plt.xlabel(column_name)\n",
    "plt.ylabel('Count')\n",
    "    \n",
    "plt.tight_layout()\n",
    "plt.show()"
   ]
  },
  {
   "cell_type": "code",
   "execution_count": 103,
   "metadata": {},
   "outputs": [
    {
     "name": "stdout",
     "output_type": "stream",
     "text": [
      "Train Error(non-normalized): [0.01999643]\n",
      "Validation Error(non-normalized): [0.02003153]\n"
     ]
    }
   ],
   "source": [
    "# Rough MSE's in percentage\n",
    "print(f'Train Error(non-normalized): {trainer.train_loss[-1] * y_scaler.var_ }')\n",
    "print(f'Validation Error(non-normalized): {trainer.validation_loss[-1] * y_scaler.var_ }')"
   ]
  },
  {
   "cell_type": "code",
   "execution_count": 104,
   "metadata": {},
   "outputs": [
    {
     "data": {
      "text/plain": [
       "=================================================================\n",
       "Layer (type:depth-idx)                   Param #\n",
       "=================================================================\n",
       "PerceptronBD                             --\n",
       "├─Sequential: 1-1                        --\n",
       "│    └─Linear: 2-1                       820\n",
       "│    └─BatchNorm1d: 2-2                  40\n",
       "│    └─Dropout1d: 2-3                    --\n",
       "│    └─ReLU: 2-4                         --\n",
       "│    └─Linear: 2-5                       210\n",
       "│    └─BatchNorm1d: 2-6                  20\n",
       "│    └─Dropout1d: 2-7                    --\n",
       "│    └─ReLU: 2-8                         --\n",
       "│    └─Linear: 2-9                       55\n",
       "│    └─BatchNorm1d: 2-10                 10\n",
       "│    └─Dropout1d: 2-11                   --\n",
       "│    └─ReLU: 2-12                        --\n",
       "│    └─Linear: 2-13                      30\n",
       "│    └─BatchNorm1d: 2-14                 10\n",
       "│    └─Dropout1d: 2-15                   --\n",
       "│    └─ReLU: 2-16                        --\n",
       "│    └─Linear: 2-17                      12\n",
       "│    └─BatchNorm1d: 2-18                 4\n",
       "│    └─Dropout1d: 2-19                   --\n",
       "│    └─ReLU: 2-20                        --\n",
       "│    └─Linear: 2-21                      3\n",
       "│    └─Flatten: 2-22                     --\n",
       "=================================================================\n",
       "Total params: 1,214\n",
       "Trainable params: 1,214\n",
       "Non-trainable params: 0\n",
       "================================================================="
      ]
     },
     "execution_count": 104,
     "metadata": {},
     "output_type": "execute_result"
    }
   ],
   "source": [
    "# Model Info\n",
    "torchinfo.summary(trainer.model)"
   ]
  },
  {
   "cell_type": "code",
   "execution_count": 105,
   "metadata": {},
   "outputs": [],
   "source": [
    "# model_name = 'msat_percep_irsi'\n",
    "# import joblib\n",
    "# # Save Model\n",
    "# torch.save(model.state_dict(), rf'../models/{model_name}')\n",
    "# # Save the Scalers for Later Use\n",
    "# joblib.dump(x_scaler, rf'../models/{model_name}_xscaler')\n",
    "# joblib.dump(y_scaler, rf'../models/{model_name}_yscaler')"
   ]
  },
  {
   "cell_type": "code",
   "execution_count": 106,
   "metadata": {},
   "outputs": [],
   "source": [
    "# # Load Model Code\n",
    "# model = PerceptronReLU([20, 10, 4, 2, 1])\n",
    "# model.load_state_dict(torch.load(r'../models/fsat_delta_5det_v1'))\n",
    "# model = model.cuda()\n",
    "# x_scaler = joblib.load(rf'../models/{model_name}_xscaler')\n",
    "# y_scaler = joblib.load(rf'../models/{model_name}_yscaler')"
   ]
  }
 ],
 "metadata": {
  "kernelspec": {
   "display_name": "cybercat",
   "language": "python",
   "name": "python3"
  },
  "language_info": {
   "codemirror_mode": {
    "name": "ipython",
    "version": 3
   },
   "file_extension": ".py",
   "mimetype": "text/x-python",
   "name": "python",
   "nbconvert_exporter": "python",
   "pygments_lexer": "ipython3",
   "version": "3.8.10"
  },
  "orig_nbformat": 4
 },
 "nbformat": 4,
 "nbformat_minor": 2
}
