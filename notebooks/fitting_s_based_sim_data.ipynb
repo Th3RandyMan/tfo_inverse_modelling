{
 "cells": [
  {
   "attachments": {},
   "cell_type": "markdown",
   "metadata": {},
   "source": [
    "# Fitting Saturation-based Simulation Data\n",
    "In this notebook, we try to fit intensity data generated using a saturation based method. The mu_a for each of the maternal and fetal layer are based on a set oxygen saturation and HB concentration. The impact of all other pigments on mu_a are ignored. The goal for this experiment is to see if we can train a model to determine these hidden variables - the Hb conc. and the saturation just by looking at the intensity values!\n",
    "\n",
    "# Instructions\n",
    "I have the parameter search in one of the cells. Run eveerything above it to be able to run that cell.\n",
    "If you don't want to search, ignore that cell and run everything above and below. \n",
    "\n",
    "# Issues\n",
    "1. Only the mu_a's are changed, not any of the other properties! \n",
    "2. Fetal performance is not nearly as good as maternal. This could be due to the noise in the far ends of the plots. Maybe interpolation would help?\n",
    "3. Fetal errors: Sat: ~3% Sat., Conc: ~1.9\n",
    "\n",
    "\n",
    "# Notes\n",
    "1. Using interpolated values seems to make the fitting more stable. Not better however.\n",
    "2. Maternal is very good.\n",
    "3. Fetal just estimates a mean!\n",
    "\n",
    "# Things to Try\n",
    "1. Fetal | Maternal = known"
   ]
  },
  {
   "cell_type": "code",
   "execution_count": 1,
   "metadata": {},
   "outputs": [],
   "source": [
    "from torch.optim import Adam, SGD\n",
    "import torch.nn as nn\n",
    "import torch\n",
    "import matplotlib.pyplot as plt\n",
    "import numpy as np\n",
    "import pandas as pd\n",
    "import os\n",
    "from sklearn import preprocessing\n",
    "from inverse_modelling_tfo.models import train_model, train_model_wtih_reporting\n",
    "from inverse_modelling_tfo.data import generate_data_loaders, equidistance_detector_normalization, constant_detector_count_normalization\n",
    "from inverse_modelling_tfo.data.intensity_interpolation import get_interpolate_fit_params_custom, interpolate_exp\n",
    "from inverse_modelling_tfo.data.interpolation_function_zoo import *\n",
    "from inverse_modelling_tfo.models import RandomSplit, ValidationMethod\n",
    "from inverse_modelling_tfo.models.custom_models import SplitChannelCNN, PerceptronReLU\n",
    "from inverse_modelling_tfo.features.build_features import create_ratio, create_spatial_intensity, create_ratio_and_intensity\n",
    "from ray import tune\n",
    "from ray.tune import CLIReporter\n",
    "from ray.tune.schedulers import ASHAScheduler\n",
    "import torchinfo\n",
    "# Set my GPU\n",
    "os.environ[\"CUDA_VISIBLE_DEVICES\"]=\"2\""
   ]
  },
  {
   "cell_type": "code",
   "execution_count": 2,
   "metadata": {},
   "outputs": [
    {
     "data": {
      "text/html": [
       "<div>\n",
       "<style scoped>\n",
       "    .dataframe tbody tr th:only-of-type {\n",
       "        vertical-align: middle;\n",
       "    }\n",
       "\n",
       "    .dataframe tbody tr th {\n",
       "        vertical-align: top;\n",
       "    }\n",
       "\n",
       "    .dataframe thead th {\n",
       "        text-align: right;\n",
       "    }\n",
       "</style>\n",
       "<table border=\"1\" class=\"dataframe\">\n",
       "  <thead>\n",
       "    <tr style=\"text-align: right;\">\n",
       "      <th></th>\n",
       "      <th>SDD</th>\n",
       "      <th>Intensity</th>\n",
       "      <th>Wave Int</th>\n",
       "      <th>Maternal Wall Thickness</th>\n",
       "      <th>Maternal Hb Concentration</th>\n",
       "      <th>Maternal Saturation</th>\n",
       "      <th>Fetal Hb Concentration</th>\n",
       "      <th>Fetal Saturation</th>\n",
       "    </tr>\n",
       "  </thead>\n",
       "  <tbody>\n",
       "    <tr>\n",
       "      <th>0</th>\n",
       "      <td>10</td>\n",
       "      <td>-4.965775</td>\n",
       "      <td>1.0</td>\n",
       "      <td>6.0</td>\n",
       "      <td>12.0</td>\n",
       "      <td>0.9</td>\n",
       "      <td>0.11</td>\n",
       "      <td>0.1</td>\n",
       "    </tr>\n",
       "    <tr>\n",
       "      <th>1</th>\n",
       "      <td>14</td>\n",
       "      <td>-7.347777</td>\n",
       "      <td>1.0</td>\n",
       "      <td>6.0</td>\n",
       "      <td>12.0</td>\n",
       "      <td>0.9</td>\n",
       "      <td>0.11</td>\n",
       "      <td>0.1</td>\n",
       "    </tr>\n",
       "    <tr>\n",
       "      <th>2</th>\n",
       "      <td>19</td>\n",
       "      <td>-9.090567</td>\n",
       "      <td>1.0</td>\n",
       "      <td>6.0</td>\n",
       "      <td>12.0</td>\n",
       "      <td>0.9</td>\n",
       "      <td>0.11</td>\n",
       "      <td>0.1</td>\n",
       "    </tr>\n",
       "    <tr>\n",
       "      <th>3</th>\n",
       "      <td>23</td>\n",
       "      <td>-9.968481</td>\n",
       "      <td>1.0</td>\n",
       "      <td>6.0</td>\n",
       "      <td>12.0</td>\n",
       "      <td>0.9</td>\n",
       "      <td>0.11</td>\n",
       "      <td>0.1</td>\n",
       "    </tr>\n",
       "    <tr>\n",
       "      <th>4</th>\n",
       "      <td>28</td>\n",
       "      <td>-10.706361</td>\n",
       "      <td>1.0</td>\n",
       "      <td>6.0</td>\n",
       "      <td>12.0</td>\n",
       "      <td>0.9</td>\n",
       "      <td>0.11</td>\n",
       "      <td>0.1</td>\n",
       "    </tr>\n",
       "  </tbody>\n",
       "</table>\n",
       "</div>"
      ],
      "text/plain": [
       "   SDD  Intensity  Wave Int  Maternal Wall Thickness  \\\n",
       "0   10  -4.965775       1.0                      6.0   \n",
       "1   14  -7.347777       1.0                      6.0   \n",
       "2   19  -9.090567       1.0                      6.0   \n",
       "3   23  -9.968481       1.0                      6.0   \n",
       "4   28 -10.706361       1.0                      6.0   \n",
       "\n",
       "   Maternal Hb Concentration  Maternal Saturation  Fetal Hb Concentration  \\\n",
       "0                       12.0                  0.9                    0.11   \n",
       "1                       12.0                  0.9                    0.11   \n",
       "2                       12.0                  0.9                    0.11   \n",
       "3                       12.0                  0.9                    0.11   \n",
       "4                       12.0                  0.9                    0.11   \n",
       "\n",
       "   Fetal Saturation  \n",
       "0               0.1  \n",
       "1               0.1  \n",
       "2               0.1  \n",
       "3               0.1  \n",
       "4               0.1  "
      ]
     },
     "execution_count": 2,
     "metadata": {},
     "output_type": "execute_result"
    }
   ],
   "source": [
    "# data = pd.read_pickle(r'/home/rraiyan/personal_projects/tfo_inverse_modelling/data/intensity/s_based_intensity.pkl')\n",
    "# data = pd.read_pickle(r'/home/rraiyan/personal_projects/tfo_inverse_modelling/data/intensity/s_based_intensity_low_conc.pkl')\n",
    "data = pd.read_pickle(r'/home/rraiyan/personal_projects/tfo_inverse_modelling/data/intensity/s_based_intensity_low_conc2.pkl')\n",
    "equidistance_detector_normalization(data)\n",
    "\n",
    "# Drop Uterus Thickness for now\n",
    "data = data.drop(columns='Uterus Thickness')\n",
    "\n",
    "# Interpolate intensity to remove noise\n",
    "data = interpolate_exp(data, weights=[1, 0.8])\n",
    "data['Intensity'] = data['Interpolated Intensity']\n",
    "data = data.drop(columns='Interpolated Intensity')\n",
    "\n",
    "# Manual log(intensity) normalization\n",
    "data['Intensity'] = np.log10(data['Intensity'])        # Far values wayy to small to affect anything. Take log\n",
    "data.head()"
   ]
  },
  {
   "cell_type": "code",
   "execution_count": 3,
   "metadata": {},
   "outputs": [
    {
     "data": {
      "text/html": [
       "<div>\n",
       "<style scoped>\n",
       "    .dataframe tbody tr th:only-of-type {\n",
       "        vertical-align: middle;\n",
       "    }\n",
       "\n",
       "    .dataframe tbody tr th {\n",
       "        vertical-align: top;\n",
       "    }\n",
       "\n",
       "    .dataframe thead th {\n",
       "        text-align: right;\n",
       "    }\n",
       "</style>\n",
       "<table border=\"1\" class=\"dataframe\">\n",
       "  <thead>\n",
       "    <tr style=\"text-align: right;\">\n",
       "      <th></th>\n",
       "      <th>Maternal Wall Thickness</th>\n",
       "      <th>Maternal Hb Concentration</th>\n",
       "      <th>Maternal Saturation</th>\n",
       "      <th>Fetal Hb Concentration</th>\n",
       "      <th>Fetal Saturation</th>\n",
       "      <th>10</th>\n",
       "      <th>14</th>\n",
       "      <th>19</th>\n",
       "      <th>23</th>\n",
       "      <th>28</th>\n",
       "      <th>...</th>\n",
       "      <th>55_2.0</th>\n",
       "      <th>59_2.0</th>\n",
       "      <th>64_2.0</th>\n",
       "      <th>68_2.0</th>\n",
       "      <th>73_2.0</th>\n",
       "      <th>77_2.0</th>\n",
       "      <th>82_2.0</th>\n",
       "      <th>86_2.0</th>\n",
       "      <th>91_2.0</th>\n",
       "      <th>95_2.0</th>\n",
       "    </tr>\n",
       "  </thead>\n",
       "  <tbody>\n",
       "    <tr>\n",
       "      <th>0</th>\n",
       "      <td>2.0</td>\n",
       "      <td>12.0</td>\n",
       "      <td>0.9</td>\n",
       "      <td>0.11</td>\n",
       "      <td>0.100</td>\n",
       "      <td>-0.480386</td>\n",
       "      <td>-2.623673</td>\n",
       "      <td>-4.576879</td>\n",
       "      <td>-5.702919</td>\n",
       "      <td>-6.686932</td>\n",
       "      <td>...</td>\n",
       "      <td>-11.358381</td>\n",
       "      <td>-11.711740</td>\n",
       "      <td>-12.210222</td>\n",
       "      <td>-12.655790</td>\n",
       "      <td>-13.271930</td>\n",
       "      <td>-13.812146</td>\n",
       "      <td>-14.545983</td>\n",
       "      <td>-15.179238</td>\n",
       "      <td>-16.027416</td>\n",
       "      <td>-16.750309</td>\n",
       "    </tr>\n",
       "    <tr>\n",
       "      <th>1</th>\n",
       "      <td>2.0</td>\n",
       "      <td>12.0</td>\n",
       "      <td>0.9</td>\n",
       "      <td>0.11</td>\n",
       "      <td>0.225</td>\n",
       "      <td>-0.481023</td>\n",
       "      <td>-2.627596</td>\n",
       "      <td>-4.588893</td>\n",
       "      <td>-5.722310</td>\n",
       "      <td>-6.715494</td>\n",
       "      <td>...</td>\n",
       "      <td>-11.382127</td>\n",
       "      <td>-11.737660</td>\n",
       "      <td>-12.238768</td>\n",
       "      <td>-12.686365</td>\n",
       "      <td>-13.304953</td>\n",
       "      <td>-13.847055</td>\n",
       "      <td>-14.583165</td>\n",
       "      <td>-15.218171</td>\n",
       "      <td>-16.068457</td>\n",
       "      <td>-16.792972</td>\n",
       "    </tr>\n",
       "    <tr>\n",
       "      <th>2</th>\n",
       "      <td>2.0</td>\n",
       "      <td>12.0</td>\n",
       "      <td>0.9</td>\n",
       "      <td>0.11</td>\n",
       "      <td>0.350</td>\n",
       "      <td>-0.481700</td>\n",
       "      <td>-2.631798</td>\n",
       "      <td>-4.601607</td>\n",
       "      <td>-5.742794</td>\n",
       "      <td>-6.745674</td>\n",
       "      <td>...</td>\n",
       "      <td>-11.405223</td>\n",
       "      <td>-11.762845</td>\n",
       "      <td>-12.266471</td>\n",
       "      <td>-12.716009</td>\n",
       "      <td>-13.336930</td>\n",
       "      <td>-13.880828</td>\n",
       "      <td>-14.619094</td>\n",
       "      <td>-15.255757</td>\n",
       "      <td>-16.108029</td>\n",
       "      <td>-16.834069</td>\n",
       "    </tr>\n",
       "    <tr>\n",
       "      <th>3</th>\n",
       "      <td>2.0</td>\n",
       "      <td>12.0</td>\n",
       "      <td>0.9</td>\n",
       "      <td>0.11</td>\n",
       "      <td>0.475</td>\n",
       "      <td>-0.482420</td>\n",
       "      <td>-2.636328</td>\n",
       "      <td>-4.615141</td>\n",
       "      <td>-5.764560</td>\n",
       "      <td>-6.777781</td>\n",
       "      <td>...</td>\n",
       "      <td>-11.427687</td>\n",
       "      <td>-11.787314</td>\n",
       "      <td>-12.293352</td>\n",
       "      <td>-12.744741</td>\n",
       "      <td>-13.367884</td>\n",
       "      <td>-13.913485</td>\n",
       "      <td>-14.653790</td>\n",
       "      <td>-15.292014</td>\n",
       "      <td>-16.146153</td>\n",
       "      <td>-16.873619</td>\n",
       "    </tr>\n",
       "    <tr>\n",
       "      <th>4</th>\n",
       "      <td>2.0</td>\n",
       "      <td>12.0</td>\n",
       "      <td>0.9</td>\n",
       "      <td>0.11</td>\n",
       "      <td>0.600</td>\n",
       "      <td>-0.483187</td>\n",
       "      <td>-2.641256</td>\n",
       "      <td>-4.629645</td>\n",
       "      <td>-5.787851</td>\n",
       "      <td>-6.812205</td>\n",
       "      <td>...</td>\n",
       "      <td>-11.449536</td>\n",
       "      <td>-11.811086</td>\n",
       "      <td>-12.319428</td>\n",
       "      <td>-12.772583</td>\n",
       "      <td>-13.397835</td>\n",
       "      <td>-13.945047</td>\n",
       "      <td>-14.687274</td>\n",
       "      <td>-15.326963</td>\n",
       "      <td>-16.182847</td>\n",
       "      <td>-16.911642</td>\n",
       "    </tr>\n",
       "  </tbody>\n",
       "</table>\n",
       "<p>5 rows × 65 columns</p>\n",
       "</div>"
      ],
      "text/plain": [
       "   Maternal Wall Thickness  Maternal Hb Concentration  Maternal Saturation  \\\n",
       "0                      2.0                       12.0                  0.9   \n",
       "1                      2.0                       12.0                  0.9   \n",
       "2                      2.0                       12.0                  0.9   \n",
       "3                      2.0                       12.0                  0.9   \n",
       "4                      2.0                       12.0                  0.9   \n",
       "\n",
       "   Fetal Hb Concentration  Fetal Saturation        10        14        19  \\\n",
       "0                    0.11             0.100 -0.480386 -2.623673 -4.576879   \n",
       "1                    0.11             0.225 -0.481023 -2.627596 -4.588893   \n",
       "2                    0.11             0.350 -0.481700 -2.631798 -4.601607   \n",
       "3                    0.11             0.475 -0.482420 -2.636328 -4.615141   \n",
       "4                    0.11             0.600 -0.483187 -2.641256 -4.629645   \n",
       "\n",
       "         23        28  ...     55_2.0     59_2.0     64_2.0     68_2.0  \\\n",
       "0 -5.702919 -6.686932  ... -11.358381 -11.711740 -12.210222 -12.655790   \n",
       "1 -5.722310 -6.715494  ... -11.382127 -11.737660 -12.238768 -12.686365   \n",
       "2 -5.742794 -6.745674  ... -11.405223 -11.762845 -12.266471 -12.716009   \n",
       "3 -5.764560 -6.777781  ... -11.427687 -11.787314 -12.293352 -12.744741   \n",
       "4 -5.787851 -6.812205  ... -11.449536 -11.811086 -12.319428 -12.772583   \n",
       "\n",
       "      73_2.0     77_2.0     82_2.0     86_2.0     91_2.0     95_2.0  \n",
       "0 -13.271930 -13.812146 -14.545983 -15.179238 -16.027416 -16.750309  \n",
       "1 -13.304953 -13.847055 -14.583165 -15.218171 -16.068457 -16.792972  \n",
       "2 -13.336930 -13.880828 -14.619094 -15.255757 -16.108029 -16.834069  \n",
       "3 -13.367884 -13.913485 -14.653790 -15.292014 -16.146153 -16.873619  \n",
       "4 -13.397835 -13.945047 -14.687274 -15.326963 -16.182847 -16.911642  \n",
       "\n",
       "[5 rows x 65 columns]"
      ]
     },
     "execution_count": 3,
     "metadata": {},
     "output_type": "execute_result"
    }
   ],
   "source": [
    "data = create_ratio_and_intensity(data, True)\n",
    "# data = create_ratio(data, True)\n",
    "# data = create_spatial_intensity(data)\n",
    "\n",
    "data.head() \n",
    "# NOTE: Have only 1 on at the same time!"
   ]
  },
  {
   "cell_type": "code",
   "execution_count": 4,
   "metadata": {},
   "outputs": [],
   "source": [
    "# Cleanup\n",
    "data.dropna(inplace=True)"
   ]
  },
  {
   "attachments": {},
   "cell_type": "markdown",
   "metadata": {},
   "source": [
    "## Normalizing Features\n",
    "x_columns will be the input features and y_columns are the target"
   ]
  },
  {
   "cell_type": "code",
   "execution_count": 5,
   "metadata": {},
   "outputs": [],
   "source": [
    "## Y -> Target\n",
    "# y_columns = ['Maternal Wall Thickness', \"Maternal Hb Concentration\", \"Maternal Saturation\", \"Fetal Hb Concentration\", \"Fetal Saturation\"]\n",
    "y_columns = ['Maternal Saturation']\n",
    "# y_columns = ['Maternal Hb Concentration']\n",
    "# y_columns = ['Fetal Saturation']\n",
    "# y_columns = ['Fetal Hb Concentration']\n",
    "\n",
    "## X -> Predictors\n",
    "x_columns = list(filter(lambda X: X.isdigit(), data.columns)) + list(filter(lambda X: '_' in X, data.columns))\n",
    "\n",
    "## Pass in maternal info\n",
    "# x_columns += [\"Maternal Hb Concentration\", \"Maternal Saturation\"]\n",
    "\n",
    "## Scale y\n",
    "y_scaler = preprocessing.StandardScaler()\n",
    "data[y_columns] = y_scaler.fit_transform(data[y_columns])\n",
    "\n",
    "## Scale x\n",
    "x_scaler = preprocessing.StandardScaler()\n",
    "data[x_columns] = x_scaler.fit_transform(data[x_columns])\n",
    "\n"
   ]
  },
  {
   "attachments": {},
   "cell_type": "markdown",
   "metadata": {},
   "source": [
    "## Model Configuration"
   ]
  },
  {
   "cell_type": "code",
   "execution_count": 6,
   "metadata": {},
   "outputs": [],
   "source": [
    "IN_FEATURES = len(x_columns)\n",
    "OUT_FEATURES = len(y_columns)\n",
    "model_config = {\n",
    "    # 'model_class' : SplitChannelCNN,  # Class name\n",
    "    'model_class' : PerceptronReLU,  # Class name\n",
    "    # 'model_params' :  [2, IN_FEATURES, 4, 5, [2, OUT_FEATURES]],    # Input params as an array\n",
    "    # 'model_params' :  [3, IN_FEATURES, 6, 5, [6, 3, OUT_FEATURES]],    # Input params as an array\n",
    "    # 'model_params' :  [3, IN_FEATURES, 6, 7, [3, OUT_FEATURES]],    # Input params as an array\n",
    "    'model_params' :  [[IN_FEATURES, 8, OUT_FEATURES]],    # Input params as an array\n",
    "    'validation' : RandomSplit(0.8),\n",
    "    'epochs' : 100,\n",
    "    \n",
    "}"
   ]
  },
  {
   "cell_type": "code",
   "execution_count": 7,
   "metadata": {},
   "outputs": [],
   "source": [
    "# Custom Train Function \n",
    "def train_model2(iteration_config, epoch=60):\n",
    "    np.random.seed(70)  # Set seed for consistentcy\n",
    "    params = {\n",
    "        'batch_size': iteration_config['batch_size'], 'shuffle': True, 'num_workers': 2\n",
    "    }\n",
    "    train, val = generate_data_loaders(data, params, x_columns, y_columns, model_config['validation'])\n",
    "    # model = create_perceptron_model(config['model'])\n",
    "    # model = create_perceptron_model([42, 8, 1])\n",
    "    # model = TwoChannelCNN(40, 4, 5, [4, 1])\n",
    "    model = model_config['model_class'](*model_config['model_params'])\n",
    "    criterion = nn.MSELoss()\n",
    "    optimizer = SGD(model.parameters(), lr=iteration_config[\"lr\"], momentum=iteration_config[\"momentum\"])\n",
    "    # optimizer = Adam(model.parameters(), lr=config[\"lr\"], betas=[config[\"b1\"], config[\"b2\"]])\n",
    "    train_loss, val_loss = train_model_wtih_reporting(model, optimizer=optimizer, criterion=criterion, train_loader=train, validation_loader=val, epochs=epoch)"
   ]
  },
  {
   "cell_type": "code",
   "execution_count": null,
   "metadata": {},
   "outputs": [],
   "source": [
    "# Hyper Parameter Search \n",
    "iteration_config = {\n",
    "    \"lr\" : tune.loguniform(1e-5, 1e-3),\n",
    "    # \"b1\" : tune.uniform(0.3, 1.0),\n",
    "    # \"b2\" : tune.uniform(0.3, 1.0),\n",
    "    \"batch_size\": tune.choice([32, 16, 8]),\n",
    "    # \"model\": tune.choice([[40, 5, 1], [40, 10, 1], [40, 5, 2, 1]]),\n",
    "    \"momentum\": tune.choice([0.93, 0.95, 0.97]),\n",
    "}\n",
    "scheduler = ASHAScheduler(metric=\"combined_loss\", mode=\"min\", max_t=40, grace_period=5, reduction_factor=2)\n",
    "reporter = CLIReporter(metric_columns=[\"train_loss\", \"val_loss\", \"combined_loss\", \"training_iteration\"])\n",
    "result = tune.run(train_model2, config=iteration_config, scheduler=scheduler, progress_reporter=reporter,\n",
    "                  num_samples=80, resources_per_trial={\"cpu\": 0, \"gpu\": 0.5},)\n",
    "\n",
    "best_trial = result.get_best_trial(\"combined_loss\", \"min\", \"last\")\n",
    "print(\"Best trial config: {}\".format(best_trial.config))\n",
    "print(\"Best trial final validation loss: {}\".format(best_trial.last_result[\"val_loss\"]))\n",
    "print(\"Best trial final train loss: {}\".format(best_trial.last_result[\"train_loss\"]))\n"
   ]
  },
  {
   "attachments": {},
   "cell_type": "markdown",
   "metadata": {},
   "source": [
    "<!-- Best trial config: {'lr': 0.0010630834634709364, 'b1': 0.4282116859842134, 'b2': 0.3089991262211405, 'batch_size': 8, 'model': [20, 16, 8, 4, 2, 1]}\n",
    "Best trial final validation loss: 0.09234625198878348\n",
    "Best trial final train loss: 0.22368373312056064 -->"
   ]
  },
  {
   "cell_type": "code",
   "execution_count": null,
   "metadata": {},
   "outputs": [],
   "source": [
    "best_trial.config"
   ]
  },
  {
   "cell_type": "code",
   "execution_count": null,
   "metadata": {},
   "outputs": [],
   "source": [
    "model_config"
   ]
  },
  {
   "cell_type": "code",
   "execution_count": 8,
   "metadata": {},
   "outputs": [
    {
     "data": {
      "text/plain": [
       "<matplotlib.legend.Legend at 0x7f783409fb50>"
      ]
     },
     "execution_count": 8,
     "metadata": {},
     "output_type": "execute_result"
    },
    {
     "data": {
      "image/png": "[encoded data removed]",
      "text/plain": [
       "<Figure size 640x480 with 1 Axes>"
      ]
     },
     "metadata": {},
     "output_type": "display_data"
    }
   ],
   "source": [
    "# Train Model with the given params.\n",
    "np.random.seed(70)  # Set seed for consistentcy\n",
    "params = {\n",
    "    'batch_size': 128, 'shuffle': True, 'num_workers': 2\n",
    "}\n",
    "# params['batch_size'] = best_trial.config['batch_size']\n",
    "train, val = generate_data_loaders(data, params, x_columns, y_columns, model_config['validation'])\n",
    "model = model_config['model_class'](*model_config['model_params'])\n",
    "criterion = nn.MSELoss()\n",
    "# criterion = nn.HuberLoss()\n",
    "# optimizer = Adam(model.parameters(), lr=0.0009, betas=[0.935, 0.701])\n",
    "optimizer = SGD(model.parameters(), lr=0.003, momentum=0.95)\n",
    "# optimizer = SGD(model.parameters(), lr=best_trial.config['lr'], momentum=best_trial.config['momentum'])\n",
    "# CUDA_VISIBLE is already set to only see one GPU\n",
    "train_loss, validation_loss = train_model(model, optimizer, criterion, train, val, epochs=40, gpu_to_use=0)\n",
    "# train_loss, validation_loss = train_model(model, optimizer, criterion, train, val, epochs=model_config['epochs'], gpu_to_use=0)\n",
    "plt.figure()\n",
    "plt.plot(train_loss, label='Training Loss', marker='x')\n",
    "plt.plot(validation_loss, label='Validation Loss', marker='x')\n",
    "# plt.yscale('log')\n",
    "plt.legend()"
   ]
  },
  {
   "cell_type": "code",
   "execution_count": 9,
   "metadata": {},
   "outputs": [
    {
     "name": "stdout",
     "output_type": "stream",
     "text": [
      "Train MSE : 0.0043219277140451595, Val MSE : 0.0044085731788072735\n"
     ]
    }
   ],
   "source": [
    "print(f'Train MSE : {train_loss[-1]}, Val MSE : {validation_loss[-1]}')"
   ]
  },
  {
   "cell_type": "code",
   "execution_count": null,
   "metadata": {},
   "outputs": [],
   "source": [
    "# Get predictions\n",
    "with torch.no_grad():\n",
    "    x_data = torch.tensor(data[x_columns].values, dtype=torch.float).cuda()\n",
    "    predictions = model(x_data)\n",
    "    predictions = predictions.cpu().numpy()\n",
    "    predictions = y_scaler.inverse_transform(predictions).flatten()\n",
    "    y_data = data[y_columns].to_numpy()\n",
    "    y_data = y_scaler.inverse_transform(y_data).flatten()\n",
    "    absolute_error = np.abs(y_data - predictions)\n",
    "    # error_df = pd.DataFrame({'Truth': y_data, \"Predicted\": predictions, \"Absolute Error\": absolute_error, \"%tage\": absolute_error/y_data * 100})\n",
    "    error_df = pd.DataFrame({'Truth': y_data, \"Predicted\": predictions, \"Absolute Error\": absolute_error, \"%tage\": absolute_error})\n",
    "plt.figure()\n",
    "error_df['%tage'].plot.hist(bins=100)\n",
    "# plt.xlabel('(%) Error')\n",
    "plt.xlabel('Abs. Sat. Error')\n",
    "plt.ylabel('Count')\n",
    "plt.show()"
   ]
  },
  {
   "cell_type": "code",
   "execution_count": null,
   "metadata": {},
   "outputs": [],
   "source": [
    "# Top Bad Samples\n",
    "VIEW_TOP_N = 50\n",
    "worst_errors = error_df['Absolute Error'].argsort()[::-1][:VIEW_TOP_N]\n",
    "combined_table = data.join(error_df)\n",
    "with pd.option_context(\"display.max_rows\", None):\n",
    "    display(combined_table[['Maternal Wall Thickness', \"Maternal Hb Concentration\", \"Maternal Saturation\", \"Fetal Hb Concentration\", \"Fetal Saturation\", 'Truth', 'Predicted', 'Absolute Error', '%tage']].iloc[worst_errors, :])"
   ]
  },
  {
   "cell_type": "code",
   "execution_count": null,
   "metadata": {},
   "outputs": [],
   "source": [
    "# Rough MSE's in percentage\n",
    "print(f'Train Error(non-normalized): {train_loss[-1] * y_scaler.var_ }')\n",
    "print(f'Validation Error(non-normalized): {validation_loss[-1] * y_scaler.var_ }')"
   ]
  },
  {
   "cell_type": "code",
   "execution_count": 10,
   "metadata": {},
   "outputs": [
    {
     "data": {
      "text/plain": [
       "=================================================================\n",
       "Layer (type:depth-idx)                   Param #\n",
       "=================================================================\n",
       "PerceptronReLU                           --\n",
       "├─Sequential: 1-1                        --\n",
       "│    └─Linear: 2-1                       488\n",
       "│    └─ReLU: 2-2                         --\n",
       "│    └─Linear: 2-3                       9\n",
       "│    └─Flatten: 2-4                      --\n",
       "=================================================================\n",
       "Total params: 497\n",
       "Trainable params: 497\n",
       "Non-trainable params: 0\n",
       "================================================================="
      ]
     },
     "execution_count": 10,
     "metadata": {},
     "output_type": "execute_result"
    }
   ],
   "source": [
    "# Model Info\n",
    "torchinfo.summary(model)"
   ]
  },
  {
   "cell_type": "code",
   "execution_count": null,
   "metadata": {},
   "outputs": [],
   "source": [
    "error_df.columns"
   ]
  },
  {
   "cell_type": "code",
   "execution_count": 11,
   "metadata": {},
   "outputs": [
    {
     "data": {
      "text/plain": [
       "['../models/msat_percep_irsi_yscaler']"
      ]
     },
     "execution_count": 11,
     "metadata": {},
     "output_type": "execute_result"
    }
   ],
   "source": [
    "model_name = 'msat_percep_irsi'\n",
    "import joblib\n",
    "# Save Model\n",
    "torch.save(model.state_dict(), rf'../models/{model_name}')\n",
    "# Save the Scalers for Later Use\n",
    "joblib.dump(x_scaler, rf'../models/{model_name}_xscaler')\n",
    "joblib.dump(y_scaler, rf'../models/{model_name}_yscaler')"
   ]
  },
  {
   "cell_type": "code",
   "execution_count": null,
   "metadata": {},
   "outputs": [],
   "source": [
    "# # Load Model Code\n",
    "# model = PerceptronReLU([20, 10, 4, 2, 1])\n",
    "# model.load_state_dict(torch.load(r'../models/fsat_delta_5det_v1'))\n",
    "# model = model.cuda()\n",
    "# x_scaler = joblib.load(rf'../models/{model_name}_xscaler')\n",
    "# y_scaler = joblib.load(rf'../models/{model_name}_yscaler')"
   ]
  }
 ],
 "metadata": {
  "kernelspec": {
   "display_name": "cybercat",
   "language": "python",
   "name": "python3"
  },
  "language_info": {
   "codemirror_mode": {
    "name": "ipython",
    "version": 3
   },
   "file_extension": ".py",
   "mimetype": "text/x-python",
   "name": "python",
   "nbconvert_exporter": "python",
   "pygments_lexer": "ipython3",
   "version": "3.8.10"
  },
  "orig_nbformat": 4
 },
 "nbformat": 4,
 "nbformat_minor": 2
}
