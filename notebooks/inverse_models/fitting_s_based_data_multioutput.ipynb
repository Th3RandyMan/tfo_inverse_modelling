{
 "cells": [
  {
   "attachments": {},
   "cell_type": "markdown",
   "metadata": {},
   "source": [
    "# Fitting Saturation-based Simulation Data With Multi-Output\n",
    "Can having multiple labels per data improve validation loss? \n"
   ]
  },
  {
   "cell_type": "code",
   "execution_count": 33,
   "metadata": {},
   "outputs": [],
   "source": [
    "from pathlib import Path\n",
    "import json\n",
    "from torch.optim import Adam, SGD\n",
    "import torch.nn as nn\n",
    "import torch\n",
    "import matplotlib.pyplot as plt\n",
    "import numpy as np\n",
    "import pandas as pd\n",
    "import os\n",
    "from sklearn import preprocessing\n",
    "from model_trainer import RandomSplit, ValidationMethod, HoldOneOut, CVSplit, CombineMethods\n",
    "from inverse_modelling_tfo.model_training.custom_models import (\n",
    "    PerceptronBD,\n",
    "    CNN2FC,\n",
    "    FeatureResidualNetwork,\n",
    "    CNN2FC2dInput,\n",
    "    SplitChannelCNN\n",
    ")\n",
    "\n",
    "from inverse_modelling_tfo.visualization import generate_model_error_and_prediction\n",
    "import torchinfo\n",
    "from inverse_modelling_tfo.misc.misc_training import set_seed\n",
    "\n",
    "# Set my GPU\n",
    "os.environ[\"CUDA_VISIBLE_DEVICES\"] = \"3\""
   ]
  },
  {
   "cell_type": "code",
   "execution_count": 34,
   "metadata": {},
   "outputs": [
    {
     "name": "stdout",
     "output_type": "stream",
     "text": [
      "The autoreload extension is already loaded. To reload it, use:\n",
      "  %reload_ext autoreload\n"
     ]
    }
   ],
   "source": [
    "%load_ext autoreload\n",
    "%autoreload 2"
   ]
  },
  {
   "cell_type": "markdown",
   "metadata": {},
   "source": [
    "# Load Pre-save data"
   ]
  },
  {
   "cell_type": "code",
   "execution_count": 35,
   "metadata": {},
   "outputs": [],
   "source": [
    "# file_name = 'logI2_by_I1'\n",
    "# file_name = 'I1_and_I2'\n",
    "# file_name = 'pulsation_ratio'\n",
    "file_name = \"I1_and_I2_interp\"\n",
    "# Load data\n",
    "DATA_PATH = Path().resolve().parent.parent / \"data\" / \"processed_data\" / f\"{file_name}.pkl\"\n",
    "data = pd.read_pickle(DATA_PATH)\n",
    "\n",
    "# Load Configs\n",
    "CONFIG_PATH = DATA_PATH.with_suffix(\".json\")\n",
    "with open(CONFIG_PATH, \"r\") as f:\n",
    "    config = json.load(f)\n",
    "labels = config[\"labels\"]\n",
    "features = config[\"features\"]\n",
    "\n",
    "# Convert to log\n",
    "# data[features] = np.log(data[features])\n",
    "\n"
   ]
  },
  {
   "cell_type": "code",
   "execution_count": 36,
   "metadata": {},
   "outputs": [],
   "source": [
    "# I1 by I2 path\n",
    "\n",
    "from inverse_modelling_tfo.features.build_features import TwoColumnOperationFeatureBuilder\n",
    "\n",
    "i1_wv2 = features[:len(features)//4]\n",
    "i1_wv1 = features[len(features)//4:2*len(features)//4]\n",
    "i2_wv2 = features[2*len(features)//4:3*len(features)//4]\n",
    "i2_wv1 = features[3*len(features)//4:]\n",
    "\n",
    "\n",
    "# Create the feature builders\n",
    "fb1 = TwoColumnOperationFeatureBuilder(i2_wv1, i1_wv1, '/', False, features, labels)\n",
    "fb2 = TwoColumnOperationFeatureBuilder.from_chain(fb1, i2_wv2, i1_wv2, '/', False)\n",
    "\n",
    "# Transform the data\n",
    "data = fb2(data)\n",
    "\n",
    "features = fb2.get_feature_names()\n",
    "\n",
    "# Cleanup\n",
    "data.dropna(inplace=True)"
   ]
  },
  {
   "cell_type": "code",
   "execution_count": 37,
   "metadata": {},
   "outputs": [
    {
     "data": {
      "text/html": [
       "<div>\n",
       "<style scoped>\n",
       "    .dataframe tbody tr th:only-of-type {\n",
       "        vertical-align: middle;\n",
       "    }\n",
       "\n",
       "    .dataframe tbody tr th {\n",
       "        vertical-align: top;\n",
       "    }\n",
       "\n",
       "    .dataframe thead th {\n",
       "        text-align: right;\n",
       "    }\n",
       "</style>\n",
       "<table border=\"1\" class=\"dataframe\">\n",
       "  <thead>\n",
       "    <tr style=\"text-align: right;\">\n",
       "      <th></th>\n",
       "      <th>Maternal Wall Thickness</th>\n",
       "      <th>Maternal Hb Concentration</th>\n",
       "      <th>Maternal Saturation</th>\n",
       "      <th>Fetal Saturation</th>\n",
       "      <th>FconcCenters</th>\n",
       "      <th>Fetal Hb Concentration 1</th>\n",
       "      <th>Fetal Hb Concentration 2</th>\n",
       "      <th>10_1.0_2_/_10_1.0_1</th>\n",
       "      <th>15_1.0_2_/_15_1.0_1</th>\n",
       "      <th>19_1.0_2_/_19_1.0_1</th>\n",
       "      <th>...</th>\n",
       "      <th>55_2.0_2_/_55_2.0_1</th>\n",
       "      <th>59_2.0_2_/_59_2.0_1</th>\n",
       "      <th>64_2.0_2_/_64_2.0_1</th>\n",
       "      <th>68_2.0_2_/_68_2.0_1</th>\n",
       "      <th>72_2.0_2_/_72_2.0_1</th>\n",
       "      <th>77_2.0_2_/_77_2.0_1</th>\n",
       "      <th>81_2.0_2_/_81_2.0_1</th>\n",
       "      <th>86_2.0_2_/_86_2.0_1</th>\n",
       "      <th>90_2.0_2_/_90_2.0_1</th>\n",
       "      <th>94_2.0_2_/_94_2.0_1</th>\n",
       "    </tr>\n",
       "  </thead>\n",
       "  <tbody>\n",
       "    <tr>\n",
       "      <th>count</th>\n",
       "      <td>515592.000000</td>\n",
       "      <td>515592.000000</td>\n",
       "      <td>515592.000000</td>\n",
       "      <td>515592.000000</td>\n",
       "      <td>515592.000000</td>\n",
       "      <td>515592.000000</td>\n",
       "      <td>515592.000000</td>\n",
       "      <td>515592.000000</td>\n",
       "      <td>515592.000000</td>\n",
       "      <td>515592.000000</td>\n",
       "      <td>...</td>\n",
       "      <td>515592.000000</td>\n",
       "      <td>515592.000000</td>\n",
       "      <td>515592.000000</td>\n",
       "      <td>515592.000000</td>\n",
       "      <td>515592.000000</td>\n",
       "      <td>515592.000000</td>\n",
       "      <td>515592.000000</td>\n",
       "      <td>515592.000000</td>\n",
       "      <td>515592.000000</td>\n",
       "      <td>515592.000000</td>\n",
       "    </tr>\n",
       "    <tr>\n",
       "      <th>mean</th>\n",
       "      <td>19.000000</td>\n",
       "      <td>13.000000</td>\n",
       "      <td>0.950000</td>\n",
       "      <td>0.400000</td>\n",
       "      <td>4.000000</td>\n",
       "      <td>12.675000</td>\n",
       "      <td>13.000000</td>\n",
       "      <td>0.999966</td>\n",
       "      <td>0.999818</td>\n",
       "      <td>0.999558</td>\n",
       "      <td>...</td>\n",
       "      <td>0.996413</td>\n",
       "      <td>0.995981</td>\n",
       "      <td>0.996017</td>\n",
       "      <td>0.995063</td>\n",
       "      <td>0.994112</td>\n",
       "      <td>0.992926</td>\n",
       "      <td>0.991981</td>\n",
       "      <td>0.990801</td>\n",
       "      <td>0.989861</td>\n",
       "      <td>0.988923</td>\n",
       "    </tr>\n",
       "    <tr>\n",
       "      <th>std</th>\n",
       "      <td>8.944281</td>\n",
       "      <td>1.290996</td>\n",
       "      <td>0.031623</td>\n",
       "      <td>0.121106</td>\n",
       "      <td>2.738615</td>\n",
       "      <td>1.335075</td>\n",
       "      <td>1.369308</td>\n",
       "      <td>0.000108</td>\n",
       "      <td>0.000499</td>\n",
       "      <td>0.001104</td>\n",
       "      <td>...</td>\n",
       "      <td>0.006326</td>\n",
       "      <td>0.007032</td>\n",
       "      <td>0.004931</td>\n",
       "      <td>0.004793</td>\n",
       "      <td>0.004959</td>\n",
       "      <td>0.005544</td>\n",
       "      <td>0.006238</td>\n",
       "      <td>0.007291</td>\n",
       "      <td>0.008230</td>\n",
       "      <td>0.009225</td>\n",
       "    </tr>\n",
       "    <tr>\n",
       "      <th>min</th>\n",
       "      <td>4.000000</td>\n",
       "      <td>11.000000</td>\n",
       "      <td>0.900000</td>\n",
       "      <td>0.200000</td>\n",
       "      <td>0.000000</td>\n",
       "      <td>10.725000</td>\n",
       "      <td>11.000000</td>\n",
       "      <td>0.999422</td>\n",
       "      <td>0.997501</td>\n",
       "      <td>0.994738</td>\n",
       "      <td>...</td>\n",
       "      <td>0.979319</td>\n",
       "      <td>0.976901</td>\n",
       "      <td>0.986528</td>\n",
       "      <td>0.986379</td>\n",
       "      <td>0.983319</td>\n",
       "      <td>0.976999</td>\n",
       "      <td>0.971972</td>\n",
       "      <td>0.965725</td>\n",
       "      <td>0.960757</td>\n",
       "      <td>0.955814</td>\n",
       "    </tr>\n",
       "    <tr>\n",
       "      <th>25%</th>\n",
       "      <td>11.000000</td>\n",
       "      <td>12.000000</td>\n",
       "      <td>0.920000</td>\n",
       "      <td>0.300000</td>\n",
       "      <td>1.750000</td>\n",
       "      <td>11.578125</td>\n",
       "      <td>11.875000</td>\n",
       "      <td>0.999996</td>\n",
       "      <td>0.999974</td>\n",
       "      <td>0.999881</td>\n",
       "      <td>...</td>\n",
       "      <td>0.996449</td>\n",
       "      <td>0.995897</td>\n",
       "      <td>0.990542</td>\n",
       "      <td>0.989976</td>\n",
       "      <td>0.989586</td>\n",
       "      <td>0.989104</td>\n",
       "      <td>0.988439</td>\n",
       "      <td>0.987662</td>\n",
       "      <td>0.986722</td>\n",
       "      <td>0.985239</td>\n",
       "    </tr>\n",
       "    <tr>\n",
       "      <th>50%</th>\n",
       "      <td>19.000000</td>\n",
       "      <td>13.000000</td>\n",
       "      <td>0.950000</td>\n",
       "      <td>0.400000</td>\n",
       "      <td>4.000000</td>\n",
       "      <td>12.675000</td>\n",
       "      <td>13.000000</td>\n",
       "      <td>0.999999</td>\n",
       "      <td>0.999999</td>\n",
       "      <td>0.999999</td>\n",
       "      <td>...</td>\n",
       "      <td>0.999974</td>\n",
       "      <td>0.999970</td>\n",
       "      <td>1.000000</td>\n",
       "      <td>0.997142</td>\n",
       "      <td>0.994893</td>\n",
       "      <td>0.992200</td>\n",
       "      <td>0.990703</td>\n",
       "      <td>0.989951</td>\n",
       "      <td>0.989624</td>\n",
       "      <td>0.989139</td>\n",
       "    </tr>\n",
       "    <tr>\n",
       "      <th>75%</th>\n",
       "      <td>27.000000</td>\n",
       "      <td>14.000000</td>\n",
       "      <td>0.980000</td>\n",
       "      <td>0.500000</td>\n",
       "      <td>6.250000</td>\n",
       "      <td>13.771875</td>\n",
       "      <td>14.125000</td>\n",
       "      <td>1.000001</td>\n",
       "      <td>1.000000</td>\n",
       "      <td>1.000000</td>\n",
       "      <td>...</td>\n",
       "      <td>0.999999</td>\n",
       "      <td>0.999999</td>\n",
       "      <td>1.000144</td>\n",
       "      <td>0.999781</td>\n",
       "      <td>0.999366</td>\n",
       "      <td>0.998856</td>\n",
       "      <td>0.998452</td>\n",
       "      <td>0.997949</td>\n",
       "      <td>0.997548</td>\n",
       "      <td>0.997147</td>\n",
       "    </tr>\n",
       "    <tr>\n",
       "      <th>max</th>\n",
       "      <td>34.000000</td>\n",
       "      <td>15.000000</td>\n",
       "      <td>1.000000</td>\n",
       "      <td>0.600000</td>\n",
       "      <td>8.000000</td>\n",
       "      <td>14.625000</td>\n",
       "      <td>15.000000</td>\n",
       "      <td>1.000017</td>\n",
       "      <td>1.000010</td>\n",
       "      <td>1.000008</td>\n",
       "      <td>...</td>\n",
       "      <td>1.000005</td>\n",
       "      <td>1.000006</td>\n",
       "      <td>1.001560</td>\n",
       "      <td>1.000000</td>\n",
       "      <td>1.000000</td>\n",
       "      <td>1.000000</td>\n",
       "      <td>0.999999</td>\n",
       "      <td>0.999999</td>\n",
       "      <td>0.999999</td>\n",
       "      <td>0.999999</td>\n",
       "    </tr>\n",
       "  </tbody>\n",
       "</table>\n",
       "<p>8 rows × 47 columns</p>\n",
       "</div>"
      ],
      "text/plain": [
       "       Maternal Wall Thickness  Maternal Hb Concentration  \\\n",
       "count            515592.000000              515592.000000   \n",
       "mean                 19.000000                  13.000000   \n",
       "std                   8.944281                   1.290996   \n",
       "min                   4.000000                  11.000000   \n",
       "25%                  11.000000                  12.000000   \n",
       "50%                  19.000000                  13.000000   \n",
       "75%                  27.000000                  14.000000   \n",
       "max                  34.000000                  15.000000   \n",
       "\n",
       "       Maternal Saturation  Fetal Saturation   FconcCenters  \\\n",
       "count        515592.000000     515592.000000  515592.000000   \n",
       "mean              0.950000          0.400000       4.000000   \n",
       "std               0.031623          0.121106       2.738615   \n",
       "min               0.900000          0.200000       0.000000   \n",
       "25%               0.920000          0.300000       1.750000   \n",
       "50%               0.950000          0.400000       4.000000   \n",
       "75%               0.980000          0.500000       6.250000   \n",
       "max               1.000000          0.600000       8.000000   \n",
       "\n",
       "       Fetal Hb Concentration 1  Fetal Hb Concentration 2  \\\n",
       "count             515592.000000             515592.000000   \n",
       "mean                  12.675000                 13.000000   \n",
       "std                    1.335075                  1.369308   \n",
       "min                   10.725000                 11.000000   \n",
       "25%                   11.578125                 11.875000   \n",
       "50%                   12.675000                 13.000000   \n",
       "75%                   13.771875                 14.125000   \n",
       "max                   14.625000                 15.000000   \n",
       "\n",
       "       10_1.0_2_/_10_1.0_1  15_1.0_2_/_15_1.0_1  19_1.0_2_/_19_1.0_1  ...  \\\n",
       "count        515592.000000        515592.000000        515592.000000  ...   \n",
       "mean              0.999966             0.999818             0.999558  ...   \n",
       "std               0.000108             0.000499             0.001104  ...   \n",
       "min               0.999422             0.997501             0.994738  ...   \n",
       "25%               0.999996             0.999974             0.999881  ...   \n",
       "50%               0.999999             0.999999             0.999999  ...   \n",
       "75%               1.000001             1.000000             1.000000  ...   \n",
       "max               1.000017             1.000010             1.000008  ...   \n",
       "\n",
       "       55_2.0_2_/_55_2.0_1  59_2.0_2_/_59_2.0_1  64_2.0_2_/_64_2.0_1  \\\n",
       "count        515592.000000        515592.000000        515592.000000   \n",
       "mean              0.996413             0.995981             0.996017   \n",
       "std               0.006326             0.007032             0.004931   \n",
       "min               0.979319             0.976901             0.986528   \n",
       "25%               0.996449             0.995897             0.990542   \n",
       "50%               0.999974             0.999970             1.000000   \n",
       "75%               0.999999             0.999999             1.000144   \n",
       "max               1.000005             1.000006             1.001560   \n",
       "\n",
       "       68_2.0_2_/_68_2.0_1  72_2.0_2_/_72_2.0_1  77_2.0_2_/_77_2.0_1  \\\n",
       "count        515592.000000        515592.000000        515592.000000   \n",
       "mean              0.995063             0.994112             0.992926   \n",
       "std               0.004793             0.004959             0.005544   \n",
       "min               0.986379             0.983319             0.976999   \n",
       "25%               0.989976             0.989586             0.989104   \n",
       "50%               0.997142             0.994893             0.992200   \n",
       "75%               0.999781             0.999366             0.998856   \n",
       "max               1.000000             1.000000             1.000000   \n",
       "\n",
       "       81_2.0_2_/_81_2.0_1  86_2.0_2_/_86_2.0_1  90_2.0_2_/_90_2.0_1  \\\n",
       "count        515592.000000        515592.000000        515592.000000   \n",
       "mean              0.991981             0.990801             0.989861   \n",
       "std               0.006238             0.007291             0.008230   \n",
       "min               0.971972             0.965725             0.960757   \n",
       "25%               0.988439             0.987662             0.986722   \n",
       "50%               0.990703             0.989951             0.989624   \n",
       "75%               0.998452             0.997949             0.997548   \n",
       "max               0.999999             0.999999             0.999999   \n",
       "\n",
       "       94_2.0_2_/_94_2.0_1  \n",
       "count        515592.000000  \n",
       "mean              0.988923  \n",
       "std               0.009225  \n",
       "min               0.955814  \n",
       "25%               0.985239  \n",
       "50%               0.989139  \n",
       "75%               0.997147  \n",
       "max               0.999999  \n",
       "\n",
       "[8 rows x 47 columns]"
      ]
     },
     "execution_count": 37,
     "metadata": {},
     "output_type": "execute_result"
    }
   ],
   "source": [
    "data.describe()"
   ]
  },
  {
   "cell_type": "code",
   "execution_count": 38,
   "metadata": {},
   "outputs": [
    {
     "name": "stdout",
     "output_type": "stream",
     "text": [
      "training with 216216 samples\n"
     ]
    }
   ],
   "source": [
    "# Filter data so I don't have to wait for too long during training\n",
    "data = data[\n",
    "    (data[\"Maternal Wall Thickness\"] >= 2.0)\n",
    "    & (data[\"Maternal Wall Thickness\"] <= 16.0)\n",
    "]\n",
    "print(\"training with\", len(data), \"samples\")"
   ]
  },
  {
   "cell_type": "markdown",
   "metadata": {},
   "source": [
    "# Setup Training Objective"
   ]
  },
  {
   "cell_type": "code",
   "execution_count": 39,
   "metadata": {},
   "outputs": [
    {
     "name": "stdout",
     "output_type": "stream",
     "text": [
      "Y Columns ['Fetal Saturation']\n",
      "X Columns ['10_1.0_2_/_10_1.0_1', '15_1.0_2_/_15_1.0_1', '19_1.0_2_/_19_1.0_1', '24_1.0_2_/_24_1.0_1', '28_1.0_2_/_28_1.0_1', '33_1.0_2_/_33_1.0_1', '37_1.0_2_/_37_1.0_1', '41_1.0_2_/_41_1.0_1', '46_1.0_2_/_46_1.0_1', '50_1.0_2_/_50_1.0_1', '55_1.0_2_/_55_1.0_1', '59_1.0_2_/_59_1.0_1', '64_1.0_2_/_64_1.0_1', '68_1.0_2_/_68_1.0_1', '72_1.0_2_/_72_1.0_1', '77_1.0_2_/_77_1.0_1', '81_1.0_2_/_81_1.0_1', '86_1.0_2_/_86_1.0_1', '90_1.0_2_/_90_1.0_1', '94_1.0_2_/_94_1.0_1', '10_2.0_2_/_10_2.0_1', '15_2.0_2_/_15_2.0_1', '19_2.0_2_/_19_2.0_1', '24_2.0_2_/_24_2.0_1', '28_2.0_2_/_28_2.0_1', '33_2.0_2_/_33_2.0_1', '37_2.0_2_/_37_2.0_1', '41_2.0_2_/_41_2.0_1', '46_2.0_2_/_46_2.0_1', '50_2.0_2_/_50_2.0_1', '55_2.0_2_/_55_2.0_1', '59_2.0_2_/_59_2.0_1', '64_2.0_2_/_64_2.0_1', '68_2.0_2_/_68_2.0_1', '72_2.0_2_/_72_2.0_1', '77_2.0_2_/_77_2.0_1', '81_2.0_2_/_81_2.0_1', '86_2.0_2_/_86_2.0_1', '90_2.0_2_/_90_2.0_1', '94_2.0_2_/_94_2.0_1']\n"
     ]
    }
   ],
   "source": [
    "# y_columns = labels  # What to Predict\n",
    "y_columns = ['Fetal Saturation']  # What to Predict\n",
    "\n",
    "# Add New ConcDiff Column as a new label\n",
    "# data[\"ConcDiff\"] = data[\"Fetal Hb Concentration 1\"] - data[\"Fetal Hb Concentration 0\"]\n",
    "# if \"ConcDiff\" not in y_columns:\n",
    "#     y_columns.append(\"ConcDiff\")\n",
    "\n",
    "# if \"Fetal Hb Concentration 1\" in y_columns:\n",
    "#     y_columns.remove(\"Fetal Hb Concentration 1\")\n",
    "\n",
    "# if \"Fetal Hb Concentration 0\" in y_columns:\n",
    "#     y_columns.remove(\"Fetal Hb Concentration 0\")\n",
    "\n",
    "if \"FconcCenters\" in y_columns:\n",
    "    y_columns.remove(\"FconcCenters\")\n",
    "print(\"Y Columns\", y_columns)\n",
    "\n",
    "x_columns = features  # What to use as input\n",
    "\n",
    "## Use only first N detectors\n",
    "# N = 10\n",
    "# x_columns = features[:N] + features[(len(features)//2): (len(features)//2 + N)]\n",
    "\n",
    "print(\"X Columns\", x_columns)"
   ]
  },
  {
   "attachments": {},
   "cell_type": "markdown",
   "metadata": {},
   "source": [
    "## Normalizing Features\n",
    "x_columns will be the input features and y_columns are the target"
   ]
  },
  {
   "cell_type": "code",
   "execution_count": 40,
   "metadata": {},
   "outputs": [],
   "source": [
    "## Pass in maternal info\n",
    "# x_columns += [\"Maternal Hb Concentration\", \"Maternal Saturation\"]\n",
    "# x_columns = list(filter(lambda X: 'alpha' in X, data.columns))\n",
    "## Scale y\n",
    "y_scaler = preprocessing.StandardScaler()\n",
    "data[y_columns] = y_scaler.fit_transform(data[y_columns])\n",
    "\n",
    "## Scale x\n",
    "## Scheme 1 - Per detector normalization\n",
    "x_scaler = preprocessing.StandardScaler()\n",
    "data[x_columns] = x_scaler.fit_transform(data[x_columns])\n",
    "\n",
    "## Scheme 2 - All detector combined normalization\n",
    "# x_scaler = preprocessing.StandardScaler()\n",
    "# # Assume the entire data lies between -1 to -20 (log scale) -> z = (x - u) / s -> zs - x = -u; s = 19/2 = 9.5;\n",
    "# # at z = +1, x = -1, at z = -1, x = -20, u = 10.5, so we should be converting from -1 to -20 to -1 to 1\n",
    "# # Use these values to manually define the scaler\n",
    "# feature_len  = len(x_columns)\n",
    "# x_scaler.scale_ = np.array([9.5] * feature_len)\n",
    "# x_scaler.mean_ = np.array([10.5] * feature_len)\n",
    "# x_scaler.n_features_in_ = feature_len\n",
    "# x_scaler.feature_names_in_ = x_columns  # Avoids a warning/not really necessary\n",
    "# data[x_columns] = x_scaler.transform(data[x_columns])\n"
   ]
  },
  {
   "attachments": {},
   "cell_type": "markdown",
   "metadata": {},
   "source": [
    "## Model Configuration"
   ]
  },
  {
   "cell_type": "code",
   "execution_count": 41,
   "metadata": {},
   "outputs": [
    {
     "name": "stdout",
     "output_type": "stream",
     "text": [
      "In Features : 40\n",
      "Out Features: 1\n"
     ]
    }
   ],
   "source": [
    "print(\"In Features :\", len(x_columns))  \n",
    "print(\"Out Features:\", len(y_columns))"
   ]
  },
  {
   "cell_type": "markdown",
   "metadata": {},
   "source": [
    "# Setting up Special Residual Network "
   ]
  },
  {
   "cell_type": "code",
   "execution_count": 42,
   "metadata": {},
   "outputs": [],
   "source": [
    "# saturation_unique_values = data[\"Fetal Saturation\"].unique()\n",
    "# mean_saturation_level = saturation_unique_values[len(saturation_unique_values)//2]\n",
    "# # Convert to float tensor, by default it is double\n",
    "# lookup_table = torch.from_numpy(data[data[\"Fetal Saturation\"] == mean_saturation_level].values).cuda().float()\n",
    "# feature_indices = [data.columns.get_loc(feature) for feature in x_columns]\n",
    "# feature_indices = torch.tensor(feature_indices).cuda()\n",
    "# intermediate_labels = y_columns.copy()\n",
    "# intermediate_labels.remove(\"Fetal Saturation\")\n",
    "# intermediate_label_indices = [data.columns.get_loc(label) for label in intermediate_labels]\n",
    "# intermediate_labels = torch.tensor(intermediate_label_indices).cuda()\n",
    "\n",
    "# # y_columns = [\"Fetal Saturation\"]\n",
    "\n",
    "# feature_res_net_params = {\n",
    "#         'node_count_left': [len(x_columns), 5, len(intermediate_labels)],\n",
    "#         'dropout_rates_left': [0.5, 0.5],\n",
    "#         'node_count_right': [len(x_columns), 5, len(y_columns)],\n",
    "#         'dropout_rates_right': [0.5, 0.5],\n",
    "#         'lookup_table': lookup_table,\n",
    "#         'lookup_key_indices': intermediate_labels,\n",
    "#         'feature_indices': feature_indices,\n",
    "# }\n"
   ]
  },
  {
   "cell_type": "markdown",
   "metadata": {},
   "source": [
    "# Training Configs"
   ]
  },
  {
   "cell_type": "code",
   "execution_count": 155,
   "metadata": {},
   "outputs": [],
   "source": [
    "IN_FEATURES = len(x_columns)\n",
    "OUT_FEATURES = len(y_columns)\n",
    "\n",
    "from model_trainer import ModelTrainer, TorchLossWrapper, DataLoaderGenerator, SumLoss\n",
    "\n",
    "## Create an individual loss for each label\n",
    "# criterion_list = []\n",
    "# criterion_names = ['depth', 'mom_hb', 'mom_sat', 'fet_sat', 'fet_hb1', 'fet_hb2']\n",
    "\n",
    "# for index, name in enumerate(criterion_names):\n",
    "#     criterion_list.append(TorchLossWrapper(nn.MSELoss(), [index], name))\n",
    "\n",
    "# Sum the losses\n",
    "# criterion = SumLoss(criterion_list, weights=[1.0, 1.0, 1.0, 1.0, 1.0, 1.0])\n",
    "\n",
    "## Lump All Losses into one\n",
    "criterion = TorchLossWrapper(nn.MSELoss(), name='fetal_sat')\n",
    "\n",
    "\n",
    "set_seed(40)\n",
    "\n",
    "## Validation Methods\n",
    "# validation_method = RandomSplit(0.7)\n",
    "all_depths = data[\"Maternal Wall Thickness\"].unique()\n",
    "all_depths.sort()\n",
    "validation_method = HoldOneOut('Maternal Wall Thickness', all_depths[len(all_depths)//2])   # Center value\n",
    "\n",
    "dataloader_gen = DataLoaderGenerator(data, x_columns, y_columns, 32, {'shuffle': True})\n",
    "\n",
    "## Trainer Factory - Perceptrons\n",
    "# model = PerceptronBD([IN_FEATURES, 40, 20, 10, 6, OUT_FEATURES])    # Works\n",
    "# model = PerceptronBD([IN_FEATURES, 40, 20, OUT_FEATURES])     # Current Best\n",
    "# model = PerceptronBD([IN_FEATURES, 20, 10, OUT_FEATURES])    \n",
    "\n",
    "\n",
    "## Trainer Factory - CNNs\n",
    "# cnn_config = {\n",
    "#     'input_length': IN_FEATURES,\n",
    "#     'cnn_out_channels': [4, 8, 16],\n",
    "#     'cnn_kernel_sizes' : [10, 10, 10],\n",
    "#     'fc_output_node_counts': [20, 10, OUT_FEATURES],\n",
    "# }\n",
    "# trainer_factory = ModelTrainerFactory(CNN2FC2dInput, cnn_config, generate_data_loaders, datagen_kw, 100, criterion)\n",
    "\n",
    "## Trainer Factory - SplitChannel CNNs\n",
    "cnn_config = {\n",
    "    'complete_input_length': IN_FEATURES,\n",
    "    'split_count': 2,\n",
    "    'cnn_out_channels': [4, 8, 16],\n",
    "    # 'cnn_kernel_sizes' : [10, 5, 5],\n",
    "    'cnn_kernel_sizes' : [10, 5, 3],\n",
    "    # 'cnn_dropouts' : [0.1] * 2,\n",
    "    'fc_output_node_counts': [12, 6, OUT_FEATURES],    # Best\n",
    "    # 'fc_dropouts': [0.1] * 3,\n",
    "}\n",
    "\n",
    "model = SplitChannelCNN(**cnn_config)\n",
    "\n",
    "trainer = ModelTrainer(model, dataloader_gen, validation_method, criterion)"
   ]
  },
  {
   "cell_type": "markdown",
   "metadata": {},
   "source": [
    "## Custom Training"
   ]
  },
  {
   "cell_type": "code",
   "execution_count": 156,
   "metadata": {},
   "outputs": [],
   "source": [
    "# trainer.set_optimizer(SGD, {'lr': 4e-4, 'momentum': 0.98, 'weight_decay': 1e-4})\n",
    "# trainer.set_optimizer(SGD, {'lr': 2e-3, 'momentum': 0.98, 'weight_decay': 1e-4})      # Current Best\n",
    "trainer.set_optimizer(SGD, {'lr': 1e-3, 'momentum': 0.95, 'weight_decay': 1e-4})      # Current Best\n",
    "# trainer.set_batch_size(2048)\n",
    "# trainer.set_batch_size(32)\n",
    "trainer.run(50) "
   ]
  },
  {
   "cell_type": "code",
   "execution_count": 157,
   "metadata": {},
   "outputs": [
    {
     "data": {
      "image/png": "[encoded data removed]",
      "text/plain": [
       "<Figure size 640x480 with 1 Axes>"
      ]
     },
     "metadata": {},
     "output_type": "display_data"
    }
   ],
   "source": [
    "plt.figure()\n",
    "criterion.loss_tracker.plot_losses()\n",
    "# plt.yscale('log')\n",
    "plt.legend()\n",
    "\n",
    "loss_curves = plt.gcf()"
   ]
  },
  {
   "cell_type": "code",
   "execution_count": 158,
   "metadata": {},
   "outputs": [
    {
     "name": "stdout",
     "output_type": "stream",
     "text": [
      "Loss Name                   MSE\n",
      "--------------------  ---------\n",
      "fetal_sat_train_loss  0.0798591\n",
      "fetal_sat_val_loss    2.42998\n"
     ]
    }
   ],
   "source": [
    "from tabulate import tabulate\n",
    "\n",
    "mse_table = []\n",
    "for loss in criterion.loss_tracker.epoch_losses.keys():\n",
    "    mse_table.append([loss, criterion.loss_tracker.epoch_losses[loss][-1]])\n",
    "\n",
    "print(tabulate(mse_table, headers=['Loss Name', 'MSE']))"
   ]
  },
  {
   "cell_type": "code",
   "execution_count": 159,
   "metadata": {},
   "outputs": [],
   "source": [
    "# Increase batch_size for faster visuals generation - (does not affect training!)\n",
    "prev_batch_size = dataloader_gen.batch_size\n",
    "trainer.set_batch_size(4096)\n",
    "train_error, train_pred = generate_model_error_and_prediction(trainer.model, trainer.train_loader, y_columns, y_scaler)\n",
    "val_error, val_pred = generate_model_error_and_prediction(trainer.model, trainer.validation_loader, y_columns, y_scaler)\n",
    "trainer.set_batch_size(prev_batch_size)"
   ]
  },
  {
   "cell_type": "code",
   "execution_count": 160,
   "metadata": {},
   "outputs": [
    {
     "data": {
      "image/png": "[encoded data removed]",
      "text/plain": [
       "<Figure size 1700x800 with 3 Axes>"
      ]
     },
     "metadata": {},
     "output_type": "display_data"
    }
   ],
   "source": [
    "from inverse_modelling_tfo.visualization.visualize import plot_error_pred_truth_dist\n",
    "\n",
    "plot_error_pred_truth_dist(trainer.train_loader.dataset, train_pred, val_pred, train_error, val_error, y_columns, y_scaler)\n",
    "plt.show()"
   ]
  },
  {
   "cell_type": "code",
   "execution_count": 161,
   "metadata": {},
   "outputs": [
    {
     "name": "stdout",
     "output_type": "stream",
     "text": [
      "Column                    Train Mean    Train Std    Validation Mean    Validation Std\n",
      "----------------------  ------------  -----------  -----------------  ----------------\n",
      "Fetal Saturation Error     0.0171545    0.0152717           0.156408          0.105723\n"
     ]
    }
   ],
   "source": [
    "from tabulate import tabulate\n",
    "# For each column, also print out the mean and std of the errors\n",
    "mae_table = []\n",
    "\n",
    "\n",
    "for i in range(len(y_columns)):\n",
    "    column_name = train_error.columns[i]\n",
    "    mae_table.append([column_name, train_error[column_name].mean(), train_error[column_name].std(), val_error[column_name].mean(), val_error[column_name].std()])\n",
    "\n",
    "print(tabulate(mae_table, headers=['Column', 'Train Mean', 'Train Std', 'Validation Mean', 'Validation Std']))"
   ]
  },
  {
   "cell_type": "code",
   "execution_count": 162,
   "metadata": {},
   "outputs": [
    {
     "data": {
      "text/plain": [
       "=================================================================\n",
       "Layer (type:depth-idx)                   Param #\n",
       "=================================================================\n",
       "SplitChannelCNN                          --\n",
       "├─CNN2FC: 1-1                            --\n",
       "│    └─CNN1d: 2-1                        --\n",
       "│    │    └─Sequential: 3-1              364\n",
       "│    └─PerceptronBD: 2-2                 --\n",
       "│    │    └─Sequential: 3-2              1,093\n",
       "=================================================================\n",
       "Total params: 1,457\n",
       "Trainable params: 1,457\n",
       "Non-trainable params: 0\n",
       "================================================================="
      ]
     },
     "execution_count": 162,
     "metadata": {},
     "output_type": "execute_result"
    }
   ],
   "source": [
    "# Model Info\n",
    "torchinfo.summary(trainer.model)"
   ]
  },
  {
   "cell_type": "code",
   "execution_count": 163,
   "metadata": {},
   "outputs": [],
   "source": [
    "# ## Save Model Code\n",
    "# model_name = 'multi_output_holdoneout_split'\n",
    "# import joblib\n",
    "# # Save Model\n",
    "# torch.save(model.state_dict(), rf'../../models/{model_name}')\n",
    "# # Save the Scalers for Later Use\n",
    "# joblib.dump(x_scaler, rf'../../models/{model_name}_xscaler')\n",
    "# joblib.dump(y_scaler, rf'../../models/{model_name}_yscaler')"
   ]
  },
  {
   "cell_type": "code",
   "execution_count": 164,
   "metadata": {},
   "outputs": [],
   "source": [
    "# # Load Model Code\n",
    "# model = PerceptronReLU([20, 10, 4, 2, 1])\n",
    "# model.load_state_dict(torch.load(r'../models/fsat_delta_5det_v1'))\n",
    "# model = model.cuda()\n",
    "# x_scaler = joblib.load(rf'../models/{model_name}_xscaler')\n",
    "# y_scaler = joblib.load(rf'../models/{model_name}_yscaler')"
   ]
  },
  {
   "cell_type": "code",
   "execution_count": 165,
   "metadata": {},
   "outputs": [],
   "source": [
    "# from inverse_modelling_tfo.misc import MarkdownReport\n",
    "# # Generate report\n",
    "\n",
    "# report = MarkdownReport(Path('results'), 'report7', 'Inverse Modelling Report')\n",
    "# report.add_text_report(\"Objective\", \"Predicting with 90% Random Split(As opposed to a hold One out style). Same as report6. Except, trying out a different normalization scheme. Where it scales all detector intensity logs using a single scale. More specifically, maps the values from -1 to -20 between -1 and +1. The intuition behind this was that this sort of normalization should preserve inter-detector scaling.\")\n",
    "# report.add_text_report(\"Comments\", \"Somehow performs slightly worse than per detector scaling. Which does not make sense to me\")\n",
    "# report.add_text_report(\"Data Length\", str(len(data)))\n",
    "# report.add_code_report(\"Model Used\", str(torchinfo.summary(trainer.model)))\n",
    "# report.add_code_report(\"Model Trainer Params\", str(trainer))\n",
    "# report.add_image_report(\"Loss Curves\", loss_curves)\n",
    "# report.add_image_report(\"Prediction & Error Distribution\", fig_dist)\n",
    "# report.save_report()"
   ]
  },
  {
   "cell_type": "code",
   "execution_count": null,
   "metadata": {},
   "outputs": [],
   "source": []
  }
 ],
 "metadata": {
  "kernelspec": {
   "display_name": "cybercat",
   "language": "python",
   "name": "python3"
  },
  "language_info": {
   "codemirror_mode": {
    "name": "ipython",
    "version": 3
   },
   "file_extension": ".py",
   "mimetype": "text/x-python",
   "name": "python",
   "nbconvert_exporter": "python",
   "pygments_lexer": "ipython3",
   "version": "3.8.10"
  },
  "orig_nbformat": 4
 },
 "nbformat": 4,
 "nbformat_minor": 2
}
