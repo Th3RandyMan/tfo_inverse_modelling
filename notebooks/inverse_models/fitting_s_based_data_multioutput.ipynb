{
 "cells": [
  {
   "attachments": {},
   "cell_type": "markdown",
   "metadata": {},
   "source": [
    "# Fitting Saturation-based Simulation Data With Multi-Output\n",
    "Can having multiple labels per data improve validation loss? \n"
   ]
  },
  {
   "cell_type": "code",
   "execution_count": 113,
   "metadata": {},
   "outputs": [],
   "source": [
    "from pathlib import Path\n",
    "import json\n",
    "from torch.optim import Adam, SGD\n",
    "import torch.nn as nn\n",
    "import torch\n",
    "import matplotlib.pyplot as plt\n",
    "import numpy as np\n",
    "import pandas as pd\n",
    "import os\n",
    "from sklearn import preprocessing\n",
    "from inverse_modelling_tfo.data import (\n",
    "    generate_data_loaders,\n",
    "    equidistance_detector_normalization,\n",
    "    constant_detector_count_normalization,\n",
    "    config_based_normalization\n",
    ")\n",
    "from inverse_modelling_tfo.data.intensity_interpolation import (\n",
    "    interpolate_exp,\n",
    "    get_interpolate_fit_params,\n",
    "    exp_piecewise_affine,\n",
    ")\n",
    "from inverse_modelling_tfo.data.interpolation_function_zoo import *\n",
    "from inverse_modelling_tfo.models import RandomSplit, ValidationMethod, HoldOneOut, CVSplit, CombineMethods\n",
    "from inverse_modelling_tfo.models.custom_models import (\n",
    "    PerceptronBD,\n",
    "    CNN2FC,\n",
    "    FeatureResidualNetwork,\n",
    "    CNN2FC2dInput,\n",
    "    SplitChannelCNN\n",
    ")\n",
    "from inverse_modelling_tfo.features.build_features import (\n",
    "    FetalACFeatureBuilder,\n",
    "    RowCombinationFeatureBuilder,\n",
    "    TwoColumnOperationFeatureBuilder,\n",
    "    FetalACbyDCFeatureBuilder,\n",
    "    LogTransformFeatureBuilder,\n",
    "    ConcatenateFeatureBuilder,\n",
    ")\n",
    "from inverse_modelling_tfo.features.data_transformations import (\n",
    "    LongToWideIntensityTransformation,\n",
    "    ToFittingParameterTransformation,\n",
    ")\n",
    "from inverse_modelling_tfo.visualization import generate_model_error_and_prediction\n",
    "from ray import tune\n",
    "from ray.tune import CLIReporter\n",
    "from ray.tune.schedulers import ASHAScheduler\n",
    "import torchinfo\n",
    "from inverse_modelling_tfo.misc.misc_training import set_seed\n",
    "\n",
    "# Set my GPU\n",
    "os.environ[\"CUDA_VISIBLE_DEVICES\"] = \"3\""
   ]
  },
  {
   "cell_type": "code",
   "execution_count": 114,
   "metadata": {},
   "outputs": [
    {
     "name": "stdout",
     "output_type": "stream",
     "text": [
      "The autoreload extension is already loaded. To reload it, use:\n",
      "  %reload_ext autoreload\n"
     ]
    }
   ],
   "source": [
    "%load_ext autoreload\n",
    "%autoreload 2"
   ]
  },
  {
   "cell_type": "markdown",
   "metadata": {},
   "source": [
    "# Load Pre-save data"
   ]
  },
  {
   "cell_type": "code",
   "execution_count": 115,
   "metadata": {},
   "outputs": [],
   "source": [
    "# file_name = 'logI2_by_I1'\n",
    "file_name = 'I1_and_I2_no_interp'\n",
    "# Load data\n",
    "DATA_PATH = Path().resolve().parent.parent / \"data\" / \"processed_data\" / f\"{file_name}.pkl\"\n",
    "data = pd.read_pickle(DATA_PATH)\n",
    "\n",
    "# Load Configs\n",
    "CONFIG_PATH = Path().resolve().parent.parent / \"data\" / \"processed_data\" / f\"{file_name}.json\"\n",
    "with open(CONFIG_PATH, \"r\") as f:\n",
    "    config = json.load(f)\n",
    "labels = config[\"labels\"]\n",
    "features = config[\"features\"]\n",
    "\n",
    "# Convert to log\n",
    "data[features] = np.log(data[features])\n",
    "\n",
    "\n",
    "# Cleanup\n",
    "data.dropna(inplace=True)"
   ]
  },
  {
   "cell_type": "code",
   "execution_count": 116,
   "metadata": {},
   "outputs": [
    {
     "name": "stdout",
     "output_type": "stream",
     "text": [
      "training with 90720 samples\n"
     ]
    }
   ],
   "source": [
    "# Filter data so I don't have to wait for too long during training\n",
    "data = data[\n",
    "    (data[\"Maternal Wall Thickness\"] >= 2.0)\n",
    "    & (data[\"Maternal Wall Thickness\"] <= 12.0)\n",
    "    # & (np.round(data[\"Fetal Hb Concentration\"], fconc_rounding).isin(groups_to_keep))\n",
    "    & (data[\"Fetal Saturation\"] > 0.3)\n",
    "    & (data[\"Maternal Saturation\"] > 0.95)\n",
    "]\n",
    "print(\"training with\", len(data), \"samples\")"
   ]
  },
  {
   "cell_type": "markdown",
   "metadata": {},
   "source": [
    "## Fetal AC by DC Feature"
   ]
  },
  {
   "cell_type": "code",
   "execution_count": 117,
   "metadata": {},
   "outputs": [],
   "source": [
    "# fb1 = FetalACbyDCFeatureBuilder('FconcCenters', pairing_type, intensity_columns, labels, \"max\")\n",
    "# # feature_builder2 = TwoColumnOperationFeatureBuilder(x_columns1[len(x_columns1)//2:], x_columns1[:len(x_columns1)//2], \"/\", False, x_columns1, feature_builder1.get_label_names())"
   ]
  },
  {
   "cell_type": "markdown",
   "metadata": {},
   "source": [
    "## Row Combination Spatial Intensity (or their Log)"
   ]
  },
  {
   "cell_type": "code",
   "execution_count": 118,
   "metadata": {},
   "outputs": [],
   "source": [
    "# fixed_columns = ['Maternal Wall Thickness', \"Maternal Hb Concentration\", \"Maternal Saturation\", \"Fetal Saturation\", \"FconcCenters\"]\n",
    "# fb3 = RowCombinationFeatureBuilder(intensity_columns, fixed_columns, [\"Fetal Hb Concentration\"], pairing_type, 2)\n",
    "# # feature_builder4 = LogTransformFeatureBuilder(feature_builder3.get_feature_names(), feature_builder3.get_feature_names(), feature_builder3.get_label_names())"
   ]
  },
  {
   "cell_type": "markdown",
   "metadata": {
    "tags": []
   },
   "source": [
    "## Fetal AC_wv1 by AC_wv2 Feature Builder"
   ]
  },
  {
   "cell_type": "code",
   "execution_count": 119,
   "metadata": {},
   "outputs": [],
   "source": [
    "# fb5 = FetalACFeatureBuilder('FconcCenters', pairing_type, '/', intensity_columns, labels)\n",
    "# x_columns5 = fb5.get_feature_names()\n",
    "# fb6 = TwoColumnOperationFeatureBuilder.from_chain(fb5, x_columns5[len(x_columns5)//2:], x_columns5[:len(x_columns5)//2], \"/\", False)"
   ]
  },
  {
   "cell_type": "markdown",
   "metadata": {},
   "source": [
    "## Fitting Parameters"
   ]
  },
  {
   "cell_type": "code",
   "execution_count": 120,
   "metadata": {},
   "outputs": [],
   "source": [
    "# fb0 = RowCombinationFeatureBuilder(fitting_param_transformer.get_feature_names(), fixed_columns, [\"Fetal Hb Concentration\"], pairing_type, 2)\n",
    "# x_columns0 = fb0.get_feature_names()   \n",
    "# fb7 = TwoColumnOperationFeatureBuilder.from_chain(fb0, x_columns0[:len(x_columns0)//2], x_columns0[len(x_columns0)//2:], '*', True)\n",
    "# data1 = fb7(fitting_params)"
   ]
  },
  {
   "cell_type": "markdown",
   "metadata": {},
   "source": [
    "## Combining Them Together"
   ]
  },
  {
   "cell_type": "code",
   "execution_count": 121,
   "metadata": {},
   "outputs": [],
   "source": [
    "# fb_concat = ConcatenateFeatureBuilder([fb1, fb3, fb6])\n",
    "# fb_concat = ConcatenateFeatureBuilder([fb3, fb6])\n",
    "# data = fb_concat(data)\n",
    "\n",
    "# data = fb1(data)\n",
    "# print(len(data))"
   ]
  },
  {
   "cell_type": "code",
   "execution_count": 122,
   "metadata": {},
   "outputs": [],
   "source": [
    "# data = pd.concat([data1[labels], data1[feature_builder2.get_fea`ture_names()], data2[feature_builder4.get_feature_names()]], axis=1)\n",
    "# data = pd.concat([data1[fb1.get_label_names()], data1[fb1.get_feature_names()], data2[fb3.get_feature_names()], data3[fb5.get_feature_names()], data4[fb7.get_feature_names()]], axis=1)\n",
    "# labels = fb_concat.get_label_names()\n",
    "# labels = fb1.get_label_names()\n",
    "# data = pd.merge(data1, data2, on=labels, how='inner')\n",
    "# labels = fb3.get_label_names()"
   ]
  },
  {
   "cell_type": "code",
   "execution_count": 123,
   "metadata": {},
   "outputs": [],
   "source": [
    "# Define the input & output parameters to the NN\n",
    "# x_columns = fb_concat.get_feature_names() + fb7.get_feature_names()\n",
    "# x_columns = fb_concat.get_feature_names()\n",
    "# x_columns = fb1.get_feature_names()\n",
    "# x_columns = fb7.get_feature_names()  + fb_concat.get_feature_names()[::2]\n",
    "# x_columns = fb3.get_feature_names()\n",
    "# y_columns = fb_concat.get_label_names()\n",
    "# y_columns = fb3.get_label_names()\n",
    "# y_columns = fb1.get_label_names()"
   ]
  },
  {
   "cell_type": "markdown",
   "metadata": {},
   "source": [
    "# Setup Training Objective"
   ]
  },
  {
   "cell_type": "code",
   "execution_count": 124,
   "metadata": {},
   "outputs": [
    {
     "name": "stdout",
     "output_type": "stream",
     "text": [
      "Y Columns ['Maternal Wall Thickness', 'Maternal Hb Concentration', 'Maternal Saturation', 'Fetal Saturation', 'Fetal Hb Concentration 0', 'Fetal Hb Concentration 1']\n",
      "X Columns ['10_2.0_1', '15_2.0_1', '19_2.0_1', '24_2.0_1', '28_2.0_1', '33_2.0_1', '37_2.0_1', '41_2.0_1', '46_2.0_1', '50_2.0_1', '55_2.0_1', '59_2.0_1', '64_2.0_1', '68_2.0_1', '72_2.0_1', '77_2.0_1', '81_2.0_1', '86_2.0_1', '90_2.0_1', '94_2.0_1', '10_1.0_1', '15_1.0_1', '19_1.0_1', '24_1.0_1', '28_1.0_1', '33_1.0_1', '37_1.0_1', '41_1.0_1', '46_1.0_1', '50_1.0_1', '55_1.0_1', '59_1.0_1', '64_1.0_1', '68_1.0_1', '72_1.0_1', '77_1.0_1', '81_1.0_1', '86_1.0_1', '90_1.0_1', '94_1.0_1', '10_2.0_2', '15_2.0_2', '19_2.0_2', '24_2.0_2', '28_2.0_2', '33_2.0_2', '37_2.0_2', '41_2.0_2', '46_2.0_2', '50_2.0_2', '55_2.0_2', '59_2.0_2', '64_2.0_2', '68_2.0_2', '72_2.0_2', '77_2.0_2', '81_2.0_2', '86_2.0_2', '90_2.0_2', '94_2.0_2', '10_1.0_2', '15_1.0_2', '19_1.0_2', '24_1.0_2', '28_1.0_2', '33_1.0_2', '37_1.0_2', '41_1.0_2', '46_1.0_2', '50_1.0_2', '55_1.0_2', '59_1.0_2', '64_1.0_2', '68_1.0_2', '72_1.0_2', '77_1.0_2', '81_1.0_2', '86_1.0_2', '90_1.0_2', '94_1.0_2']\n"
     ]
    }
   ],
   "source": [
    "y_columns = labels  # What to Predict\n",
    "# Add New ConcDiff Column as a new label\n",
    "# data[\"ConcDiff\"] = data[\"Fetal Hb Concentration 1\"] - data[\"Fetal Hb Concentration 0\"]\n",
    "# if \"ConcDiff\" not in y_columns:\n",
    "#     y_columns.append(\"ConcDiff\")\n",
    "\n",
    "# if \"Fetal Hb Concentration 1\" in y_columns:\n",
    "#     y_columns.remove(\"Fetal Hb Concentration 1\")\n",
    "\n",
    "# if \"Fetal Hb Concentration 0\" in y_columns:\n",
    "#     y_columns.remove(\"Fetal Hb Concentration 0\")\n",
    "\n",
    "if \"FconcCenters\" in y_columns:\n",
    "    y_columns.remove(\"FconcCenters\")\n",
    "print(\"Y Columns\", y_columns)\n",
    "\n",
    "x_columns = features  # What to use as input\n",
    "print(\"X Columns\", x_columns)"
   ]
  },
  {
   "attachments": {},
   "cell_type": "markdown",
   "metadata": {},
   "source": [
    "## Normalizing Features\n",
    "x_columns will be the input features and y_columns are the target"
   ]
  },
  {
   "cell_type": "code",
   "execution_count": 125,
   "metadata": {},
   "outputs": [],
   "source": [
    "## Pass in maternal info\n",
    "# x_columns += [\"Maternal Hb Concentration\", \"Maternal Saturation\"]\n",
    "# x_columns = list(filter(lambda X: 'alpha' in X, data.columns))\n",
    "\n",
    "## Scale y\n",
    "y_scaler = preprocessing.StandardScaler()\n",
    "data[y_columns] = y_scaler.fit_transform(data[y_columns])\n",
    "\n",
    "## Scale x\n",
    "x_scaler = preprocessing.StandardScaler()\n",
    "data[x_columns] = x_scaler.fit_transform(data[x_columns])"
   ]
  },
  {
   "cell_type": "markdown",
   "metadata": {},
   "source": [
    "# Custom Loss Definition"
   ]
  },
  {
   "cell_type": "code",
   "execution_count": 126,
   "metadata": {},
   "outputs": [],
   "source": [
    "class WeightedMSE(nn.Module):\n",
    "    \"\"\"\n",
    "    MSE Loss for vector output labels with custom weighting\n",
    "    \"\"\"\n",
    "    def __init__(self, loss_weights: torch.Tensor) -> None:\n",
    "        super().__init__()\n",
    "        # Reshape to row vector for broadcasting during loss calculation\n",
    "        self.loss_weights = loss_weights.reshape(1, -1)\n",
    "        self.mse_loss = nn.MSELoss(reduction='none')\n",
    "\n",
    "    \n",
    "    def forward(self, predicted_tmps, targets):\n",
    "        loss = self.mse_loss(predicted_tmps, targets)\n",
    "        loss = loss * self.loss_weights\n",
    "        return loss.sum() / self.loss_weights.sum()"
   ]
  },
  {
   "attachments": {},
   "cell_type": "markdown",
   "metadata": {},
   "source": [
    "## Model Configuration"
   ]
  },
  {
   "cell_type": "code",
   "execution_count": 127,
   "metadata": {},
   "outputs": [
    {
     "name": "stdout",
     "output_type": "stream",
     "text": [
      "In Features : 80\n",
      "Out Features: 6\n"
     ]
    }
   ],
   "source": [
    "print(\"In Features :\", len(x_columns))  \n",
    "print(\"Out Features:\", len(y_columns))"
   ]
  },
  {
   "cell_type": "markdown",
   "metadata": {},
   "source": [
    "# Setting up Special Residual Network "
   ]
  },
  {
   "cell_type": "code",
   "execution_count": 128,
   "metadata": {},
   "outputs": [],
   "source": [
    "# saturation_unique_values = data[\"Fetal Saturation\"].unique()\n",
    "# mean_saturation_level = saturation_unique_values[len(saturation_unique_values)//2]\n",
    "# # Convert to float tensor, by default it is double\n",
    "# lookup_table = torch.from_numpy(data[data[\"Fetal Saturation\"] == mean_saturation_level].values).cuda().float()\n",
    "# feature_indices = [data.columns.get_loc(feature) for feature in x_columns]\n",
    "# feature_indices = torch.tensor(feature_indices).cuda()\n",
    "# intermediate_labels = y_columns.copy()\n",
    "# intermediate_labels.remove(\"Fetal Saturation\")\n",
    "# intermediate_label_indices = [data.columns.get_loc(label) for label in intermediate_labels]\n",
    "# intermediate_labels = torch.tensor(intermediate_label_indices).cuda()\n",
    "\n",
    "# # y_columns = [\"Fetal Saturation\"]\n",
    "\n",
    "# feature_res_net_params = {\n",
    "#         'node_count_left': [len(x_columns), 5, len(intermediate_labels)],\n",
    "#         'dropout_rates_left': [0.5, 0.5],\n",
    "#         'node_count_right': [len(x_columns), 5, len(y_columns)],\n",
    "#         'dropout_rates_right': [0.5, 0.5],\n",
    "#         'lookup_table': lookup_table,\n",
    "#         'lookup_key_indices': intermediate_labels,\n",
    "#         'feature_indices': feature_indices,\n",
    "# }\n"
   ]
  },
  {
   "cell_type": "markdown",
   "metadata": {},
   "source": [
    "# Training Configs"
   ]
  },
  {
   "cell_type": "code",
   "execution_count": 129,
   "metadata": {},
   "outputs": [],
   "source": [
    "IN_FEATURES = len(x_columns)\n",
    "OUT_FEATURES = len(y_columns)\n",
    "\n",
    "from inverse_modelling_tfo.models.train_model import ModelTrainerFactory\n",
    "datagen_kw = {\n",
    "    'table' : data,\n",
    "    'data_loader_params' : \n",
    "        {\n",
    "            'batch_size': 32, 'shuffle': True\n",
    "        }, \n",
    "    'x_columns': x_columns,\n",
    "    'y_columns': y_columns,\n",
    "    'validation_method' : RandomSplit(0.9)\n",
    "    # 'validation_method' : HoldOneOut('Maternal Wall Thickness', data['Maternal Wall Thickness'].unique()[3])\n",
    "    # 'validation_method' : CombineMethods([HoldOneOut('Maternal Wall Thickness', data['Maternal Wall Thickness'].unique()[3]), RandomSplit(0.9)])\n",
    "    # 'validation_method' : HoldOneOut('Maternal Hb Concentration', 13.0)\n",
    "    # 'validation_method' : HoldOneOut('Maternal Saturation', 1.0)\n",
    "}\n",
    "\n",
    "# criterion = WeightedMSE(torch.Tensor([1.0, 1.0, 1.0,  1.2, 1.0, 1.0]).cuda())\n",
    "# criterion = WeightedMSE(torch.Tensor([4.0, 1.0, 1.0, 1.0, 1.0, 1.0]).cuda())\n",
    "criterion = nn.MSELoss()\n",
    "# criterion = nn.HuberLoss()\n",
    "\n",
    "## Trainer Factory - Perceptrons\n",
    "# trainer_factory = ModelTrainerFactory(PerceptronBD, {'node_counts' : [IN_FEATURES, 40, 20, 10, OUT_FEATURES], 'dropout_rates': [0.5, 0.5, 0.5]}, generate_data_loaders, datagen_kw, 100, criterion)\n",
    "# trainer_factory = ModelTrainerFactory(PerceptronBD, {'node_counts' : [IN_FEATURES, 25, 12, 8, OUT_FEATURES], 'dropout_rates': [0.5, 0.5, 0.5]}, generate_data_loaders, datagen_kw, 100, criterion)\n",
    "# trainer_factory = ModelTrainerFactory(PerceptronBD, {'node_counts' : [IN_FEATURES, 10, 10, 5, 5, OUT_FEATURES], 'dropout_rates': [0.5, 0.5, 0.5, 0.5, 0.5, 0.5]}, generate_data_loaders, datagen_kw, 100, criterion)\n",
    "# trainer_factory = ModelTrainerFactory(PerceptronBD, {'node_counts' : [IN_FEATURES, 40, 20, 10, 5, OUT_FEATURES], 'dropout_rates': [0.5] * 5}, generate_data_loaders, datagen_kw, 100, criterion)\n",
    "# trainer_factory = ModelTrainerFactory(FeatureResidualNetwork, feature_res_net_params, generate_data_loaders, datagen_kw, 100, criterion)\n",
    "\n",
    "## Trainer Factory - CNNs\n",
    "# cnn_config = {\n",
    "#     'input_length': IN_FEATURES,\n",
    "#     'cnn_out_channels': [4, 8, 16],\n",
    "#     'cnn_kernel_sizes' : [10, 10, 10],\n",
    "#     'fc_output_node_counts': [20, 10, OUT_FEATURES],\n",
    "# }\n",
    "# trainer_factory = ModelTrainerFactory(CNN2FC2dInput, cnn_config, generate_data_loaders, datagen_kw, 100, criterion)\n",
    "\n",
    "## Trainer Factory - SplitChannel CNNs\n",
    "cnn_config = {\n",
    "    'complete_input_length': IN_FEATURES,\n",
    "    'split_count': 4,\n",
    "    'cnn_out_channels': [4, 8, 16],\n",
    "    # 'cnn_kernel_sizes' : [10, 5, 5],\n",
    "    'cnn_kernel_sizes' : [10, 5, 3],\n",
    "    'cnn_dropouts' : [0.5] * 2,\n",
    "    # 'fc_output_node_counts': [30, 10, OUT_FEATURES],    # Best\n",
    "    # 'fc_output_node_counts': [24, 12, OUT_FEATURES],    # Best\n",
    "    'fc_output_node_counts': [12, 6, OUT_FEATURES],    # Best\n",
    "    'fc_dropouts': [0.5] * 3,\n",
    "}\n",
    "trainer_factory = ModelTrainerFactory(SplitChannelCNN, cnn_config, generate_data_loaders, datagen_kw, 100, criterion)"
   ]
  },
  {
   "cell_type": "markdown",
   "metadata": {},
   "source": [
    "## Hyper Parameter Tuning"
   ]
  },
  {
   "cell_type": "code",
   "execution_count": 130,
   "metadata": {},
   "outputs": [],
   "source": [
    "# # Custom Train Function\n",
    "# def train_with_tuning(iteration_config):\n",
    "#     set_seed(42)\n",
    "#     trainer_tuning = trainer_factory.create()\n",
    "#     trainer_tuning.reporting = True  # Report at each epoch to Ray Tune\n",
    "#     if \"batch_size\" in iteration_config:\n",
    "#         trainer_tuning.change_batch_size(iteration_config[\"batch_size\"])  # If batch_size needs tuning\n",
    "#     trainer_tuning.set_optimizer(SGD, {\"lr\": iteration_config[\"lr\"], \"momentum\": iteration_config[\"momentum\"]})\n",
    "#     trainer_tuning.run()"
   ]
  },
  {
   "cell_type": "code",
   "execution_count": 131,
   "metadata": {},
   "outputs": [],
   "source": [
    "# from ray import tune\n",
    "# from ray.tune import CLIReporter\n",
    "# from ray.tune.schedulers import ASHAScheduler\n",
    "\n",
    "# # Hyper Parameter Search\n",
    "# iteration_config = {\n",
    "#     \"lr\" : tune.loguniform(1e-4, 1e-3),\n",
    "#     \"batch_size\": tune.choice([32, 64, 128, 256]),\n",
    "#     \"momentum\": tune.uniform(0.9, 0.95),\n",
    "# }\n",
    "# scheduler = ASHAScheduler(metric=\"combined_loss\", mode=\"min\", max_t=60, grace_period=5, reduction_factor=2)\n",
    "# reporter = CLIReporter(metric_columns=[\"train_loss\", \"val_loss\", \"combined_loss\", \"training_iteration\"])\n",
    "# result = tune.run(train_with_tuning, config=iteration_config, scheduler=scheduler, progress_reporter=reporter,\n",
    "#                   num_samples=80, resources_per_trial={\"cpu\": 0, \"gpu\": 0.5},)\n",
    "\n",
    "# best_trial = result.get_best_trial(\"val_loss\", \"min\", \"last\")\n",
    "# # best_trial = result.get_best_trial(\"combined_loss\", \"min\", \"last\")\n",
    "# print(\"Best trial config: {}\".format(best_trial.config))\n",
    "# print(\"Best trial final validation loss: {}\".format(best_trial.last_result[\"val_loss\"]))\n",
    "# print(\"Best trial final train loss: {}\".format(best_trial.last_result[\"train_loss\"]))"
   ]
  },
  {
   "attachments": {},
   "cell_type": "markdown",
   "metadata": {},
   "source": [
    "<!-- Best trial config: {'lr': 0.0010630834634709364, 'b1': 0.4282116859842134, 'b2': 0.3089991262211405, 'batch_size': 8, 'model': [20, 16, 8, 4, 2, 1]}\n",
    "Best trial final validation loss: 0.09234625198878348\n",
    "Best trial final train loss: 0.22368373312056064 -->"
   ]
  },
  {
   "cell_type": "code",
   "execution_count": 132,
   "metadata": {},
   "outputs": [],
   "source": [
    "# best_trial.config"
   ]
  },
  {
   "cell_type": "markdown",
   "metadata": {},
   "source": [
    "## Custom Training"
   ]
  },
  {
   "cell_type": "code",
   "execution_count": 144,
   "metadata": {},
   "outputs": [],
   "source": [
    "set_seed(42)\n",
    "trainer = trainer_factory.create()\n",
    "trainer.set_optimizer(SGD, {'lr': 1e-3, 'momentum': 0.91, 'weight_decay': 1e-4})\n",
    "# trainer.change_batch_size(2048)\n",
    "trainer.change_batch_size(32)\n",
    "trainer.epochs = 100\n",
    "trainer.run()\n",
    "\n",
    "# trainer.epochs = 30\n",
    "# trainer.run() "
   ]
  },
  {
   "cell_type": "code",
   "execution_count": 145,
   "metadata": {},
   "outputs": [
    {
     "data": {
      "text/plain": [
       "[Conv1d(4, 4, kernel_size=(10,), stride=(1,), groups=4),\n",
       " BatchNorm1d(4, eps=1e-05, momentum=0.1, affine=True, track_running_stats=True),\n",
       " Dropout1d(p=0.5, inplace=False),\n",
       " ReLU(),\n",
       " Conv1d(4, 8, kernel_size=(5,), stride=(1,), groups=4),\n",
       " BatchNorm1d(8, eps=1e-05, momentum=0.1, affine=True, track_running_stats=True),\n",
       " Dropout1d(p=0.5, inplace=False),\n",
       " ReLU(),\n",
       " Conv1d(8, 16, kernel_size=(3,), stride=(1,), groups=4),\n",
       " Flatten(start_dim=1, end_dim=-1),\n",
       " Linear(in_features=80, out_features=12, bias=True),\n",
       " BatchNorm1d(12, eps=1e-05, momentum=0.1, affine=True, track_running_stats=True),\n",
       " Dropout1d(p=0.5, inplace=False),\n",
       " ReLU(),\n",
       " Linear(in_features=12, out_features=6, bias=True),\n",
       " BatchNorm1d(6, eps=1e-05, momentum=0.1, affine=True, track_running_stats=True),\n",
       " Dropout1d(p=0.5, inplace=False),\n",
       " ReLU(),\n",
       " Linear(in_features=6, out_features=6, bias=True),\n",
       " Flatten(start_dim=1, end_dim=-1)]"
      ]
     },
     "execution_count": 145,
     "metadata": {},
     "output_type": "execute_result"
    }
   ],
   "source": [
    "trainer.model.layers"
   ]
  },
  {
   "cell_type": "code",
   "execution_count": 146,
   "metadata": {},
   "outputs": [],
   "source": [
    "# trainer.change_batch_size(64)\n",
    "# trainer.epochs = 20\n",
    "# trainer.change_batch_size(2048)\n",
    "# trainer.epochs = 50\n",
    "# trainer.run()"
   ]
  },
  {
   "cell_type": "code",
   "execution_count": 147,
   "metadata": {},
   "outputs": [
    {
     "data": {
      "image/png": "[encoded data removed]",
      "text/plain": [
       "<Figure size 640x480 with 1 Axes>"
      ]
     },
     "metadata": {},
     "output_type": "display_data"
    }
   ],
   "source": [
    "plt.figure()\n",
    "plt.plot(trainer.train_loss, label='Training Loss', marker='x')\n",
    "plt.plot(trainer.validation_loss, label='Validation Loss', marker='x')\n",
    "# plt.yscale('log')\n",
    "plt.legend()\n",
    "\n",
    "loss_curves = plt.gcf()"
   ]
  },
  {
   "cell_type": "code",
   "execution_count": 148,
   "metadata": {},
   "outputs": [
    {
     "name": "stdout",
     "output_type": "stream",
     "text": [
      "\n",
      "        Model Properties:\n",
      "        SplitChannelCNN(\n",
      "  (network): CNN2FC(\n",
      "    (cnn): CNN1d(\n",
      "      (model): Sequential(\n",
      "        (0): Conv1d(4, 4, kernel_size=(10,), stride=(1,), groups=4)\n",
      "        (1): BatchNorm1d(4, eps=1e-05, momentum=0.1, affine=True, track_running_stats=True)\n",
      "        (2): Dropout1d(p=0.5, inplace=False)\n",
      "        (3): ReLU()\n",
      "        (4): Conv1d(4, 8, kernel_size=(5,), stride=(1,), groups=4)\n",
      "        (5): BatchNorm1d(8, eps=1e-05, momentum=0.1, affine=True, track_running_stats=True)\n",
      "        (6): Dropout1d(p=0.5, inplace=False)\n",
      "        (7): ReLU()\n",
      "        (8): Conv1d(8, 16, kernel_size=(3,), stride=(1,), groups=4)\n",
      "        (9): Flatten(start_dim=1, end_dim=-1)\n",
      "      )\n",
      "    )\n",
      "    (fc): PerceptronBD(\n",
      "      (model): Sequential(\n",
      "        (0): Linear(in_features=80, out_features=12, bias=True)\n",
      "        (1): BatchNorm1d(12, eps=1e-05, momentum=0.1, affine=True, track_running_stats=True)\n",
      "        (2): Dropout1d(p=0.5, inplace=False)\n",
      "        (3): ReLU()\n",
      "        (4): Linear(in_features=12, out_features=6, bias=True)\n",
      "        (5): BatchNorm1d(6, eps=1e-05, momentum=0.1, affine=True, track_running_stats=True)\n",
      "        (6): Dropout1d(p=0.5, inplace=False)\n",
      "        (7): ReLU()\n",
      "        (8): Linear(in_features=6, out_features=6, bias=True)\n",
      "        (9): Flatten(start_dim=1, end_dim=-1)\n",
      "      )\n",
      "    )\n",
      "  )\n",
      ")\n",
      "        Optimizer Properties\"\n",
      "        SGD (\n",
      "Parameter Group 0\n",
      "    dampening: 0\n",
      "    differentiable: False\n",
      "    foreach: None\n",
      "    lr: 0.001\n",
      "    maximize: False\n",
      "    momentum: 0.91\n",
      "    nesterov: False\n",
      "    weight_decay: 0.0001\n",
      ")\n",
      "        DataLoader Params: \n",
      "            Batch Size: 32\n",
      "            Validation Method: Split the data randomly using np.random.shuffle with a split of 0.9\n",
      "        Loss:\n",
      "            Train Loss: 0.011003464688094431\n",
      "            Val. Loss: 0.01375437133722532\n"
     ]
    }
   ],
   "source": [
    "print(trainer)"
   ]
  },
  {
   "cell_type": "code",
   "execution_count": 149,
   "metadata": {},
   "outputs": [],
   "source": [
    "# Increase batch_size for faster visuals generation - (does not affect training!)\n",
    "trainer.change_batch_size(4096)\n",
    "train_error, train_pred = generate_model_error_and_prediction(trainer.model, trainer.train_loader, y_columns, y_scaler)\n",
    "val_error, val_pred = generate_model_error_and_prediction(trainer.model, trainer.validation_loader, y_columns, y_scaler)"
   ]
  },
  {
   "cell_type": "code",
   "execution_count": 150,
   "metadata": {},
   "outputs": [
    {
     "data": {
      "image/png": "[encoded data removed]",
      "text/plain": [
       "<Figure size 1700x800 with 18 Axes>"
      ]
     },
     "metadata": {},
     "output_type": "display_data"
    }
   ],
   "source": [
    "fig_dist, axes = plt.subplots(3, len(y_columns), squeeze=True, figsize=(17, 8), sharey=True)\n",
    "BIN_COUNT = 50\n",
    "\n",
    "train_data = y_scaler.inverse_transform(trainer.train_loader.dataset[:][1])\n",
    "val_data = y_scaler.inverse_transform(trainer.validation_loader.dataset[:][1])\n",
    "\n",
    "for i in range(len(y_columns)):\n",
    "    # Plot Errors\n",
    "    ax = axes[0, i]\n",
    "    plt.sca(ax)\n",
    "    column_name = train_error.columns[i]\n",
    "    plt.hist(train_error[column_name], bins=BIN_COUNT, color='blue', alpha=0.5, label='Train')\n",
    "    plt.hist(val_error[column_name], bins=BIN_COUNT, color='orange', alpha=0.5, label='Validation')\n",
    "\n",
    "    \n",
    "    # Plot Predictions\n",
    "    ax = axes[1, i]\n",
    "    plt.sca(ax)\n",
    "    column_name = train_pred.columns[i]\n",
    "    plt.hist(train_pred[column_name], bins=BIN_COUNT, color='blue', alpha=0.5, label='Train')\n",
    "    plt.hist(val_pred[column_name], bins=BIN_COUNT, color='orange', alpha=0.5, label='Validation')\n",
    "\n",
    "    \n",
    "    # Plot Ground Truth\n",
    "    ax = axes[2, i]\n",
    "    plt.sca(ax)\n",
    "    plt.hist(train_data[:, i], bins=BIN_COUNT, color='blue', alpha=0.5, label='Train')\n",
    "    plt.hist(val_data[:, i], bins=BIN_COUNT, color='orange', alpha=0.5, label='Validation')\n",
    "\n",
    "    # X Label for the bottommost row\n",
    "    plt.xlabel(y_columns[i])\n",
    "    \n",
    "# Add text to the left of each row of plots\n",
    "for i, label in enumerate(['MAE Error', 'Prediction', 'Ground Truth']):\n",
    "    fig_dist.text(0, (2.5-i)/3, label, ha='center', va='center', rotation='vertical')\n",
    "\n",
    "# Y Labels\n",
    "for i in range(axes.shape[0]):\n",
    "    axes[i, 0].set_ylabel('Count')\n",
    "\n",
    "# Add labels to top-left subplot\n",
    "axes[0, 0].legend()\n",
    "\n",
    "\n",
    "plt.tight_layout()\n",
    "plt.show()"
   ]
  },
  {
   "cell_type": "code",
   "execution_count": 151,
   "metadata": {},
   "outputs": [],
   "source": [
    "# # Top Bad Samples\n",
    "# VIEW_TOP_N = 50\n",
    "# worst_errors = error_df['Absolute Error'].argsort()[::-1][:VIEW_TOP_N]  # Worst Results\n",
    "# # worst_errors = error_df['Absolute Error'].argsort()[:VIEW_TOP_N]  # Best Results\n",
    "# combined_table = data.join(error_df)\n",
    "# with pd.option_context(\"display.max_rows\", None):\n",
    "#     display(combined_table[['Maternal Wall Thickness', \"Maternal Hb Concentration\", \"Maternal Saturation\", \"Fetal Hb Concentration\", \"Fetal Saturation\", 'Truth', 'Predicted', 'Absolute Error', '%tage']].iloc[worst_errors, :])"
   ]
  },
  {
   "cell_type": "code",
   "execution_count": 152,
   "metadata": {},
   "outputs": [],
   "source": [
    "# # Rough MSE's in percentage\n",
    "# print(f'Train Error(non-normalized): {trainer.train_loss[-1] * y_scaler.var_ }')\n",
    "# print(f'Validation Error(non-normalized): {trainer.validation_loss[-1] * y_scaler.var_ }')"
   ]
  },
  {
   "cell_type": "code",
   "execution_count": 153,
   "metadata": {},
   "outputs": [
    {
     "data": {
      "text/plain": [
       "=================================================================\n",
       "Layer (type:depth-idx)                   Param #\n",
       "=================================================================\n",
       "SplitChannelCNN                          --\n",
       "├─CNN2FC: 1-1                            --\n",
       "│    └─CNN1d: 2-1                        --\n",
       "│    │    └─Sequential: 3-1              228\n",
       "│    └─PerceptronBD: 2-2                 --\n",
       "│    │    └─Sequential: 3-2              1,128\n",
       "=================================================================\n",
       "Total params: 1,356\n",
       "Trainable params: 1,356\n",
       "Non-trainable params: 0\n",
       "================================================================="
      ]
     },
     "execution_count": 153,
     "metadata": {},
     "output_type": "execute_result"
    }
   ],
   "source": [
    "# Model Info\n",
    "torchinfo.summary(trainer.model)"
   ]
  },
  {
   "cell_type": "code",
   "execution_count": 154,
   "metadata": {},
   "outputs": [],
   "source": [
    "# model_name = 'msat_percep_irsi'\n",
    "# import joblib\n",
    "# # Save Model\n",
    "# torch.save(model.state_dict(), rf'../models/{model_name}')\n",
    "# # Save the Scalers for Later Use\n",
    "# joblib.dump(x_scaler, rf'../models/{model_name}_xscaler')\n",
    "# joblib.dump(y_scaler, rf'../models/{model_name}_yscaler')"
   ]
  },
  {
   "cell_type": "code",
   "execution_count": 155,
   "metadata": {},
   "outputs": [],
   "source": [
    "# # Load Model Code\n",
    "# model = PerceptronReLU([20, 10, 4, 2, 1])\n",
    "# model.load_state_dict(torch.load(r'../models/fsat_delta_5det_v1'))\n",
    "# model = model.cuda()\n",
    "# x_scaler = joblib.load(rf'../models/{model_name}_xscaler')\n",
    "# y_scaler = joblib.load(rf'../models/{model_name}_yscaler')"
   ]
  },
  {
   "cell_type": "code",
   "execution_count": 157,
   "metadata": {},
   "outputs": [],
   "source": [
    "# from inverse_modelling_tfo.misc import MarkdownReport\n",
    "# # Generate report\n",
    "\n",
    "# report = MarkdownReport(Path('results'), 'report6', 'Inverse Modelling Report')\n",
    "# report.add_text_report(\"Objective\", \"Predicting with 90% Random Split(As opposed to a hold One out style). The purpose of this is to set a baseline for how well these models would perform when predicting a single value at a time.\")\n",
    "# report.add_text_report(\"Comments\", \"The largest saturation error is 4% in MAE\")\n",
    "# report.add_text_report(\"Data Length\", str(len(data)))\n",
    "# report.add_code_report(\"Model Used\", str(torchinfo.summary(trainer.model)))\n",
    "# report.add_code_report(\"Model Trainer Params\", str(trainer))\n",
    "# report.add_image_report(\"Loss Curves\", loss_curves)\n",
    "# report.add_image_report(\"Prediction & Error Distribution\", fig_dist)\n",
    "# report.save_report()"
   ]
  },
  {
   "cell_type": "code",
   "execution_count": null,
   "metadata": {},
   "outputs": [],
   "source": []
  }
 ],
 "metadata": {
  "kernelspec": {
   "display_name": "cybercat",
   "language": "python",
   "name": "python3"
  },
  "language_info": {
   "codemirror_mode": {
    "name": "ipython",
    "version": 3
   },
   "file_extension": ".py",
   "mimetype": "text/x-python",
   "name": "python",
   "nbconvert_exporter": "python",
   "pygments_lexer": "ipython3",
   "version": "3.8.10"
  },
  "orig_nbformat": 4
 },
 "nbformat": 4,
 "nbformat_minor": 2
}
