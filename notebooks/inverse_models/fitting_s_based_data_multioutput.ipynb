{
 "cells": [
  {
   "attachments": {},
   "cell_type": "markdown",
   "metadata": {},
   "source": [
    "# Fitting Saturation-based Simulation Data With Multi-Output\n",
    "Can having multiple labels per data improve validation loss? \n"
   ]
  },
  {
   "cell_type": "code",
   "execution_count": 86,
   "metadata": {},
   "outputs": [],
   "source": [
    "from pathlib import Path\n",
    "import json\n",
    "from torch.optim import Adam, SGD\n",
    "import torch.nn as nn\n",
    "import torch\n",
    "import matplotlib.pyplot as plt\n",
    "import numpy as np\n",
    "import pandas as pd\n",
    "import os\n",
    "from sklearn import preprocessing\n",
    "from model_trainer import RandomSplit, ValidationMethod, HoldOneOut, CVSplit, CombineMethods\n",
    "from inverse_modelling_tfo.model_training.custom_models import (\n",
    "    PerceptronBD,\n",
    "    CNN2FC,\n",
    "    FeatureResidualNetwork,\n",
    "    CNN2FC2dInput,\n",
    "    SplitChannelCNN\n",
    ")\n",
    "\n",
    "from inverse_modelling_tfo.visualization import generate_model_error_and_prediction\n",
    "import torchinfo\n",
    "from inverse_modelling_tfo.misc.misc_training import set_seed\n",
    "\n",
    "# Set my GPU\n",
    "os.environ[\"CUDA_VISIBLE_DEVICES\"] = \"3\""
   ]
  },
  {
   "cell_type": "code",
   "execution_count": 87,
   "metadata": {},
   "outputs": [
    {
     "name": "stdout",
     "output_type": "stream",
     "text": [
      "The autoreload extension is already loaded. To reload it, use:\n",
      "  %reload_ext autoreload\n"
     ]
    }
   ],
   "source": [
    "%load_ext autoreload\n",
    "%autoreload 2"
   ]
  },
  {
   "cell_type": "markdown",
   "metadata": {},
   "source": [
    "# Load Pre-save data"
   ]
  },
  {
   "cell_type": "code",
   "execution_count": 88,
   "metadata": {},
   "outputs": [],
   "source": [
    "# file_name = 'logI2_by_I1'\n",
    "# file_name = 'I1_and_I2'\n",
    "file_name = 'pulsation_ratio'\n",
    "# Load data\n",
    "DATA_PATH = Path().resolve().parent.parent / \"data\" / \"processed_data\" / f\"{file_name}.pkl\"\n",
    "data = pd.read_pickle(DATA_PATH)\n",
    "\n",
    "# Load Configs\n",
    "CONFIG_PATH = Path().resolve().parent.parent / \"data\" / \"processed_data\" / f\"{file_name}.json\"\n",
    "with open(CONFIG_PATH, \"r\") as f:\n",
    "    config = json.load(f)\n",
    "labels = config[\"labels\"]\n",
    "features = config[\"features\"]\n",
    "\n",
    "# Convert to log\n",
    "# data[features] = np.log(data[features])\n",
    "\n",
    "\n",
    "# Cleanup\n",
    "data.dropna(inplace=True)"
   ]
  },
  {
   "cell_type": "code",
   "execution_count": 90,
   "metadata": {},
   "outputs": [
    {
     "data": {
      "text/html": [
       "<div>\n",
       "<style scoped>\n",
       "    .dataframe tbody tr th:only-of-type {\n",
       "        vertical-align: middle;\n",
       "    }\n",
       "\n",
       "    .dataframe tbody tr th {\n",
       "        vertical-align: top;\n",
       "    }\n",
       "\n",
       "    .dataframe thead th {\n",
       "        text-align: right;\n",
       "    }\n",
       "</style>\n",
       "<table border=\"1\" class=\"dataframe\">\n",
       "  <thead>\n",
       "    <tr style=\"text-align: right;\">\n",
       "      <th></th>\n",
       "      <th>Maternal Wall Thickness</th>\n",
       "      <th>Maternal Hb Concentration</th>\n",
       "      <th>Maternal Saturation</th>\n",
       "      <th>Fetal Saturation</th>\n",
       "      <th>FconcCenters</th>\n",
       "      <th>Fetal Hb Concentration 1</th>\n",
       "      <th>Fetal Hb Concentration 2</th>\n",
       "      <th>MAX_ACbyDC_WV1_10</th>\n",
       "      <th>MAX_ACbyDC_WV2_10</th>\n",
       "      <th>MAX_ACbyDC_WV1_15</th>\n",
       "      <th>...</th>\n",
       "      <th>MAX_ACbyDC_WV1_77</th>\n",
       "      <th>MAX_ACbyDC_WV2_77</th>\n",
       "      <th>MAX_ACbyDC_WV1_81</th>\n",
       "      <th>MAX_ACbyDC_WV2_81</th>\n",
       "      <th>MAX_ACbyDC_WV1_86</th>\n",
       "      <th>MAX_ACbyDC_WV2_86</th>\n",
       "      <th>MAX_ACbyDC_WV1_90</th>\n",
       "      <th>MAX_ACbyDC_WV2_90</th>\n",
       "      <th>MAX_ACbyDC_WV1_94</th>\n",
       "      <th>MAX_ACbyDC_WV2_94</th>\n",
       "    </tr>\n",
       "  </thead>\n",
       "  <tbody>\n",
       "    <tr>\n",
       "      <th>count</th>\n",
       "      <td>515592.000000</td>\n",
       "      <td>515592.000000</td>\n",
       "      <td>515592.000000</td>\n",
       "      <td>515592.000000</td>\n",
       "      <td>515592.000000</td>\n",
       "      <td>515592.000000</td>\n",
       "      <td>515592.000000</td>\n",
       "      <td>5.155920e+05</td>\n",
       "      <td>5.155920e+05</td>\n",
       "      <td>5.155920e+05</td>\n",
       "      <td>...</td>\n",
       "      <td>5.155920e+05</td>\n",
       "      <td>515592.000000</td>\n",
       "      <td>5.155920e+05</td>\n",
       "      <td>515592.000000</td>\n",
       "      <td>5.155920e+05</td>\n",
       "      <td>515592.000000</td>\n",
       "      <td>5.155920e+05</td>\n",
       "      <td>515592.000000</td>\n",
       "      <td>515592.000000</td>\n",
       "      <td>515592.000000</td>\n",
       "    </tr>\n",
       "    <tr>\n",
       "      <th>mean</th>\n",
       "      <td>19.000000</td>\n",
       "      <td>13.000000</td>\n",
       "      <td>0.950000</td>\n",
       "      <td>0.400000</td>\n",
       "      <td>4.000000</td>\n",
       "      <td>12.675000</td>\n",
       "      <td>13.000000</td>\n",
       "      <td>1.411240e-06</td>\n",
       "      <td>3.376505e-05</td>\n",
       "      <td>2.079500e-05</td>\n",
       "      <td>...</td>\n",
       "      <td>5.167412e-03</td>\n",
       "      <td>0.011990</td>\n",
       "      <td>7.992776e-03</td>\n",
       "      <td>0.011946</td>\n",
       "      <td>1.043855e-02</td>\n",
       "      <td>0.016533</td>\n",
       "      <td>1.287112e-02</td>\n",
       "      <td>0.013400</td>\n",
       "      <td>0.014410</td>\n",
       "      <td>0.015443</td>\n",
       "    </tr>\n",
       "    <tr>\n",
       "      <th>std</th>\n",
       "      <td>8.944281</td>\n",
       "      <td>1.290996</td>\n",
       "      <td>0.031623</td>\n",
       "      <td>0.121106</td>\n",
       "      <td>2.738615</td>\n",
       "      <td>1.335075</td>\n",
       "      <td>1.369308</td>\n",
       "      <td>6.157235e-06</td>\n",
       "      <td>1.084815e-04</td>\n",
       "      <td>7.589912e-05</td>\n",
       "      <td>...</td>\n",
       "      <td>4.950300e-03</td>\n",
       "      <td>0.007352</td>\n",
       "      <td>8.048839e-03</td>\n",
       "      <td>0.007520</td>\n",
       "      <td>1.225728e-02</td>\n",
       "      <td>0.009174</td>\n",
       "      <td>1.241649e-02</td>\n",
       "      <td>0.007242</td>\n",
       "      <td>0.011877</td>\n",
       "      <td>0.011274</td>\n",
       "    </tr>\n",
       "    <tr>\n",
       "      <th>min</th>\n",
       "      <td>4.000000</td>\n",
       "      <td>11.000000</td>\n",
       "      <td>0.900000</td>\n",
       "      <td>0.200000</td>\n",
       "      <td>0.000000</td>\n",
       "      <td>10.725000</td>\n",
       "      <td>11.000000</td>\n",
       "      <td>-1.508303e-05</td>\n",
       "      <td>-1.703331e-05</td>\n",
       "      <td>-8.960152e-06</td>\n",
       "      <td>...</td>\n",
       "      <td>-2.021433e-07</td>\n",
       "      <td>0.000022</td>\n",
       "      <td>-2.166916e-07</td>\n",
       "      <td>0.000005</td>\n",
       "      <td>-2.575958e-07</td>\n",
       "      <td>0.000008</td>\n",
       "      <td>1.303757e-07</td>\n",
       "      <td>0.000602</td>\n",
       "      <td>0.000000</td>\n",
       "      <td>0.000373</td>\n",
       "    </tr>\n",
       "    <tr>\n",
       "      <th>25%</th>\n",
       "      <td>11.000000</td>\n",
       "      <td>12.000000</td>\n",
       "      <td>0.920000</td>\n",
       "      <td>0.300000</td>\n",
       "      <td>1.750000</td>\n",
       "      <td>11.578125</td>\n",
       "      <td>11.875000</td>\n",
       "      <td>-1.195902e-06</td>\n",
       "      <td>-9.765043e-07</td>\n",
       "      <td>-5.402421e-07</td>\n",
       "      <td>...</td>\n",
       "      <td>7.462595e-06</td>\n",
       "      <td>0.002682</td>\n",
       "      <td>2.485400e-04</td>\n",
       "      <td>0.003796</td>\n",
       "      <td>2.068142e-04</td>\n",
       "      <td>0.013688</td>\n",
       "      <td>4.121076e-03</td>\n",
       "      <td>0.007661</td>\n",
       "      <td>0.006295</td>\n",
       "      <td>0.009344</td>\n",
       "    </tr>\n",
       "    <tr>\n",
       "      <th>50%</th>\n",
       "      <td>19.000000</td>\n",
       "      <td>13.000000</td>\n",
       "      <td>0.950000</td>\n",
       "      <td>0.400000</td>\n",
       "      <td>4.000000</td>\n",
       "      <td>12.675000</td>\n",
       "      <td>13.000000</td>\n",
       "      <td>2.797384e-07</td>\n",
       "      <td>9.488376e-07</td>\n",
       "      <td>4.183859e-07</td>\n",
       "      <td>...</td>\n",
       "      <td>4.229336e-03</td>\n",
       "      <td>0.015145</td>\n",
       "      <td>8.309671e-03</td>\n",
       "      <td>0.015614</td>\n",
       "      <td>9.271239e-03</td>\n",
       "      <td>0.016369</td>\n",
       "      <td>1.172110e-02</td>\n",
       "      <td>0.014362</td>\n",
       "      <td>0.013063</td>\n",
       "      <td>0.014700</td>\n",
       "    </tr>\n",
       "    <tr>\n",
       "      <th>75%</th>\n",
       "      <td>27.000000</td>\n",
       "      <td>14.000000</td>\n",
       "      <td>0.980000</td>\n",
       "      <td>0.500000</td>\n",
       "      <td>6.250000</td>\n",
       "      <td>13.771875</td>\n",
       "      <td>14.125000</td>\n",
       "      <td>1.895443e-06</td>\n",
       "      <td>4.015937e-06</td>\n",
       "      <td>1.855118e-06</td>\n",
       "      <td>...</td>\n",
       "      <td>8.957809e-03</td>\n",
       "      <td>0.016628</td>\n",
       "      <td>1.207775e-02</td>\n",
       "      <td>0.017194</td>\n",
       "      <td>1.369559e-02</td>\n",
       "      <td>0.021705</td>\n",
       "      <td>1.618462e-02</td>\n",
       "      <td>0.017538</td>\n",
       "      <td>0.019009</td>\n",
       "      <td>0.018992</td>\n",
       "    </tr>\n",
       "    <tr>\n",
       "      <th>max</th>\n",
       "      <td>34.000000</td>\n",
       "      <td>15.000000</td>\n",
       "      <td>1.000000</td>\n",
       "      <td>0.600000</td>\n",
       "      <td>8.000000</td>\n",
       "      <td>14.625000</td>\n",
       "      <td>15.000000</td>\n",
       "      <td>4.495940e-05</td>\n",
       "      <td>5.784464e-04</td>\n",
       "      <td>4.562211e-04</td>\n",
       "      <td>...</td>\n",
       "      <td>2.357835e-02</td>\n",
       "      <td>0.030904</td>\n",
       "      <td>4.472644e-02</td>\n",
       "      <td>0.027948</td>\n",
       "      <td>7.222281e-02</td>\n",
       "      <td>0.053360</td>\n",
       "      <td>1.150121e-01</td>\n",
       "      <td>0.047227</td>\n",
       "      <td>0.064247</td>\n",
       "      <td>0.075043</td>\n",
       "    </tr>\n",
       "  </tbody>\n",
       "</table>\n",
       "<p>8 rows × 47 columns</p>\n",
       "</div>"
      ],
      "text/plain": [
       "       Maternal Wall Thickness  Maternal Hb Concentration  \\\n",
       "count            515592.000000              515592.000000   \n",
       "mean                 19.000000                  13.000000   \n",
       "std                   8.944281                   1.290996   \n",
       "min                   4.000000                  11.000000   \n",
       "25%                  11.000000                  12.000000   \n",
       "50%                  19.000000                  13.000000   \n",
       "75%                  27.000000                  14.000000   \n",
       "max                  34.000000                  15.000000   \n",
       "\n",
       "       Maternal Saturation  Fetal Saturation   FconcCenters  \\\n",
       "count        515592.000000     515592.000000  515592.000000   \n",
       "mean              0.950000          0.400000       4.000000   \n",
       "std               0.031623          0.121106       2.738615   \n",
       "min               0.900000          0.200000       0.000000   \n",
       "25%               0.920000          0.300000       1.750000   \n",
       "50%               0.950000          0.400000       4.000000   \n",
       "75%               0.980000          0.500000       6.250000   \n",
       "max               1.000000          0.600000       8.000000   \n",
       "\n",
       "       Fetal Hb Concentration 1  Fetal Hb Concentration 2  MAX_ACbyDC_WV1_10  \\\n",
       "count             515592.000000             515592.000000       5.155920e+05   \n",
       "mean                  12.675000                 13.000000       1.411240e-06   \n",
       "std                    1.335075                  1.369308       6.157235e-06   \n",
       "min                   10.725000                 11.000000      -1.508303e-05   \n",
       "25%                   11.578125                 11.875000      -1.195902e-06   \n",
       "50%                   12.675000                 13.000000       2.797384e-07   \n",
       "75%                   13.771875                 14.125000       1.895443e-06   \n",
       "max                   14.625000                 15.000000       4.495940e-05   \n",
       "\n",
       "       MAX_ACbyDC_WV2_10  MAX_ACbyDC_WV1_15  ...  MAX_ACbyDC_WV1_77  \\\n",
       "count       5.155920e+05       5.155920e+05  ...       5.155920e+05   \n",
       "mean        3.376505e-05       2.079500e-05  ...       5.167412e-03   \n",
       "std         1.084815e-04       7.589912e-05  ...       4.950300e-03   \n",
       "min        -1.703331e-05      -8.960152e-06  ...      -2.021433e-07   \n",
       "25%        -9.765043e-07      -5.402421e-07  ...       7.462595e-06   \n",
       "50%         9.488376e-07       4.183859e-07  ...       4.229336e-03   \n",
       "75%         4.015937e-06       1.855118e-06  ...       8.957809e-03   \n",
       "max         5.784464e-04       4.562211e-04  ...       2.357835e-02   \n",
       "\n",
       "       MAX_ACbyDC_WV2_77  MAX_ACbyDC_WV1_81  MAX_ACbyDC_WV2_81  \\\n",
       "count      515592.000000       5.155920e+05      515592.000000   \n",
       "mean            0.011990       7.992776e-03           0.011946   \n",
       "std             0.007352       8.048839e-03           0.007520   \n",
       "min             0.000022      -2.166916e-07           0.000005   \n",
       "25%             0.002682       2.485400e-04           0.003796   \n",
       "50%             0.015145       8.309671e-03           0.015614   \n",
       "75%             0.016628       1.207775e-02           0.017194   \n",
       "max             0.030904       4.472644e-02           0.027948   \n",
       "\n",
       "       MAX_ACbyDC_WV1_86  MAX_ACbyDC_WV2_86  MAX_ACbyDC_WV1_90  \\\n",
       "count       5.155920e+05      515592.000000       5.155920e+05   \n",
       "mean        1.043855e-02           0.016533       1.287112e-02   \n",
       "std         1.225728e-02           0.009174       1.241649e-02   \n",
       "min        -2.575958e-07           0.000008       1.303757e-07   \n",
       "25%         2.068142e-04           0.013688       4.121076e-03   \n",
       "50%         9.271239e-03           0.016369       1.172110e-02   \n",
       "75%         1.369559e-02           0.021705       1.618462e-02   \n",
       "max         7.222281e-02           0.053360       1.150121e-01   \n",
       "\n",
       "       MAX_ACbyDC_WV2_90  MAX_ACbyDC_WV1_94  MAX_ACbyDC_WV2_94  \n",
       "count      515592.000000      515592.000000      515592.000000  \n",
       "mean            0.013400           0.014410           0.015443  \n",
       "std             0.007242           0.011877           0.011274  \n",
       "min             0.000602           0.000000           0.000373  \n",
       "25%             0.007661           0.006295           0.009344  \n",
       "50%             0.014362           0.013063           0.014700  \n",
       "75%             0.017538           0.019009           0.018992  \n",
       "max             0.047227           0.064247           0.075043  \n",
       "\n",
       "[8 rows x 47 columns]"
      ]
     },
     "execution_count": 90,
     "metadata": {},
     "output_type": "execute_result"
    }
   ],
   "source": [
    "data.describe()"
   ]
  },
  {
   "cell_type": "code",
   "execution_count": 91,
   "metadata": {},
   "outputs": [
    {
     "name": "stdout",
     "output_type": "stream",
     "text": [
      "training with 48600 samples\n"
     ]
    }
   ],
   "source": [
    "# Filter data so I don't have to wait for too long during training\n",
    "data = data[\n",
    "    (data[\"Maternal Wall Thickness\"] >= 2.0)\n",
    "    & (data[\"Maternal Wall Thickness\"] <= 12.0)\n",
    "    # & (np.round(data[\"Fetal Hb Concentration\"], fconc_rounding).isin(groups_to_keep))\n",
    "    & (data[\"Fetal Saturation\"] > 0.3)\n",
    "    & (data[\"Maternal Saturation\"] > 0.95)\n",
    "]\n",
    "print(\"training with\", len(data), \"samples\")"
   ]
  },
  {
   "cell_type": "markdown",
   "metadata": {},
   "source": [
    "# Setup Training Objective"
   ]
  },
  {
   "cell_type": "code",
   "execution_count": 92,
   "metadata": {},
   "outputs": [
    {
     "name": "stdout",
     "output_type": "stream",
     "text": [
      "Y Columns ['Maternal Wall Thickness', 'Maternal Hb Concentration', 'Maternal Saturation', 'Fetal Saturation', 'Fetal Hb Concentration 1', 'Fetal Hb Concentration 2']\n",
      "X Columns ['MAX_ACbyDC_WV1_10', 'MAX_ACbyDC_WV1_15', 'MAX_ACbyDC_WV1_19', 'MAX_ACbyDC_WV1_24', 'MAX_ACbyDC_WV1_28', 'MAX_ACbyDC_WV1_33', 'MAX_ACbyDC_WV1_37', 'MAX_ACbyDC_WV1_41', 'MAX_ACbyDC_WV1_46', 'MAX_ACbyDC_WV1_50', 'MAX_ACbyDC_WV1_55', 'MAX_ACbyDC_WV1_59', 'MAX_ACbyDC_WV1_64', 'MAX_ACbyDC_WV1_68', 'MAX_ACbyDC_WV1_72', 'MAX_ACbyDC_WV1_77', 'MAX_ACbyDC_WV1_81', 'MAX_ACbyDC_WV1_86', 'MAX_ACbyDC_WV1_90', 'MAX_ACbyDC_WV1_94', 'MAX_ACbyDC_WV2_10', 'MAX_ACbyDC_WV2_15', 'MAX_ACbyDC_WV2_19', 'MAX_ACbyDC_WV2_24', 'MAX_ACbyDC_WV2_28', 'MAX_ACbyDC_WV2_33', 'MAX_ACbyDC_WV2_37', 'MAX_ACbyDC_WV2_41', 'MAX_ACbyDC_WV2_46', 'MAX_ACbyDC_WV2_50', 'MAX_ACbyDC_WV2_55', 'MAX_ACbyDC_WV2_59', 'MAX_ACbyDC_WV2_64', 'MAX_ACbyDC_WV2_68', 'MAX_ACbyDC_WV2_72', 'MAX_ACbyDC_WV2_77', 'MAX_ACbyDC_WV2_81', 'MAX_ACbyDC_WV2_86', 'MAX_ACbyDC_WV2_90', 'MAX_ACbyDC_WV2_94']\n"
     ]
    }
   ],
   "source": [
    "y_columns = labels  # What to Predict\n",
    "# Add New ConcDiff Column as a new label\n",
    "# data[\"ConcDiff\"] = data[\"Fetal Hb Concentration 1\"] - data[\"Fetal Hb Concentration 0\"]\n",
    "# if \"ConcDiff\" not in y_columns:\n",
    "#     y_columns.append(\"ConcDiff\")\n",
    "\n",
    "# if \"Fetal Hb Concentration 1\" in y_columns:\n",
    "#     y_columns.remove(\"Fetal Hb Concentration 1\")\n",
    "\n",
    "# if \"Fetal Hb Concentration 0\" in y_columns:\n",
    "#     y_columns.remove(\"Fetal Hb Concentration 0\")\n",
    "\n",
    "if \"FconcCenters\" in y_columns:\n",
    "    y_columns.remove(\"FconcCenters\")\n",
    "print(\"Y Columns\", y_columns)\n",
    "\n",
    "x_columns = features  # What to use as input\n",
    "print(\"X Columns\", x_columns)"
   ]
  },
  {
   "attachments": {},
   "cell_type": "markdown",
   "metadata": {},
   "source": [
    "## Normalizing Features\n",
    "x_columns will be the input features and y_columns are the target"
   ]
  },
  {
   "cell_type": "code",
   "execution_count": 93,
   "metadata": {},
   "outputs": [],
   "source": [
    "## Pass in maternal info\n",
    "# x_columns += [\"Maternal Hb Concentration\", \"Maternal Saturation\"]\n",
    "# x_columns = list(filter(lambda X: 'alpha' in X, data.columns))\n",
    "## Scale y\n",
    "y_scaler = preprocessing.StandardScaler()\n",
    "data[y_columns] = y_scaler.fit_transform(data[y_columns])\n",
    "\n",
    "## Scale x\n",
    "## Scheme 1 - Per detector normalization\n",
    "x_scaler = preprocessing.StandardScaler()\n",
    "data[x_columns] = x_scaler.fit_transform(data[x_columns])\n",
    "\n",
    "## Scheme 2 - All detector combined normalization\n",
    "# x_scaler = preprocessing.StandardScaler()\n",
    "# # Assume the entire data lies between -1 to -20 (log scale) -> z = (x - u) / s -> zs - x = -u; s = 19/2 = 9.5;\n",
    "# # at z = +1, x = -1, at z = -1, x = -20, u = 10.5, so we should be converting from -1 to -20 to -1 to 1\n",
    "# # Use these values to manually define the scaler\n",
    "# feature_len  = len(x_columns)\n",
    "# x_scaler.scale_ = np.array([9.5] * feature_len)\n",
    "# x_scaler.mean_ = np.array([10.5] * feature_len)\n",
    "# x_scaler.n_features_in_ = feature_len\n",
    "# x_scaler.feature_names_in_ = x_columns  # Avoids a warning/not really necessary\n",
    "# data[x_columns] = x_scaler.transform(data[x_columns])\n"
   ]
  },
  {
   "cell_type": "markdown",
   "metadata": {},
   "source": [
    "# Custom Loss Definition"
   ]
  },
  {
   "cell_type": "code",
   "execution_count": 94,
   "metadata": {},
   "outputs": [],
   "source": [
    "class WeightedMSE(nn.Module):\n",
    "    \"\"\"\n",
    "    MSE Loss for vector output labels with custom weighting\n",
    "    \"\"\"\n",
    "    def __init__(self, loss_weights: torch.Tensor) -> None:\n",
    "        super().__init__()\n",
    "        # Reshape to row vector for broadcasting during loss calculation\n",
    "        self.loss_weights = loss_weights.reshape(1, -1)\n",
    "        self.mse_loss = nn.MSELoss(reduction='none')\n",
    "\n",
    "    \n",
    "    def forward(self, predicted_tmps, targets):\n",
    "        loss = self.mse_loss(predicted_tmps, targets)\n",
    "        loss = loss * self.loss_weights\n",
    "        return loss.sum() / self.loss_weights.sum()"
   ]
  },
  {
   "attachments": {},
   "cell_type": "markdown",
   "metadata": {},
   "source": [
    "## Model Configuration"
   ]
  },
  {
   "cell_type": "code",
   "execution_count": 95,
   "metadata": {},
   "outputs": [
    {
     "name": "stdout",
     "output_type": "stream",
     "text": [
      "In Features : 40\n",
      "Out Features: 6\n"
     ]
    }
   ],
   "source": [
    "print(\"In Features :\", len(x_columns))  \n",
    "print(\"Out Features:\", len(y_columns))"
   ]
  },
  {
   "cell_type": "markdown",
   "metadata": {},
   "source": [
    "# Setting up Special Residual Network "
   ]
  },
  {
   "cell_type": "code",
   "execution_count": 96,
   "metadata": {},
   "outputs": [],
   "source": [
    "# saturation_unique_values = data[\"Fetal Saturation\"].unique()\n",
    "# mean_saturation_level = saturation_unique_values[len(saturation_unique_values)//2]\n",
    "# # Convert to float tensor, by default it is double\n",
    "# lookup_table = torch.from_numpy(data[data[\"Fetal Saturation\"] == mean_saturation_level].values).cuda().float()\n",
    "# feature_indices = [data.columns.get_loc(feature) for feature in x_columns]\n",
    "# feature_indices = torch.tensor(feature_indices).cuda()\n",
    "# intermediate_labels = y_columns.copy()\n",
    "# intermediate_labels.remove(\"Fetal Saturation\")\n",
    "# intermediate_label_indices = [data.columns.get_loc(label) for label in intermediate_labels]\n",
    "# intermediate_labels = torch.tensor(intermediate_label_indices).cuda()\n",
    "\n",
    "# # y_columns = [\"Fetal Saturation\"]\n",
    "\n",
    "# feature_res_net_params = {\n",
    "#         'node_count_left': [len(x_columns), 5, len(intermediate_labels)],\n",
    "#         'dropout_rates_left': [0.5, 0.5],\n",
    "#         'node_count_right': [len(x_columns), 5, len(y_columns)],\n",
    "#         'dropout_rates_right': [0.5, 0.5],\n",
    "#         'lookup_table': lookup_table,\n",
    "#         'lookup_key_indices': intermediate_labels,\n",
    "#         'feature_indices': feature_indices,\n",
    "# }\n"
   ]
  },
  {
   "cell_type": "markdown",
   "metadata": {},
   "source": [
    "# Training Configs"
   ]
  },
  {
   "cell_type": "code",
   "execution_count": 136,
   "metadata": {},
   "outputs": [],
   "source": [
    "IN_FEATURES = len(x_columns)\n",
    "OUT_FEATURES = len(y_columns)\n",
    "\n",
    "from model_trainer import ModelTrainer, TorchLossWrapper, DataLoaderGenerator\n",
    "\n",
    "criterion = TorchLossWrapper(nn.MSELoss())\n",
    "# criterion = TorchLossWrapper(nn.HuberLoss())\n",
    "\n",
    "set_seed(40)\n",
    "\n",
    "# validation_method = RandomSplit(0.7)\n",
    "all_depths = data[\"Maternal Wall Thickness\"].unique()\n",
    "all_depths.sort()\n",
    "validation_method = HoldOneOut('Maternal Wall Thickness', all_depths[len(all_depths)//2])   # Center value\n",
    "\n",
    "dataloader_gen = DataLoaderGenerator(data, x_columns, y_columns, 32, {'shuffle': True})\n",
    "\n",
    "## Trainer Factory - Perceptrons\n",
    "# model = PerceptronBD([IN_FEATURES, 40, 20, 10, 6, OUT_FEATURES])    # Works\n",
    "model = PerceptronBD([IN_FEATURES, 40, 20, OUT_FEATURES])    \n",
    "# trainer_factory = ModelTrainerFactory(PerceptronBD, {'node_counts' : [IN_FEATURES, 40, 20, 10, OUT_FEATURES], 'dropout_rates': [0.5, 0.5, 0.5]}, generate_data_loaders, datagen_kw, 100, criterion)\n",
    "# trainer_factory = ModelTrainerFactory(PerceptronBD, {'node_counts' : [IN_FEATURES, 25, 12, 8, OUT_FEATURES], 'dropout_rates': [0.5, 0.5, 0.5]}, generate_data_loaders, datagen_kw, 100, criterion)\n",
    "# trainer_factory = ModelTrainerFactory(PerceptronBD, {'node_counts' : [IN_FEATURES, 10, 10, 5, 5, OUT_FEATURES], 'dropout_rates': [0.5, 0.5, 0.5, 0.5, 0.5, 0.5]}, generate_data_loaders, datagen_kw, 100, criterion)\n",
    "# trainer_factory = ModelTrainerFactory(PerceptronBD, {'node_counts' : [IN_FEATURES, 40, 20, 10, 5, OUT_FEATURES], 'dropout_rates': [0.5] * 5}, generate_data_loaders, datagen_kw, 100, criterion)\n",
    "# trainer_factory = ModelTrainerFactory(FeatureResidualNetwork, feature_res_net_params, generate_data_loaders, datagen_kw, 100, criterion)\n",
    "\n",
    "## Trainer Factory - CNNs\n",
    "# cnn_config = {\n",
    "#     'input_length': IN_FEATURES,\n",
    "#     'cnn_out_channels': [4, 8, 16],\n",
    "#     'cnn_kernel_sizes' : [10, 10, 10],\n",
    "#     'fc_output_node_counts': [20, 10, OUT_FEATURES],\n",
    "# }\n",
    "# trainer_factory = ModelTrainerFactory(CNN2FC2dInput, cnn_config, generate_data_loaders, datagen_kw, 100, criterion)\n",
    "\n",
    "## Trainer Factory - SplitChannel CNNs\n",
    "# cnn_config = {\n",
    "#     'complete_input_length': IN_FEATURES,\n",
    "#     'split_count': 4,\n",
    "#     'cnn_out_channels': [4, 8, 16],\n",
    "#     # 'cnn_kernel_sizes' : [10, 5, 5],\n",
    "#     'cnn_kernel_sizes' : [10, 5, 3],\n",
    "#     'cnn_dropouts' : [0.5] * 2,\n",
    "#     # 'fc_output_node_counts': [30, 10, OUT_FEATURES],    # Best\n",
    "#     # 'fc_output_node_counts': [24, 12, OUT_FEATURES],    # Best\n",
    "#     'fc_output_node_counts': [12, 6, OUT_FEATURES],    # Best\n",
    "#     'fc_dropouts': [0.5] * 3,\n",
    "# }\n",
    "\n",
    "# model = SplitChannelCNN(**cnn_config)\n",
    "\n",
    "trainer = ModelTrainer(model, dataloader_gen, validation_method, criterion)"
   ]
  },
  {
   "cell_type": "markdown",
   "metadata": {},
   "source": [
    "## Custom Training"
   ]
  },
  {
   "cell_type": "code",
   "execution_count": 137,
   "metadata": {},
   "outputs": [],
   "source": [
    "trainer.set_optimizer(SGD, {'lr': 2e-3, 'momentum': 0.98, 'weight_decay': 1e-4})\n",
    "# trainer.set_batch_size(2048)\n",
    "# trainer.set_batch_size(32)\n",
    "trainer.run(50) "
   ]
  },
  {
   "cell_type": "code",
   "execution_count": 138,
   "metadata": {},
   "outputs": [
    {
     "data": {
      "image/png": "[encoded data removed]",
      "text/plain": [
       "<Figure size 640x480 with 1 Axes>"
      ]
     },
     "metadata": {},
     "output_type": "display_data"
    }
   ],
   "source": [
    "plt.figure()\n",
    "criterion.loss_tracker.plot_losses()\n",
    "# plt.yscale('log')\n",
    "plt.legend()\n",
    "\n",
    "loss_curves = plt.gcf()"
   ]
  },
  {
   "cell_type": "code",
   "execution_count": 139,
   "metadata": {},
   "outputs": [
    {
     "name": "stdout",
     "output_type": "stream",
     "text": [
      "\n",
      "        Model Properties:\n",
      "        PerceptronBD(\n",
      "  (model): Sequential(\n",
      "    (0): Linear(in_features=40, out_features=40, bias=True)\n",
      "    (1): BatchNorm1d(40, eps=1e-05, momentum=0.1, affine=True, track_running_stats=True)\n",
      "    (2): ReLU()\n",
      "    (3): Linear(in_features=40, out_features=20, bias=True)\n",
      "    (4): BatchNorm1d(20, eps=1e-05, momentum=0.1, affine=True, track_running_stats=True)\n",
      "    (5): ReLU()\n",
      "    (6): Linear(in_features=20, out_features=6, bias=True)\n",
      "    (7): Flatten(start_dim=1, end_dim=-1)\n",
      "  )\n",
      ")\n",
      "        Data Loader Properties:\n",
      "        48600 rows, 40 x columns, 6 y columns\n",
      "        Batch Size: 32\n",
      "        X Columns: ['MAX_ACbyDC_WV1_10', 'MAX_ACbyDC_WV1_15', 'MAX_ACbyDC_WV1_19', 'MAX_ACbyDC_WV1_24', 'MAX_ACbyDC_WV1_28', 'MAX_ACbyDC_WV1_33', 'MAX_ACbyDC_WV1_37', 'MAX_ACbyDC_WV1_41', 'MAX_ACbyDC_WV1_46', 'MAX_ACbyDC_WV1_50', 'MAX_ACbyDC_WV1_55', 'MAX_ACbyDC_WV1_59', 'MAX_ACbyDC_WV1_64', 'MAX_ACbyDC_WV1_68', 'MAX_ACbyDC_WV1_72', 'MAX_ACbyDC_WV1_77', 'MAX_ACbyDC_WV1_81', 'MAX_ACbyDC_WV1_86', 'MAX_ACbyDC_WV1_90', 'MAX_ACbyDC_WV1_94', 'MAX_ACbyDC_WV2_10', 'MAX_ACbyDC_WV2_15', 'MAX_ACbyDC_WV2_19', 'MAX_ACbyDC_WV2_24', 'MAX_ACbyDC_WV2_28', 'MAX_ACbyDC_WV2_33', 'MAX_ACbyDC_WV2_37', 'MAX_ACbyDC_WV2_41', 'MAX_ACbyDC_WV2_46', 'MAX_ACbyDC_WV2_50', 'MAX_ACbyDC_WV2_55', 'MAX_ACbyDC_WV2_59', 'MAX_ACbyDC_WV2_64', 'MAX_ACbyDC_WV2_68', 'MAX_ACbyDC_WV2_72', 'MAX_ACbyDC_WV2_77', 'MAX_ACbyDC_WV2_81', 'MAX_ACbyDC_WV2_86', 'MAX_ACbyDC_WV2_90', 'MAX_ACbyDC_WV2_94']\n",
      "        Y Columns: ['Maternal Wall Thickness', 'Maternal Hb Concentration', 'Maternal Saturation', 'Fetal Saturation', 'Fetal Hb Concentration 1', 'Fetal Hb Concentration 2']\n",
      "        \n",
      "        Validation Method:\n",
      "        Holds out fMaternal Wall Thickness columns 0.0 for validation. The rest are used for training\n",
      "        Loss Function:\n",
      "        Torch Loss Function: MSELoss()\n",
      "        Optimizer Properties\":\n",
      "        SGD (\n",
      "Parameter Group 0\n",
      "    dampening: 0\n",
      "    differentiable: False\n",
      "    foreach: None\n",
      "    lr: 0.002\n",
      "    maximize: False\n",
      "    momentum: 0.98\n",
      "    nesterov: False\n",
      "    weight_decay: 0.0001\n",
      ")\n",
      "        \n"
     ]
    }
   ],
   "source": [
    "print(trainer)"
   ]
  },
  {
   "cell_type": "code",
   "execution_count": 140,
   "metadata": {},
   "outputs": [],
   "source": [
    "# Increase batch_size for faster visuals generation - (does not affect training!)\n",
    "prev_batch_size = dataloader_gen.batch_size\n",
    "trainer.set_batch_size(4096)\n",
    "train_error, train_pred = generate_model_error_and_prediction(trainer.model, trainer.train_loader, y_columns, y_scaler)\n",
    "val_error, val_pred = generate_model_error_and_prediction(trainer.model, trainer.validation_loader, y_columns, y_scaler)\n",
    "trainer.set_batch_size(prev_batch_size)"
   ]
  },
  {
   "cell_type": "code",
   "execution_count": 141,
   "metadata": {},
   "outputs": [
    {
     "data": {
      "image/png": "[encoded data removed]",
      "text/plain": [
       "<Figure size 1700x800 with 18 Axes>"
      ]
     },
     "metadata": {},
     "output_type": "display_data"
    }
   ],
   "source": [
    "fig_dist, axes = plt.subplots(3, len(y_columns), squeeze=True, figsize=(17, 8), sharey=True)\n",
    "BIN_COUNT = 50\n",
    "\n",
    "train_data = y_scaler.inverse_transform(trainer.train_loader.dataset[:][1].cpu())\n",
    "val_data = y_scaler.inverse_transform(trainer.validation_loader.dataset[:][1].cpu())\n",
    "\n",
    "for i in range(len(y_columns)):\n",
    "    # Plot Errors\n",
    "    ax = axes[0, i]\n",
    "    plt.sca(ax)\n",
    "    column_name = train_error.columns[i]\n",
    "    plt.hist(train_error[column_name], bins=BIN_COUNT, color='blue', alpha=0.5, label='Train')\n",
    "    plt.hist(val_error[column_name], bins=BIN_COUNT, color='orange', alpha=0.5, label='Validation')\n",
    "\n",
    "    \n",
    "    # Plot Predictions\n",
    "    ax = axes[1, i]\n",
    "    plt.sca(ax)\n",
    "    column_name = train_pred.columns[i]\n",
    "    plt.hist(train_pred[column_name], bins=BIN_COUNT, color='blue', alpha=0.5, label='Train')\n",
    "    plt.hist(val_pred[column_name], bins=BIN_COUNT, color='orange', alpha=0.5, label='Validation')\n",
    "\n",
    "    \n",
    "    # Plot Ground Truth\n",
    "    ax = axes[2, i]\n",
    "    plt.sca(ax)\n",
    "    plt.hist(train_data[:, i], bins=BIN_COUNT, color='blue', alpha=0.5, label='Train')\n",
    "    plt.hist(val_data[:, i], bins=BIN_COUNT, color='orange', alpha=0.5, label='Validation')\n",
    "\n",
    "    # X Label for the bottommost row\n",
    "    plt.xlabel(y_columns[i])\n",
    "    \n",
    "# Add text to the left of each row of plots\n",
    "for i, label in enumerate(['MAE Error', 'Prediction', 'Ground Truth']):\n",
    "    fig_dist.text(0, (2.5-i)/3, label, ha='center', va='center', rotation='vertical')\n",
    "\n",
    "# Y Labels\n",
    "for i in range(axes.shape[0]):\n",
    "    axes[i, 0].set_ylabel('Count')\n",
    "\n",
    "# Add labels to top-left subplot\n",
    "axes[0, 0].legend()\n",
    "\n",
    "\n",
    "plt.tight_layout()\n",
    "plt.show()"
   ]
  },
  {
   "cell_type": "code",
   "execution_count": 142,
   "metadata": {},
   "outputs": [],
   "source": [
    "# # Top Bad Samples\n",
    "# VIEW_TOP_N = 50\n",
    "# worst_errors = error_df['Absolute Error'].argsort()[::-1][:VIEW_TOP_N]  # Worst Results\n",
    "# # worst_errors = error_df['Absolute Error'].argsort()[:VIEW_TOP_N]  # Best Results\n",
    "# combined_table = data.join(error_df)\n",
    "# with pd.option_context(\"display.max_rows\", None):\n",
    "#     display(combined_table[['Maternal Wall Thickness', \"Maternal Hb Concentration\", \"Maternal Saturation\", \"Fetal Hb Concentration\", \"Fetal Saturation\", 'Truth', 'Predicted', 'Absolute Error', '%tage']].iloc[worst_errors, :])"
   ]
  },
  {
   "cell_type": "code",
   "execution_count": 143,
   "metadata": {},
   "outputs": [],
   "source": [
    "# # Rough MSE's in percentage\n",
    "# print(f'Train Error(non-normalized): {trainer.train_loss[-1] * y_scaler.var_ }')\n",
    "# print(f'Validation Error(non-normalized): {trainer.validation_loss[-1] * y_scaler.var_ }')"
   ]
  },
  {
   "cell_type": "code",
   "execution_count": 144,
   "metadata": {},
   "outputs": [
    {
     "data": {
      "text/plain": [
       "=================================================================\n",
       "Layer (type:depth-idx)                   Param #\n",
       "=================================================================\n",
       "PerceptronBD                             --\n",
       "├─Sequential: 1-1                        --\n",
       "│    └─Linear: 2-1                       1,640\n",
       "│    └─BatchNorm1d: 2-2                  80\n",
       "│    └─ReLU: 2-3                         --\n",
       "│    └─Linear: 2-4                       820\n",
       "│    └─BatchNorm1d: 2-5                  40\n",
       "│    └─ReLU: 2-6                         --\n",
       "│    └─Linear: 2-7                       126\n",
       "│    └─Flatten: 2-8                      --\n",
       "=================================================================\n",
       "Total params: 2,706\n",
       "Trainable params: 2,706\n",
       "Non-trainable params: 0\n",
       "================================================================="
      ]
     },
     "execution_count": 144,
     "metadata": {},
     "output_type": "execute_result"
    }
   ],
   "source": [
    "# Model Info\n",
    "torchinfo.summary(trainer.model)"
   ]
  },
  {
   "cell_type": "code",
   "execution_count": 145,
   "metadata": {},
   "outputs": [
    {
     "data": {
      "text/plain": [
       "['../../models/multi_output_holdoneout_split_yscaler']"
      ]
     },
     "execution_count": 145,
     "metadata": {},
     "output_type": "execute_result"
    }
   ],
   "source": [
    "# ## Save Model Code\n",
    "# model_name = 'multi_output_holdoneout_split'\n",
    "# import joblib\n",
    "# # Save Model\n",
    "# torch.save(model.state_dict(), rf'../../models/{model_name}')\n",
    "# # Save the Scalers for Later Use\n",
    "# joblib.dump(x_scaler, rf'../../models/{model_name}_xscaler')\n",
    "# joblib.dump(y_scaler, rf'../../models/{model_name}_yscaler')"
   ]
  },
  {
   "cell_type": "code",
   "execution_count": 146,
   "metadata": {},
   "outputs": [],
   "source": [
    "# # Load Model Code\n",
    "# model = PerceptronReLU([20, 10, 4, 2, 1])\n",
    "# model.load_state_dict(torch.load(r'../models/fsat_delta_5det_v1'))\n",
    "# model = model.cuda()\n",
    "# x_scaler = joblib.load(rf'../models/{model_name}_xscaler')\n",
    "# y_scaler = joblib.load(rf'../models/{model_name}_yscaler')"
   ]
  },
  {
   "cell_type": "code",
   "execution_count": 147,
   "metadata": {},
   "outputs": [],
   "source": [
    "# from inverse_modelling_tfo.misc import MarkdownReport\n",
    "# # Generate report\n",
    "\n",
    "# report = MarkdownReport(Path('results'), 'report7', 'Inverse Modelling Report')\n",
    "# report.add_text_report(\"Objective\", \"Predicting with 90% Random Split(As opposed to a hold One out style). Same as report6. Except, trying out a different normalization scheme. Where it scales all detector intensity logs using a single scale. More specifically, maps the values from -1 to -20 between -1 and +1. The intuition behind this was that this sort of normalization should preserve inter-detector scaling.\")\n",
    "# report.add_text_report(\"Comments\", \"Somehow performs slightly worse than per detector scaling. Which does not make sense to me\")\n",
    "# report.add_text_report(\"Data Length\", str(len(data)))\n",
    "# report.add_code_report(\"Model Used\", str(torchinfo.summary(trainer.model)))\n",
    "# report.add_code_report(\"Model Trainer Params\", str(trainer))\n",
    "# report.add_image_report(\"Loss Curves\", loss_curves)\n",
    "# report.add_image_report(\"Prediction & Error Distribution\", fig_dist)\n",
    "# report.save_report()"
   ]
  },
  {
   "cell_type": "code",
   "execution_count": null,
   "metadata": {},
   "outputs": [],
   "source": []
  }
 ],
 "metadata": {
  "kernelspec": {
   "display_name": "cybercat",
   "language": "python",
   "name": "python3"
  },
  "language_info": {
   "codemirror_mode": {
    "name": "ipython",
    "version": 3
   },
   "file_extension": ".py",
   "mimetype": "text/x-python",
   "name": "python",
   "nbconvert_exporter": "python",
   "pygments_lexer": "ipython3",
   "version": "3.8.10"
  },
  "orig_nbformat": 4
 },
 "nbformat": 4,
 "nbformat_minor": 2
}
