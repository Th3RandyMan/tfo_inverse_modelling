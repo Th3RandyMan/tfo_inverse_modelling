{
 "cells": [
  {
   "cell_type": "code",
   "execution_count": 4,
   "metadata": {},
   "outputs": [],
   "source": [
    "from inverse_modelling_tfo.models import train_model, create_perceptron_model\n",
    "from inverse_modelling_tfo.data import generate_data_loaders\n",
    "from torch.optim import Adam, SGD\n",
    "import torch.nn as nn\n",
    "import matplotlib.pyplot as plt\n",
    "import numpy as np\n",
    "from pandas import DataFrame\n",
    "import pandas as pd"
   ]
  },
  {
   "attachments": {},
   "cell_type": "markdown",
   "metadata": {},
   "source": [
    "# Normalization Function\n",
    "Define how each field in the dataset is normalized before being loaded. For examples, check inverse_modelling_tfo/data/normalize"
   ]
  },
  {
   "cell_type": "code",
   "execution_count": 5,
   "metadata": {},
   "outputs": [],
   "source": [
    "def custom_normalize(data: DataFrame):\n",
    "    \"\"\"\n",
    "    Normalize everything by the max to be between 0 and 1.\n",
    "    \"\"\"\n",
    "    data['SDD'] = 2 * (data['SDD'] / 20 - 0.5)\n",
    "    # data['Intensity'] = data['Intensity'] / 1e8  # Number of Photons\n",
    "    data['Intensity'] = np.log10(data['Intensity']) / 8  # Number of Photons\n",
    "    data['Uterus Thickness'] = 2 * (data['Uterus Thickness'] / 8. - 0.5)\n",
    "    data['Maternal Wall Thickness'] = 2 * (data['Maternal Wall Thickness'] / 40. - 0.5)\n",
    "    data['Wave Int'] = 2 * (data['Wave Int'] - 1.0 - 0.5)\n",
    "    data['Fetal Mu_a'] = 2 * (data['Fetal Mu_a']/0.1 - 0.5)\n",
    "    data['Maternal Mu_a'] = 2 * (data['Maternal Mu_a']/0.01 - 0.5)\n",
    "    return data"
   ]
  },
  {
   "cell_type": "code",
   "execution_count": 10,
   "metadata": {},
   "outputs": [
    {
     "name": "stdout",
     "output_type": "stream",
     "text": [
      "Sequential(\n",
      "  (0): Linear(in_features=6, out_features=6, bias=True)\n",
      "  (1): ReLU()\n",
      "  (2): Linear(in_features=6, out_features=3, bias=True)\n",
      "  (3): ReLU()\n",
      "  (4): Linear(in_features=3, out_features=2, bias=True)\n",
      "  (5): ReLU()\n",
      "  (6): Linear(in_features=2, out_features=1, bias=True)\n",
      "  (7): Flatten(start_dim=1, end_dim=-1)\n",
      ")\n"
     ]
    }
   ],
   "source": [
    "# Example Code\n",
    "np.random.seed(70)  # Set seed for consistentcy\n",
    "params = {\n",
    "    'batch_size': 10000, 'shuffle': False, 'num_workers': 2\n",
    "}\n",
    "\n",
    "# Load Data\n",
    "data = pd.read_pickle(r'/home/rraiyan/personal_projects/tfo_inverse_modelling/data/intensity/test_data.pkl')\n",
    "data = custom_normalize(data)\n",
    "train, val = generate_data_loaders(data, params, ['SDD', 'Uterus Thickness', 'Maternal Wall Thickness', 'Maternal Mu_a', 'Fetal Mu_a', 'Wave Int'], ['Intensity'])\n",
    "\n",
    "\n",
    "model = create_perceptron_model()\n",
    "print(model)\n"
   ]
  },
  {
   "cell_type": "code",
   "execution_count": 7,
   "metadata": {},
   "outputs": [],
   "source": [
    "criterion = nn.MSELoss()\n",
    "optimizer = Adam(model.parameters(), lr=0.001)\n",
    "# optimizer = SGD(model.parameters(), lr=0.001, momentum=0.9)\n"
   ]
  },
  {
   "cell_type": "code",
   "execution_count": 8,
   "metadata": {},
   "outputs": [],
   "source": [
    "train_loss, validation_loss = train_model(model, optimizer, criterion, train, val, epochs=5)"
   ]
  },
  {
   "cell_type": "code",
   "execution_count": 9,
   "metadata": {},
   "outputs": [
    {
     "data": {
      "text/plain": [
       "<matplotlib.legend.Legend at 0x7f62c0be64c0>"
      ]
     },
     "execution_count": 9,
     "metadata": {},
     "output_type": "execute_result"
    },
    {
     "data": {
      "image/png": "[encoded data removed]",
      "text/plain": [
       "<Figure size 432x288 with 1 Axes>"
      ]
     },
     "metadata": {
      "needs_background": "light"
     },
     "output_type": "display_data"
    }
   ],
   "source": [
    "plt.figure()\n",
    "plt.plot(train_loss, label='Training Loss', marker='x')\n",
    "plt.plot(validation_loss, label='Validation Loss', marker='x')\n",
    "plt.legend()"
   ]
  },
  {
   "cell_type": "code",
   "execution_count": null,
   "metadata": {},
   "outputs": [],
   "source": []
  }
 ],
 "metadata": {
  "kernelspec": {
   "display_name": "Python 3",
   "language": "python",
   "name": "python3"
  },
  "language_info": {
   "codemirror_mode": {
    "name": "ipython",
    "version": 3
   },
   "file_extension": ".py",
   "mimetype": "text/x-python",
   "name": "python",
   "nbconvert_exporter": "python",
   "pygments_lexer": "ipython3",
   "version": "3.8.10"
  },
  "orig_nbformat": 4,
  "vscode": {
   "interpreter": {
    "hash": "e7370f93d1d0cde622a1f8e1c04877d8463912d04d973331ad4851f04de6915a"
   }
  }
 },
 "nbformat": 4,
 "nbformat_minor": 2
}
