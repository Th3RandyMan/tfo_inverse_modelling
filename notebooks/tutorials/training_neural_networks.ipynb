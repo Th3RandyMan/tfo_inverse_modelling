{
 "cells": [
  {
   "cell_type": "markdown",
   "metadata": {},
   "source": [
    "# Training A Neural Netowrk Using PyTorch and My Custom Libraries\n",
    "This notebook will go through and explain the steps involved in creating a NN model and training it given some dataset\n",
    "\n",
    "## Composer Pattern\n",
    "Model training is set-up using the composer pattern. Where, you create different components and compose them onto a ModelTrainer, which ultimately takes care of the training/validation process. \n",
    "![Pics](./composer.png)\n",
    "\n",
    "\n",
    "## Setting GPU\n",
    "The first step for systems with multiple GPUs is to set which one we want to use. In torch, this is done by changing the environment varaible **CUDA_VISIBLE_DEVICES**. This makes cuda only 'see' that one specific GPU. i.e., all data will be loaded to that GPU. Pytorch will then regard this GPU as 'cuda:0'"
   ]
  },
  {
   "cell_type": "code",
   "execution_count": 1,
   "metadata": {},
   "outputs": [],
   "source": [
    "import os\n",
    "os.environ[\"CUDA_VISIBLE_DEVICES\"] = \"3\""
   ]
  },
  {
   "cell_type": "markdown",
   "metadata": {},
   "source": [
    "## Defining a Dataset\n",
    "Let's define a random dataset. Most of our data is stored as pandas dataframes. I have convinience functions that can convert these DataFrames onto Pytorch DataLoaders. Which, as the name suggests, fetches data during model training. However, you can also manually define your own DataLoader classes to use some other types of data if need be."
   ]
  },
  {
   "cell_type": "code",
   "execution_count": 2,
   "metadata": {},
   "outputs": [
    {
     "name": "stdout",
     "output_type": "stream",
     "text": [
      "The output type is <class 'torch.utils.data.dataloader.DataLoader'>\n"
     ]
    }
   ],
   "source": [
    "import pandas as pd\n",
    "from inverse_modelling_tfo.model_training.DataLoaderGenerators import DataLoaderGenerator\n",
    "from inverse_modelling_tfo.model_training.validation_methods import RandomSplit\n",
    "\n",
    "dummy_data = pd.DataFrame({\n",
    "        'A': [1, 2, 3, 4, 5],\n",
    "        'B': [2, 3, 4, 5, 6],\n",
    "        'C': [3, 5, 7, 9, 11]})\n",
    "data_loader_params = {\n",
    "    'shuffle': True,    # The dataloader will shuffle its outputs at each epoch\n",
    "    'num_workers': 0,   # The number of workers that the dataloader will use to generate the batches\n",
    "}\n",
    "dataloader_gen = DataLoaderGenerator(dummy_data, ['A', 'B'], ['C'], 2, data_loader_params)\n",
    "validation_method = RandomSplit(0.5)\n",
    "train_loader, validation_loader = dataloader_gen.generate(validation_method)\n",
    "print(\"The output type is\", type(train_loader))"
   ]
  },
  {
   "cell_type": "markdown",
   "metadata": {},
   "source": [
    "__Notes__: The data generated from these loaders are by default set to be stored on CUDA. More specifically, the first GPU on CUDA. You can change the device parameter on DataLoaderGenerator to change this behavior.\n",
    "\n",
    "## Validation Method\n",
    "One thing that I didn't explain in the last step is the validation method. You can pass different validation strategies to alter the training/validation data loader behavior. For example, here we are using a RandomSplit(0.8). But, we have a few more options."
   ]
  },
  {
   "cell_type": "code",
   "execution_count": 3,
   "metadata": {},
   "outputs": [],
   "source": [
    "from inverse_modelling_tfo.model_training.validation_methods import RandomSplit, HoldOneOut, CVSplit, CombineMethods\n",
    "\n",
    "train_loader, validation_loader = dataloader_gen.generate(CVSplit(2, 0))"
   ]
  },
  {
   "cell_type": "markdown",
   "metadata": {},
   "source": [
    "This is a Cross-Validation split. It will split the data into 2 parts and uses the first(0th index) part as the validation set  \n",
    "For more usage example, check the test/test_data/test_validation_split.py file! "
   ]
  },
  {
   "cell_type": "markdown",
   "metadata": {},
   "source": [
    "## Loss Function\n",
    "The next component we need for training a model is a LossFunction. I have a custom wrapper around pytorch's native loss functions. The benefits of this are two-fold. This wrapper allows us to track the losses over each step and each epoch of the training. Making for a far easier loss tracking/plotting expreience. Additionally, this extends the loss function to include more exotic losses which can take extra inputs(other than model labels and preidctions). This includes physics losses.  "
   ]
  },
  {
   "cell_type": "code",
   "execution_count": 4,
   "metadata": {},
   "outputs": [],
   "source": [
    "from inverse_modelling_tfo.model_training import TorchLossWrapper\n",
    "import torch.nn as nn   # PyTorch's neural network module\n",
    "\n",
    "criterion = TorchLossWrapper(nn.MSELoss(), name=\"mse\")   # good old MSE loss"
   ]
  },
  {
   "cell_type": "markdown",
   "metadata": {},
   "source": [
    "## Model Architecture\n",
    "Now, its time to define the neural network model. Defining models in pytorch is quite a bit of a chore. Where, you need to define each layer individually and then define how the data flows through it. While, yes it allows for great level of flexibility, its also very time consuming. I have a set of very simple models defined, which can be very quickly modified with simple parameters. This allows for much faster testing and tuning. \n",
    "\n",
    "\n",
    "The model example we use here is a fully connected perceptron with BatchNormalization and Dropout layers, called PerceptronBD. The 'node_counts' here specifies the number of 'nodes' on each layer of the perceptron. So for example, node_counts = [2, 2, 1] stands for, 3 input nodes, 2 nodes in the hidden layer and single output node. Note that except for the final layer, every other layer has a ReLU non-linear activation function.\n",
    "\n",
    "I have few more models inside the model_training/custom_models.py file. If needed, you can extend that to include fancier architectures."
   ]
  },
  {
   "cell_type": "code",
   "execution_count": 5,
   "metadata": {},
   "outputs": [],
   "source": [
    "from inverse_modelling_tfo.model_training.custom_models import PerceptronBD\n",
    "\n",
    "model = PerceptronBD([2, 2, 1], dropout_rates=[0.5, 0.5]) \n",
    "# With a node_count length of 3, we actually get 2 layers. Which is why dropout_rates has a length of 2. "
   ]
  },
  {
   "cell_type": "code",
   "execution_count": 6,
   "metadata": {},
   "outputs": [
    {
     "data": {
      "text/plain": [
       "=================================================================\n",
       "Layer (type:depth-idx)                   Param #\n",
       "=================================================================\n",
       "PerceptronBD                             --\n",
       "├─Sequential: 1-1                        --\n",
       "│    └─Linear: 2-1                       6\n",
       "│    └─BatchNorm1d: 2-2                  4\n",
       "│    └─Dropout1d: 2-3                    --\n",
       "│    └─ReLU: 2-4                         --\n",
       "│    └─Linear: 2-5                       3\n",
       "│    └─Flatten: 2-6                      --\n",
       "=================================================================\n",
       "Total params: 13\n",
       "Trainable params: 13\n",
       "Non-trainable params: 0\n",
       "================================================================="
      ]
     },
     "execution_count": 6,
     "metadata": {},
     "output_type": "execute_result"
    }
   ],
   "source": [
    "# We can visualize this model by using torchinfo\n",
    "import torchinfo\n",
    "torchinfo.summary(model)"
   ]
  },
  {
   "cell_type": "markdown",
   "metadata": {},
   "source": [
    "```\n",
    "Breakdown:      \n",
    "    Sequential -> Data passes through a set of sequential layers        \n",
    "    Linear -> FC linear layer       \n",
    "    BatchNorm & Dropout -> No brainer. Also, BatchNorm layer **MUST** be placed before dropout. There are a bunch of important papers explaining why this   is the case     \n",
    "    ReLu -> Non-linearity       \n",
    "    Flatten -> does not do anything other than changing the data dimensionality.        \n",
    "```\n",
    "\n",
    "## ModelTrainer\n",
    "It's finally time to compose the model trainer! This is what I use to run the training loop. Now, pytorch by default does not have any trainer class. But rather expects you to always manually write your own training loop. Which, if you're doing it a bunch of times, is quite time consuming. "
   ]
  },
  {
   "cell_type": "code",
   "execution_count": 7,
   "metadata": {},
   "outputs": [],
   "source": [
    "from inverse_modelling_tfo.model_training import ModelTrainer \n",
    "\n",
    "trainer = ModelTrainer(model, dataloader_gen, validation_method, criterion)\n",
    "trainer.run(10)"
   ]
  },
  {
   "cell_type": "markdown",
   "metadata": {},
   "source": [
    "## Tuning The Optimizer\n",
    "The model trainer is compiled with a default SGD optimizer. Which might not always be the best fit for the job. Often times you would need to tune the optimizer to get the best results. There are actually two different ways to tune the optimizer.      \n",
    "1. Changing the batch_size. This is actually the more preferable option and tends to give better gains\n",
    "2. Using a different optimizer/changing the optimizer parameters. This is usually better fine tuning."
   ]
  },
  {
   "cell_type": "code",
   "execution_count": 8,
   "metadata": {},
   "outputs": [],
   "source": [
    "from torch.optim import SGD\n",
    "trainer.change_batch_size(4)        # option 1\n",
    "trainer.set_optimizer(SGD, {'lr': 1e-4, 'momentum': 0.91, 'weight_decay': 1e-4})    # option 2\n",
    "trainer.run(10)"
   ]
  },
  {
   "cell_type": "markdown",
   "metadata": {},
   "source": [
    "## Plotting the Results\n",
    "Usually, we are concerned about the training and validation loss. The LossFunction we defined earlier gives us access to the loss per epoch and can easily be plotted using it's underlying loss_tracker object."
   ]
  },
  {
   "cell_type": "code",
   "execution_count": 9,
   "metadata": {},
   "outputs": [
    {
     "data": {
      "image/png": "[encoded data removed]",
      "text/plain": [
       "<Figure size 640x480 with 1 Axes>"
      ]
     },
     "metadata": {},
     "output_type": "display_data"
    }
   ],
   "source": [
    "criterion.loss_tracker.plot_losses()    # Plot the losses"
   ]
  },
  {
   "cell_type": "markdown",
   "metadata": {},
   "source": [
    "__Note__: The loss tracker keeps record of all the model trainer runs. Which might not always be desirable. But you can reset the loss at any point to clear out old data."
   ]
  },
  {
   "cell_type": "code",
   "execution_count": 10,
   "metadata": {},
   "outputs": [
    {
     "data": {
      "image/png": "[encoded data removed]",
      "text/plain": [
       "<Figure size 640x480 with 1 Axes>"
      ]
     },
     "metadata": {},
     "output_type": "display_data"
    }
   ],
   "source": [
    "import matplotlib.pyplot as plt\n",
    "\n",
    "loss_plot = plt.figure()\n",
    "criterion.reset()\n",
    "trainer.run(2)\n",
    "criterion.loss_tracker.plot_losses()    # Plot the refreshed losses"
   ]
  },
  {
   "cell_type": "markdown",
   "metadata": {},
   "source": [
    "# Reporting & Reproducibility\n",
    "There are also a few options to help with reporting and reproducibility.\n",
    "1. The model trainer has a string representation which details each of the components it is composed off. This can be stored and retrived later to redo the experiment. \n",
    "2. Markdown Report : Refer to this [github repo](https://github.com/RishadR/mdreport). This allows you to write a short report in jupyter notebook and save the experiment parameters,results,figures etc. as a markdown file(which can also be converted to a pdf if needed)\n",
    "3. Seeds: For the many componets that rely on randomness, it makes sense to set a specific seed"
   ]
  },
  {
   "cell_type": "markdown",
   "metadata": {},
   "source": [
    "### ModelTrainer String"
   ]
  },
  {
   "cell_type": "code",
   "execution_count": 11,
   "metadata": {},
   "outputs": [
    {
     "name": "stdout",
     "output_type": "stream",
     "text": [
      "\n",
      "        Model Properties:\n",
      "        PerceptronBD(\n",
      "  (model): Sequential(\n",
      "    (0): Linear(in_features=2, out_features=2, bias=True)\n",
      "    (1): BatchNorm1d(2, eps=1e-05, momentum=0.1, affine=True, track_running_stats=True)\n",
      "    (2): Dropout1d(p=0.5, inplace=False)\n",
      "    (3): ReLU()\n",
      "    (4): Linear(in_features=2, out_features=1, bias=True)\n",
      "    (5): Flatten(start_dim=1, end_dim=-1)\n",
      "  )\n",
      ")\n",
      "        Optimizer Properties\"\n",
      "        SGD (\n",
      "Parameter Group 0\n",
      "    dampening: 0\n",
      "    differentiable: False\n",
      "    foreach: None\n",
      "    lr: 0.0001\n",
      "    maximize: False\n",
      "    momentum: 0.91\n",
      "    nesterov: False\n",
      "    weight_decay: 0.0001\n",
      ")\n",
      "        DataLoader Params: \n",
      "            Batch Size: 4\n",
      "            Validation Method: Split the data randomly using np.random.shuffle with a split of 0.5\n",
      "        Loss:\n",
      "            Train Loss: 45.71092987060547\n",
      "            Val. Loss: 33.33828353881836\n"
     ]
    }
   ],
   "source": [
    "print(trainer)"
   ]
  },
  {
   "cell_type": "markdown",
   "metadata": {},
   "source": [
    "### Markdown Report Example"
   ]
  },
  {
   "cell_type": "code",
   "execution_count": 12,
   "metadata": {},
   "outputs": [],
   "source": [
    "from mdreport import MarkdownReport\n",
    "from pathlib import Path\n",
    "\n",
    "report = MarkdownReport(Path('results'), 'report1', 'Example Report')\n",
    "report.add_text_report(\"Objective\", \"Training Models using the ModelTrainer Class\")\n",
    "report.add_code_report(\"Model Used\", str(torchinfo.summary(trainer.model)))\n",
    "report.add_image_report(\"Loss Curves\", loss_plot)\n",
    "report.save_report()\n"
   ]
  },
  {
   "cell_type": "markdown",
   "metadata": {},
   "source": [
    "### Seeds"
   ]
  },
  {
   "cell_type": "code",
   "execution_count": 13,
   "metadata": {},
   "outputs": [],
   "source": [
    "from inverse_modelling_tfo.misc import set_seed\n",
    "# Control the randomness\n",
    "set_seed(42)\n",
    "model = PerceptronBD([2, 2, 1], dropout_rates=[0.5, 0.5])"
   ]
  }
 ],
 "metadata": {
  "kernelspec": {
   "display_name": "cybercat",
   "language": "python",
   "name": "python3"
  },
  "language_info": {
   "codemirror_mode": {
    "name": "ipython",
    "version": 3
   },
   "file_extension": ".py",
   "mimetype": "text/x-python",
   "name": "python",
   "nbconvert_exporter": "python",
   "pygments_lexer": "ipython3",
   "version": "3.8.10"
  }
 },
 "nbformat": 4,
 "nbformat_minor": 2
}
