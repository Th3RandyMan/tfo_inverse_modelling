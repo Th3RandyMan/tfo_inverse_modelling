{
 "cells": [
  {
   "attachments": {},
   "cell_type": "markdown",
   "metadata": {},
   "source": [
    "# Simulation Alpha Range Tester\n",
    "This notebook allows us to iterate over different values of $\\mu_a$ for different simulation raw files at test the resulting range of alphas. The final goal is to determine the required simulation space(range) for $\\mu_a$ such that we get results comparable to TFO PPG data. This notebook is not automatic. Rather it serves to insert values for $mu_a$'s and instantly observe their effect. "
   ]
  },
  {
   "cell_type": "code",
   "execution_count": 2,
   "metadata": {},
   "outputs": [],
   "source": [
    "from glob import glob\n",
    "from pathlib import Path\n",
    "import  numpy as np\n",
    "from inverse_modelling_tfo.tools.name_decoder import decode_extended_filename\n",
    "from inverse_modelling_tfo.tools.intensity_data_generator import intensity_from_raw\n",
    "from inverse_modelling_tfo.data.intensity_interpolation import interpolate_exp_chunk\n",
    "\n",
    "selected_wave_int = 1\n",
    "selected_uterus_thickness = 5\n",
    "selected_maternal_wall_thickness = 12\n",
    "\n",
    "raw_data_path = Path('/home/rraiyan/simulations/tfo_sim/data/raw_dan_iccps_equispace_detector')\n",
    "all_files = glob(str(raw_data_path.joinpath('*.pkl')))\n",
    "\n",
    "selected_file = None\n",
    "for file in all_files:\n",
    "    if (selected_maternal_wall_thickness, selected_uterus_thickness, selected_wave_int) == decode_extended_filename(file):\n",
    "        selected_file = file\n",
    "        break\n",
    "if selected_file is None:\n",
    "    print(\"File Not Found\")"
   ]
  },
  {
   "cell_type": "code",
   "execution_count": 3,
   "metadata": {},
   "outputs": [],
   "source": [
    "# MU MAP = 1 : Maternal Wall, 2: Uterus, 3: Amniotic Fluid, 4: Fetal Tissue\n",
    "test_maternal_mu_a = 0.005\n",
    "mu_map_base1 = {1: 0.0091, 2: 0.0158, 3: 0.0125, 4: 0.013}  # 735nm\n",
    "mu_map_base2 = {1: 0.0087, 2: 0.0991, 3: 0.042, 4: 0.012}   # 850nm\n",
    "mu_map_active = mu_map_base1 if selected_wave_int == 1 else mu_map_base2"
   ]
  },
  {
   "cell_type": "code",
   "execution_count": 4,
   "metadata": {},
   "outputs": [],
   "source": [
    "processed_data = intensity_from_raw(selected_file, mu_map_active, 1.0)"
   ]
  },
  {
   "cell_type": "code",
   "execution_count": 5,
   "metadata": {},
   "outputs": [
    {
     "name": "stdout",
     "output_type": "stream",
     "text": [
      "    SDD     Intensity\n",
      "0    10  1.422993e-04\n",
      "1    14  2.300250e-05\n",
      "2    19  4.283837e-06\n",
      "3    23  1.112823e-06\n",
      "4    28  3.201815e-07\n",
      "5    32  9.814937e-08\n",
      "6    37  3.084679e-08\n",
      "7    41  1.084131e-08\n",
      "8    46  3.690279e-09\n",
      "9    50  1.387119e-09\n",
      "10   55  5.501001e-10\n",
      "11   59  2.301662e-10\n",
      "12   64  1.044989e-10\n",
      "13   68  5.074476e-11\n",
      "14   73  2.614608e-11\n",
      "15   77  1.328429e-11\n",
      "16   82  7.411706e-12\n",
      "17   86  4.063591e-12\n",
      "18   91  2.114381e-12\n",
      "19   95  1.312687e-12\n"
     ]
    }
   ],
   "source": [
    "sdd = processed_data['SDD'].to_numpy()\n",
    "processed_data['Intensity'] /= 1e9\n",
    "processed_data['Intensity'] /= np.pi * 2 ** 2\n",
    "detector_count = [11, 16, 22, 27, 32, 38, 43, 48, 53,\n",
    "                  59, 64, 69, 75, 80, 85, 90, 96, 101, 106, 111]\n",
    "sdd_to_detector_count_map = {\n",
    "    dist: count for dist, count in zip(sdd, detector_count)}\n",
    "processed_data['Intensity'] /= processed_data['SDD'].map(sdd_to_detector_count_map)\n",
    "\n",
    "print(processed_data)"
   ]
  },
  {
   "cell_type": "code",
   "execution_count": 11,
   "metadata": {},
   "outputs": [
    {
     "name": "stdout",
     "output_type": "stream",
     "text": [
      "[[-12.62756712]\n",
      " [  0.22873078]\n",
      " [-12.9125372 ]\n",
      " [ 19.58686133]]\n"
     ]
    }
   ],
   "source": [
    "alphas = interpolate_exp_chunk(processed_data, [1, 1], return_alpha=True)\n",
    "# print(alphas.flatten())\n",
    "print(alphas)"
   ]
  },
  {
   "cell_type": "code",
   "execution_count": null,
   "metadata": {},
   "outputs": [],
   "source": []
  }
 ],
 "metadata": {
  "kernelspec": {
   "display_name": "cybercat",
   "language": "python",
   "name": "python3"
  },
  "language_info": {
   "codemirror_mode": {
    "name": "ipython",
    "version": 3
   },
   "file_extension": ".py",
   "mimetype": "text/x-python",
   "name": "python",
   "nbconvert_exporter": "python",
   "pygments_lexer": "ipython3",
   "version": "3.8.10"
  },
  "orig_nbformat": 4
 },
 "nbformat": 4,
 "nbformat_minor": 2
}
