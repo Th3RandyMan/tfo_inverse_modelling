{
 "cells": [
  {
   "cell_type": "markdown",
   "metadata": {},
   "source": [
    "# Visualize Simulation Data\n",
    "Visualize different components/processed versions of the simulation data using the extremely customizable pygwalker library"
   ]
  },
  {
   "cell_type": "code",
   "execution_count": 17,
   "metadata": {},
   "outputs": [],
   "source": [
    "import matplotlib.pyplot as plt\n",
    "import numpy as np\n",
    "import pandas as pd\n",
    "import os\n",
    "from sklearn import preprocessing\n",
    "from inverse_modelling_tfo.data import (\n",
    "    generate_data_loaders,\n",
    "    equidistance_detector_normalization,\n",
    "    constant_detector_count_normalization,\n",
    ")\n",
    "from inverse_modelling_tfo.data.intensity_interpolation import (\n",
    "    interpolate_exp,\n",
    "    get_interpolate_fit_params,\n",
    "    exp_piecewise_affine,\n",
    ")\n",
    "from inverse_modelling_tfo.data.interpolation_function_zoo import *\n",
    "import pygwalker as pyg\n",
    "from inverse_modelling_tfo.features.build_features import FetalACFeatureBuilder\n",
    "from inverse_modelling_tfo.features.data_transformations import LongToWideIntensityTransformation"
   ]
  },
  {
   "cell_type": "code",
   "execution_count": 18,
   "metadata": {},
   "outputs": [],
   "source": [
    "# DATA_PATH = r'/home/rraiyan/personal_projects/tfo_inverse_modelling/data/intensity/s_based_intensity_low_conc3.pkl'\n",
    "# DATA_PATH = (\n",
    "#     r\"/home/rraiyan/personal_projects/tfo_inverse_modelling/inverse_modelling_tfo/tools/s_based_intensity_low_conc5.pkl\"\n",
    "# )\n",
    "\n",
    "# Using pencil source + equispaced detector(corrected) + 1e9 photons\n",
    "DATA_PATH = r'/home/rraiyan/simulations/tfo_sim/data/compiled_intensity/dan_iccps_pencil.pkl'\n",
    "\n",
    "data = pd.read_pickle(DATA_PATH)\n",
    "# Drop Thickness values which I did not calculate the close concnetration points\n",
    "equidistance_detector_normalization(data)\n",
    "\n",
    "# Drop Uterus Thickness for now\n",
    "data = data.drop(columns=\"Uterus Thickness\")\n",
    "\n",
    "# Interpolate intensity to remove noise\n",
    "# data = interpolate_exp(data, weights=(1, 0.8), interpolation_function=exp_piecewise_affine, break_indices=[4, 12, 20])\n",
    "# data['Intensity'] = data['Interpolated Intensity']\n",
    "# data = data.drop(columns='Interpolated Intensity')\n",
    "\n",
    "data_transformer = LongToWideIntensityTransformation()\n",
    "data = data_transformer.transform(data)\n",
    "labels = data_transformer.get_label_names()\n",
    "intensity_columns = data_transformer.get_feature_names()\n",
    "\n",
    "# Manual log(intensity) normalization\n",
    "# data['Intensity'] = np.log10(data['Intensity'])        # Far values wayy to small to affect anything. Take log\n",
    "\n",
    "\n",
    "# data, x_columns, labels = create_ratio_and_intensity(data, True)\n",
    "# # data, x_columns, labels = create_ratio(data, True)\n",
    "# data, x_columns, labels = create_spatial_intensity(data)"
   ]
  },
  {
   "cell_type": "code",
   "execution_count": 19,
   "metadata": {},
   "outputs": [],
   "source": [
    "# Round out the data points\n",
    "data[\"Maternal Hb Concentration\"] = data[\"Maternal Hb Concentration\"].round(2)\n",
    "data[\"Fetal Hb Concentration\"] = data[\"Fetal Hb Concentration\"].round(2)\n",
    "data[\"Maternal Saturation\"] = data[\"Maternal Saturation\"].round(2)\n",
    "data[\"Fetal Saturation\"] = data[\"Fetal Saturation\"].round(2)"
   ]
  },
  {
   "cell_type": "code",
   "execution_count": 20,
   "metadata": {},
   "outputs": [],
   "source": [
    "# Filter data so it does not crash the visualization\n",
    "data = data[(data[\"Maternal Hb Concentration\"] == 11.0) & (data[\"Maternal Saturation\"] == 1.0)]   "
   ]
  },
  {
   "cell_type": "code",
   "execution_count": 21,
   "metadata": {},
   "outputs": [],
   "source": [
    "# fetal_conc_group_mapping = {\n",
    "#     10.45 : 0,\n",
    "#     11.00: 0, \n",
    "#     11.40: 0,\n",
    "#     11.55: 1,\n",
    "#     12.00: 1,\n",
    "#     12.35: 1,\n",
    "#     12.60: 2,\n",
    "#     13.00: 2,\n",
    "#     13.30: 2,\n",
    "#     13.65: 3,\n",
    "#     14.00: 3,\n",
    "#     14.25: 3,\n",
    "#     14.70: 4,\n",
    "#     15.00: 4,\n",
    "#     15.75: 4,\n",
    "# }\n",
    "# data['FconcCenters'] = data['Fetal Hb Concentration'].round(2).map(fetal_conc_group_mapping)"
   ]
  },
  {
   "cell_type": "code",
   "execution_count": 22,
   "metadata": {},
   "outputs": [],
   "source": [
    "fetal_conc_group_mapping = {\n",
    "    10.45 : 0,\n",
    "    10.88 : 0,\n",
    "    11. : 0,\n",
    "    11.31: 1,\n",
    "    11.45: 1,\n",
    "    11.55: 1,\n",
    "    11.75: 2,\n",
    "    11.91: 2,\n",
    "    12.03: 2,\n",
    "    12.18: 3,\n",
    "    12.36: 3,\n",
    "    12.5: 3,\n",
    "    12.61: 4,\n",
    "    12.82: 4,\n",
    "    12.98: 4,\n",
    "    13.04: 5,\n",
    "    13.27: 5,\n",
    "    13.46: 5,\n",
    "    13.47: 6,\n",
    "    13.73: 6,\n",
    "    13.9: 6,\n",
    "    13.94: 7,\n",
    "    14.18: 7,\n",
    "    14.34: 7,\n",
    "    14.41: 8,\n",
    "    14.64: 8,\n",
    "    14.77: 8,\n",
    "    14.89: 9,\n",
    "    15.09: 9,\n",
    "    15.2: 9,\n",
    "    15.37: 10,\n",
    "    15.55: 10,\n",
    "    15.85: 10,\n",
    "    16.: 11,\n",
    "    16.32: 11,\n",
    "    16.8: 11, \n",
    "}\n",
    "data['FconcCenters'] = data['Fetal Hb Concentration'].round(2).map(fetal_conc_group_mapping)"
   ]
  },
  {
   "cell_type": "code",
   "execution_count": 23,
   "metadata": {},
   "outputs": [],
   "source": [
    "# fetal_ac_feature_builder = FetalACFeatureBuilder('FconcCenters',  'comb', '/')\n",
    "fetal_ac_feature_builder = FetalACFeatureBuilder(\"FconcCenters\", \"comb\", \"/\", intensity_columns, labels)\n",
    "# fetal_ac_feature_builder = FetalACFeatureBuilder('FconcCenters', True, 'comb')\n",
    "data = fetal_ac_feature_builder.build_feature(data)"
   ]
  },
  {
   "cell_type": "code",
   "execution_count": 24,
   "metadata": {},
   "outputs": [
    {
     "data": {
      "text/plain": [
       "Index(['Maternal Wall Thickness', 'Maternal Hb Concentration',\n",
       "       'Maternal Saturation', 'Fetal Saturation', 'FconcCenters',\n",
       "       'Fetal Hb Concentration 0', 'Fetal Hb Concentration 1', 'DivAC_WV1_0',\n",
       "       'DivAC_WV2_0', 'DivAC_WV1_1', 'DivAC_WV2_1', 'DivAC_WV1_2',\n",
       "       'DivAC_WV2_2', 'DivAC_WV1_3', 'DivAC_WV2_3', 'DivAC_WV1_4',\n",
       "       'DivAC_WV2_4', 'DivAC_WV1_5', 'DivAC_WV2_5', 'DivAC_WV1_6',\n",
       "       'DivAC_WV2_6', 'DivAC_WV1_7', 'DivAC_WV2_7', 'DivAC_WV1_8',\n",
       "       'DivAC_WV2_8', 'DivAC_WV1_9', 'DivAC_WV2_9', 'DivAC_WV1_10',\n",
       "       'DivAC_WV2_10', 'DivAC_WV1_11', 'DivAC_WV2_11', 'DivAC_WV1_12',\n",
       "       'DivAC_WV2_12', 'DivAC_WV1_13', 'DivAC_WV2_13', 'DivAC_WV1_14',\n",
       "       'DivAC_WV2_14', 'DivAC_WV1_15', 'DivAC_WV2_15', 'DivAC_WV1_16',\n",
       "       'DivAC_WV2_16', 'DivAC_WV1_17', 'DivAC_WV2_17', 'DivAC_WV1_18',\n",
       "       'DivAC_WV2_18', 'DivAC_WV1_19', 'DivAC_WV2_19'],\n",
       "      dtype='object')"
      ]
     },
     "execution_count": 24,
     "metadata": {},
     "output_type": "execute_result"
    }
   ],
   "source": [
    "data.columns"
   ]
  },
  {
   "cell_type": "code",
   "execution_count": 25,
   "metadata": {},
   "outputs": [],
   "source": [
    "data = pd.wide_to_long(\n",
    "    data, [\"DivAC_WV1\", \"DivAC_WV2\"], i=fetal_ac_feature_builder.get_label_names(), sep=\"_\", j=\"SDD_index\"\n",
    ").reset_index()\n",
    "# data[\"AC_WV1\"] = np.log10(np.abs(data[\"AC_WV1\"]))\n",
    "# data[\"AC_WV2\"] = np.log10(np.abs(data[\"AC_WV2\"]))\n",
    "data[\"ConcDiff\"] = data[\"Fetal Hb Concentration 0\"] - data[\"Fetal Hb Concentration 1\"]"
   ]
  },
  {
   "cell_type": "code",
   "execution_count": 27,
   "metadata": {},
   "outputs": [
    {
     "data": {
      "text/html": [
       "<div>\n",
       "<style scoped>\n",
       "    .dataframe tbody tr th:only-of-type {\n",
       "        vertical-align: middle;\n",
       "    }\n",
       "\n",
       "    .dataframe tbody tr th {\n",
       "        vertical-align: top;\n",
       "    }\n",
       "\n",
       "    .dataframe thead th {\n",
       "        text-align: right;\n",
       "    }\n",
       "</style>\n",
       "<table border=\"1\" class=\"dataframe\">\n",
       "  <thead>\n",
       "    <tr style=\"text-align: right;\">\n",
       "      <th></th>\n",
       "      <th>DivAC_WV1</th>\n",
       "      <th>DivAC_WV2</th>\n",
       "    </tr>\n",
       "  </thead>\n",
       "  <tbody>\n",
       "    <tr>\n",
       "      <th>count</th>\n",
       "      <td>69120.000000</td>\n",
       "      <td>69120.000000</td>\n",
       "    </tr>\n",
       "    <tr>\n",
       "      <th>mean</th>\n",
       "      <td>1.005104</td>\n",
       "      <td>1.008564</td>\n",
       "    </tr>\n",
       "    <tr>\n",
       "      <th>std</th>\n",
       "      <td>0.006762</td>\n",
       "      <td>0.008368</td>\n",
       "    </tr>\n",
       "    <tr>\n",
       "      <th>min</th>\n",
       "      <td>0.999994</td>\n",
       "      <td>0.999993</td>\n",
       "    </tr>\n",
       "    <tr>\n",
       "      <th>25%</th>\n",
       "      <td>1.000047</td>\n",
       "      <td>1.000963</td>\n",
       "    </tr>\n",
       "    <tr>\n",
       "      <th>50%</th>\n",
       "      <td>1.003199</td>\n",
       "      <td>1.007164</td>\n",
       "    </tr>\n",
       "    <tr>\n",
       "      <th>75%</th>\n",
       "      <td>1.007680</td>\n",
       "      <td>1.012823</td>\n",
       "    </tr>\n",
       "    <tr>\n",
       "      <th>max</th>\n",
       "      <td>1.102881</td>\n",
       "      <td>1.054219</td>\n",
       "    </tr>\n",
       "  </tbody>\n",
       "</table>\n",
       "</div>"
      ],
      "text/plain": [
       "          DivAC_WV1     DivAC_WV2\n",
       "count  69120.000000  69120.000000\n",
       "mean       1.005104      1.008564\n",
       "std        0.006762      0.008368\n",
       "min        0.999994      0.999993\n",
       "25%        1.000047      1.000963\n",
       "50%        1.003199      1.007164\n",
       "75%        1.007680      1.012823\n",
       "max        1.102881      1.054219"
      ]
     },
     "execution_count": 27,
     "metadata": {},
     "output_type": "execute_result"
    }
   ],
   "source": [
    "data[[\"DivAC_WV1\", \"DivAC_WV2\"]].describe()"
   ]
  },
  {
   "cell_type": "code",
   "execution_count": 28,
   "metadata": {},
   "outputs": [
    {
     "data": {
      "text/plain": [
       "count    69120.000000\n",
       "mean         1.003443\n",
       "std          0.005054\n",
       "min          0.933196\n",
       "25%          1.000372\n",
       "50%          1.002707\n",
       "75%          1.005398\n",
       "max          1.037089\n",
       "Name: AC by AC, dtype: float64"
      ]
     },
     "execution_count": 28,
     "metadata": {},
     "output_type": "execute_result"
    }
   ],
   "source": [
    "# data[\"AC by AC\"] = np.log10(data[\"AC_WV2\"])  - np.log10(data[\"AC_WV1\"])   # Subtracting ACs since they are log10\n",
    "# data[\"AC by AC\"] = np.square(data[\"AC_WV2\"])   - np.square(data[\"AC_WV1\"])   # Subtracting ACs since they are log10\n",
    "data[\"AC by AC\"] = data[\"DivAC_WV2\"] / data[\"DivAC_WV1\"]   # Subtracting ACs since they are log10\n",
    "data[\"AC by AC\"].describe()"
   ]
  },
  {
   "cell_type": "code",
   "execution_count": 30,
   "metadata": {},
   "outputs": [
    {
     "data": {
      "application/vnd.jupyter.widget-view+json": {
       "model_id": "c248f33169ed4510bc3b3b0026bbd6e4",
       "version_major": 2,
       "version_minor": 0
      },
      "text/plain": [
       "Box(children=(HTML(value='<div id=\"ifr-pyg-1\" style=\"height: auto\">\\n    <head>\\n        <meta http-equiv=\"Con…"
      ]
     },
     "metadata": {},
     "output_type": "display_data"
    },
    {
     "data": {
      "text/html": [],
      "text/plain": [
       "<IPython.core.display.HTML object>"
      ]
     },
     "metadata": {},
     "output_type": "display_data"
    },
    {
     "data": {
      "text/plain": [
       "<pygwalker.api.pygwalker.PygWalker at 0x7fd6d3a98b50>"
      ]
     },
     "execution_count": 30,
     "metadata": {},
     "output_type": "execute_result"
    }
   ],
   "source": [
    "pyg.walk(data)"
   ]
  },
  {
   "cell_type": "code",
   "execution_count": null,
   "metadata": {},
   "outputs": [],
   "source": []
  }
 ],
 "metadata": {
  "kernelspec": {
   "display_name": "cybercat",
   "language": "python",
   "name": "python3"
  },
  "language_info": {
   "codemirror_mode": {
    "name": "ipython",
    "version": 3
   },
   "file_extension": ".py",
   "mimetype": "text/x-python",
   "name": "python",
   "nbconvert_exporter": "python",
   "pygments_lexer": "ipython3",
   "version": "3.8.10"
  }
 },
 "nbformat": 4,
 "nbformat_minor": 2
}
