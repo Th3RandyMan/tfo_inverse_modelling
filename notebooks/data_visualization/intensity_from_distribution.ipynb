{
 "cells": [
  {
   "cell_type": "markdown",
   "id": "24d27a6e-7bc4-49ac-9b20-9ace595a3007",
   "metadata": {},
   "source": [
    "# Processing Simulation Data to Generate Intensity Values"
   ]
  },
  {
   "cell_type": "code",
   "execution_count": 1,
   "id": "8aaa80b0-60d7-46b4-adbe-9062dbfcd222",
   "metadata": {},
   "outputs": [],
   "source": [
    "import pandas as pd\n",
    "import numpy as np\n",
    "import matplotlib.pyplot as plt"
   ]
  },
  {
   "cell_type": "markdown",
   "id": "4b41c1a8-9557-4ac3-89a4-0f7eb2356d7a",
   "metadata": {},
   "source": [
    "## File Names & Tests\n",
    "\n",
    "0. The original photon file(Before calculating distributions) : 0.3GBs\n",
    "1. fa_1_wv_1_sa_0.1_ns_1_ms_5.csv   :  20 points, Log spacing, starts with 0 though\n",
    "2. fa_1_wv_1_sa_0.1_ns_1_ms_5_lin.csv   :    50 points, Linear spacing, min value to max value per m.\n",
    "3. fa_1_wv_1_sa_0.1_ns_1_ms_5_fd.csv    : Automatically determine # of bins, min value to max, linear. Its a massive file!\n",
    "\n",
    "\n"
   ]
  },
  {
   "cell_type": "code",
   "execution_count": 2,
   "id": "429e407c-bc13-4a75-ba8e-cbe4c2a85789",
   "metadata": {},
   "outputs": [],
   "source": [
    "simulation_data = pd.read_csv('../data/fa_1_wv_1_sa_0.1_ns_1_ms_5_fd.csv', dtype={'Ppath Medium' : np.int32, 'Deepest Layer': np.int32, 'Count': np.int32})"
   ]
  },
  {
   "cell_type": "code",
   "execution_count": 3,
   "id": "cdad1b5c-9dff-4213-82cc-f158551e319c",
   "metadata": {},
   "outputs": [
    {
     "data": {
      "text/html": [
       "<div>\n",
       "<style scoped>\n",
       "    .dataframe tbody tr th:only-of-type {\n",
       "        vertical-align: middle;\n",
       "    }\n",
       "\n",
       "    .dataframe tbody tr th {\n",
       "        vertical-align: top;\n",
       "    }\n",
       "\n",
       "    .dataframe thead th {\n",
       "        text-align: right;\n",
       "    }\n",
       "</style>\n",
       "<table border=\"1\" class=\"dataframe\">\n",
       "  <thead>\n",
       "    <tr style=\"text-align: right;\">\n",
       "      <th></th>\n",
       "      <th>X</th>\n",
       "      <th>Y</th>\n",
       "      <th>Z</th>\n",
       "      <th>Ppath Medium</th>\n",
       "      <th>Deepest Layer</th>\n",
       "      <th>Bin Center</th>\n",
       "      <th>Count</th>\n",
       "    </tr>\n",
       "  </thead>\n",
       "  <tbody>\n",
       "    <tr>\n",
       "      <th>0</th>\n",
       "      <td>110.0</td>\n",
       "      <td>100.0</td>\n",
       "      <td>71.0</td>\n",
       "      <td>1</td>\n",
       "      <td>1</td>\n",
       "      <td>0.126453</td>\n",
       "      <td>10384</td>\n",
       "    </tr>\n",
       "    <tr>\n",
       "      <th>1</th>\n",
       "      <td>110.0</td>\n",
       "      <td>100.0</td>\n",
       "      <td>71.0</td>\n",
       "      <td>1</td>\n",
       "      <td>1</td>\n",
       "      <td>0.379100</td>\n",
       "      <td>12462</td>\n",
       "    </tr>\n",
       "    <tr>\n",
       "      <th>2</th>\n",
       "      <td>110.0</td>\n",
       "      <td>100.0</td>\n",
       "      <td>71.0</td>\n",
       "      <td>1</td>\n",
       "      <td>1</td>\n",
       "      <td>0.631748</td>\n",
       "      <td>13394</td>\n",
       "    </tr>\n",
       "    <tr>\n",
       "      <th>3</th>\n",
       "      <td>110.0</td>\n",
       "      <td>100.0</td>\n",
       "      <td>71.0</td>\n",
       "      <td>1</td>\n",
       "      <td>1</td>\n",
       "      <td>0.884395</td>\n",
       "      <td>13305</td>\n",
       "    </tr>\n",
       "    <tr>\n",
       "      <th>4</th>\n",
       "      <td>110.0</td>\n",
       "      <td>100.0</td>\n",
       "      <td>71.0</td>\n",
       "      <td>1</td>\n",
       "      <td>1</td>\n",
       "      <td>1.137042</td>\n",
       "      <td>13143</td>\n",
       "    </tr>\n",
       "  </tbody>\n",
       "</table>\n",
       "</div>"
      ],
      "text/plain": [
       "       X      Y     Z  Ppath Medium  Deepest Layer  Bin Center  Count\n",
       "0  110.0  100.0  71.0             1              1    0.126453  10384\n",
       "1  110.0  100.0  71.0             1              1    0.379100  12462\n",
       "2  110.0  100.0  71.0             1              1    0.631748  13394\n",
       "3  110.0  100.0  71.0             1              1    0.884395  13305\n",
       "4  110.0  100.0  71.0             1              1    1.137042  13143"
      ]
     },
     "execution_count": 3,
     "metadata": {},
     "output_type": "execute_result"
    }
   ],
   "source": [
    "simulation_data.head()"
   ]
  },
  {
   "cell_type": "markdown",
   "id": "fe98d00b-8b63-41aa-a26d-fc287ae4eaac",
   "metadata": {},
   "source": [
    "## Determining SDD\n",
    "\n",
    "Out of X and Y, only one of the co-ordinates should change. We use this to determine the SDD. The other co-ordinate would reprent the source position(on that axis). Replace the X,Y and Z in our data with their corresponding SDD."
   ]
  },
  {
   "cell_type": "code",
   "execution_count": 4,
   "id": "98d0abe6-4b33-4a47-ace1-f418ca3a2497",
   "metadata": {},
   "outputs": [
    {
     "data": {
      "text/html": [
       "<div>\n",
       "<style scoped>\n",
       "    .dataframe tbody tr th:only-of-type {\n",
       "        vertical-align: middle;\n",
       "    }\n",
       "\n",
       "    .dataframe tbody tr th {\n",
       "        vertical-align: top;\n",
       "    }\n",
       "\n",
       "    .dataframe thead th {\n",
       "        text-align: right;\n",
       "    }\n",
       "</style>\n",
       "<table border=\"1\" class=\"dataframe\">\n",
       "  <thead>\n",
       "    <tr style=\"text-align: right;\">\n",
       "      <th></th>\n",
       "      <th>Ppath Medium</th>\n",
       "      <th>Deepest Layer</th>\n",
       "      <th>Bin Center</th>\n",
       "      <th>Count</th>\n",
       "      <th>SDD</th>\n",
       "    </tr>\n",
       "  </thead>\n",
       "  <tbody>\n",
       "    <tr>\n",
       "      <th>0</th>\n",
       "      <td>1</td>\n",
       "      <td>1</td>\n",
       "      <td>0.126453</td>\n",
       "      <td>10384</td>\n",
       "      <td>10</td>\n",
       "    </tr>\n",
       "    <tr>\n",
       "      <th>1</th>\n",
       "      <td>1</td>\n",
       "      <td>1</td>\n",
       "      <td>0.379100</td>\n",
       "      <td>12462</td>\n",
       "      <td>10</td>\n",
       "    </tr>\n",
       "    <tr>\n",
       "      <th>2</th>\n",
       "      <td>1</td>\n",
       "      <td>1</td>\n",
       "      <td>0.631748</td>\n",
       "      <td>13394</td>\n",
       "      <td>10</td>\n",
       "    </tr>\n",
       "    <tr>\n",
       "      <th>3</th>\n",
       "      <td>1</td>\n",
       "      <td>1</td>\n",
       "      <td>0.884395</td>\n",
       "      <td>13305</td>\n",
       "      <td>10</td>\n",
       "    </tr>\n",
       "    <tr>\n",
       "      <th>4</th>\n",
       "      <td>1</td>\n",
       "      <td>1</td>\n",
       "      <td>1.137042</td>\n",
       "      <td>13143</td>\n",
       "      <td>10</td>\n",
       "    </tr>\n",
       "    <tr>\n",
       "      <th>5</th>\n",
       "      <td>1</td>\n",
       "      <td>1</td>\n",
       "      <td>1.389690</td>\n",
       "      <td>12419</td>\n",
       "      <td>10</td>\n",
       "    </tr>\n",
       "    <tr>\n",
       "      <th>6</th>\n",
       "      <td>1</td>\n",
       "      <td>1</td>\n",
       "      <td>1.642337</td>\n",
       "      <td>11686</td>\n",
       "      <td>10</td>\n",
       "    </tr>\n",
       "    <tr>\n",
       "      <th>7</th>\n",
       "      <td>1</td>\n",
       "      <td>1</td>\n",
       "      <td>1.894985</td>\n",
       "      <td>10941</td>\n",
       "      <td>10</td>\n",
       "    </tr>\n",
       "    <tr>\n",
       "      <th>8</th>\n",
       "      <td>1</td>\n",
       "      <td>1</td>\n",
       "      <td>2.147632</td>\n",
       "      <td>10507</td>\n",
       "      <td>10</td>\n",
       "    </tr>\n",
       "    <tr>\n",
       "      <th>9</th>\n",
       "      <td>1</td>\n",
       "      <td>1</td>\n",
       "      <td>2.400279</td>\n",
       "      <td>9930</td>\n",
       "      <td>10</td>\n",
       "    </tr>\n",
       "  </tbody>\n",
       "</table>\n",
       "</div>"
      ],
      "text/plain": [
       "   Ppath Medium  Deepest Layer  Bin Center  Count  SDD\n",
       "0             1              1    0.126453  10384   10\n",
       "1             1              1    0.379100  12462   10\n",
       "2             1              1    0.631748  13394   10\n",
       "3             1              1    0.884395  13305   10\n",
       "4             1              1    1.137042  13143   10\n",
       "5             1              1    1.389690  12419   10\n",
       "6             1              1    1.642337  11686   10\n",
       "7             1              1    1.894985  10941   10\n",
       "8             1              1    2.147632  10507   10\n",
       "9             1              1    2.400279   9930   10"
      ]
     },
     "execution_count": 4,
     "metadata": {},
     "output_type": "execute_result"
    }
   ],
   "source": [
    "varying_coordinate = 'X' if len(simulation_data['X'].unique()) > 1 else 'Y'\n",
    "fixed_coordinate = 'X' if varying_coordinate == 'Y' else 'Y'\n",
    "source_coordinate = simulation_data[fixed_coordinate][0] \n",
    "\n",
    "\n",
    "simulation_data['SDD'] = (simulation_data[varying_coordinate] - source_coordinate).astype(np.int32)  # in mm\n",
    "simulation_data.drop(['X', 'Y', 'Z'], axis=1, inplace=True)\n",
    "simulation_data.head(10)"
   ]
  },
  {
   "cell_type": "markdown",
   "id": "b0fb62cc-27d1-4f69-8768-181f3ab0cd03",
   "metadata": {},
   "source": [
    "## Visualizing the Path Distributions\n",
    "How do the porbability density functions look? What is the best way to define the distribution for them?\n",
    "(# TODO)\n"
   ]
  },
  {
   "cell_type": "markdown",
   "id": "da3168b2-0792-4fc3-bffc-2e99d9f4bdc3",
   "metadata": {},
   "source": [
    "## Estimating Intensity in Post-process from Absorption Co-eff\n",
    "\n",
    "First lets define a test $\\mu$ for each layer. For our data, we have 8 layers. Define each co-eff as a Key -> Value pair of Layer Number (1 indexed) -> $\\mu$."
   ]
  },
  {
   "cell_type": "markdown",
   "id": "6961d08f-43fb-4e8c-a9be-5cd14b2af399",
   "metadata": {},
   "source": [
    "Original optical properties from the simulations  \n",
    "{'mua': 0.0, 'mus': 0.0, 'g': 1.0, 'n': 1.0},  \n",
    "{'mua': 0.017, 'mus': 23.0, 'g': 0.9, 'n': 1.4},  \n",
    "{'mua': 0.0085, 'mus': 12.0, 'g': 0.9, 'n': 1.4},  \n",
    "{'mua': 0.016, 'mus': 10.8, 'g': 0.9, 'n': 1.4},  \n",
    "{'mua': 0.0125, 'mus': 0.1, 'g': 0.9, 'n': 1.33},  \n",
    "{'mua': 0.0157, 'mus': 6.81, 'g': 0.9, 'n': 1.3},  \n",
    "{'mua': 0.0175, 'mus': 35.0, 'g': 0.9, 'n': 1.3},  \n",
    "{'mua': 0.15058259000000002, 'mus': 6.1, 'g': 0.8, 'n': 1.3},  \n",
    "{'mua': 0.0187, 'mus': 12.2, 'g': 0.9, 'n': 1.3}  "
   ]
  },
  {
   "cell_type": "code",
   "execution_count": 5,
   "id": "87821173-0e93-4300-b77e-046654255a7d",
   "metadata": {},
   "outputs": [],
   "source": [
    "mu_map = {1: 0.0017, 2: 0.00085, 3: 0.0016, 4: 0.00125, 5: 0.00157, 6: 0.00175, 7: 0.015058259000000002, 8: 0.00187}"
   ]
  },
  {
   "cell_type": "markdown",
   "id": "4319f10a-7dad-45eb-9710-6983cb884e87",
   "metadata": {},
   "source": [
    "### Finding Out the normalizing factor $I_{n,0}$\n",
    "\n",
    "The $I_{n,0}$ factor should normalize the distribution (The counts in this case) such that the count sum is 1 for all n.\n",
    "$$\n",
    "I_{n,0} = \\sum_d \\sum_m p_{pl,m,n}(d)\n",
    "$$\n",
    "where $1 \\leq m \\leq n$. Where n is the deepest layer the photons reached and m is each layer within that path. The $p_{pl,m,n}$ from the paper is the distribution at each partial path length. It is analogous to our count."
   ]
  },
  {
   "cell_type": "code",
   "execution_count": 6,
   "id": "ef810a96-48e7-4c9a-883c-33a6c12c549e",
   "metadata": {},
   "outputs": [
    {
     "data": {
      "text/plain": [
       "0    476081\n",
       "1    476081\n",
       "2    476081\n",
       "3    476081\n",
       "4    476081\n",
       "Name: Count, dtype: int32"
      ]
     },
     "execution_count": 6,
     "metadata": {},
     "output_type": "execute_result"
    }
   ],
   "source": [
    "# Step 1 - Normalize path distribution and Multiply multiply each distribution with exp(-$\\mu$d)\n",
    "normalization_factor = simulation_data.groupby(['Deepest Layer', 'SDD', 'Ppath Medium'])['Count'].transform('sum')\n",
    "normalization_factor_grouped = simulation_data.groupby(['Deepest Layer', 'SDD'])['Count'].sum()\n",
    "normalization_factor.head()"
   ]
  },
  {
   "cell_type": "code",
   "execution_count": 7,
   "id": "90a1faab-4450-46b7-afb4-5d29e84ea415",
   "metadata": {},
   "outputs": [
    {
     "data": {
      "text/plain": [
       "Deepest Layer  SDD\n",
       "1              10      476081\n",
       "               15        1389\n",
       "               19           5\n",
       "2              10     3006410\n",
       "               15      450724\n",
       "Name: Count, dtype: int32"
      ]
     },
     "execution_count": 7,
     "metadata": {},
     "output_type": "execute_result"
    }
   ],
   "source": [
    "normalization_factor_grouped.head()"
   ]
  },
  {
   "cell_type": "markdown",
   "id": "cf9e840f-902c-4a7f-9c2b-cd33be0ef0b1",
   "metadata": {},
   "source": [
    "We keep two versions of this normalization factor. The first series is the same length as the CSV file. i.e., it has one element corresponding to each row. Which makes it easy to divide the original Count column with this. The second series is group indexed. Which is a much shorter length series. Its length is equal to the number of combinations of SDD and n. We will need this in a later step.\n",
    "\n",
    "### Normalizing\n",
    "$$\n",
    "p_{pl,m,n}'(d) = \\frac{p_{pl,m,n}(d)}{I_{n,0}}\n",
    "$$"
   ]
  },
  {
   "cell_type": "code",
   "execution_count": 8,
   "id": "89a0f3f7-d47b-4669-9e1b-eb108383ca3d",
   "metadata": {},
   "outputs": [
    {
     "data": {
      "text/html": [
       "<div>\n",
       "<style scoped>\n",
       "    .dataframe tbody tr th:only-of-type {\n",
       "        vertical-align: middle;\n",
       "    }\n",
       "\n",
       "    .dataframe tbody tr th {\n",
       "        vertical-align: top;\n",
       "    }\n",
       "\n",
       "    .dataframe thead th {\n",
       "        text-align: right;\n",
       "    }\n",
       "</style>\n",
       "<table border=\"1\" class=\"dataframe\">\n",
       "  <thead>\n",
       "    <tr style=\"text-align: right;\">\n",
       "      <th></th>\n",
       "      <th>Ppath Medium</th>\n",
       "      <th>Deepest Layer</th>\n",
       "      <th>Bin Center</th>\n",
       "      <th>Count</th>\n",
       "      <th>SDD</th>\n",
       "    </tr>\n",
       "  </thead>\n",
       "  <tbody>\n",
       "    <tr>\n",
       "      <th>0</th>\n",
       "      <td>1</td>\n",
       "      <td>1</td>\n",
       "      <td>0.126453</td>\n",
       "      <td>0.021811</td>\n",
       "      <td>10</td>\n",
       "    </tr>\n",
       "    <tr>\n",
       "      <th>1</th>\n",
       "      <td>1</td>\n",
       "      <td>1</td>\n",
       "      <td>0.379100</td>\n",
       "      <td>0.026176</td>\n",
       "      <td>10</td>\n",
       "    </tr>\n",
       "    <tr>\n",
       "      <th>2</th>\n",
       "      <td>1</td>\n",
       "      <td>1</td>\n",
       "      <td>0.631748</td>\n",
       "      <td>0.028134</td>\n",
       "      <td>10</td>\n",
       "    </tr>\n",
       "    <tr>\n",
       "      <th>3</th>\n",
       "      <td>1</td>\n",
       "      <td>1</td>\n",
       "      <td>0.884395</td>\n",
       "      <td>0.027947</td>\n",
       "      <td>10</td>\n",
       "    </tr>\n",
       "    <tr>\n",
       "      <th>4</th>\n",
       "      <td>1</td>\n",
       "      <td>1</td>\n",
       "      <td>1.137042</td>\n",
       "      <td>0.027607</td>\n",
       "      <td>10</td>\n",
       "    </tr>\n",
       "    <tr>\n",
       "      <th>5</th>\n",
       "      <td>1</td>\n",
       "      <td>1</td>\n",
       "      <td>1.389690</td>\n",
       "      <td>0.026086</td>\n",
       "      <td>10</td>\n",
       "    </tr>\n",
       "    <tr>\n",
       "      <th>6</th>\n",
       "      <td>1</td>\n",
       "      <td>1</td>\n",
       "      <td>1.642337</td>\n",
       "      <td>0.024546</td>\n",
       "      <td>10</td>\n",
       "    </tr>\n",
       "    <tr>\n",
       "      <th>7</th>\n",
       "      <td>1</td>\n",
       "      <td>1</td>\n",
       "      <td>1.894985</td>\n",
       "      <td>0.022981</td>\n",
       "      <td>10</td>\n",
       "    </tr>\n",
       "    <tr>\n",
       "      <th>8</th>\n",
       "      <td>1</td>\n",
       "      <td>1</td>\n",
       "      <td>2.147632</td>\n",
       "      <td>0.022070</td>\n",
       "      <td>10</td>\n",
       "    </tr>\n",
       "    <tr>\n",
       "      <th>9</th>\n",
       "      <td>1</td>\n",
       "      <td>1</td>\n",
       "      <td>2.400279</td>\n",
       "      <td>0.020858</td>\n",
       "      <td>10</td>\n",
       "    </tr>\n",
       "  </tbody>\n",
       "</table>\n",
       "</div>"
      ],
      "text/plain": [
       "   Ppath Medium  Deepest Layer  Bin Center     Count  SDD\n",
       "0             1              1    0.126453  0.021811   10\n",
       "1             1              1    0.379100  0.026176   10\n",
       "2             1              1    0.631748  0.028134   10\n",
       "3             1              1    0.884395  0.027947   10\n",
       "4             1              1    1.137042  0.027607   10\n",
       "5             1              1    1.389690  0.026086   10\n",
       "6             1              1    1.642337  0.024546   10\n",
       "7             1              1    1.894985  0.022981   10\n",
       "8             1              1    2.147632  0.022070   10\n",
       "9             1              1    2.400279  0.020858   10"
      ]
     },
     "execution_count": 8,
     "metadata": {},
     "output_type": "execute_result"
    }
   ],
   "source": [
    "# Normalization\n",
    "simulation_data['Count'] = simulation_data['Count']/normalization_factor\n",
    "simulation_data.head(10)"
   ]
  },
  {
   "cell_type": "markdown",
   "id": "38cc64f7-88c4-453e-b812-8b09fa270bfc",
   "metadata": {},
   "source": [
    "### Modifying Path Length Distributions\n",
    "\n",
    "$$\n",
    "p''_{pl,m,n}(d) = p'_{pl,m,n}(d)exp(-d\\mu_{a,m})\n",
    "$$"
   ]
  },
  {
   "cell_type": "code",
   "execution_count": 9,
   "id": "f4e2e675-bdd5-4d3b-9075-b3bffcf88ce0",
   "metadata": {},
   "outputs": [
    {
     "data": {
      "text/html": [
       "<div>\n",
       "<style scoped>\n",
       "    .dataframe tbody tr th:only-of-type {\n",
       "        vertical-align: middle;\n",
       "    }\n",
       "\n",
       "    .dataframe tbody tr th {\n",
       "        vertical-align: top;\n",
       "    }\n",
       "\n",
       "    .dataframe thead th {\n",
       "        text-align: right;\n",
       "    }\n",
       "</style>\n",
       "<table border=\"1\" class=\"dataframe\">\n",
       "  <thead>\n",
       "    <tr style=\"text-align: right;\">\n",
       "      <th></th>\n",
       "      <th>Ppath Medium</th>\n",
       "      <th>Deepest Layer</th>\n",
       "      <th>Bin Center</th>\n",
       "      <th>Count</th>\n",
       "      <th>SDD</th>\n",
       "      <th>Weighted Ppath</th>\n",
       "    </tr>\n",
       "  </thead>\n",
       "  <tbody>\n",
       "    <tr>\n",
       "      <th>0</th>\n",
       "      <td>1</td>\n",
       "      <td>1</td>\n",
       "      <td>0.126453</td>\n",
       "      <td>0.021811</td>\n",
       "      <td>10</td>\n",
       "      <td>0.021807</td>\n",
       "    </tr>\n",
       "    <tr>\n",
       "      <th>1</th>\n",
       "      <td>1</td>\n",
       "      <td>1</td>\n",
       "      <td>0.379100</td>\n",
       "      <td>0.026176</td>\n",
       "      <td>10</td>\n",
       "      <td>0.026159</td>\n",
       "    </tr>\n",
       "    <tr>\n",
       "      <th>2</th>\n",
       "      <td>1</td>\n",
       "      <td>1</td>\n",
       "      <td>0.631748</td>\n",
       "      <td>0.028134</td>\n",
       "      <td>10</td>\n",
       "      <td>0.028104</td>\n",
       "    </tr>\n",
       "    <tr>\n",
       "      <th>3</th>\n",
       "      <td>1</td>\n",
       "      <td>1</td>\n",
       "      <td>0.884395</td>\n",
       "      <td>0.027947</td>\n",
       "      <td>10</td>\n",
       "      <td>0.027905</td>\n",
       "    </tr>\n",
       "    <tr>\n",
       "      <th>4</th>\n",
       "      <td>1</td>\n",
       "      <td>1</td>\n",
       "      <td>1.137042</td>\n",
       "      <td>0.027607</td>\n",
       "      <td>10</td>\n",
       "      <td>0.027553</td>\n",
       "    </tr>\n",
       "  </tbody>\n",
       "</table>\n",
       "</div>"
      ],
      "text/plain": [
       "   Ppath Medium  Deepest Layer  Bin Center     Count  SDD  Weighted Ppath\n",
       "0             1              1    0.126453  0.021811   10        0.021807\n",
       "1             1              1    0.379100  0.026176   10        0.026159\n",
       "2             1              1    0.631748  0.028134   10        0.028104\n",
       "3             1              1    0.884395  0.027947   10        0.027905\n",
       "4             1              1    1.137042  0.027607   10        0.027553"
      ]
     },
     "execution_count": 9,
     "metadata": {},
     "output_type": "execute_result"
    }
   ],
   "source": [
    "simulation_data['Weighted Ppath'] = simulation_data['Count'] * np.exp(-simulation_data['Bin Center']*[mu_map[medium] for medium in simulation_data['Ppath Medium']]) \n",
    "simulation_data.head()"
   ]
  },
  {
   "cell_type": "markdown",
   "id": "aa7bad06-8862-476f-8e77-61de3d6b1927",
   "metadata": {},
   "source": [
    "### Intensity Per Deepest Layer\n",
    "\n",
    "$$\n",
    "I_n = I_{n,0}\\prod_{m=1}^n\\sum_j p_{pl,m,n}''(d_j)\n",
    "$$"
   ]
  },
  {
   "cell_type": "code",
   "execution_count": 10,
   "id": "031ca0de-105e-4b96-b906-65df6d60975c",
   "metadata": {},
   "outputs": [
    {
     "data": {
      "text/html": [
       "<div>\n",
       "<style scoped>\n",
       "    .dataframe tbody tr th:only-of-type {\n",
       "        vertical-align: middle;\n",
       "    }\n",
       "\n",
       "    .dataframe tbody tr th {\n",
       "        vertical-align: top;\n",
       "    }\n",
       "\n",
       "    .dataframe thead th {\n",
       "        text-align: right;\n",
       "    }\n",
       "</style>\n",
       "<table border=\"1\" class=\"dataframe\">\n",
       "  <thead>\n",
       "    <tr style=\"text-align: right;\">\n",
       "      <th></th>\n",
       "      <th>Ppath Medium</th>\n",
       "      <th>Deepest Layer</th>\n",
       "      <th>SDD</th>\n",
       "      <th>Weighted Ppath</th>\n",
       "    </tr>\n",
       "  </thead>\n",
       "  <tbody>\n",
       "    <tr>\n",
       "      <th>0</th>\n",
       "      <td>1</td>\n",
       "      <td>1</td>\n",
       "      <td>10</td>\n",
       "      <td>0.985799</td>\n",
       "    </tr>\n",
       "    <tr>\n",
       "      <th>1</th>\n",
       "      <td>1</td>\n",
       "      <td>2</td>\n",
       "      <td>10</td>\n",
       "      <td>0.960470</td>\n",
       "    </tr>\n",
       "    <tr>\n",
       "      <th>2</th>\n",
       "      <td>2</td>\n",
       "      <td>2</td>\n",
       "      <td>10</td>\n",
       "      <td>0.973547</td>\n",
       "    </tr>\n",
       "    <tr>\n",
       "      <th>3</th>\n",
       "      <td>1</td>\n",
       "      <td>3</td>\n",
       "      <td>10</td>\n",
       "      <td>0.956185</td>\n",
       "    </tr>\n",
       "    <tr>\n",
       "      <th>4</th>\n",
       "      <td>2</td>\n",
       "      <td>3</td>\n",
       "      <td>10</td>\n",
       "      <td>0.921991</td>\n",
       "    </tr>\n",
       "    <tr>\n",
       "      <th>5</th>\n",
       "      <td>3</td>\n",
       "      <td>3</td>\n",
       "      <td>10</td>\n",
       "      <td>0.939754</td>\n",
       "    </tr>\n",
       "    <tr>\n",
       "      <th>6</th>\n",
       "      <td>1</td>\n",
       "      <td>4</td>\n",
       "      <td>10</td>\n",
       "      <td>0.952345</td>\n",
       "    </tr>\n",
       "    <tr>\n",
       "      <th>7</th>\n",
       "      <td>2</td>\n",
       "      <td>4</td>\n",
       "      <td>10</td>\n",
       "      <td>0.896637</td>\n",
       "    </tr>\n",
       "    <tr>\n",
       "      <th>8</th>\n",
       "      <td>3</td>\n",
       "      <td>4</td>\n",
       "      <td>10</td>\n",
       "      <td>0.792467</td>\n",
       "    </tr>\n",
       "    <tr>\n",
       "      <th>9</th>\n",
       "      <td>4</td>\n",
       "      <td>4</td>\n",
       "      <td>10</td>\n",
       "      <td>0.995093</td>\n",
       "    </tr>\n",
       "    <tr>\n",
       "      <th>10</th>\n",
       "      <td>1</td>\n",
       "      <td>5</td>\n",
       "      <td>10</td>\n",
       "      <td>0.953373</td>\n",
       "    </tr>\n",
       "    <tr>\n",
       "      <th>11</th>\n",
       "      <td>2</td>\n",
       "      <td>5</td>\n",
       "      <td>10</td>\n",
       "      <td>0.898011</td>\n",
       "    </tr>\n",
       "    <tr>\n",
       "      <th>12</th>\n",
       "      <td>3</td>\n",
       "      <td>5</td>\n",
       "      <td>10</td>\n",
       "      <td>0.778370</td>\n",
       "    </tr>\n",
       "    <tr>\n",
       "      <th>13</th>\n",
       "      <td>4</td>\n",
       "      <td>5</td>\n",
       "      <td>10</td>\n",
       "      <td>0.991676</td>\n",
       "    </tr>\n",
       "    <tr>\n",
       "      <th>14</th>\n",
       "      <td>5</td>\n",
       "      <td>5</td>\n",
       "      <td>10</td>\n",
       "      <td>0.989838</td>\n",
       "    </tr>\n",
       "    <tr>\n",
       "      <th>15</th>\n",
       "      <td>1</td>\n",
       "      <td>6</td>\n",
       "      <td>10</td>\n",
       "      <td>0.952417</td>\n",
       "    </tr>\n",
       "    <tr>\n",
       "      <th>16</th>\n",
       "      <td>2</td>\n",
       "      <td>6</td>\n",
       "      <td>10</td>\n",
       "      <td>0.891987</td>\n",
       "    </tr>\n",
       "    <tr>\n",
       "      <th>17</th>\n",
       "      <td>3</td>\n",
       "      <td>6</td>\n",
       "      <td>10</td>\n",
       "      <td>0.735400</td>\n",
       "    </tr>\n",
       "    <tr>\n",
       "      <th>18</th>\n",
       "      <td>4</td>\n",
       "      <td>6</td>\n",
       "      <td>10</td>\n",
       "      <td>0.982633</td>\n",
       "    </tr>\n",
       "    <tr>\n",
       "      <th>19</th>\n",
       "      <td>5</td>\n",
       "      <td>6</td>\n",
       "      <td>10</td>\n",
       "      <td>0.959659</td>\n",
       "    </tr>\n",
       "  </tbody>\n",
       "</table>\n",
       "</div>"
      ],
      "text/plain": [
       "    Ppath Medium  Deepest Layer  SDD  Weighted Ppath\n",
       "0              1              1   10        0.985799\n",
       "1              1              2   10        0.960470\n",
       "2              2              2   10        0.973547\n",
       "3              1              3   10        0.956185\n",
       "4              2              3   10        0.921991\n",
       "5              3              3   10        0.939754\n",
       "6              1              4   10        0.952345\n",
       "7              2              4   10        0.896637\n",
       "8              3              4   10        0.792467\n",
       "9              4              4   10        0.995093\n",
       "10             1              5   10        0.953373\n",
       "11             2              5   10        0.898011\n",
       "12             3              5   10        0.778370\n",
       "13             4              5   10        0.991676\n",
       "14             5              5   10        0.989838\n",
       "15             1              6   10        0.952417\n",
       "16             2              6   10        0.891987\n",
       "17             3              6   10        0.735400\n",
       "18             4              6   10        0.982633\n",
       "19             5              6   10        0.959659"
      ]
     },
     "execution_count": 10,
     "metadata": {},
     "output_type": "execute_result"
    }
   ],
   "source": [
    "# Step 2 - Distribution sum(integration)\n",
    "test = simulation_data.copy()\n",
    "test = test.groupby(['Ppath Medium', 'Deepest Layer', 'SDD'], sort=False, as_index=False)['Weighted Ppath'].sum()\n",
    "test.head(20)"
   ]
  },
  {
   "cell_type": "code",
   "execution_count": 11,
   "id": "ac51af11-5cb8-45f6-8899-b6ba8bae2a20",
   "metadata": {},
   "outputs": [
    {
     "data": {
      "text/plain": [
       "Deepest Layer  SDD\n",
       "1              10     0.985799\n",
       "2              10     0.935063\n",
       "3              10     0.828481\n",
       "4              10     0.673373\n",
       "5              10     0.654131\n",
       "Name: Weighted Ppath, dtype: float64"
      ]
     },
     "execution_count": 11,
     "metadata": {},
     "output_type": "execute_result"
    }
   ],
   "source": [
    "# Step 3 = Product\n",
    "test = test.groupby(['Deepest Layer', 'SDD'], sort=False)['Weighted Ppath'].prod()\n",
    "test.head()"
   ]
  },
  {
   "cell_type": "code",
   "execution_count": 12,
   "id": "6f73af3c-836d-45a2-9ebe-81a16d5f1fd2",
   "metadata": {},
   "outputs": [],
   "source": [
    "# Multiplying back by $I_{n,0}$\n",
    "test = test * normalization_factor_grouped"
   ]
  },
  {
   "cell_type": "code",
   "execution_count": 13,
   "id": "069b81fa-9e4d-44ad-8380-be367a7066fe",
   "metadata": {},
   "outputs": [
    {
     "data": {
      "text/plain": [
       "SDD\n",
       "10     6.449617e+06\n",
       "15     2.135872e+06\n",
       "19     9.597715e+05\n",
       "24     4.748428e+05\n",
       "29     2.478779e+05\n",
       "34     1.372287e+05\n",
       "38     7.486709e+04\n",
       "43     4.417574e+04\n",
       "48     2.437842e+04\n",
       "53     1.481115e+04\n",
       "57     8.262857e+03\n",
       "62     5.250552e+03\n",
       "67     2.857756e+03\n",
       "72     1.845976e+03\n",
       "76     1.046552e+03\n",
       "81     7.090726e+02\n",
       "86     4.147989e+02\n",
       "91     2.539261e+02\n",
       "95     1.355144e+02\n",
       "100    8.435296e+01\n",
       "dtype: float64"
      ]
     },
     "execution_count": 13,
     "metadata": {},
     "output_type": "execute_result"
    }
   ],
   "source": [
    "# Sum up all layers\n",
    "test = test.groupby(['SDD']).sum()\n",
    "test"
   ]
  },
  {
   "cell_type": "code",
   "execution_count": 14,
   "id": "21e8894d-ddc2-4915-ad87-f4a568777863",
   "metadata": {},
   "outputs": [
    {
     "data": {
      "text/plain": [
       "SDD\n",
       "10     6.449617e+06\n",
       "15     2.135872e+06\n",
       "19     9.597715e+05\n",
       "24     4.748428e+05\n",
       "29     2.478779e+05\n",
       "34     1.372287e+05\n",
       "38     7.486709e+04\n",
       "43     4.417574e+04\n",
       "48     2.437842e+04\n",
       "53     1.481115e+04\n",
       "57     8.262857e+03\n",
       "62     5.250552e+03\n",
       "67     2.857756e+03\n",
       "72     1.845976e+03\n",
       "76     1.046552e+03\n",
       "81     7.090726e+02\n",
       "86     4.147989e+02\n",
       "91     2.539261e+02\n",
       "95     1.355144e+02\n",
       "100    8.435296e+01\n",
       "dtype: float64"
      ]
     },
     "execution_count": 14,
     "metadata": {},
     "output_type": "execute_result"
    }
   ],
   "source": [
    "test"
   ]
  },
  {
   "cell_type": "code",
   "execution_count": 15,
   "id": "1502e2da-5385-4ea5-87df-afa6e457ac39",
   "metadata": {},
   "outputs": [
    {
     "data": {
      "text/plain": [
       "<AxesSubplot:xlabel='SDD'>"
      ]
     },
     "execution_count": 15,
     "metadata": {},
     "output_type": "execute_result"
    },
    {
     "data": {
      "image/png": "[encoded data removed]",
      "text/plain": [
       "<Figure size 640x480 with 1 Axes>"
      ]
     },
     "metadata": {},
     "output_type": "display_data"
    }
   ],
   "source": [
    "plt.yscale('log')\n",
    "test.plot(marker='x')"
   ]
  },
  {
   "cell_type": "markdown",
   "id": "4e2c4ef3-c3f6-4d44-a669-18669e218195",
   "metadata": {},
   "source": [
    "### Regular Data (Without on-fly mu changes/The old way)\n"
   ]
  },
  {
   "cell_type": "code",
   "execution_count": 16,
   "id": "88686a19-c223-4a4e-8c49-1fc85a018c3a",
   "metadata": {},
   "outputs": [],
   "source": [
    "simulation_data1 = pd.read_csv('../data/fa_1_wv_1_sa_0.1_ns_1_ms_5_regular.csv')"
   ]
  },
  {
   "cell_type": "code",
   "execution_count": 17,
   "id": "59657f03-6e63-49c4-87dc-3bb1f2d302de",
   "metadata": {},
   "outputs": [
    {
     "data": {
      "text/plain": [
       "<matplotlib.legend.Legend at 0x19bab3a7d90>"
      ]
     },
     "execution_count": 17,
     "metadata": {},
     "output_type": "execute_result"
    },
    {
     "data": {
      "image/png": "[encoded data removed]",
      "text/plain": [
       "<Figure size 640x480 with 1 Axes>"
      ]
     },
     "metadata": {},
     "output_type": "display_data"
    }
   ],
   "source": [
    "plt.plot(simulation_data1['X'] - 100, simulation_data1['Total'], marker='x', label='Regular')\n",
    "test.plot(marker='x', label='Adaptive Mu')\n",
    "\n",
    "plt.yscale('log')\n",
    "plt.legend()"
   ]
  },
  {
   "cell_type": "code",
   "execution_count": 18,
   "id": "310fc5a0-27b9-4d44-becc-0b3c25c617a8",
   "metadata": {},
   "outputs": [
    {
     "data": {
      "text/html": [
       "<div>\n",
       "<style scoped>\n",
       "    .dataframe tbody tr th:only-of-type {\n",
       "        vertical-align: middle;\n",
       "    }\n",
       "\n",
       "    .dataframe tbody tr th {\n",
       "        vertical-align: top;\n",
       "    }\n",
       "\n",
       "    .dataframe thead th {\n",
       "        text-align: right;\n",
       "    }\n",
       "</style>\n",
       "<table border=\"1\" class=\"dataframe\">\n",
       "  <thead>\n",
       "    <tr style=\"text-align: right;\">\n",
       "      <th></th>\n",
       "      <th>SDD</th>\n",
       "      <th>Intensity</th>\n",
       "    </tr>\n",
       "  </thead>\n",
       "  <tbody>\n",
       "    <tr>\n",
       "      <th>0</th>\n",
       "      <td>10</td>\n",
       "      <td>6.449617e+06</td>\n",
       "    </tr>\n",
       "    <tr>\n",
       "      <th>1</th>\n",
       "      <td>15</td>\n",
       "      <td>2.135872e+06</td>\n",
       "    </tr>\n",
       "    <tr>\n",
       "      <th>2</th>\n",
       "      <td>19</td>\n",
       "      <td>9.597715e+05</td>\n",
       "    </tr>\n",
       "    <tr>\n",
       "      <th>3</th>\n",
       "      <td>24</td>\n",
       "      <td>4.748428e+05</td>\n",
       "    </tr>\n",
       "    <tr>\n",
       "      <th>4</th>\n",
       "      <td>29</td>\n",
       "      <td>2.478779e+05</td>\n",
       "    </tr>\n",
       "  </tbody>\n",
       "</table>\n",
       "</div>"
      ],
      "text/plain": [
       "   SDD     Intensity\n",
       "0   10  6.449617e+06\n",
       "1   15  2.135872e+06\n",
       "2   19  9.597715e+05\n",
       "3   24  4.748428e+05\n",
       "4   29  2.478779e+05"
      ]
     },
     "execution_count": 18,
     "metadata": {},
     "output_type": "execute_result"
    }
   ],
   "source": [
    "# Clean UP\n",
    "test.name = \"Intensity\"\n",
    "test2 = test.to_frame().reset_index()\n",
    "test2.head()"
   ]
  }
 ],
 "metadata": {
  "kernelspec": {
   "display_name": "Python 3",
   "language": "python",
   "name": "python3"
  },
  "language_info": {
   "codemirror_mode": {
    "name": "ipython",
    "version": 3
   },
   "file_extension": ".py",
   "mimetype": "text/x-python",
   "name": "python",
   "nbconvert_exporter": "python",
   "pygments_lexer": "ipython3",
   "version": "3.8.10"
  },
  "vscode": {
   "interpreter": {
    "hash": "e7370f93d1d0cde622a1f8e1c04877d8463912d04d973331ad4851f04de6915a"
   }
  }
 },
 "nbformat": 4,
 "nbformat_minor": 5
}
