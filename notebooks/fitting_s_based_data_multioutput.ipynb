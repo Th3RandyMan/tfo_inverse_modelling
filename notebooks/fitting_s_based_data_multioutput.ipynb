{
 "cells": [
  {
   "attachments": {},
   "cell_type": "markdown",
   "metadata": {},
   "source": [
    "# Fitting Saturation-based Simulation Data With Multi-Output\n",
    "Can having multiple labels per data improve validation loss? \n"
   ]
  },
  {
   "cell_type": "code",
   "execution_count": 1,
   "metadata": {},
   "outputs": [],
   "source": [
    "from pathlib import Path\n",
    "from torch.optim import Adam, SGD\n",
    "import torch.nn as nn\n",
    "import torch\n",
    "import matplotlib.pyplot as plt\n",
    "import numpy as np\n",
    "import pandas as pd\n",
    "import os\n",
    "from sklearn import preprocessing\n",
    "from inverse_modelling_tfo.data import (\n",
    "    generate_data_loaders,\n",
    "    equidistance_detector_normalization,\n",
    "    constant_detector_count_normalization,\n",
    "    config_based_normalization\n",
    ")\n",
    "from inverse_modelling_tfo.data.intensity_interpolation import (\n",
    "    interpolate_exp,\n",
    "    get_interpolate_fit_params,\n",
    "    exp_piecewise_affine,\n",
    ")\n",
    "from inverse_modelling_tfo.data.interpolation_function_zoo import *\n",
    "from inverse_modelling_tfo.models import RandomSplit, ValidationMethod, HoldOneOut, CVSplit, CombineMethods\n",
    "from inverse_modelling_tfo.models.custom_models import (\n",
    "    SplitChannelCNN,\n",
    "    PerceptronReLU,\n",
    "    PerceptronBN,\n",
    "    PerceptronDO,\n",
    "    PerceptronBD,\n",
    "    FeatureResidualNetwork\n",
    ")\n",
    "from inverse_modelling_tfo.features.build_features import (\n",
    "    FetalACFeatureBuilder,\n",
    "    RowCombinationFeatureBuilder,\n",
    "    TwoColumnOperationFeatureBuilder,\n",
    "    FetalACbyDCFeatureBuilder,\n",
    "    LogTransformFeatureBuilder,\n",
    "    ConcatenateFeatureBuilder,\n",
    ")\n",
    "from inverse_modelling_tfo.features.data_transformations import (\n",
    "    LongToWideIntensityTransformation,\n",
    "    ToFittingParameterTransformation,\n",
    ")\n",
    "from inverse_modelling_tfo.visualization import generate_model_error_and_prediction\n",
    "from ray import tune\n",
    "from ray.tune import CLIReporter\n",
    "from ray.tune.schedulers import ASHAScheduler\n",
    "import torchinfo\n",
    "from inverse_modelling_tfo.misc.misc_training import set_seed\n",
    "from pyflowdiagram import draw_process_flow\n",
    "\n",
    "# Set my GPU\n",
    "os.environ[\"CUDA_VISIBLE_DEVICES\"] = \"3\""
   ]
  },
  {
   "cell_type": "code",
   "execution_count": 2,
   "metadata": {},
   "outputs": [],
   "source": [
    "%load_ext autoreload\n",
    "%autoreload 2"
   ]
  },
  {
   "cell_type": "code",
   "execution_count": 3,
   "metadata": {},
   "outputs": [],
   "source": [
    "# DATA_PATH = r'/home/rraiyan/personal_projects/tfo_inverse_modelling/data/intensity/s_based_intensity_low_conc3.pkl'\n",
    "\n",
    "# DATA_PATH = (r\"/home/rraiyan/personal_projects/tfo_inverse_modelling/inverse_modelling_tfo/tools/s_based_intensity_low_conc5.pkl\")\n",
    "\n",
    "DATA_PATH = r'/home/rraiyan/simulations/tfo_sim/data/compiled_intensity/dan_iccps_pencil.pkl'\n",
    "CONFIG_PATH = Path(r'/home/rraiyan/simulations/tfo_sim/data/compiled_intensity/dan_iccps_pencil.json')\n",
    "\n",
    "\n",
    "data = pd.read_pickle(DATA_PATH)\n",
    "# Drop Thickness values which I did not calculate the close concnetration points\n",
    "equidistance_detector_normalization(data)\n",
    "\n",
    "# Drop Uterus Thickness for now\n",
    "data = data.drop(columns=\"Uterus Thickness\")\n",
    "\n",
    "# Interpolate intensity to remove noise\n",
    "# data = interpolate_exp(data, weights=(1, 0.6), interpolation_function=exp_piecewise_affine, break_indices=[4, 12, 20])\n",
    "# data['Intensity'] = data['Interpolated Intensity']\n",
    "# data = data.drop(columns='Interpolated Intensity')\n",
    "\n",
    "\n",
    "# Manual log(intensity) normalization\n",
    "# data['Intensity'] = np.log10(data['Intensity'])        # Far values wayy to small to affect anything. Take log\n",
    "\n",
    "data_transformer = LongToWideIntensityTransformation()\n",
    "fitting_param_transformer = ToFittingParameterTransformation()\n",
    "\n",
    "# fitting_params = fitting_param_transformer.transform(data)\n",
    "data = data_transformer.transform(data)\n",
    "labels = data_transformer.get_label_names()\n",
    "intensity_columns = data_transformer.get_feature_names()\n",
    "\n",
    "# Cleanup\n",
    "data.dropna(inplace=True)"
   ]
  },
  {
   "cell_type": "markdown",
   "metadata": {},
   "source": [
    "# Build Features"
   ]
  },
  {
   "cell_type": "code",
   "execution_count": 4,
   "metadata": {},
   "outputs": [],
   "source": [
    "from inverse_modelling_tfo.features.build_features import TypePairing\n",
    "pairing_type: TypePairing \n",
    "pairing_type = \"perm_r\"     # type: ignore # permutation with replacement"
   ]
  },
  {
   "cell_type": "markdown",
   "metadata": {},
   "source": [
    "### Grouping\n",
    "Which rows of Fetal Hb conc should paired together is determined by this 'FconcCenters' column. For rows that should go together, this column should have the same value(id/ eg: 0, 1, 2, 3, ...)"
   ]
  },
  {
   "cell_type": "code",
   "execution_count": 5,
   "metadata": {},
   "outputs": [],
   "source": [
    "# ROUNDING = 3\n",
    "# fetal_conc_group_mapping = {\n",
    "#     0.110 : 0,\n",
    "#     0.115 : 0, \n",
    "#     0.100 : 0,\n",
    "#     0.125 : 1,\n",
    "#     0.130 : 1,\n",
    "#     0.145 : 1,\n",
    "#     0.155 : 2,\n",
    "#     0.160 : 2,\n",
    "#     0.170 : 2\n",
    "# }\n",
    "\n",
    "# data['FconcCenters'] = data['Fetal Hb Concentration'].round(ROUNDING).map(fetal_conc_group_mapping)    \n",
    "# fitting_params['FconcCenters'] = data['FconcCenters']"
   ]
  },
  {
   "cell_type": "code",
   "execution_count": 6,
   "metadata": {},
   "outputs": [],
   "source": [
    "# ROUNDING = 2\n",
    "# fetal_conc_group_mapping = {\n",
    "#     10.45 : 0,\n",
    "#     11.00: 0, \n",
    "#     11.40: 0,\n",
    "#     11.55: 1,\n",
    "#     12.00: 1,\n",
    "#     12.35: 1,\n",
    "#     12.60: 2,\n",
    "#     13.00: 2,\n",
    "#     13.30: 2,\n",
    "#     13.65: 3,\n",
    "#     14.00: 3,\n",
    "#     14.25: 3,\n",
    "#     14.70: 4,\n",
    "#     15.00: 4,\n",
    "#     15.75: 4,\n",
    "# }\n",
    "\n",
    "# data['FconcCenters'] = data['Fetal Hb Concentration'].round(ROUNDING).map(fetal_conc_group_mapping)\n",
    "# fitting_params['FconcCenters'] = data['FconcCenters']"
   ]
  },
  {
   "cell_type": "code",
   "execution_count": 7,
   "metadata": {},
   "outputs": [],
   "source": [
    "fetal_conc_group_mapping = {\n",
    "    10.45 : 0,\n",
    "    10.88 : 0,\n",
    "    11. : 0,\n",
    "    11.31: 1,\n",
    "    11.45: 1,\n",
    "    11.55: 1,\n",
    "    11.75: 2,\n",
    "    11.91: 2,\n",
    "    12.03: 2,\n",
    "    12.18: 3,\n",
    "    12.36: 3,\n",
    "    12.5: 3,\n",
    "    12.61: 4,\n",
    "    12.82: 4,\n",
    "    12.98: 4,\n",
    "    13.04: 5,\n",
    "    13.27: 5,\n",
    "    13.46: 5,\n",
    "    13.47: 6,\n",
    "    13.73: 6,\n",
    "    13.9: 6,\n",
    "    13.94: 7,\n",
    "    14.18: 7,\n",
    "    14.34: 7,\n",
    "    14.41: 8,\n",
    "    14.64: 8,\n",
    "    14.77: 8,\n",
    "    14.89: 9,\n",
    "    15.09: 9,\n",
    "    15.2: 9,\n",
    "    15.37: 10,\n",
    "    15.55: 10,\n",
    "    15.85: 10,\n",
    "    16.: 11,\n",
    "    16.32: 11,\n",
    "    16.8: 11, \n",
    "}\n",
    "data['FconcCenters'] = data['Fetal Hb Concentration'].round(2).map(fetal_conc_group_mapping)\n",
    "# fitting_params['FconcCenters'] = data['FconcCenters']"
   ]
  },
  {
   "cell_type": "markdown",
   "metadata": {},
   "source": [
    "## Fetal AC by DC Feature"
   ]
  },
  {
   "cell_type": "code",
   "execution_count": 8,
   "metadata": {},
   "outputs": [],
   "source": [
    "fb1 = FetalACbyDCFeatureBuilder('FconcCenters', pairing_type, intensity_columns, labels, \"max\")\n",
    "# feature_builder2 = TwoColumnOperationFeatureBuilder(x_columns1[len(x_columns1)//2:], x_columns1[:len(x_columns1)//2], \"/\", False, x_columns1, feature_builder1.get_label_names())"
   ]
  },
  {
   "cell_type": "markdown",
   "metadata": {},
   "source": [
    "## Row Combination Spatial Intensity (or their Log)"
   ]
  },
  {
   "cell_type": "code",
   "execution_count": 9,
   "metadata": {},
   "outputs": [],
   "source": [
    "fixed_columns = ['Maternal Wall Thickness', \"Maternal Hb Concentration\", \"Maternal Saturation\", \"Fetal Saturation\", \"FconcCenters\"]\n",
    "fb3 = RowCombinationFeatureBuilder(intensity_columns, fixed_columns, [\"Fetal Hb Concentration\"], pairing_type, 2)\n",
    "# feature_builder4 = LogTransformFeatureBuilder(feature_builder3.get_feature_names(), feature_builder3.get_feature_names(), feature_builder3.get_label_names())"
   ]
  },
  {
   "cell_type": "markdown",
   "metadata": {
    "tags": []
   },
   "source": [
    "## Fetal AC_wv1 by AC_wv2 Feature Builder"
   ]
  },
  {
   "cell_type": "code",
   "execution_count": 10,
   "metadata": {},
   "outputs": [],
   "source": [
    "fb5 = FetalACFeatureBuilder('FconcCenters', pairing_type, '/', intensity_columns, labels)\n",
    "x_columns5 = fb5.get_feature_names()\n",
    "fb6 = TwoColumnOperationFeatureBuilder.from_chain(fb5, x_columns5[len(x_columns5)//2:], x_columns5[:len(x_columns5)//2], \"/\", False)"
   ]
  },
  {
   "cell_type": "markdown",
   "metadata": {},
   "source": [
    "## Fitting Parameters"
   ]
  },
  {
   "cell_type": "code",
   "execution_count": 11,
   "metadata": {},
   "outputs": [],
   "source": [
    "# fb0 = RowCombinationFeatureBuilder(fitting_param_transformer.get_feature_names(), fixed_columns, [\"Fetal Hb Concentration\"], pairing_type, 2)\n",
    "# x_columns0 = fb0.get_feature_names()   \n",
    "# fb7 = TwoColumnOperationFeatureBuilder.from_chain(fb0, x_columns0[:len(x_columns0)//2], x_columns0[len(x_columns0)//2:], '*', True)\n",
    "# data1 = fb7(fitting_params)"
   ]
  },
  {
   "cell_type": "markdown",
   "metadata": {},
   "source": [
    "## Combining Them Together"
   ]
  },
  {
   "cell_type": "code",
   "execution_count": 12,
   "metadata": {},
   "outputs": [
    {
     "name": "stdout",
     "output_type": "stream",
     "text": [
      "1492992\n"
     ]
    }
   ],
   "source": [
    "# fb_concat = ConcatenateFeatureBuilder([fb1, fb3, fb6])\n",
    "# fb_concat = ConcatenateFeatureBuilder([fb3, fb6])\n",
    "# data = fb_concat(data)\n",
    "\n",
    "data = fb1(data)\n",
    "print(len(data))"
   ]
  },
  {
   "cell_type": "code",
   "execution_count": 13,
   "metadata": {},
   "outputs": [],
   "source": [
    "# data = pd.concat([data1[labels], data1[feature_builder2.get_fea`ture_names()], data2[feature_builder4.get_feature_names()]], axis=1)\n",
    "# data = pd.concat([data1[fb1.get_label_names()], data1[fb1.get_feature_names()], data2[fb3.get_feature_names()], data3[fb5.get_feature_names()], data4[fb7.get_feature_names()]], axis=1)\n",
    "# labels = fb_concat.get_label_names()\n",
    "labels = fb1.get_label_names()\n",
    "# data = pd.merge(data1, data2, on=labels, how='inner')\n",
    "# labels = fb3.get_label_names()"
   ]
  },
  {
   "cell_type": "code",
   "execution_count": 14,
   "metadata": {},
   "outputs": [],
   "source": [
    "# Define the input & output parameters to the NN\n",
    "# x_columns = fb_concat.get_feature_names() + fb7.get_feature_names()\n",
    "# x_columns = fb_concat.get_feature_names()\n",
    "x_columns = fb1.get_feature_names()\n",
    "# x_columns = fb7.get_feature_names()  + fb_concat.get_feature_names()[::2]\n",
    "# x_columns = fb3.get_feature_names()\n",
    "# y_columns = fb_concat.get_label_names()\n",
    "# y_columns = fb3.get_label_names()\n",
    "y_columns = fb1.get_label_names()"
   ]
  },
  {
   "cell_type": "code",
   "execution_count": 15,
   "metadata": {},
   "outputs": [
    {
     "name": "stdout",
     "output_type": "stream",
     "text": [
      "['Maternal Wall Thickness', 'Maternal Hb Concentration', 'Maternal Saturation', 'Fetal Saturation', 'ConcDiff']\n"
     ]
    }
   ],
   "source": [
    "# Replace with ConcDiff\n",
    "data[\"ConcDiff\"] = data[\"Fetal Hb Concentration 1\"] - data[\"Fetal Hb Concentration 0\"]\n",
    "if \"ConcDiff\" not in y_columns:\n",
    "    y_columns.append(\"ConcDiff\")\n",
    "\n",
    "if \"Fetal Hb Concentration 1\" in y_columns:\n",
    "    y_columns.remove(\"Fetal Hb Concentration 1\")\n",
    "\n",
    "if \"Fetal Hb Concentration 0\" in y_columns:\n",
    "    y_columns.remove(\"Fetal Hb Concentration 0\")\n",
    "\n",
    "if \"FconcCenters\" in y_columns:\n",
    "    y_columns.remove(\"FconcCenters\")\n",
    "print(y_columns)"
   ]
  },
  {
   "attachments": {},
   "cell_type": "markdown",
   "metadata": {},
   "source": [
    "## Normalizing Features\n",
    "x_columns will be the input features and y_columns are the target"
   ]
  },
  {
   "cell_type": "code",
   "execution_count": 16,
   "metadata": {},
   "outputs": [],
   "source": [
    "## X -> Predictors\n",
    "# TODO: Maybe return these columns from the build_feature functions? have a single source of truth\n",
    "# ratio_columns = list(filter(lambda X: X.isdigit(), data.columns))   # Can be empty \n",
    "# intensity_columns = list(filter(lambda X: '_' in X, data.columns))  # Can be empty \n",
    "# x_columns = ratio_columns + intensity_columns\n",
    "\n",
    "## Pass in maternal info\n",
    "# x_columns += [\"Maternal Hb Concentration\", \"Maternal Saturation\"]\n",
    "# x_columns = list(filter(lambda X: 'alpha' in X, data.columns))\n",
    "\n",
    "## Scale y\n",
    "y_scaler = preprocessing.StandardScaler()\n",
    "data[y_columns] = y_scaler.fit_transform(data[y_columns])\n",
    "\n",
    "## Scale x\n",
    "x_scaler = preprocessing.StandardScaler()\n",
    "data[x_columns] = x_scaler.fit_transform(data[x_columns])"
   ]
  },
  {
   "cell_type": "markdown",
   "metadata": {},
   "source": [
    "# Custom Loss Definition"
   ]
  },
  {
   "cell_type": "code",
   "execution_count": 17,
   "metadata": {},
   "outputs": [],
   "source": [
    "class WeightedMSE(nn.Module):\n",
    "    \"\"\"\n",
    "    MSE Loss for vector output labels with custom weighting\n",
    "    \"\"\"\n",
    "    def __init__(self, loss_weights: torch.Tensor) -> None:\n",
    "        super().__init__()\n",
    "        # Reshape to row vector for broadcasting during loss calculation\n",
    "        self.loss_weights = loss_weights.reshape(1, -1)\n",
    "        self.mse_loss = nn.MSELoss(reduction='none')\n",
    "\n",
    "    \n",
    "    def forward(self, predicted_tmps, targets):\n",
    "        loss = self.mse_loss(predicted_tmps, targets)\n",
    "        loss = loss * self.loss_weights\n",
    "        return loss.sum() / self.loss_weights.sum()"
   ]
  },
  {
   "attachments": {},
   "cell_type": "markdown",
   "metadata": {},
   "source": [
    "## Model Configuration"
   ]
  },
  {
   "cell_type": "code",
   "execution_count": 18,
   "metadata": {},
   "outputs": [
    {
     "name": "stdout",
     "output_type": "stream",
     "text": [
      "In Features : 40\n",
      "Out Features: 5\n"
     ]
    }
   ],
   "source": [
    "print(\"In Features :\", len(x_columns))  \n",
    "print(\"Out Features:\", len(y_columns))"
   ]
  },
  {
   "cell_type": "markdown",
   "metadata": {},
   "source": [
    "# Setting up Special Residual Network "
   ]
  },
  {
   "cell_type": "code",
   "execution_count": 19,
   "metadata": {},
   "outputs": [],
   "source": [
    "# saturation_unique_values = data[\"Fetal Saturation\"].unique()\n",
    "# mean_saturation_level = saturation_unique_values[len(saturation_unique_values)//2]\n",
    "# # Convert to float tensor, by default it is double\n",
    "# lookup_table = torch.from_numpy(data[data[\"Fetal Saturation\"] == mean_saturation_level].values).cuda().float()\n",
    "# feature_indices = [data.columns.get_loc(feature) for feature in x_columns]\n",
    "# feature_indices = torch.tensor(feature_indices).cuda()\n",
    "# intermediate_labels = y_columns.copy()\n",
    "# intermediate_labels.remove(\"Fetal Saturation\")\n",
    "# intermediate_label_indices = [data.columns.get_loc(label) for label in intermediate_labels]\n",
    "# intermediate_labels = torch.tensor(intermediate_label_indices).cuda()\n",
    "\n",
    "# # y_columns = [\"Fetal Saturation\"]\n",
    "\n",
    "# feature_res_net_params = {\n",
    "#         'node_count_left': [len(x_columns), 5, len(intermediate_labels)],\n",
    "#         'dropout_rates_left': [0.5, 0.5],\n",
    "#         'node_count_right': [len(x_columns), 5, len(y_columns)],\n",
    "#         'dropout_rates_right': [0.5, 0.5],\n",
    "#         'lookup_table': lookup_table,\n",
    "#         'lookup_key_indices': intermediate_labels,\n",
    "#         'feature_indices': feature_indices,\n",
    "# }\n"
   ]
  },
  {
   "cell_type": "code",
   "execution_count": 35,
   "metadata": {},
   "outputs": [],
   "source": [
    "IN_FEATURES = len(x_columns)\n",
    "OUT_FEATURES = len(y_columns)\n",
    "\n",
    "from inverse_modelling_tfo.models.train_model import ModelTrainerFactory\n",
    "datagen_kw = {\n",
    "    'table' : data,\n",
    "    'data_loader_params' : \n",
    "        {\n",
    "            'batch_size': 256, 'shuffle': True\n",
    "        }, \n",
    "    'x_columns': x_columns,\n",
    "    'y_columns': y_columns,\n",
    "    'validation_method' : HoldOneOut('Maternal Wall Thickness', data['Maternal Wall Thickness'].unique()[3])\n",
    "    # 'validation_method' : CombineMethods([\n",
    "        # HoldOneOut('Maternal Wall Thickness', data['Maternal Wall Thickness'].unique()[3]), RandomSplit(0.9)])\n",
    "    # 'validation_method' : HoldOneOut('Maternal Hb Concentration', 13.0)\n",
    "    # 'validation_method' : HoldOneOut('Maternal Saturation', 1.0)\n",
    "}\n",
    "\n",
    "# criterion = WeightedMSE(torch.Tensor([1.0, 1.0, 1.0,  1.2, 1.0, 1.0]).cuda())\n",
    "# criterion = WeightedMSE(torch.Tensor([4.0, 1.0, 1.0, 1.0, 1.0, 1.0]).cuda())\n",
    "criterion = nn.MSELoss()\n",
    "# criterion = nn.HuberLoss()\n",
    "# trainer_factory = ModelTrainerFactory(PerceptronBD, {'node_counts' : [IN_FEATURES, 40, 20, 10, OUT_FEATURES], 'dropout_rates': [0.5, 0.5, 0.5]}, generate_data_loaders, datagen_kw, 100, criterion)\n",
    "# trainer_factory = ModelTrainerFactory(PerceptronBD, {'node_counts' : [IN_FEATURES, 25, 12, 8, OUT_FEATURES], 'dropout_rates': [0.5, 0.5, 0.5]}, generate_data_loaders, datagen_kw, 100, criterion)\n",
    "# trainer_factory = ModelTrainerFactory(PerceptronBD, {'node_counts' : [IN_FEATURES, 10, 10, 5, 5, OUT_FEATURES], 'dropout_rates': [0.5, 0.5, 0.5, 0.5, 0.5, 0.5]}, generate_data_loaders, datagen_kw, 100, criterion)\n",
    "trainer_factory = ModelTrainerFactory(PerceptronBD, {'node_counts' : [IN_FEATURES, 20, 10, 5, 5, OUT_FEATURES], 'dropout_rates': [0.5, 0.5, 0.5, 0.5, 0.5, 0.5]}, generate_data_loaders, datagen_kw, 100, criterion)\n",
    "# trainer_factory = ModelTrainerFactory(FeatureResidualNetwork, feature_res_net_params, generate_data_loaders, datagen_kw, 100, criterion)"
   ]
  },
  {
   "cell_type": "markdown",
   "metadata": {},
   "source": [
    "## Hyper Parameter Tuning"
   ]
  },
  {
   "cell_type": "code",
   "execution_count": 36,
   "metadata": {},
   "outputs": [],
   "source": [
    "# # Custom Train Function \n",
    "# def train_with_tuning(iteration_config):\n",
    "#     set_seed(42)\n",
    "#     trainer_tuning = trainer_factory.create()\n",
    "#     trainer_tuning.reporting = True     # Report at each epoch to Ray Tune\n",
    "#     if 'batch_size' in iteration_config:\n",
    "#         trainer_tuning.change_batch_size(iteration_config['batch_size'])    # If batch_size needs tuning\n",
    "#     trainer_tuning.set_optimizer(SGD, {'lr': iteration_config[\"lr\"], 'momentum': iteration_config[\"momentum\"]})\n",
    "#     trainer_tuning.run()"
   ]
  },
  {
   "cell_type": "code",
   "execution_count": 37,
   "metadata": {},
   "outputs": [],
   "source": [
    "# # Hyper Parameter Search \n",
    "# iteration_config = {\n",
    "#     \"lr\" : tune.loguniform(1e-4, 1e-2),\n",
    "#     # \"lr\" : tune.loguniform(1e-7, 1e-4), # Need smaller learning rates when using weighted multi-headed outputs\n",
    "#     \"momentum\": tune.uniform(0.9, 0.99),\n",
    "# }\n",
    "# scheduler = ASHAScheduler(metric=\"combined_loss\", mode=\"min\", max_t=60, grace_period=5, reduction_factor=2)\n",
    "# reporter = CLIReporter(metric_columns=[\"train_loss\", \"val_loss\", \"combined_loss\", \"training_iteration\"],\n",
    "#                        parameter_columns=[\"lr\", \"momentum\"])\n",
    "# result = tune.run(train_with_tuning, config=iteration_config, scheduler=scheduler, progress_reporter=reporter,\n",
    "#                   num_samples=80, resources_per_trial={\"cpu\": 0, \"gpu\": 0.2},)\n",
    "\n",
    "# # Get the trial with the best validation loss \n",
    "# best_trial = result.get_best_trial(\"val_loss\", \"min\", \"last\")\n",
    "# print(\"Best trial config: {}\".format(best_trial.config))\n",
    "# print(\"Best trial final validation loss: {}\".format(best_trial.last_result[\"val_loss\"]))\n",
    "# print(\"Best trial final train loss: {}\".format(best_trial.last_result[\"train_loss\"]))\n"
   ]
  },
  {
   "attachments": {},
   "cell_type": "markdown",
   "metadata": {},
   "source": [
    "<!-- Best trial config: {'lr': 0.0010630834634709364, 'b1': 0.4282116859842134, 'b2': 0.3089991262211405, 'batch_size': 8, 'model': [20, 16, 8, 4, 2, 1]}\n",
    "Best trial final validation loss: 0.09234625198878348\n",
    "Best trial final train loss: 0.22368373312056064 -->"
   ]
  },
  {
   "cell_type": "code",
   "execution_count": 38,
   "metadata": {},
   "outputs": [],
   "source": [
    "# best_trial.config"
   ]
  },
  {
   "cell_type": "markdown",
   "metadata": {},
   "source": [
    "## Custom Training"
   ]
  },
  {
   "cell_type": "code",
   "execution_count": 39,
   "metadata": {},
   "outputs": [],
   "source": [
    "set_seed(42)\n",
    "trainer = trainer_factory.create()\n",
    "trainer.set_optimizer(SGD, {'lr': 3e-4, 'momentum': 0.948, 'weight_decay': 1e-4})\n",
    "# trainer.change_batch_size(2048)\n",
    "trainer.change_batch_size(252)\n",
    "trainer.epochs = 30\n",
    "trainer.run()\n",
    "\n",
    "# trainer.epochs = 30\n",
    "# trainer.run() "
   ]
  },
  {
   "cell_type": "code",
   "execution_count": 40,
   "metadata": {},
   "outputs": [],
   "source": [
    "# trainer.change_batch_size(64)\n",
    "# trainer.epochs = 20\n",
    "# trainer.change_batch_size(2048)\n",
    "# trainer.epochs = 50\n",
    "# trainer.run()"
   ]
  },
  {
   "cell_type": "code",
   "execution_count": 41,
   "metadata": {},
   "outputs": [
    {
     "data": {
      "text/plain": [
       "<matplotlib.legend.Legend at 0x7ff5f77ead30>"
      ]
     },
     "execution_count": 41,
     "metadata": {},
     "output_type": "execute_result"
    },
    {
     "data": {
      "image/png": "[encoded data removed]",
      "text/plain": [
       "<Figure size 640x480 with 1 Axes>"
      ]
     },
     "metadata": {},
     "output_type": "display_data"
    }
   ],
   "source": [
    "plt.figure()\n",
    "plt.plot(trainer.train_loss, label='Training Loss', marker='x')\n",
    "plt.plot(trainer.validation_loss, label='Validation Loss', marker='x')\n",
    "# plt.yscale('log')\n",
    "plt.legend()"
   ]
  },
  {
   "cell_type": "code",
   "execution_count": 42,
   "metadata": {},
   "outputs": [
    {
     "name": "stdout",
     "output_type": "stream",
     "text": [
      "\n",
      "        Model Properties:\n",
      "        PerceptronBD(\n",
      "  (model): Sequential(\n",
      "    (0): Linear(in_features=40, out_features=20, bias=True)\n",
      "    (1): BatchNorm1d(20, eps=1e-05, momentum=0.1, affine=True, track_running_stats=True)\n",
      "    (2): Dropout1d(p=0.5, inplace=False)\n",
      "    (3): ReLU()\n",
      "    (4): Linear(in_features=20, out_features=10, bias=True)\n",
      "    (5): BatchNorm1d(10, eps=1e-05, momentum=0.1, affine=True, track_running_stats=True)\n",
      "    (6): Dropout1d(p=0.5, inplace=False)\n",
      "    (7): ReLU()\n",
      "    (8): Linear(in_features=10, out_features=5, bias=True)\n",
      "    (9): BatchNorm1d(5, eps=1e-05, momentum=0.1, affine=True, track_running_stats=True)\n",
      "    (10): Dropout1d(p=0.5, inplace=False)\n",
      "    (11): ReLU()\n",
      "    (12): Linear(in_features=5, out_features=5, bias=True)\n",
      "    (13): BatchNorm1d(5, eps=1e-05, momentum=0.1, affine=True, track_running_stats=True)\n",
      "    (14): Dropout1d(p=0.5, inplace=False)\n",
      "    (15): ReLU()\n",
      "    (16): Linear(in_features=5, out_features=5, bias=True)\n",
      "    (17): Flatten(start_dim=1, end_dim=-1)\n",
      "  )\n",
      ")\n",
      "        Optimizer Properties\"\n",
      "        SGD (\n",
      "Parameter Group 0\n",
      "    dampening: 0\n",
      "    differentiable: False\n",
      "    foreach: None\n",
      "    lr: 0.0003\n",
      "    maximize: False\n",
      "    momentum: 0.948\n",
      "    nesterov: False\n",
      "    weight_decay: 0.0001\n",
      ")\n",
      "        DataLoader Params: \n",
      "            Batch Size: 252\n",
      "            Validation Method: Holds out fMaternal Wall Thickness columns -0.2182178902359924 for validation. The rest are used             for training\n",
      "        Loss:\n",
      "            Train Loss: 0.5521712699836051\n",
      "            Val. Loss: 0.8333233915038115\n"
     ]
    }
   ],
   "source": [
    "print(trainer)"
   ]
  },
  {
   "cell_type": "code",
   "execution_count": 43,
   "metadata": {},
   "outputs": [],
   "source": [
    "train_error, train_pred = generate_model_error_and_prediction(trainer.model, trainer.train_loader, y_columns, y_scaler)\n",
    "val_error, val_pred = generate_model_error_and_prediction(trainer.model, trainer.validation_loader, y_columns, y_scaler)"
   ]
  },
  {
   "cell_type": "code",
   "execution_count": 44,
   "metadata": {},
   "outputs": [
    {
     "data": {
      "image/png": "[encoded data removed]",
      "text/plain": [
       "<Figure size 1700x800 with 10 Axes>"
      ]
     },
     "metadata": {},
     "output_type": "display_data"
    }
   ],
   "source": [
    "fig, axes = plt.subplots(2, len(y_columns), squeeze=True, figsize=(17, 8))\n",
    "BIN_COUNT = 50\n",
    "for i in range(len(y_columns)):\n",
    "    # Plot Errors\n",
    "    ax = axes[0, i]\n",
    "    plt.sca(ax)\n",
    "    column_name = train_error.columns[i]\n",
    "    plt.hist(train_error[column_name], bins=BIN_COUNT, color='blue')\n",
    "    plt.hist(val_error[column_name], bins=BIN_COUNT, color='orange')\n",
    "    plt.xlabel(column_name)\n",
    "    plt.ylabel('Count')\n",
    "    \n",
    "    # Plot Predictions\n",
    "    ax = axes[1, i]\n",
    "    plt.sca(ax)\n",
    "    column_name = train_pred.columns[i]\n",
    "    plt.hist(train_pred[column_name], bins=BIN_COUNT, color='blue')\n",
    "    plt.hist(val_pred[column_name], bins=BIN_COUNT, color='orange')\n",
    "    plt.xlabel(column_name)\n",
    "    plt.ylabel('Count')\n",
    "    \n",
    "plt.tight_layout()\n",
    "plt.show()"
   ]
  },
  {
   "cell_type": "code",
   "execution_count": 45,
   "metadata": {},
   "outputs": [],
   "source": [
    "# # Top Bad Samples\n",
    "# VIEW_TOP_N = 50\n",
    "# worst_errors = error_df['Absolute Error'].argsort()[::-1][:VIEW_TOP_N]  # Worst Results\n",
    "# # worst_errors = error_df['Absolute Error'].argsort()[:VIEW_TOP_N]  # Best Results\n",
    "# combined_table = data.join(error_df)\n",
    "# with pd.option_context(\"display.max_rows\", None):\n",
    "#     display(combined_table[['Maternal Wall Thickness', \"Maternal Hb Concentration\", \"Maternal Saturation\", \"Fetal Hb Concentration\", \"Fetal Saturation\", 'Truth', 'Predicted', 'Absolute Error', '%tage']].iloc[worst_errors, :])"
   ]
  },
  {
   "cell_type": "code",
   "execution_count": 46,
   "metadata": {},
   "outputs": [],
   "source": [
    "# # Rough MSE's in percentage\n",
    "# print(f'Train Error(non-normalized): {trainer.train_loss[-1] * y_scaler.var_ }')\n",
    "# print(f'Validation Error(non-normalized): {trainer.validation_loss[-1] * y_scaler.var_ }')"
   ]
  },
  {
   "cell_type": "code",
   "execution_count": 47,
   "metadata": {},
   "outputs": [
    {
     "data": {
      "text/plain": [
       "=================================================================\n",
       "Layer (type:depth-idx)                   Param #\n",
       "=================================================================\n",
       "PerceptronBD                             --\n",
       "├─Sequential: 1-1                        --\n",
       "│    └─Linear: 2-1                       820\n",
       "│    └─BatchNorm1d: 2-2                  40\n",
       "│    └─Dropout1d: 2-3                    --\n",
       "│    └─ReLU: 2-4                         --\n",
       "│    └─Linear: 2-5                       210\n",
       "│    └─BatchNorm1d: 2-6                  20\n",
       "│    └─Dropout1d: 2-7                    --\n",
       "│    └─ReLU: 2-8                         --\n",
       "│    └─Linear: 2-9                       55\n",
       "│    └─BatchNorm1d: 2-10                 10\n",
       "│    └─Dropout1d: 2-11                   --\n",
       "│    └─ReLU: 2-12                        --\n",
       "│    └─Linear: 2-13                      30\n",
       "│    └─BatchNorm1d: 2-14                 10\n",
       "│    └─Dropout1d: 2-15                   --\n",
       "│    └─ReLU: 2-16                        --\n",
       "│    └─Linear: 2-17                      30\n",
       "│    └─Flatten: 2-18                     --\n",
       "=================================================================\n",
       "Total params: 1,225\n",
       "Trainable params: 1,225\n",
       "Non-trainable params: 0\n",
       "================================================================="
      ]
     },
     "execution_count": 47,
     "metadata": {},
     "output_type": "execute_result"
    }
   ],
   "source": [
    "# Model Info\n",
    "torchinfo.summary(trainer.model)"
   ]
  },
  {
   "cell_type": "code",
   "execution_count": 48,
   "metadata": {},
   "outputs": [],
   "source": [
    "# model_name = 'msat_percep_irsi'\n",
    "# import joblib\n",
    "# # Save Model\n",
    "# torch.save(model.state_dict(), rf'../models/{model_name}')\n",
    "# # Save the Scalers for Later Use\n",
    "# joblib.dump(x_scaler, rf'../models/{model_name}_xscaler')\n",
    "# joblib.dump(y_scaler, rf'../models/{model_name}_yscaler')"
   ]
  },
  {
   "cell_type": "code",
   "execution_count": 49,
   "metadata": {},
   "outputs": [],
   "source": [
    "# # Load Model Code\n",
    "# model = PerceptronReLU([20, 10, 4, 2, 1])\n",
    "# model.load_state_dict(torch.load(r'../models/fsat_delta_5det_v1'))\n",
    "# model = model.cuda()\n",
    "# x_scaler = joblib.load(rf'../models/{model_name}_xscaler')\n",
    "# y_scaler = joblib.load(rf'../models/{model_name}_yscaler')"
   ]
  },
  {
   "cell_type": "code",
   "execution_count": null,
   "metadata": {},
   "outputs": [],
   "source": []
  }
 ],
 "metadata": {
  "kernelspec": {
   "display_name": "cybercat",
   "language": "python",
   "name": "python3"
  },
  "language_info": {
   "codemirror_mode": {
    "name": "ipython",
    "version": 3
   },
   "file_extension": ".py",
   "mimetype": "text/x-python",
   "name": "python",
   "nbconvert_exporter": "python",
   "pygments_lexer": "ipython3",
   "version": "3.8.10"
  },
  "orig_nbformat": 4
 },
 "nbformat": 4,
 "nbformat_minor": 2
}
