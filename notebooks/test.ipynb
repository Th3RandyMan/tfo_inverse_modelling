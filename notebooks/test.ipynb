{
 "cells": [
  {
   "cell_type": "code",
   "execution_count": 1,
   "metadata": {},
   "outputs": [
    {
     "ename": "ImportError",
     "evalue": "cannot import name 'get_interpolate_fit_params_custom' from 'inverse_modelling_tfo.data.intensity_interpolation' (/home/rraiyan/personal_projects/tfo_inverse_modelling/inverse_modelling_tfo/data/intensity_interpolation.py)",
     "output_type": "error",
     "traceback": [
      "\u001b[0;31m---------------------------------------------------------------------------\u001b[0m",
      "\u001b[0;31mImportError\u001b[0m                               Traceback (most recent call last)",
      "\u001b[1;32m/home/rraiyan/personal_projects/tfo_inverse_modelling/notebooks/test.ipynb Cell 1\u001b[0m line \u001b[0;36m5\n\u001b[1;32m      <a href='vscode-notebook-cell:/home/rraiyan/personal_projects/tfo_inverse_modelling/notebooks/test.ipynb#W0sZmlsZQ%3D%3D?line=2'>3</a>\u001b[0m \u001b[39mimport\u001b[39;00m \u001b[39mmatplotlib\u001b[39;00m\u001b[39m.\u001b[39;00m\u001b[39mpyplot\u001b[39;00m \u001b[39mas\u001b[39;00m \u001b[39mplt\u001b[39;00m\n\u001b[1;32m      <a href='vscode-notebook-cell:/home/rraiyan/personal_projects/tfo_inverse_modelling/notebooks/test.ipynb#W0sZmlsZQ%3D%3D?line=3'>4</a>\u001b[0m \u001b[39mimport\u001b[39;00m \u001b[39mpandas\u001b[39;00m \u001b[39mas\u001b[39;00m \u001b[39mpd\u001b[39;00m\n\u001b[0;32m----> <a href='vscode-notebook-cell:/home/rraiyan/personal_projects/tfo_inverse_modelling/notebooks/test.ipynb#W0sZmlsZQ%3D%3D?line=4'>5</a>\u001b[0m \u001b[39mfrom\u001b[39;00m \u001b[39minverse_modelling_tfo\u001b[39;00m\u001b[39m.\u001b[39;00m\u001b[39mdata\u001b[39;00m\u001b[39m.\u001b[39;00m\u001b[39mintensity_interpolation\u001b[39;00m \u001b[39mimport\u001b[39;00m \u001b[39m*\u001b[39m\n\u001b[1;32m      <a href='vscode-notebook-cell:/home/rraiyan/personal_projects/tfo_inverse_modelling/notebooks/test.ipynb#W0sZmlsZQ%3D%3D?line=6'>7</a>\u001b[0m PATH \u001b[39m=\u001b[39m \u001b[39mr\u001b[39m\u001b[39m'\u001b[39m\u001b[39m/home/rraiyan/personal_projects/tfo_inverse_modelling/inverse_modelling_tfo/s_based_intensity_low_conc3.pkl\u001b[39m\u001b[39m'\u001b[39m\n\u001b[1;32m      <a href='vscode-notebook-cell:/home/rraiyan/personal_projects/tfo_inverse_modelling/notebooks/test.ipynb#W0sZmlsZQ%3D%3D?line=7'>8</a>\u001b[0m data \u001b[39m=\u001b[39m pd\u001b[39m.\u001b[39mread_pickle(PATH)\n",
      "File \u001b[0;32m~/personal_projects/tfo_inverse_modelling/inverse_modelling_tfo/data/__init__.py:4\u001b[0m\n\u001b[1;32m      2\u001b[0m \u001b[39mfrom\u001b[39;00m \u001b[39minverse_modelling_tfo\u001b[39;00m\u001b[39m.\u001b[39;00m\u001b[39mdata\u001b[39;00m\u001b[39m.\u001b[39;00m\u001b[39mdata_loader\u001b[39;00m \u001b[39mimport\u001b[39;00m CustomDataset, generate_data_loaders, DifferentialCombinationDataset, generate_differential_data_loaders\n\u001b[1;32m      3\u001b[0m \u001b[39mfrom\u001b[39;00m \u001b[39minverse_modelling_tfo\u001b[39;00m\u001b[39m.\u001b[39;00m\u001b[39mdata\u001b[39;00m\u001b[39m.\u001b[39;00m\u001b[39mgenerate_intensity\u001b[39;00m \u001b[39mimport\u001b[39;00m intensity_from_raw, intensity_from_distribution\n\u001b[0;32m----> 4\u001b[0m \u001b[39mfrom\u001b[39;00m \u001b[39minverse_modelling_tfo\u001b[39;00m\u001b[39m.\u001b[39;00m\u001b[39mdata\u001b[39;00m\u001b[39m.\u001b[39;00m\u001b[39mintensity_interpolation\u001b[39;00m \u001b[39mimport\u001b[39;00m interpolate_exp, get_interpolate_fit_params, get_interpolate_fit_params_custom\n\u001b[1;32m      5\u001b[0m \u001b[39mfrom\u001b[39;00m \u001b[39minverse_modelling_tfo\u001b[39;00m\u001b[39m.\u001b[39;00m\u001b[39mdata\u001b[39;00m\u001b[39m.\u001b[39;00m\u001b[39mintensity_normalization\u001b[39;00m \u001b[39mimport\u001b[39;00m equidistance_detector_normalization, constant_detector_count_normalization, CONSTANT_DETECTOR_COUNT, EQUIDISTANCE_DETECTOR_COUNT, EQUIDISTANCE_DETECTOR_PHOTON_COUNT, COUNSTANT_DETECTOR_COUNT_PHOTON_COUNT, SIMULATION_DETECTOR_RADIUS, SIMULATION_UNITINMM\n",
      "\u001b[0;31mImportError\u001b[0m: cannot import name 'get_interpolate_fit_params_custom' from 'inverse_modelling_tfo.data.intensity_interpolation' (/home/rraiyan/personal_projects/tfo_inverse_modelling/inverse_modelling_tfo/data/intensity_interpolation.py)"
     ]
    }
   ],
   "source": [
    "from pathlib import Path\n",
    "import numpy as np\n",
    "import matplotlib.pyplot as plt\n",
    "import pandas as pd\n",
    "from inverse_modelling_tfo.data.intensity_interpolation import *\n",
    "\n",
    "PATH = r'/home/rraiyan/personal_projects/tfo_inverse_modelling/inverse_modelling_tfo/s_based_intensity_low_conc3.pkl'\n",
    "data = pd.read_pickle(PATH)\n",
    "\n",
    "data = interpolate_exp(data, weights=(1.0, 0.7))\n",
    "data[\"Interpolation Error\"] = np.abs(data[\"Intensity\"] - data[\"Interpolated Intensity\"])\n"
   ]
  },
  {
   "cell_type": "code",
   "execution_count": 3,
   "metadata": {},
   "outputs": [
    {
     "name": "stdout",
     "output_type": "stream",
     "text": [
      "       count          mean           std           min           25%  \\\n",
      "SDD                                                                    \n",
      "10   30000.0  2.445256e+04  1.484555e+04  5.475663e-01  1.178747e+04   \n",
      "14   30000.0  2.115546e+03  3.949005e+03  7.314303e+01  3.705574e+02   \n",
      "19   30000.0  7.298722e+02  2.348999e+03  2.856693e-02  3.085479e-01   \n",
      "23   30000.0  2.121955e+01  6.660185e+01  1.854692e-06  1.488235e-03   \n",
      "28   30000.0  3.868347e+01  1.261091e+02  1.823188e-11  4.254605e-05   \n",
      "32   30000.0  1.249986e+02  4.055088e+02  5.539993e-12  4.502863e-06   \n",
      "37   30000.0  6.481807e+01  2.066681e+02  7.705300e-15  3.132271e-07   \n",
      "41   30000.0  3.744733e+01  1.198372e+02  4.035525e-15  7.067115e-07   \n",
      "46   30000.0  4.130283e+00  1.256938e+01  1.499486e-16  2.679738e-07   \n",
      "50   30000.0  1.188987e+01  3.908845e+01  1.642189e-17  1.767821e-07   \n",
      "55   30000.0  1.810374e+01  5.950485e+01  6.941275e-17  1.346177e-06   \n",
      "59   30000.0  1.442461e+01  4.589946e+01  7.072669e-18  7.412721e-06   \n",
      "64   30000.0  3.229489e+01  9.087935e+01  2.061755e-17  2.058340e-03   \n",
      "68   30000.0  4.548998e+03  2.608370e+04  2.209548e-20  3.922052e-02   \n",
      "73   30000.0  1.196305e+07  8.621822e+07  4.542417e-17  2.170697e-02   \n",
      "77   30000.0  1.364537e+10  1.120949e+11  1.060895e-15  4.343053e-02   \n",
      "82   30000.0  2.064654e+14  1.930890e+15  1.306394e-13  1.147712e-01   \n",
      "86   30000.0  8.382205e+17  8.573118e+18  8.609907e-12  1.606514e-01   \n",
      "91   30000.0  5.517484e+22  6.261590e+23  4.014768e-10  3.620507e-01   \n",
      "95   30000.0  6.748708e+26  8.289356e+27  1.149551e-08  5.425417e-01   \n",
      "\n",
      "              50%           75%           max  \n",
      "SDD                                            \n",
      "10   23469.102464  3.823514e+04  5.410957e+04  \n",
      "14     565.796499  1.888496e+03  2.063459e+04  \n",
      "19       7.142823  6.958584e+01  1.297596e+04  \n",
      "23       0.102067  6.753160e+00  7.715280e+02  \n",
      "28       0.023420  2.968452e+00  6.673774e+02  \n",
      "32       0.005554  6.655667e+00  2.508678e+03  \n",
      "37       0.006019  3.757779e+00  1.309825e+03  \n",
      "41       0.000476  8.857763e-01  8.453084e+02  \n",
      "46       0.000555  2.050429e-01  7.764982e+01  \n",
      "50       0.002539  7.713370e-01  2.713962e+02  \n",
      "55       0.042941  1.359009e+00  4.636846e+02  \n",
      "59       0.401499  2.045354e+00  3.718873e+02  \n",
      "64       0.674789  1.343551e+01  1.287049e+03  \n",
      "68       2.022927  5.176065e+01  4.957675e+05  \n",
      "73      12.223844  4.428238e+02  2.014150e+09  \n",
      "77      38.952997  4.283853e+03  2.980293e+12  \n",
      "82     147.794856  3.016639e+05  5.871956e+16  \n",
      "86    1818.740378  1.494620e+07  2.889017e+20  \n",
      "91   13943.903346  1.143005e+10  2.444258e+25  \n",
      "95   53949.729039  3.694056e+12  3.596303e+29  \n"
     ]
    }
   ],
   "source": [
    "\n",
    "print(data.groupby(\"SDD\")[\"Interpolation Error\"].describe())"
   ]
  },
  {
   "cell_type": "code",
   "execution_count": 2,
   "metadata": {},
   "outputs": [
    {
     "data": {
      "text/plain": [
       "Index(['Wave Int', 'SDD', 'Uterus Thickness', 'Maternal Wall Thickness',\n",
       "       'Maternal Hb Concentration', 'Maternal Saturation',\n",
       "       'Fetal Hb Concentration', 'Fetal Saturation', 'Intensity',\n",
       "       'Interpolated Intensity', 'Interpolation Error'],\n",
       "      dtype='object')"
      ]
     },
     "execution_count": 2,
     "metadata": {},
     "output_type": "execute_result"
    }
   ],
   "source": [
    "data.columns"
   ]
  },
  {
   "cell_type": "code",
   "execution_count": null,
   "metadata": {},
   "outputs": [],
   "source": []
  }
 ],
 "metadata": {
  "kernelspec": {
   "display_name": "cybercat",
   "language": "python",
   "name": "python3"
  },
  "language_info": {
   "codemirror_mode": {
    "name": "ipython",
    "version": 3
   },
   "file_extension": ".py",
   "mimetype": "text/x-python",
   "name": "python",
   "nbconvert_exporter": "python",
   "pygments_lexer": "ipython3",
   "version": "3.8.10"
  },
  "orig_nbformat": 4
 },
 "nbformat": 4,
 "nbformat_minor": 2
}
