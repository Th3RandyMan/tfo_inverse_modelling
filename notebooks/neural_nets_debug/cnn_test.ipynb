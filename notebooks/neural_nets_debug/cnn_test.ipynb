{
 "cells": [
  {
   "cell_type": "markdown",
   "metadata": {},
   "source": [
    "# Test CNN-ish networks\n",
    "## Pure 1d CNN Network\n",
    "A fully CNN network with no FC layers. Each Conv layers are connected via a batch norm, dropout and relu to the next one"
   ]
  },
  {
   "cell_type": "code",
   "execution_count": 6,
   "metadata": {},
   "outputs": [],
   "source": [
    "%load_ext autoreload\n",
    "%autoreload 2"
   ]
  },
  {
   "cell_type": "code",
   "execution_count": 1,
   "metadata": {},
   "outputs": [],
   "source": [
    "from inverse_modelling_tfo.models.custom_models import CNN1d\n",
    "import torch\n",
    "\n",
    "test_input = torch.randn(1, 1, 50)     # Single data point, Single channel, 100 time steps\n",
    "model = CNN1d([1, 1, 1], [1, 1, 1], [20, 10, 5])\n",
    "test_output = model(test_input)"
   ]
  },
  {
   "cell_type": "code",
   "execution_count": 2,
   "metadata": {},
   "outputs": [
    {
     "data": {
      "text/plain": [
       "torch.Size([1, 74])"
      ]
     },
     "execution_count": 2,
     "metadata": {},
     "output_type": "execute_result"
    }
   ],
   "source": [
    "test_output.shape"
   ]
  },
  {
   "cell_type": "code",
   "execution_count": 3,
   "metadata": {},
   "outputs": [
    {
     "data": {
      "text/plain": [
       "[Conv1d(1, 1, kernel_size=(20,), stride=(1,), padding=(1,)),\n",
       " BatchNorm1d(1, eps=1e-05, momentum=0.1, affine=True, track_running_stats=True),\n",
       " ReLU(),\n",
       " Conv1d(1, 1, kernel_size=(10,), stride=(1,), padding=(1,)),\n",
       " BatchNorm1d(1, eps=1e-05, momentum=0.1, affine=True, track_running_stats=True),\n",
       " ReLU(),\n",
       " Conv1d(1, 1, kernel_size=(5,), stride=(1,), padding=(1,)),\n",
       " Flatten(start_dim=1, end_dim=-1)]"
      ]
     },
     "execution_count": 3,
     "metadata": {},
     "output_type": "execute_result"
    }
   ],
   "source": [
    "model.layers"
   ]
  },
  {
   "cell_type": "code",
   "execution_count": 4,
   "metadata": {},
   "outputs": [
    {
     "name": "stdout",
     "output_type": "stream",
     "text": [
      "tensor([[[-0.2661, -0.8722, -1.8370, -1.4419, -1.1839,  0.5183,  0.4586,\n",
      "           0.6910, -2.2014, -2.2231, -2.0148,  0.9659,  0.3232,  1.6309,\n",
      "           0.9286,  1.7073, -0.7245,  0.9917, -1.1637, -1.0178, -1.4903,\n",
      "           2.0167, -2.5905,  1.4661, -1.1876,  1.1145,  1.2189,  0.2036,\n",
      "          -1.1406, -0.2440,  0.0827,  0.3527,  0.9813,  1.5871, -0.0626,\n",
      "          -0.6684,  0.2577,  0.2275, -0.3306,  2.4128, -0.8373, -0.3309,\n",
      "          -1.1157, -0.7089, -0.8830,  1.5481, -0.4427, -0.3937, -1.2330,\n",
      "          -2.7119,  1.5724,  0.1537, -0.0256,  2.0308,  1.2669,  0.2516,\n",
      "          -0.3776,  0.4435, -1.1452, -0.3263,  1.0144, -2.4472,  0.0592,\n",
      "          -1.8601, -2.5489, -0.5382, -1.0830,  0.0213, -0.4994,  1.0176,\n",
      "          -0.9773,  0.4047,  1.1241, -0.1427,  1.8439,  0.2701, -1.2276,\n",
      "           1.6914,  0.1661, -0.2711,  1.0537,  1.4287,  0.9226,  0.8108,\n",
      "          -0.8121,  0.1947, -0.9492, -0.5967, -0.1701, -0.6331,  0.3273,\n",
      "          -0.6853,  0.1908, -1.3338, -0.9084,  0.3233,  0.3595, -0.3803,\n",
      "          -0.5782,  0.4197]]])\n"
     ]
    }
   ],
   "source": [
    "print(test_input)"
   ]
  },
  {
   "cell_type": "code",
   "execution_count": 5,
   "metadata": {},
   "outputs": [
    {
     "name": "stdout",
     "output_type": "stream",
     "text": [
      "tensor([[ 0.2869,  1.2724,  0.9297,  0.3962,  0.3006, -0.0799, -0.0883, -0.0661,\n",
      "         -0.1370,  0.1560, -0.0874,  0.0055,  0.1126, -0.0226,  0.1748, -0.1481,\n",
      "         -0.1893,  0.1231, -0.0832,  0.0421, -0.2838,  0.0212,  0.5587,  0.3762,\n",
      "          0.5524, -0.0467, -0.0264, -0.1497,  0.0649, -0.0329,  0.1134, -0.0597,\n",
      "         -0.0597, -0.0597, -0.0884, -0.1107, -0.0466, -0.2888, -0.1429, -0.1511,\n",
      "         -0.3388,  0.8611, -0.0586,  1.4344,  0.8228,  0.6297,  1.1738,  0.0397,\n",
      "          0.5817, -0.0630, -0.0656, -0.0516, -0.0580, -0.1687, -0.4286, -0.0382,\n",
      "          0.2935,  0.2707,  0.6978, -0.0107,  0.2564, -0.1094, -0.1481, -0.0019,\n",
      "         -0.1848,  0.0834, -0.3553,  0.1203,  0.5415,  0.3033,  0.8473, -0.0881,\n",
      "          0.0938,  0.1666]], grad_fn=<ViewBackward0>)\n"
     ]
    }
   ],
   "source": [
    "print(test_output)"
   ]
  },
  {
   "cell_type": "markdown",
   "metadata": {},
   "source": [
    "## FC Connected CNN\n",
    "A bunch of FC layers followed by CNNs. Each with batchnorm/dropout/ReLu between them"
   ]
  },
  {
   "cell_type": "code",
   "execution_count": 14,
   "metadata": {},
   "outputs": [],
   "source": [
    "from inverse_modelling_tfo.models.custom_models import FC2CNN\n",
    "model2 = FC2CNN([5, 10, 20], [0.5, 0.5], [30, 40], [5, 5])\n",
    "test_input2 = torch.randn(10, 5)    # 10 data points, 5 features\n",
    "test_output2 = model2(test_input2)"
   ]
  },
  {
   "cell_type": "code",
   "execution_count": 11,
   "metadata": {},
   "outputs": [
    {
     "data": {
      "text/plain": [
       "[Linear(in_features=5, out_features=10, bias=True),\n",
       " BatchNorm1d(10, eps=1e-05, momentum=0.1, affine=True, track_running_stats=True),\n",
       " Dropout1d(p=0.5, inplace=False),\n",
       " ReLU(),\n",
       " Linear(in_features=10, out_features=20, bias=True),\n",
       " Flatten(start_dim=1, end_dim=-1),\n",
       " Conv1d(1, 1, kernel_size=(5,), stride=(1,), padding=(7,)),\n",
       " BatchNorm1d(1, eps=1e-05, momentum=0.1, affine=True, track_running_stats=True),\n",
       " ReLU(),\n",
       " Conv1d(1, 1, kernel_size=(5,), stride=(1,), padding=(7,)),\n",
       " Flatten(start_dim=1, end_dim=-1)]"
      ]
     },
     "execution_count": 11,
     "metadata": {},
     "output_type": "execute_result"
    }
   ],
   "source": [
    "model2.layers"
   ]
  },
  {
   "cell_type": "code",
   "execution_count": 15,
   "metadata": {},
   "outputs": [
    {
     "data": {
      "text/plain": [
       "torch.Size([10, 40])"
      ]
     },
     "execution_count": 15,
     "metadata": {},
     "output_type": "execute_result"
    }
   ],
   "source": [
    "test_output2.shape"
   ]
  }
 ],
 "metadata": {
  "kernelspec": {
   "display_name": "cybercat",
   "language": "python",
   "name": "python3"
  },
  "language_info": {
   "codemirror_mode": {
    "name": "ipython",
    "version": 3
   },
   "file_extension": ".py",
   "mimetype": "text/x-python",
   "name": "python",
   "nbconvert_exporter": "python",
   "pygments_lexer": "ipython3",
   "version": "3.8.10"
  }
 },
 "nbformat": 4,
 "nbformat_minor": 2
}
