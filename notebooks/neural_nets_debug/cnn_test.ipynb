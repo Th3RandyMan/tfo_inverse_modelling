{
 "cells": [
  {
   "cell_type": "markdown",
   "metadata": {},
   "source": [
    "# Test CNN-ish networks\n",
    "## Pure 1d CNN Network\n",
    "A fully CNN network with no FC layers. Each Conv layers are connected via a batch norm, dropout and relu to the next one"
   ]
  },
  {
   "cell_type": "code",
   "execution_count": 2,
   "metadata": {},
   "outputs": [],
   "source": [
    "%load_ext autoreload\n",
    "%autoreload 2"
   ]
  },
  {
   "cell_type": "code",
   "execution_count": 3,
   "metadata": {},
   "outputs": [],
   "source": [
    "from inverse_modelling_tfo.models.custom_models import CNN1d\n",
    "import torch\n",
    "\n",
    "test_input = torch.randn(1, 1, 50)     # Single data point, Single channel, 100 time steps\n",
    "model = CNN1d([1, 1, 1, 1], [20, 10, 5])\n",
    "test_output = model(test_input)"
   ]
  },
  {
   "cell_type": "code",
   "execution_count": 4,
   "metadata": {},
   "outputs": [
    {
     "data": {
      "text/plain": [
       "[Conv1d(1, 1, kernel_size=(20,), stride=(1,), padding=(1,)),\n",
       " BatchNorm1d(1, eps=1e-05, momentum=0.1, affine=True, track_running_stats=True),\n",
       " ReLU(),\n",
       " Conv1d(1, 1, kernel_size=(10,), stride=(1,), padding=(1,)),\n",
       " BatchNorm1d(1, eps=1e-05, momentum=0.1, affine=True, track_running_stats=True),\n",
       " ReLU(),\n",
       " Conv1d(1, 1, kernel_size=(5,), stride=(1,), padding=(1,)),\n",
       " Flatten(start_dim=1, end_dim=-1)]"
      ]
     },
     "execution_count": 4,
     "metadata": {},
     "output_type": "execute_result"
    }
   ],
   "source": [
    "model.layers"
   ]
  },
  {
   "cell_type": "code",
   "execution_count": 5,
   "metadata": {},
   "outputs": [
    {
     "name": "stdout",
     "output_type": "stream",
     "text": [
      "tensor([[[-0.9548, -0.2101, -0.8768, -0.4657,  0.9861, -1.4704,  0.3717,\n",
      "          -0.0341, -1.0697,  0.7307,  1.4172,  1.6251, -1.3049,  0.5286,\n",
      "          -0.9536, -0.7204,  1.7079, -0.9684,  0.3938,  1.5386, -0.3145,\n",
      "           0.5387, -1.0192, -0.2828,  0.9150,  1.3362,  0.6938, -1.2963,\n",
      "           0.9519, -0.1727, -0.0312,  1.5417,  0.6327, -1.5883,  0.0223,\n",
      "           1.4685,  0.4548, -1.5882,  0.5483,  0.6783, -0.1888,  1.1157,\n",
      "          -0.2433,  1.0912,  0.5078,  1.1832,  0.2475,  0.4495, -0.5104,\n",
      "          -0.9403]]])\n"
     ]
    }
   ],
   "source": [
    "print(test_input)"
   ]
  },
  {
   "cell_type": "code",
   "execution_count": 6,
   "metadata": {},
   "outputs": [
    {
     "name": "stdout",
     "output_type": "stream",
     "text": [
      "tensor([[-0.6962,  0.1669, -0.0481, -0.1637, -0.3813, -0.7028,  0.0431,  0.3168,\n",
      "         -0.0136, -0.1160, -0.3136, -0.3212, -0.6690,  0.1127, -0.0400, -0.6576,\n",
      "          0.4374,  0.4378, -0.0133, -0.0135, -0.1558, -0.3101, -0.4426,  0.1466]],\n",
      "       grad_fn=<ViewBackward0>)\n"
     ]
    }
   ],
   "source": [
    "print(test_output)"
   ]
  },
  {
   "cell_type": "markdown",
   "metadata": {},
   "source": [
    "# Pure 1d CNN with multiple channels"
   ]
  },
  {
   "cell_type": "code",
   "execution_count": 9,
   "metadata": {},
   "outputs": [
    {
     "name": "stdout",
     "output_type": "stream",
     "text": [
      "torch.Size([1, 592])\n"
     ]
    }
   ],
   "source": [
    "model_0 = CNN1d([1, 4, 4, 8], [20, 10, 5])\n",
    "test_input_0 = torch.randn(1, 1, 100)     # Single data point, Single channel, 100 time steps\n",
    "test_output_0 = model_0(test_input_0)\n",
    "print(test_output_0.shape)"
   ]
  },
  {
   "cell_type": "markdown",
   "metadata": {},
   "source": [
    "## FC Connected CNN\n",
    "A bunch of FC layers followed by CNNs. Each with batchnorm/dropout/ReLu between them"
   ]
  },
  {
   "cell_type": "code",
   "execution_count": null,
   "metadata": {},
   "outputs": [],
   "source": [
    "from inverse_modelling_tfo.models.custom_models import FC2CNN\n",
    "model2 = FC2CNN([5, 10, 20], [30, 40], [5, 5])\n",
    "test_input2 = torch.randn(10, 5)    # 10 data points, 5 features\n",
    "test_output2 = model2(test_input2)"
   ]
  },
  {
   "cell_type": "code",
   "execution_count": null,
   "metadata": {},
   "outputs": [
    {
     "data": {
      "text/plain": [
       "[Linear(in_features=5, out_features=10, bias=True),\n",
       " BatchNorm1d(10, eps=1e-05, momentum=0.1, affine=True, track_running_stats=True),\n",
       " ReLU(),\n",
       " Linear(in_features=10, out_features=20, bias=True),\n",
       " Flatten(start_dim=1, end_dim=-1),\n",
       " Conv1d(1, 1, kernel_size=(5,), stride=(1,), padding=(7,)),\n",
       " BatchNorm1d(1, eps=1e-05, momentum=0.1, affine=True, track_running_stats=True),\n",
       " ReLU(),\n",
       " Conv1d(1, 1, kernel_size=(5,), stride=(1,), padding=(7,)),\n",
       " Flatten(start_dim=1, end_dim=-1),\n",
       " Identity()]"
      ]
     },
     "execution_count": 8,
     "metadata": {},
     "output_type": "execute_result"
    }
   ],
   "source": [
    "model2.layers"
   ]
  },
  {
   "cell_type": "code",
   "execution_count": null,
   "metadata": {},
   "outputs": [
    {
     "data": {
      "text/plain": [
       "torch.Size([10, 40])"
      ]
     },
     "execution_count": 9,
     "metadata": {},
     "output_type": "execute_result"
    }
   ],
   "source": [
    "test_output2.shape"
   ]
  },
  {
   "cell_type": "markdown",
   "metadata": {},
   "source": [
    "# CNN2FC\n",
    "A CNN followed by a FC Layer"
   ]
  },
  {
   "cell_type": "code",
   "execution_count": null,
   "metadata": {},
   "outputs": [],
   "source": [
    "from inverse_modelling_tfo.models.custom_models import CNN2FC\n",
    "\n",
    "fc_output_size = 5\n",
    "input_size = 20\n",
    "model3 = CNN2FC(input_size, [1, 1, 1, 1], [3, 3, 3], [10, fc_output_size])\n",
    "test_input3 = torch.randn(5, input_size)    # batch size 5, 20 features\n",
    "test_output3 = model3(test_input3)"
   ]
  },
  {
   "cell_type": "code",
   "execution_count": null,
   "metadata": {},
   "outputs": [
    {
     "data": {
      "text/plain": [
       "torch.Size([5, 5])"
      ]
     },
     "execution_count": 12,
     "metadata": {},
     "output_type": "execute_result"
    }
   ],
   "source": [
    "test_output3.shape  # Should be batch_size x outputsize"
   ]
  },
  {
   "cell_type": "code",
   "execution_count": null,
   "metadata": {},
   "outputs": [],
   "source": []
  }
 ],
 "metadata": {
  "kernelspec": {
   "display_name": "cybercat",
   "language": "python",
   "name": "python3"
  },
  "language_info": {
   "codemirror_mode": {
    "name": "ipython",
    "version": 3
   },
   "file_extension": ".py",
   "mimetype": "text/x-python",
   "name": "python",
   "nbconvert_exporter": "python",
   "pygments_lexer": "ipython3",
   "version": "3.8.10"
  }
 },
 "nbformat": 4,
 "nbformat_minor": 2
}
