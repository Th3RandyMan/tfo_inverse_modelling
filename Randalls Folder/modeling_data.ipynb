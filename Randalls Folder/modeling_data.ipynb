{
 "cells": [
  {
   "cell_type": "markdown",
   "metadata": {},
   "source": [
    "# Notebook for creating Models for Randall's data"
   ]
  },
  {
   "cell_type": "markdown",
   "metadata": {},
   "source": [
    "### Import Libraries and read data"
   ]
  },
  {
   "cell_type": "code",
   "execution_count": 1,
   "metadata": {},
   "outputs": [],
   "source": [
    "import sys\n",
    "\n",
    "# Set path to root directory\n",
    "sys.path.append(r'/home/rlfowler/Documents/research/tfo_inverse_modelling')\n",
    "\n",
    "# Import necessary modules\n",
    "import os\n",
    "import pandas as pd\n",
    "import numpy as np\n",
    "\n",
    "# Set my GPU\n",
    "os.environ[\"CUDA_VISIBLE_DEVICES\"] = \"3\""
   ]
  },
  {
   "cell_type": "code",
   "execution_count": 2,
   "metadata": {},
   "outputs": [
    {
     "name": "stdout",
     "output_type": "stream",
     "text": [
      "(35929014, 47)\n"
     ]
    },
    {
     "data": {
      "text/html": [
       "<div>\n",
       "<style scoped>\n",
       "    .dataframe tbody tr th:only-of-type {\n",
       "        vertical-align: middle;\n",
       "    }\n",
       "\n",
       "    .dataframe tbody tr th {\n",
       "        vertical-align: top;\n",
       "    }\n",
       "\n",
       "    .dataframe thead th {\n",
       "        text-align: right;\n",
       "    }\n",
       "</style>\n",
       "<table border=\"1\" class=\"dataframe\">\n",
       "  <thead>\n",
       "    <tr style=\"text-align: right;\">\n",
       "      <th></th>\n",
       "      <th>Maternal Wall Thickness</th>\n",
       "      <th>Fetal Radius</th>\n",
       "      <th>Fetal Displacement</th>\n",
       "      <th>Maternal Hb Concentration</th>\n",
       "      <th>Maternal Saturation</th>\n",
       "      <th>Fetal Hb Concentration</th>\n",
       "      <th>Fetal Saturation</th>\n",
       "      <th>10.0_1.0</th>\n",
       "      <th>15.0_1.0</th>\n",
       "      <th>19.0_1.0</th>\n",
       "      <th>...</th>\n",
       "      <th>55.0_2.0</th>\n",
       "      <th>59.0_2.0</th>\n",
       "      <th>64.0_2.0</th>\n",
       "      <th>68.0_2.0</th>\n",
       "      <th>72.0_2.0</th>\n",
       "      <th>77.0_2.0</th>\n",
       "      <th>81.0_2.0</th>\n",
       "      <th>86.0_2.0</th>\n",
       "      <th>90.0_2.0</th>\n",
       "      <th>94.0_2.0</th>\n",
       "    </tr>\n",
       "  </thead>\n",
       "  <tbody>\n",
       "    <tr>\n",
       "      <th>43923</th>\n",
       "      <td>2.0</td>\n",
       "      <td>50.0</td>\n",
       "      <td>5.0</td>\n",
       "      <td>11.0</td>\n",
       "      <td>0.9</td>\n",
       "      <td>10.725</td>\n",
       "      <td>0.10</td>\n",
       "      <td>0.000041</td>\n",
       "      <td>0.000005</td>\n",
       "      <td>0.000001</td>\n",
       "      <td>...</td>\n",
       "      <td>6.001589e-15</td>\n",
       "      <td>5.848743e-15</td>\n",
       "      <td>2.763929e-16</td>\n",
       "      <td>1.500358e-17</td>\n",
       "      <td>3.398607e-18</td>\n",
       "      <td>1.015295e-18</td>\n",
       "      <td>7.130597e-20</td>\n",
       "      <td>8.710054e-22</td>\n",
       "      <td>4.012456e-20</td>\n",
       "      <td>2.355748e-22</td>\n",
       "    </tr>\n",
       "    <tr>\n",
       "      <th>43924</th>\n",
       "      <td>2.0</td>\n",
       "      <td>50.0</td>\n",
       "      <td>5.0</td>\n",
       "      <td>11.0</td>\n",
       "      <td>0.9</td>\n",
       "      <td>10.725</td>\n",
       "      <td>0.15</td>\n",
       "      <td>0.000041</td>\n",
       "      <td>0.000005</td>\n",
       "      <td>0.000001</td>\n",
       "      <td>...</td>\n",
       "      <td>5.893694e-15</td>\n",
       "      <td>5.768395e-15</td>\n",
       "      <td>2.710312e-16</td>\n",
       "      <td>1.463642e-17</td>\n",
       "      <td>3.212955e-18</td>\n",
       "      <td>9.575111e-19</td>\n",
       "      <td>6.831444e-20</td>\n",
       "      <td>8.155644e-22</td>\n",
       "      <td>3.835888e-20</td>\n",
       "      <td>2.151092e-22</td>\n",
       "    </tr>\n",
       "    <tr>\n",
       "      <th>43925</th>\n",
       "      <td>2.0</td>\n",
       "      <td>50.0</td>\n",
       "      <td>5.0</td>\n",
       "      <td>11.0</td>\n",
       "      <td>0.9</td>\n",
       "      <td>10.725</td>\n",
       "      <td>0.20</td>\n",
       "      <td>0.000041</td>\n",
       "      <td>0.000005</td>\n",
       "      <td>0.000001</td>\n",
       "      <td>...</td>\n",
       "      <td>5.789363e-15</td>\n",
       "      <td>5.689761e-15</td>\n",
       "      <td>2.658178e-16</td>\n",
       "      <td>1.428727e-17</td>\n",
       "      <td>3.039417e-18</td>\n",
       "      <td>9.030257e-19</td>\n",
       "      <td>6.545149e-20</td>\n",
       "      <td>7.646231e-22</td>\n",
       "      <td>3.667090e-20</td>\n",
       "      <td>1.964215e-22</td>\n",
       "    </tr>\n",
       "    <tr>\n",
       "      <th>43926</th>\n",
       "      <td>2.0</td>\n",
       "      <td>50.0</td>\n",
       "      <td>5.0</td>\n",
       "      <td>11.0</td>\n",
       "      <td>0.9</td>\n",
       "      <td>10.725</td>\n",
       "      <td>0.25</td>\n",
       "      <td>0.000041</td>\n",
       "      <td>0.000005</td>\n",
       "      <td>0.000001</td>\n",
       "      <td>...</td>\n",
       "      <td>5.688417e-15</td>\n",
       "      <td>5.612798e-15</td>\n",
       "      <td>2.607455e-16</td>\n",
       "      <td>1.395518e-17</td>\n",
       "      <td>2.877101e-18</td>\n",
       "      <td>8.516513e-19</td>\n",
       "      <td>6.271132e-20</td>\n",
       "      <td>7.177746e-22</td>\n",
       "      <td>3.505719e-20</td>\n",
       "      <td>1.793575e-22</td>\n",
       "    </tr>\n",
       "    <tr>\n",
       "      <th>43927</th>\n",
       "      <td>2.0</td>\n",
       "      <td>50.0</td>\n",
       "      <td>5.0</td>\n",
       "      <td>11.0</td>\n",
       "      <td>0.9</td>\n",
       "      <td>10.725</td>\n",
       "      <td>0.30</td>\n",
       "      <td>0.000041</td>\n",
       "      <td>0.000005</td>\n",
       "      <td>0.000001</td>\n",
       "      <td>...</td>\n",
       "      <td>5.590720e-15</td>\n",
       "      <td>5.537444e-15</td>\n",
       "      <td>2.558081e-16</td>\n",
       "      <td>1.363931e-17</td>\n",
       "      <td>2.725183e-18</td>\n",
       "      <td>8.032090e-19</td>\n",
       "      <td>6.008842e-20</td>\n",
       "      <td>6.746510e-22</td>\n",
       "      <td>3.351450e-20</td>\n",
       "      <td>1.637759e-22</td>\n",
       "    </tr>\n",
       "  </tbody>\n",
       "</table>\n",
       "<p>5 rows × 47 columns</p>\n",
       "</div>"
      ],
      "text/plain": [
       "       Maternal Wall Thickness  Fetal Radius  Fetal Displacement  \\\n",
       "43923                      2.0          50.0                 5.0   \n",
       "43924                      2.0          50.0                 5.0   \n",
       "43925                      2.0          50.0                 5.0   \n",
       "43926                      2.0          50.0                 5.0   \n",
       "43927                      2.0          50.0                 5.0   \n",
       "\n",
       "       Maternal Hb Concentration  Maternal Saturation  Fetal Hb Concentration  \\\n",
       "43923                       11.0                  0.9                  10.725   \n",
       "43924                       11.0                  0.9                  10.725   \n",
       "43925                       11.0                  0.9                  10.725   \n",
       "43926                       11.0                  0.9                  10.725   \n",
       "43927                       11.0                  0.9                  10.725   \n",
       "\n",
       "       Fetal Saturation  10.0_1.0  15.0_1.0  19.0_1.0  ...      55.0_2.0  \\\n",
       "43923              0.10  0.000041  0.000005  0.000001  ...  6.001589e-15   \n",
       "43924              0.15  0.000041  0.000005  0.000001  ...  5.893694e-15   \n",
       "43925              0.20  0.000041  0.000005  0.000001  ...  5.789363e-15   \n",
       "43926              0.25  0.000041  0.000005  0.000001  ...  5.688417e-15   \n",
       "43927              0.30  0.000041  0.000005  0.000001  ...  5.590720e-15   \n",
       "\n",
       "           59.0_2.0      64.0_2.0      68.0_2.0      72.0_2.0      77.0_2.0  \\\n",
       "43923  5.848743e-15  2.763929e-16  1.500358e-17  3.398607e-18  1.015295e-18   \n",
       "43924  5.768395e-15  2.710312e-16  1.463642e-17  3.212955e-18  9.575111e-19   \n",
       "43925  5.689761e-15  2.658178e-16  1.428727e-17  3.039417e-18  9.030257e-19   \n",
       "43926  5.612798e-15  2.607455e-16  1.395518e-17  2.877101e-18  8.516513e-19   \n",
       "43927  5.537444e-15  2.558081e-16  1.363931e-17  2.725183e-18  8.032090e-19   \n",
       "\n",
       "           81.0_2.0      86.0_2.0      90.0_2.0      94.0_2.0  \n",
       "43923  7.130597e-20  8.710054e-22  4.012456e-20  2.355748e-22  \n",
       "43924  6.831444e-20  8.155644e-22  3.835888e-20  2.151092e-22  \n",
       "43925  6.545149e-20  7.646231e-22  3.667090e-20  1.964215e-22  \n",
       "43926  6.271132e-20  7.177746e-22  3.505719e-20  1.793575e-22  \n",
       "43927  6.008842e-20  6.746510e-22  3.351450e-20  1.637759e-22  \n",
       "\n",
       "[5 rows x 47 columns]"
      ]
     },
     "execution_count": 2,
     "metadata": {},
     "output_type": "execute_result"
    }
   ],
   "source": [
    "DATA_PATH = r'/home/rlfowler/Documents/research/tfo_inverse_modelling/Randalls Folder/data/randall_data_intensities.pkl'\n",
    "#CONFIG_PATH = r'/home/rlfowler/Documents/research/tfo_sim/data/compiled_intensity/randall_data.json'\n",
    "\n",
    "# Load the data\n",
    "data = pd.read_pickle(DATA_PATH)\n",
    "print(data.shape)\n",
    "data.head()"
   ]
  },
  {
   "cell_type": "code",
   "execution_count": 3,
   "metadata": {},
   "outputs": [
    {
     "name": "stdout",
     "output_type": "stream",
     "text": [
      "Maternal Wall Thickness: [ 2.  3.  4.  5.  6.  7.  8.  9. 10.]\n",
      "Fetal Radius: [ 50.  70.  90. 110. 130. 150. 170. 190. 210. 230. 250. 270. 290. 310.\n",
      " 330. 350. 370. 390. 410. 430. 450. 470. 490.]\n",
      "Fetal Displacement: [ 5. 15. 20. 25. 40. 10. 35.  0. 30.]\n",
      "Maternal Hb Concentration: [11.  11.5 12.  12.5 13.  13.5 14.  14.5 15.  15.5 16. ]\n",
      "Maternal Saturation: [0.9  0.91 0.92 0.93 0.94 0.95 0.96 0.97 0.98 0.99 1.  ]\n",
      "Fetal Hb Concentration: [10.725  11.     11.2125 11.275  11.5    11.7    11.7875 12.     12.1875\n",
      " 12.3    12.5    12.675  12.8125 13.     13.1625 13.325  13.5    13.65\n",
      " 13.8375 14.     14.1375 14.35   14.5    14.625  14.8625 15.     15.1125\n",
      " 15.375  15.5    15.6    15.8875 16.     16.4   ]\n",
      "Fetal Saturation: [0.1  0.15 0.2  0.25 0.3  0.35 0.4  0.45 0.5  0.55 0.6 ]\n"
     ]
    }
   ],
   "source": [
    "for col in data.columns[:7]:\n",
    "    print(f\"{col}: {data[col].unique()}\")"
   ]
  },
  {
   "cell_type": "code",
   "execution_count": 4,
   "metadata": {},
   "outputs": [
    {
     "name": "stdout",
     "output_type": "stream",
     "text": [
      "y_columns: ['Fetal Saturation']\n",
      "x_columns: ['10.0_1.0', '15.0_1.0', '19.0_1.0', '24.0_1.0', '28.0_1.0', '33.0_1.0', '37.0_1.0', '41.0_1.0', '46.0_1.0', '50.0_1.0', '55.0_1.0', '59.0_1.0', '64.0_1.0', '68.0_1.0', '72.0_1.0', '77.0_1.0', '81.0_1.0', '86.0_1.0', '90.0_1.0', '94.0_1.0', '10.0_2.0', '15.0_2.0', '19.0_2.0', '24.0_2.0', '28.0_2.0', '33.0_2.0', '37.0_2.0', '41.0_2.0', '46.0_2.0', '50.0_2.0', '55.0_2.0', '59.0_2.0', '64.0_2.0', '68.0_2.0', '72.0_2.0', '77.0_2.0', '81.0_2.0', '86.0_2.0', '90.0_2.0', '94.0_2.0']\n"
     ]
    }
   ],
   "source": [
    "y_columns = [\"Fetal Saturation\"]\n",
    "x_columns = data.columns[7:]\n",
    "print(f\"y_columns: {y_columns}\")\n",
    "print(f\"x_columns: {x_columns.tolist()}\")"
   ]
  },
  {
   "cell_type": "code",
   "execution_count": 5,
   "metadata": {},
   "outputs": [
    {
     "name": "stdout",
     "output_type": "stream",
     "text": [
      "          Fetal Saturation\n",
      "43923                 0.10\n",
      "43924                 0.15\n",
      "43925                 0.20\n",
      "43926                 0.25\n",
      "43927                 0.30\n",
      "...                    ...\n",
      "29120944              0.40\n",
      "29120945              0.45\n",
      "29120946              0.50\n",
      "29120947              0.55\n",
      "29120948              0.60\n",
      "\n",
      "[35929014 rows x 1 columns]\n"
     ]
    }
   ],
   "source": [
    "print(data[y_columns])"
   ]
  },
  {
   "cell_type": "code",
   "execution_count": 6,
   "metadata": {},
   "outputs": [],
   "source": [
    "from sklearn import preprocessing\n",
    "\n",
    "## Scale y, sets mean to 0 and variance to 1\n",
    "y_scaler = preprocessing.StandardScaler()\n",
    "data[y_columns] = y_scaler.fit_transform(data[y_columns])\n",
    "\n",
    "## Scale x\n",
    "x_scaler = preprocessing.StandardScaler()\n",
    "data[x_columns] = x_scaler.fit_transform(data[x_columns])"
   ]
  },
  {
   "cell_type": "code",
   "execution_count": 7,
   "metadata": {},
   "outputs": [
    {
     "name": "stdout",
     "output_type": "stream",
     "text": [
      "          Fetal Saturation\n",
      "43923            -1.581139\n",
      "43924            -1.264911\n",
      "43925            -0.948683\n",
      "43926            -0.632456\n",
      "43927            -0.316228\n",
      "...                    ...\n",
      "29120944          0.316228\n",
      "29120945          0.632455\n",
      "29120946          0.948683\n",
      "29120947          1.264911\n",
      "29120948          1.581139\n",
      "\n",
      "[35929014 rows x 1 columns]\n"
     ]
    }
   ],
   "source": [
    "print(data[y_columns])"
   ]
  },
  {
   "cell_type": "markdown",
   "metadata": {},
   "source": [
    "## Modeling"
   ]
  },
  {
   "cell_type": "code",
   "execution_count": 8,
   "metadata": {},
   "outputs": [
    {
     "name": "stdout",
     "output_type": "stream",
     "text": [
      "In Features : 40\n",
      "Out Features: 1\n"
     ]
    }
   ],
   "source": [
    "IN_FEATURES = len(x_columns)\n",
    "OUT_FEATURES = len(y_columns)\n",
    "print(\"In Features :\", IN_FEATURES)  \n",
    "print(\"Out Features:\", OUT_FEATURES)"
   ]
  },
  {
   "cell_type": "code",
   "execution_count": 10,
   "metadata": {},
   "outputs": [],
   "source": [
    "from inverse_modelling_tfo.models.train_model import ModelTrainerFactory\n",
    "from inverse_modelling_tfo.models import RandomSplit, ValidationMethod, HoldOneOut, CVSplit, CombineMethods\n",
    "import torch.nn as nn\n",
    "from inverse_modelling_tfo.data import generate_data_loaders\n",
    "from inverse_modelling_tfo.models.custom_models import SplitChannelCNN\n",
    "\n",
    "datagen_kw = {\n",
    "    'table' : data,\n",
    "    'data_loader_params' : \n",
    "        {\n",
    "            'batch_size': 32, 'shuffle': True\n",
    "        }, \n",
    "    'x_columns': x_columns,\n",
    "    'y_columns': y_columns,\n",
    "    'validation_method' : RandomSplit(0.9)\n",
    "    # 'validation_method' : HoldOneOut('Maternal Wall Thickness', data['Maternal Wall Thickness'].unique()[3])\n",
    "    # 'validation_method' : CombineMethods([HoldOneOut('Maternal Wall Thickness', data['Maternal Wall Thickness'].unique()[3]), RandomSplit(0.9)])\n",
    "    # 'validation_method' : HoldOneOut('Maternal Hb Concentration', 13.0)\n",
    "    # 'validation_method' : HoldOneOut('Maternal Saturation', 1.0)\n",
    "}\n",
    "\n",
    "criterion = nn.MSELoss()\n",
    "\n",
    "## Trainer Factory for SplitChannel CNN\n",
    "cnn_config = {\n",
    "    'complete_input_length': IN_FEATURES,\n",
    "    'split_count': 4,\n",
    "    'cnn_out_channels': [4, 8, 16],\n",
    "    # 'cnn_kernel_sizes' : [10, 5, 5],\n",
    "    'cnn_kernel_sizes' : [10, 5, 3],\n",
    "    'cnn_dropouts' : [0.5] * 2,\n",
    "    # 'fc_output_node_counts': [30, 10, OUT_FEATURES],    # Best\n",
    "    # 'fc_output_node_counts': [24, 12, OUT_FEATURES],    # Best\n",
    "    'fc_output_node_counts': [12, 6, OUT_FEATURES],    # Best\n",
    "    'fc_dropouts': [0.5] * 3,\n",
    "}\n",
    "\n",
    "trainer_factory = ModelTrainerFactory(SplitChannelCNN, cnn_config, generate_data_loaders, datagen_kw, 100, criterion)"
   ]
  },
  {
   "cell_type": "code",
   "execution_count": 11,
   "metadata": {},
   "outputs": [
    {
     "ename": "RuntimeError",
     "evalue": "Calculated padded input size per channel: (1). Kernel size: (5). Kernel size can't be greater than actual input size",
     "output_type": "error",
     "traceback": [
      "\u001b[0;31m---------------------------------------------------------------------------\u001b[0m",
      "\u001b[0;31mRuntimeError\u001b[0m                              Traceback (most recent call last)",
      "Cell \u001b[0;32mIn[11], line 5\u001b[0m\n\u001b[1;32m      2\u001b[0m \u001b[38;5;28;01mfrom\u001b[39;00m \u001b[38;5;21;01mtorch\u001b[39;00m\u001b[38;5;21;01m.\u001b[39;00m\u001b[38;5;21;01moptim\u001b[39;00m \u001b[38;5;28;01mimport\u001b[39;00m Adam, SGD\n\u001b[1;32m      4\u001b[0m set_seed(\u001b[38;5;241m42\u001b[39m)\n\u001b[0;32m----> 5\u001b[0m trainer \u001b[38;5;241m=\u001b[39m \u001b[43mtrainer_factory\u001b[49m\u001b[38;5;241;43m.\u001b[39;49m\u001b[43mcreate\u001b[49m\u001b[43m(\u001b[49m\u001b[43m)\u001b[49m\n\u001b[1;32m      6\u001b[0m trainer\u001b[38;5;241m.\u001b[39mset_optimizer(SGD, {\u001b[38;5;124m'\u001b[39m\u001b[38;5;124mlr\u001b[39m\u001b[38;5;124m'\u001b[39m: \u001b[38;5;241m1e-3\u001b[39m, \u001b[38;5;124m'\u001b[39m\u001b[38;5;124mmomentum\u001b[39m\u001b[38;5;124m'\u001b[39m: \u001b[38;5;241m0.91\u001b[39m, \u001b[38;5;124m'\u001b[39m\u001b[38;5;124mweight_decay\u001b[39m\u001b[38;5;124m'\u001b[39m: \u001b[38;5;241m1e-4\u001b[39m})\n\u001b[1;32m      7\u001b[0m \u001b[38;5;66;03m# trainer.change_batch_size(2048)\u001b[39;00m\n",
      "File \u001b[0;32m~/Documents/research/tfo_inverse_modelling/inverse_modelling_tfo/models/train_model.py:182\u001b[0m, in \u001b[0;36mModelTrainerFactory.create\u001b[0;34m(self)\u001b[0m\n\u001b[1;32m    180\u001b[0m \u001b[38;5;28;01mdef\u001b[39;00m \u001b[38;5;21mcreate\u001b[39m(\u001b[38;5;28mself\u001b[39m) \u001b[38;5;241m-\u001b[39m\u001b[38;5;241m>\u001b[39m ModelTrainer:\n\u001b[1;32m    181\u001b[0m \u001b[38;5;250m    \u001b[39m\u001b[38;5;124;03m\"\"\"Creates a ModelTrainer based on the given blueprint\"\"\"\u001b[39;00m\n\u001b[0;32m--> 182\u001b[0m     model \u001b[38;5;241m=\u001b[39m \u001b[38;5;28;43mself\u001b[39;49m\u001b[38;5;241;43m.\u001b[39;49m\u001b[43mmodel_class\u001b[49m\u001b[43m(\u001b[49m\u001b[38;5;241;43m*\u001b[39;49m\u001b[38;5;241;43m*\u001b[39;49m\u001b[38;5;28;43mself\u001b[39;49m\u001b[38;5;241;43m.\u001b[39;49m\u001b[43mmodel_gen_kargs\u001b[49m\u001b[43m)\u001b[49m\n\u001b[1;32m    183\u001b[0m     trainer \u001b[38;5;241m=\u001b[39m ModelTrainer(model, \u001b[38;5;28mself\u001b[39m\u001b[38;5;241m.\u001b[39mtrain_loader, \u001b[38;5;28mself\u001b[39m\u001b[38;5;241m.\u001b[39mvalidation_loader, \u001b[38;5;28mself\u001b[39m\u001b[38;5;241m.\u001b[39mepochs, \u001b[38;5;28mself\u001b[39m\u001b[38;5;241m.\u001b[39mcriterion)\n\u001b[1;32m    184\u001b[0m     trainer\u001b[38;5;241m.\u001b[39mdataloader_gen_func_ \u001b[38;5;241m=\u001b[39m \u001b[38;5;28mself\u001b[39m\u001b[38;5;241m.\u001b[39mdataloader_gen_func\n",
      "File \u001b[0;32m~/Documents/research/tfo_inverse_modelling/inverse_modelling_tfo/models/custom_models.py:558\u001b[0m, in \u001b[0;36mSplitChannelCNN.__init__\u001b[0;34m(self, complete_input_length, split_count, cnn_out_channels, cnn_kernel_sizes, fc_output_node_counts, cnn_paddings, cnn_strides, cnn_dialations, cnn_dropouts, fc_dropouts)\u001b[0m\n\u001b[1;32m    556\u001b[0m \u001b[38;5;28;01massert\u001b[39;00m \u001b[38;5;28mlen\u001b[39m(cnn_kernel_sizes) \u001b[38;5;241m==\u001b[39m layer_count, \u001b[38;5;124m\"\u001b[39m\u001b[38;5;124mkernel_sizes length must be the same as cnn_out_channels length\u001b[39m\u001b[38;5;124m\"\u001b[39m\n\u001b[1;32m    557\u001b[0m \u001b[38;5;28msuper\u001b[39m()\u001b[38;5;241m.\u001b[39m\u001b[38;5;21m__init__\u001b[39m()\n\u001b[0;32m--> 558\u001b[0m \u001b[38;5;28mself\u001b[39m\u001b[38;5;241m.\u001b[39mnetwork \u001b[38;5;241m=\u001b[39m \u001b[43mCNN2FC\u001b[49m\u001b[43m(\u001b[49m\n\u001b[1;32m    559\u001b[0m \u001b[43m    \u001b[49m\u001b[38;5;28;43mself\u001b[39;49m\u001b[38;5;241;43m.\u001b[39;49m\u001b[43minput_length\u001b[49m\u001b[43m,\u001b[49m\n\u001b[1;32m    560\u001b[0m \u001b[43m    \u001b[49m\u001b[43m[\u001b[49m\u001b[43msplit_count\u001b[49m\u001b[43m]\u001b[49m\u001b[43m \u001b[49m\u001b[38;5;241;43m+\u001b[39;49m\u001b[43m \u001b[49m\u001b[43mcnn_out_channels\u001b[49m\u001b[43m,\u001b[49m\n\u001b[1;32m    561\u001b[0m \u001b[43m    \u001b[49m\u001b[43mcnn_kernel_sizes\u001b[49m\u001b[43m,\u001b[49m\n\u001b[1;32m    562\u001b[0m \u001b[43m    \u001b[49m\u001b[43mfc_output_node_counts\u001b[49m\u001b[43m,\u001b[49m\n\u001b[1;32m    563\u001b[0m \u001b[43m    \u001b[49m\u001b[43mcnn_paddings\u001b[49m\u001b[43m,\u001b[49m\n\u001b[1;32m    564\u001b[0m \u001b[43m    \u001b[49m\u001b[43mcnn_strides\u001b[49m\u001b[43m,\u001b[49m\n\u001b[1;32m    565\u001b[0m \u001b[43m    \u001b[49m\u001b[43mcnn_dialations\u001b[49m\u001b[43m,\u001b[49m\n\u001b[1;32m    566\u001b[0m \u001b[43m    \u001b[49m\u001b[43mcnn_dropouts\u001b[49m\u001b[43m,\u001b[49m\n\u001b[1;32m    567\u001b[0m \u001b[43m    \u001b[49m\u001b[43m[\u001b[49m\u001b[43msplit_count\u001b[49m\u001b[43m]\u001b[49m\u001b[43m \u001b[49m\u001b[38;5;241;43m*\u001b[39;49m\u001b[43m \u001b[49m\u001b[38;5;28;43mlen\u001b[39;49m\u001b[43m(\u001b[49m\u001b[43mcnn_out_channels\u001b[49m\u001b[43m)\u001b[49m\u001b[43m,\u001b[49m\n\u001b[1;32m    568\u001b[0m \u001b[43m    \u001b[49m\u001b[43mfc_dropouts\u001b[49m\u001b[43m,\u001b[49m\n\u001b[1;32m    569\u001b[0m \u001b[43m\u001b[49m\u001b[43m)\u001b[49m\n\u001b[1;32m    570\u001b[0m \u001b[38;5;28mself\u001b[39m\u001b[38;5;241m.\u001b[39msplit_count \u001b[38;5;241m=\u001b[39m split_count\n\u001b[1;32m    571\u001b[0m \u001b[38;5;28mself\u001b[39m\u001b[38;5;241m.\u001b[39mlayers \u001b[38;5;241m=\u001b[39m \u001b[38;5;28mself\u001b[39m\u001b[38;5;241m.\u001b[39mnetwork\u001b[38;5;241m.\u001b[39mlayers\n",
      "File \u001b[0;32m~/Documents/research/tfo_inverse_modelling/inverse_modelling_tfo/models/custom_models.py:448\u001b[0m, in \u001b[0;36mCNN2FC.__init__\u001b[0;34m(self, input_length, cnn_channel_counts, cnn_kernel_sizes, fc_output_node_counts, cnn_paddings, cnn_strides, cnn_dialations, cnn_dropouts, cnn_groups, fc_dropout_rates)\u001b[0m\n\u001b[1;32m    446\u001b[0m \u001b[38;5;28mself\u001b[39m\u001b[38;5;241m.\u001b[39mcnn \u001b[38;5;241m=\u001b[39m \u001b[38;5;28mself\u001b[39m\u001b[38;5;241m.\u001b[39mcnn\u001b[38;5;241m.\u001b[39meval()  \u001b[38;5;66;03m# Set the model to evaluation mode first\u001b[39;00m\n\u001b[1;32m    447\u001b[0m temp_tensor \u001b[38;5;241m=\u001b[39m torch\u001b[38;5;241m.\u001b[39mrandn(\u001b[38;5;241m1\u001b[39m, cnn_channel_counts[\u001b[38;5;241m0\u001b[39m], input_length)  \u001b[38;5;66;03m# Create a dummy tensor\u001b[39;00m\n\u001b[0;32m--> 448\u001b[0m temp_tensor \u001b[38;5;241m=\u001b[39m \u001b[38;5;28;43mself\u001b[39;49m\u001b[38;5;241;43m.\u001b[39;49m\u001b[43mcnn\u001b[49m\u001b[43m(\u001b[49m\u001b[43mtemp_tensor\u001b[49m\u001b[43m)\u001b[49m  \u001b[38;5;66;03m# Pass it through the CNN, we should get a 2D tensor\u001b[39;00m\n\u001b[1;32m    449\u001b[0m cnn_out_dim \u001b[38;5;241m=\u001b[39m temp_tensor\u001b[38;5;241m.\u001b[39mshape[\u001b[38;5;241m1\u001b[39m]  \u001b[38;5;66;03m# Get the output dimension of the CNN using the dummy tensor\u001b[39;00m\n\u001b[1;32m    450\u001b[0m \u001b[38;5;28mself\u001b[39m\u001b[38;5;241m.\u001b[39mcnn \u001b[38;5;241m=\u001b[39m \u001b[38;5;28mself\u001b[39m\u001b[38;5;241m.\u001b[39mcnn\u001b[38;5;241m.\u001b[39mtrain()  \u001b[38;5;66;03m# Set the model back to training mode\u001b[39;00m\n",
      "File \u001b[0;32m~/Documents/research/tfo_inverse_modelling/.venv/lib/python3.9/site-packages/torch/nn/modules/module.py:1194\u001b[0m, in \u001b[0;36mModule._call_impl\u001b[0;34m(self, *input, **kwargs)\u001b[0m\n\u001b[1;32m   1190\u001b[0m \u001b[38;5;66;03m# If we don't have any hooks, we want to skip the rest of the logic in\u001b[39;00m\n\u001b[1;32m   1191\u001b[0m \u001b[38;5;66;03m# this function, and just call forward.\u001b[39;00m\n\u001b[1;32m   1192\u001b[0m \u001b[38;5;28;01mif\u001b[39;00m \u001b[38;5;129;01mnot\u001b[39;00m (\u001b[38;5;28mself\u001b[39m\u001b[38;5;241m.\u001b[39m_backward_hooks \u001b[38;5;129;01mor\u001b[39;00m \u001b[38;5;28mself\u001b[39m\u001b[38;5;241m.\u001b[39m_forward_hooks \u001b[38;5;129;01mor\u001b[39;00m \u001b[38;5;28mself\u001b[39m\u001b[38;5;241m.\u001b[39m_forward_pre_hooks \u001b[38;5;129;01mor\u001b[39;00m _global_backward_hooks\n\u001b[1;32m   1193\u001b[0m         \u001b[38;5;129;01mor\u001b[39;00m _global_forward_hooks \u001b[38;5;129;01mor\u001b[39;00m _global_forward_pre_hooks):\n\u001b[0;32m-> 1194\u001b[0m     \u001b[38;5;28;01mreturn\u001b[39;00m \u001b[43mforward_call\u001b[49m\u001b[43m(\u001b[49m\u001b[38;5;241;43m*\u001b[39;49m\u001b[38;5;28;43minput\u001b[39;49m\u001b[43m,\u001b[49m\u001b[43m \u001b[49m\u001b[38;5;241;43m*\u001b[39;49m\u001b[38;5;241;43m*\u001b[39;49m\u001b[43mkwargs\u001b[49m\u001b[43m)\u001b[49m\n\u001b[1;32m   1195\u001b[0m \u001b[38;5;66;03m# Do not call functions when jit is used\u001b[39;00m\n\u001b[1;32m   1196\u001b[0m full_backward_hooks, non_full_backward_hooks \u001b[38;5;241m=\u001b[39m [], []\n",
      "File \u001b[0;32m~/Documents/research/tfo_inverse_modelling/inverse_modelling_tfo/models/custom_models.py:338\u001b[0m, in \u001b[0;36mCNN1d.forward\u001b[0;34m(self, x)\u001b[0m\n\u001b[1;32m    337\u001b[0m \u001b[38;5;28;01mdef\u001b[39;00m \u001b[38;5;21mforward\u001b[39m(\u001b[38;5;28mself\u001b[39m, x):\n\u001b[0;32m--> 338\u001b[0m     \u001b[38;5;28;01mreturn\u001b[39;00m \u001b[38;5;28;43mself\u001b[39;49m\u001b[38;5;241;43m.\u001b[39;49m\u001b[43mmodel\u001b[49m\u001b[43m(\u001b[49m\u001b[43mx\u001b[49m\u001b[43m)\u001b[49m\n",
      "File \u001b[0;32m~/Documents/research/tfo_inverse_modelling/.venv/lib/python3.9/site-packages/torch/nn/modules/module.py:1194\u001b[0m, in \u001b[0;36mModule._call_impl\u001b[0;34m(self, *input, **kwargs)\u001b[0m\n\u001b[1;32m   1190\u001b[0m \u001b[38;5;66;03m# If we don't have any hooks, we want to skip the rest of the logic in\u001b[39;00m\n\u001b[1;32m   1191\u001b[0m \u001b[38;5;66;03m# this function, and just call forward.\u001b[39;00m\n\u001b[1;32m   1192\u001b[0m \u001b[38;5;28;01mif\u001b[39;00m \u001b[38;5;129;01mnot\u001b[39;00m (\u001b[38;5;28mself\u001b[39m\u001b[38;5;241m.\u001b[39m_backward_hooks \u001b[38;5;129;01mor\u001b[39;00m \u001b[38;5;28mself\u001b[39m\u001b[38;5;241m.\u001b[39m_forward_hooks \u001b[38;5;129;01mor\u001b[39;00m \u001b[38;5;28mself\u001b[39m\u001b[38;5;241m.\u001b[39m_forward_pre_hooks \u001b[38;5;129;01mor\u001b[39;00m _global_backward_hooks\n\u001b[1;32m   1193\u001b[0m         \u001b[38;5;129;01mor\u001b[39;00m _global_forward_hooks \u001b[38;5;129;01mor\u001b[39;00m _global_forward_pre_hooks):\n\u001b[0;32m-> 1194\u001b[0m     \u001b[38;5;28;01mreturn\u001b[39;00m \u001b[43mforward_call\u001b[49m\u001b[43m(\u001b[49m\u001b[38;5;241;43m*\u001b[39;49m\u001b[38;5;28;43minput\u001b[39;49m\u001b[43m,\u001b[49m\u001b[43m \u001b[49m\u001b[38;5;241;43m*\u001b[39;49m\u001b[38;5;241;43m*\u001b[39;49m\u001b[43mkwargs\u001b[49m\u001b[43m)\u001b[49m\n\u001b[1;32m   1195\u001b[0m \u001b[38;5;66;03m# Do not call functions when jit is used\u001b[39;00m\n\u001b[1;32m   1196\u001b[0m full_backward_hooks, non_full_backward_hooks \u001b[38;5;241m=\u001b[39m [], []\n",
      "File \u001b[0;32m~/Documents/research/tfo_inverse_modelling/.venv/lib/python3.9/site-packages/torch/nn/modules/container.py:204\u001b[0m, in \u001b[0;36mSequential.forward\u001b[0;34m(self, input)\u001b[0m\n\u001b[1;32m    202\u001b[0m \u001b[38;5;28;01mdef\u001b[39;00m \u001b[38;5;21mforward\u001b[39m(\u001b[38;5;28mself\u001b[39m, \u001b[38;5;28minput\u001b[39m):\n\u001b[1;32m    203\u001b[0m     \u001b[38;5;28;01mfor\u001b[39;00m module \u001b[38;5;129;01min\u001b[39;00m \u001b[38;5;28mself\u001b[39m:\n\u001b[0;32m--> 204\u001b[0m         \u001b[38;5;28minput\u001b[39m \u001b[38;5;241m=\u001b[39m \u001b[43mmodule\u001b[49m\u001b[43m(\u001b[49m\u001b[38;5;28;43minput\u001b[39;49m\u001b[43m)\u001b[49m\n\u001b[1;32m    205\u001b[0m     \u001b[38;5;28;01mreturn\u001b[39;00m \u001b[38;5;28minput\u001b[39m\n",
      "File \u001b[0;32m~/Documents/research/tfo_inverse_modelling/.venv/lib/python3.9/site-packages/torch/nn/modules/module.py:1194\u001b[0m, in \u001b[0;36mModule._call_impl\u001b[0;34m(self, *input, **kwargs)\u001b[0m\n\u001b[1;32m   1190\u001b[0m \u001b[38;5;66;03m# If we don't have any hooks, we want to skip the rest of the logic in\u001b[39;00m\n\u001b[1;32m   1191\u001b[0m \u001b[38;5;66;03m# this function, and just call forward.\u001b[39;00m\n\u001b[1;32m   1192\u001b[0m \u001b[38;5;28;01mif\u001b[39;00m \u001b[38;5;129;01mnot\u001b[39;00m (\u001b[38;5;28mself\u001b[39m\u001b[38;5;241m.\u001b[39m_backward_hooks \u001b[38;5;129;01mor\u001b[39;00m \u001b[38;5;28mself\u001b[39m\u001b[38;5;241m.\u001b[39m_forward_hooks \u001b[38;5;129;01mor\u001b[39;00m \u001b[38;5;28mself\u001b[39m\u001b[38;5;241m.\u001b[39m_forward_pre_hooks \u001b[38;5;129;01mor\u001b[39;00m _global_backward_hooks\n\u001b[1;32m   1193\u001b[0m         \u001b[38;5;129;01mor\u001b[39;00m _global_forward_hooks \u001b[38;5;129;01mor\u001b[39;00m _global_forward_pre_hooks):\n\u001b[0;32m-> 1194\u001b[0m     \u001b[38;5;28;01mreturn\u001b[39;00m \u001b[43mforward_call\u001b[49m\u001b[43m(\u001b[49m\u001b[38;5;241;43m*\u001b[39;49m\u001b[38;5;28;43minput\u001b[39;49m\u001b[43m,\u001b[49m\u001b[43m \u001b[49m\u001b[38;5;241;43m*\u001b[39;49m\u001b[38;5;241;43m*\u001b[39;49m\u001b[43mkwargs\u001b[49m\u001b[43m)\u001b[49m\n\u001b[1;32m   1195\u001b[0m \u001b[38;5;66;03m# Do not call functions when jit is used\u001b[39;00m\n\u001b[1;32m   1196\u001b[0m full_backward_hooks, non_full_backward_hooks \u001b[38;5;241m=\u001b[39m [], []\n",
      "File \u001b[0;32m~/Documents/research/tfo_inverse_modelling/.venv/lib/python3.9/site-packages/torch/nn/modules/conv.py:313\u001b[0m, in \u001b[0;36mConv1d.forward\u001b[0;34m(self, input)\u001b[0m\n\u001b[1;32m    312\u001b[0m \u001b[38;5;28;01mdef\u001b[39;00m \u001b[38;5;21mforward\u001b[39m(\u001b[38;5;28mself\u001b[39m, \u001b[38;5;28minput\u001b[39m: Tensor) \u001b[38;5;241m-\u001b[39m\u001b[38;5;241m>\u001b[39m Tensor:\n\u001b[0;32m--> 313\u001b[0m     \u001b[38;5;28;01mreturn\u001b[39;00m \u001b[38;5;28;43mself\u001b[39;49m\u001b[38;5;241;43m.\u001b[39;49m\u001b[43m_conv_forward\u001b[49m\u001b[43m(\u001b[49m\u001b[38;5;28;43minput\u001b[39;49m\u001b[43m,\u001b[49m\u001b[43m \u001b[49m\u001b[38;5;28;43mself\u001b[39;49m\u001b[38;5;241;43m.\u001b[39;49m\u001b[43mweight\u001b[49m\u001b[43m,\u001b[49m\u001b[43m \u001b[49m\u001b[38;5;28;43mself\u001b[39;49m\u001b[38;5;241;43m.\u001b[39;49m\u001b[43mbias\u001b[49m\u001b[43m)\u001b[49m\n",
      "File \u001b[0;32m~/Documents/research/tfo_inverse_modelling/.venv/lib/python3.9/site-packages/torch/nn/modules/conv.py:309\u001b[0m, in \u001b[0;36mConv1d._conv_forward\u001b[0;34m(self, input, weight, bias)\u001b[0m\n\u001b[1;32m    305\u001b[0m \u001b[38;5;28;01mif\u001b[39;00m \u001b[38;5;28mself\u001b[39m\u001b[38;5;241m.\u001b[39mpadding_mode \u001b[38;5;241m!=\u001b[39m \u001b[38;5;124m'\u001b[39m\u001b[38;5;124mzeros\u001b[39m\u001b[38;5;124m'\u001b[39m:\n\u001b[1;32m    306\u001b[0m     \u001b[38;5;28;01mreturn\u001b[39;00m F\u001b[38;5;241m.\u001b[39mconv1d(F\u001b[38;5;241m.\u001b[39mpad(\u001b[38;5;28minput\u001b[39m, \u001b[38;5;28mself\u001b[39m\u001b[38;5;241m.\u001b[39m_reversed_padding_repeated_twice, mode\u001b[38;5;241m=\u001b[39m\u001b[38;5;28mself\u001b[39m\u001b[38;5;241m.\u001b[39mpadding_mode),\n\u001b[1;32m    307\u001b[0m                     weight, bias, \u001b[38;5;28mself\u001b[39m\u001b[38;5;241m.\u001b[39mstride,\n\u001b[1;32m    308\u001b[0m                     _single(\u001b[38;5;241m0\u001b[39m), \u001b[38;5;28mself\u001b[39m\u001b[38;5;241m.\u001b[39mdilation, \u001b[38;5;28mself\u001b[39m\u001b[38;5;241m.\u001b[39mgroups)\n\u001b[0;32m--> 309\u001b[0m \u001b[38;5;28;01mreturn\u001b[39;00m \u001b[43mF\u001b[49m\u001b[38;5;241;43m.\u001b[39;49m\u001b[43mconv1d\u001b[49m\u001b[43m(\u001b[49m\u001b[38;5;28;43minput\u001b[39;49m\u001b[43m,\u001b[49m\u001b[43m \u001b[49m\u001b[43mweight\u001b[49m\u001b[43m,\u001b[49m\u001b[43m \u001b[49m\u001b[43mbias\u001b[49m\u001b[43m,\u001b[49m\u001b[43m \u001b[49m\u001b[38;5;28;43mself\u001b[39;49m\u001b[38;5;241;43m.\u001b[39;49m\u001b[43mstride\u001b[49m\u001b[43m,\u001b[49m\n\u001b[1;32m    310\u001b[0m \u001b[43m                \u001b[49m\u001b[38;5;28;43mself\u001b[39;49m\u001b[38;5;241;43m.\u001b[39;49m\u001b[43mpadding\u001b[49m\u001b[43m,\u001b[49m\u001b[43m \u001b[49m\u001b[38;5;28;43mself\u001b[39;49m\u001b[38;5;241;43m.\u001b[39;49m\u001b[43mdilation\u001b[49m\u001b[43m,\u001b[49m\u001b[43m \u001b[49m\u001b[38;5;28;43mself\u001b[39;49m\u001b[38;5;241;43m.\u001b[39;49m\u001b[43mgroups\u001b[49m\u001b[43m)\u001b[49m\n",
      "\u001b[0;31mRuntimeError\u001b[0m: Calculated padded input size per channel: (1). Kernel size: (5). Kernel size can't be greater than actual input size"
     ]
    }
   ],
   "source": [
    "from inverse_modelling_tfo.misc.misc_training import set_seed\n",
    "from torch.optim import Adam, SGD\n",
    "\n",
    "set_seed(42)\n",
    "trainer = trainer_factory.create()\n",
    "trainer.set_optimizer(SGD, {'lr': 1e-3, 'momentum': 0.91, 'weight_decay': 1e-4})\n",
    "# trainer.change_batch_size(2048)\n",
    "trainer.change_batch_size(32)\n",
    "trainer.epochs = 100\n",
    "trainer.run()"
   ]
  },
  {
   "cell_type": "code",
   "execution_count": null,
   "metadata": {},
   "outputs": [],
   "source": [
    "trainer.model.layers"
   ]
  },
  {
   "cell_type": "code",
   "execution_count": null,
   "metadata": {},
   "outputs": [],
   "source": [
    "import matplotlib.pyplot as plt\n",
    "\n",
    "plt.figure()\n",
    "plt.plot(trainer.train_loss, label='Training Loss', marker='x')\n",
    "plt.plot(trainer.validation_loss, label='Validation Loss', marker='x')\n",
    "# plt.yscale('log')\n",
    "plt.legend()\n",
    "\n",
    "loss_curves = plt.gcf()"
   ]
  },
  {
   "cell_type": "code",
   "execution_count": null,
   "metadata": {},
   "outputs": [],
   "source": [
    "print(trainer)"
   ]
  },
  {
   "cell_type": "code",
   "execution_count": null,
   "metadata": {},
   "outputs": [],
   "source": [
    "from inverse_modelling_tfo.visualization import generate_model_error_and_prediction\n",
    "\n",
    "# Increase batch_size for faster visuals generation - (does not affect training!)\n",
    "trainer.change_batch_size(4096)\n",
    "train_error, train_pred = generate_model_error_and_prediction(trainer.model, trainer.train_loader, y_columns, y_scaler)\n",
    "val_error, val_pred = generate_model_error_and_prediction(trainer.model, trainer.validation_loader, y_columns, y_scaler)"
   ]
  },
  {
   "cell_type": "code",
   "execution_count": null,
   "metadata": {},
   "outputs": [],
   "source": [
    "import matplotlib.pyplot as plt\n",
    "\n",
    "fig_dist, axes = plt.subplots(3, len(y_columns), squeeze=True, figsize=(17, 8), sharey=True)\n",
    "BIN_COUNT = 50\n",
    "\n",
    "train_data = y_scaler.inverse_transform(trainer.train_loader.dataset[:][1])\n",
    "val_data = y_scaler.inverse_transform(trainer.validation_loader.dataset[:][1])\n",
    "\n",
    "for i in range(len(y_columns)):\n",
    "    # Plot Errors\n",
    "    ax = axes[0, i]\n",
    "    plt.sca(ax)\n",
    "    column_name = train_error.columns[i]\n",
    "    plt.hist(train_error[column_name], bins=BIN_COUNT, color='blue', alpha=0.5, label='Train')\n",
    "    plt.hist(val_error[column_name], bins=BIN_COUNT, color='orange', alpha=0.5, label='Validation')\n",
    "\n",
    "    \n",
    "    # Plot Predictions\n",
    "    ax = axes[1, i]\n",
    "    plt.sca(ax)\n",
    "    column_name = train_pred.columns[i]\n",
    "    plt.hist(train_pred[column_name], bins=BIN_COUNT, color='blue', alpha=0.5, label='Train')\n",
    "    plt.hist(val_pred[column_name], bins=BIN_COUNT, color='orange', alpha=0.5, label='Validation')\n",
    "\n",
    "    \n",
    "    # Plot Ground Truth\n",
    "    ax = axes[2, i]\n",
    "    plt.sca(ax)\n",
    "    plt.hist(train_data[:, i], bins=BIN_COUNT, color='blue', alpha=0.5, label='Train')\n",
    "    plt.hist(val_data[:, i], bins=BIN_COUNT, color='orange', alpha=0.5, label='Validation')\n",
    "\n",
    "    # X Label for the bottommost row\n",
    "    plt.xlabel(y_columns[i])\n",
    "    \n",
    "# Add text to the left of each row of plots\n",
    "for i, label in enumerate(['MAE Error', 'Prediction', 'Ground Truth']):\n",
    "    fig_dist.text(0, (2.5-i)/3, label, ha='center', va='center', rotation='vertical')\n",
    "\n",
    "# Y Labels\n",
    "for i in range(axes.shape[0]):\n",
    "    axes[i, 0].set_ylabel('Count')\n",
    "\n",
    "# Add labels to top-left subplot\n",
    "axes[0, 0].legend()\n",
    "\n",
    "\n",
    "plt.tight_layout()\n",
    "plt.show()"
   ]
  },
  {
   "cell_type": "code",
   "execution_count": null,
   "metadata": {},
   "outputs": [],
   "source": [
    "import torchinfo\n",
    "\n",
    "torchinfo.summary(trainer.model)"
   ]
  }
 ],
 "metadata": {
  "kernelspec": {
   "display_name": ".venv",
   "language": "python",
   "name": "python3"
  },
  "language_info": {
   "codemirror_mode": {
    "name": "ipython",
    "version": 3
   },
   "file_extension": ".py",
   "mimetype": "text/x-python",
   "name": "python",
   "nbconvert_exporter": "python",
   "pygments_lexer": "ipython3",
   "version": "3.9.5"
  }
 },
 "nbformat": 4,
 "nbformat_minor": 2
}
