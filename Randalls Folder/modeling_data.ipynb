{
 "cells": [
  {
   "cell_type": "markdown",
   "metadata": {},
   "source": [
    "# Notebook for creating Models for Randall's data"
   ]
  },
  {
   "cell_type": "markdown",
   "metadata": {},
   "source": [
    "### Import Libraries and read data"
   ]
  },
  {
   "cell_type": "code",
   "execution_count": 1,
   "metadata": {},
   "outputs": [],
   "source": [
    "import sys\n",
    "\n",
    "# Set path to root directory\n",
    "sys.path.append(r'/home/rlfowler/Documents/research/tfo_inverse_modelling')\n",
    "\n",
    "# Import necessary modules\n",
    "import os\n",
    "import pandas as pd\n",
    "import numpy as np\n",
    "\n",
    "# Set my GPU\n",
    "os.environ[\"CUDA_VISIBLE_DEVICES\"] = \"3\""
   ]
  },
  {
   "cell_type": "code",
   "execution_count": 2,
   "metadata": {},
   "outputs": [
    {
     "name": "stdout",
     "output_type": "stream",
     "text": [
      "(35929014, 47)\n"
     ]
    },
    {
     "data": {
      "text/html": [
       "<div>\n",
       "<style scoped>\n",
       "    .dataframe tbody tr th:only-of-type {\n",
       "        vertical-align: middle;\n",
       "    }\n",
       "\n",
       "    .dataframe tbody tr th {\n",
       "        vertical-align: top;\n",
       "    }\n",
       "\n",
       "    .dataframe thead th {\n",
       "        text-align: right;\n",
       "    }\n",
       "</style>\n",
       "<table border=\"1\" class=\"dataframe\">\n",
       "  <thead>\n",
       "    <tr style=\"text-align: right;\">\n",
       "      <th></th>\n",
       "      <th>Maternal Wall Thickness</th>\n",
       "      <th>Fetal Radius</th>\n",
       "      <th>Fetal Displacement</th>\n",
       "      <th>Maternal Hb Concentration</th>\n",
       "      <th>Maternal Saturation</th>\n",
       "      <th>Fetal Hb Concentration</th>\n",
       "      <th>Fetal Saturation</th>\n",
       "      <th>10.0_1.0</th>\n",
       "      <th>15.0_1.0</th>\n",
       "      <th>19.0_1.0</th>\n",
       "      <th>...</th>\n",
       "      <th>55.0_2.0</th>\n",
       "      <th>59.0_2.0</th>\n",
       "      <th>64.0_2.0</th>\n",
       "      <th>68.0_2.0</th>\n",
       "      <th>72.0_2.0</th>\n",
       "      <th>77.0_2.0</th>\n",
       "      <th>81.0_2.0</th>\n",
       "      <th>86.0_2.0</th>\n",
       "      <th>90.0_2.0</th>\n",
       "      <th>94.0_2.0</th>\n",
       "    </tr>\n",
       "  </thead>\n",
       "  <tbody>\n",
       "    <tr>\n",
       "      <th>43923</th>\n",
       "      <td>2.0</td>\n",
       "      <td>50.0</td>\n",
       "      <td>5.0</td>\n",
       "      <td>11.0</td>\n",
       "      <td>0.9</td>\n",
       "      <td>10.725</td>\n",
       "      <td>0.10</td>\n",
       "      <td>0.000041</td>\n",
       "      <td>0.000005</td>\n",
       "      <td>0.000001</td>\n",
       "      <td>...</td>\n",
       "      <td>6.001589e-15</td>\n",
       "      <td>5.848743e-15</td>\n",
       "      <td>2.763929e-16</td>\n",
       "      <td>1.500358e-17</td>\n",
       "      <td>3.398607e-18</td>\n",
       "      <td>1.015295e-18</td>\n",
       "      <td>7.130597e-20</td>\n",
       "      <td>8.710054e-22</td>\n",
       "      <td>4.012456e-20</td>\n",
       "      <td>2.355748e-22</td>\n",
       "    </tr>\n",
       "    <tr>\n",
       "      <th>43924</th>\n",
       "      <td>2.0</td>\n",
       "      <td>50.0</td>\n",
       "      <td>5.0</td>\n",
       "      <td>11.0</td>\n",
       "      <td>0.9</td>\n",
       "      <td>10.725</td>\n",
       "      <td>0.15</td>\n",
       "      <td>0.000041</td>\n",
       "      <td>0.000005</td>\n",
       "      <td>0.000001</td>\n",
       "      <td>...</td>\n",
       "      <td>5.893694e-15</td>\n",
       "      <td>5.768395e-15</td>\n",
       "      <td>2.710312e-16</td>\n",
       "      <td>1.463642e-17</td>\n",
       "      <td>3.212955e-18</td>\n",
       "      <td>9.575111e-19</td>\n",
       "      <td>6.831444e-20</td>\n",
       "      <td>8.155644e-22</td>\n",
       "      <td>3.835888e-20</td>\n",
       "      <td>2.151092e-22</td>\n",
       "    </tr>\n",
       "    <tr>\n",
       "      <th>43925</th>\n",
       "      <td>2.0</td>\n",
       "      <td>50.0</td>\n",
       "      <td>5.0</td>\n",
       "      <td>11.0</td>\n",
       "      <td>0.9</td>\n",
       "      <td>10.725</td>\n",
       "      <td>0.20</td>\n",
       "      <td>0.000041</td>\n",
       "      <td>0.000005</td>\n",
       "      <td>0.000001</td>\n",
       "      <td>...</td>\n",
       "      <td>5.789363e-15</td>\n",
       "      <td>5.689761e-15</td>\n",
       "      <td>2.658178e-16</td>\n",
       "      <td>1.428727e-17</td>\n",
       "      <td>3.039417e-18</td>\n",
       "      <td>9.030257e-19</td>\n",
       "      <td>6.545149e-20</td>\n",
       "      <td>7.646231e-22</td>\n",
       "      <td>3.667090e-20</td>\n",
       "      <td>1.964215e-22</td>\n",
       "    </tr>\n",
       "    <tr>\n",
       "      <th>43926</th>\n",
       "      <td>2.0</td>\n",
       "      <td>50.0</td>\n",
       "      <td>5.0</td>\n",
       "      <td>11.0</td>\n",
       "      <td>0.9</td>\n",
       "      <td>10.725</td>\n",
       "      <td>0.25</td>\n",
       "      <td>0.000041</td>\n",
       "      <td>0.000005</td>\n",
       "      <td>0.000001</td>\n",
       "      <td>...</td>\n",
       "      <td>5.688417e-15</td>\n",
       "      <td>5.612798e-15</td>\n",
       "      <td>2.607455e-16</td>\n",
       "      <td>1.395518e-17</td>\n",
       "      <td>2.877101e-18</td>\n",
       "      <td>8.516513e-19</td>\n",
       "      <td>6.271132e-20</td>\n",
       "      <td>7.177746e-22</td>\n",
       "      <td>3.505719e-20</td>\n",
       "      <td>1.793575e-22</td>\n",
       "    </tr>\n",
       "    <tr>\n",
       "      <th>43927</th>\n",
       "      <td>2.0</td>\n",
       "      <td>50.0</td>\n",
       "      <td>5.0</td>\n",
       "      <td>11.0</td>\n",
       "      <td>0.9</td>\n",
       "      <td>10.725</td>\n",
       "      <td>0.30</td>\n",
       "      <td>0.000041</td>\n",
       "      <td>0.000005</td>\n",
       "      <td>0.000001</td>\n",
       "      <td>...</td>\n",
       "      <td>5.590720e-15</td>\n",
       "      <td>5.537444e-15</td>\n",
       "      <td>2.558081e-16</td>\n",
       "      <td>1.363931e-17</td>\n",
       "      <td>2.725183e-18</td>\n",
       "      <td>8.032090e-19</td>\n",
       "      <td>6.008842e-20</td>\n",
       "      <td>6.746510e-22</td>\n",
       "      <td>3.351450e-20</td>\n",
       "      <td>1.637759e-22</td>\n",
       "    </tr>\n",
       "  </tbody>\n",
       "</table>\n",
       "<p>5 rows × 47 columns</p>\n",
       "</div>"
      ],
      "text/plain": [
       "       Maternal Wall Thickness  Fetal Radius  Fetal Displacement  \\\n",
       "43923                      2.0          50.0                 5.0   \n",
       "43924                      2.0          50.0                 5.0   \n",
       "43925                      2.0          50.0                 5.0   \n",
       "43926                      2.0          50.0                 5.0   \n",
       "43927                      2.0          50.0                 5.0   \n",
       "\n",
       "       Maternal Hb Concentration  Maternal Saturation  Fetal Hb Concentration  \\\n",
       "43923                       11.0                  0.9                  10.725   \n",
       "43924                       11.0                  0.9                  10.725   \n",
       "43925                       11.0                  0.9                  10.725   \n",
       "43926                       11.0                  0.9                  10.725   \n",
       "43927                       11.0                  0.9                  10.725   \n",
       "\n",
       "       Fetal Saturation  10.0_1.0  15.0_1.0  19.0_1.0  ...      55.0_2.0  \\\n",
       "43923              0.10  0.000041  0.000005  0.000001  ...  6.001589e-15   \n",
       "43924              0.15  0.000041  0.000005  0.000001  ...  5.893694e-15   \n",
       "43925              0.20  0.000041  0.000005  0.000001  ...  5.789363e-15   \n",
       "43926              0.25  0.000041  0.000005  0.000001  ...  5.688417e-15   \n",
       "43927              0.30  0.000041  0.000005  0.000001  ...  5.590720e-15   \n",
       "\n",
       "           59.0_2.0      64.0_2.0      68.0_2.0      72.0_2.0      77.0_2.0  \\\n",
       "43923  5.848743e-15  2.763929e-16  1.500358e-17  3.398607e-18  1.015295e-18   \n",
       "43924  5.768395e-15  2.710312e-16  1.463642e-17  3.212955e-18  9.575111e-19   \n",
       "43925  5.689761e-15  2.658178e-16  1.428727e-17  3.039417e-18  9.030257e-19   \n",
       "43926  5.612798e-15  2.607455e-16  1.395518e-17  2.877101e-18  8.516513e-19   \n",
       "43927  5.537444e-15  2.558081e-16  1.363931e-17  2.725183e-18  8.032090e-19   \n",
       "\n",
       "           81.0_2.0      86.0_2.0      90.0_2.0      94.0_2.0  \n",
       "43923  7.130597e-20  8.710054e-22  4.012456e-20  2.355748e-22  \n",
       "43924  6.831444e-20  8.155644e-22  3.835888e-20  2.151092e-22  \n",
       "43925  6.545149e-20  7.646231e-22  3.667090e-20  1.964215e-22  \n",
       "43926  6.271132e-20  7.177746e-22  3.505719e-20  1.793575e-22  \n",
       "43927  6.008842e-20  6.746510e-22  3.351450e-20  1.637759e-22  \n",
       "\n",
       "[5 rows x 47 columns]"
      ]
     },
     "execution_count": 2,
     "metadata": {},
     "output_type": "execute_result"
    }
   ],
   "source": [
    "DATA_PATH = r'/home/rlfowler/Documents/research/tfo_inverse_modelling/Randalls Folder/data/randall_data_intensities.pkl'\n",
    "#CONFIG_PATH = r'/home/rlfowler/Documents/research/tfo_sim/data/compiled_intensity/randall_data.json'\n",
    "\n",
    "# Load the data\n",
    "data = pd.read_pickle(DATA_PATH)\n",
    "print(data.shape)\n",
    "data.head()"
   ]
  },
  {
   "cell_type": "code",
   "execution_count": 3,
   "metadata": {},
   "outputs": [
    {
     "name": "stdout",
     "output_type": "stream",
     "text": [
      "Maternal Wall Thickness: [ 2.  3.  4.  5.  6.  7.  8.  9. 10.]\n",
      "Fetal Radius: [ 50.  70.  90. 110. 130. 150. 170. 190. 210. 230. 250. 270. 290. 310.\n",
      " 330. 350. 370. 390. 410. 430. 450. 470. 490.]\n",
      "Fetal Displacement: [ 5. 15. 20. 25. 40. 10. 35.  0. 30.]\n",
      "Maternal Hb Concentration: [11.  11.5 12.  12.5 13.  13.5 14.  14.5 15.  15.5 16. ]\n",
      "Maternal Saturation: [0.9  0.91 0.92 0.93 0.94 0.95 0.96 0.97 0.98 0.99 1.  ]\n",
      "Fetal Hb Concentration: [10.725  11.     11.2125 11.275  11.5    11.7    11.7875 12.     12.1875\n",
      " 12.3    12.5    12.675  12.8125 13.     13.1625 13.325  13.5    13.65\n",
      " 13.8375 14.     14.1375 14.35   14.5    14.625  14.8625 15.     15.1125\n",
      " 15.375  15.5    15.6    15.8875 16.     16.4   ]\n",
      "Fetal Saturation: [0.1  0.15 0.2  0.25 0.3  0.35 0.4  0.45 0.5  0.55 0.6 ]\n"
     ]
    }
   ],
   "source": [
    "for col in data.columns[:7]:\n",
    "    print(f\"{col}: {data[col].unique()}\")"
   ]
  },
  {
   "cell_type": "code",
   "execution_count": 4,
   "metadata": {},
   "outputs": [
    {
     "name": "stdout",
     "output_type": "stream",
     "text": [
      "y_columns: ['Maternal Wall Thickness', 'Fetal Radius', 'Fetal Displacement', 'Maternal Hb Concentration', 'Maternal Saturation', 'Fetal Hb Concentration', 'Fetal Saturation']\n",
      "x_columns: ['10.0_1.0', '15.0_1.0', '19.0_1.0', '24.0_1.0', '28.0_1.0', '33.0_1.0', '37.0_1.0', '41.0_1.0', '46.0_1.0', '50.0_1.0', '55.0_1.0', '59.0_1.0', '64.0_1.0', '68.0_1.0', '72.0_1.0', '77.0_1.0', '81.0_1.0', '86.0_1.0', '90.0_1.0', '94.0_1.0', '10.0_2.0', '15.0_2.0', '19.0_2.0', '24.0_2.0', '28.0_2.0', '33.0_2.0', '37.0_2.0', '41.0_2.0', '46.0_2.0', '50.0_2.0', '55.0_2.0', '59.0_2.0', '64.0_2.0', '68.0_2.0', '72.0_2.0', '77.0_2.0', '81.0_2.0', '86.0_2.0', '90.0_2.0', '94.0_2.0']\n"
     ]
    }
   ],
   "source": [
    "y_columns = data.columns[:7]#[\"Fetal Saturation\"]\n",
    "x_columns = data.columns[7:]\n",
    "print(f\"y_columns: {y_columns.tolist()}\")\n",
    "print(f\"x_columns: {x_columns.tolist()}\")"
   ]
  },
  {
   "cell_type": "code",
   "execution_count": 5,
   "metadata": {},
   "outputs": [],
   "source": [
    "from sklearn import preprocessing\n",
    "\n",
    "## Scale y, sets mean to 0 and variance to 1\n",
    "y_scaler = preprocessing.StandardScaler()\n",
    "data[y_columns] = y_scaler.fit_transform(data[y_columns])\n",
    "\n",
    "## Scale x\n",
    "x_scaler = preprocessing.StandardScaler()\n",
    "data[x_columns] = x_scaler.fit_transform(data[x_columns])"
   ]
  },
  {
   "cell_type": "markdown",
   "metadata": {},
   "source": [
    "## Modeling"
   ]
  },
  {
   "cell_type": "code",
   "execution_count": 6,
   "metadata": {},
   "outputs": [
    {
     "name": "stdout",
     "output_type": "stream",
     "text": [
      "In Features : 40\n",
      "Out Features: 7\n"
     ]
    }
   ],
   "source": [
    "IN_FEATURES = len(x_columns)\n",
    "OUT_FEATURES = len(y_columns)\n",
    "print(\"In Features :\", IN_FEATURES)  \n",
    "print(\"Out Features:\", OUT_FEATURES)"
   ]
  },
  {
   "cell_type": "markdown",
   "metadata": {},
   "source": [
    "Select small subset of data.\n",
    "* Random Selection\n",
    "* Filtered Selections"
   ]
  },
  {
   "cell_type": "code",
   "execution_count": 7,
   "metadata": {},
   "outputs": [
    {
     "name": "stdout",
     "output_type": "stream",
     "text": [
      "(1796451, 47)\n"
     ]
    }
   ],
   "source": [
    "from sklearn.model_selection import train_test_split\n",
    "\n",
    "SUBSET_TYPE = \"random\"\n",
    "RANDOM_SEED = 42    # Set the random seed for reproducibility\n",
    "SAMPLE_SIZE = 0.05   # Set the sample size from the data\n",
    "TEST_SIZE = 0.2     # Set the test size for the train/test split\n",
    "\n",
    "if 'data' in globals():\n",
    "    # Split the data into training and testing sets # Might want to remove randomness for param selection\n",
    "    if SUBSET_TYPE == \"random\":\n",
    "        dataset = data.sample(frac=SAMPLE_SIZE, random_state=RANDOM_SEED)\n",
    "    elif SUBSET_TYPE == \"all\":\n",
    "        dataset = data\n",
    "    else:\n",
    "        raise ValueError(\"Invalid subset type. Must be either 'random' or 'all'.\")\n",
    "    del data\n",
    "    print(dataset.shape)\n",
    "else:\n",
    "    if 'dataset' not in globals():\n",
    "        print(\"Data not loaded. Please load data.\")\n",
    "    else:\n",
    "        print(\"Data already loaded. Proceeding with current dataset.\")\n",
    "        print(dataset.shape) # type: ignore"
   ]
  },
  {
   "cell_type": "code",
   "execution_count": 8,
   "metadata": {},
   "outputs": [],
   "source": [
    "from inverse_modelling_tfo.model_training.DataLoaderGenerators import DataLoaderGenerator\n",
    "from inverse_modelling_tfo.model_training.validation_methods import RandomSplit\n",
    "\n",
    "data_loader_params = {\n",
    "    'shuffle': True,    # The dataloader will shuffle its outputs at each epoch\n",
    "    'num_workers': 0,   # The number of workers that the dataloader will use to generate the batches\n",
    "}\n",
    "validation_method = RandomSplit(0.8)\n",
    "dataloader_gen = DataLoaderGenerator(dataset, x_columns, y_columns, 2, data_loader_params)\n",
    "train_loader, validation_loader = dataloader_gen.generate(validation_method)"
   ]
  },
  {
   "cell_type": "code",
   "execution_count": 9,
   "metadata": {},
   "outputs": [],
   "source": [
    "from inverse_modelling_tfo.model_training import TorchLossWrapper\n",
    "import torch.nn as nn   # PyTorch's neural network module\n",
    "\n",
    "criterion = TorchLossWrapper(nn.MSELoss(), name=\"mse\")   # good old MSE loss"
   ]
  },
  {
   "cell_type": "code",
   "execution_count": 10,
   "metadata": {},
   "outputs": [],
   "source": [
    "from inverse_modelling_tfo.model_training.custom_models import PerceptronBD\n",
    "\n",
    "model = PerceptronBD([len(x_columns), 20, 10, 10, len(y_columns)], dropout_rates=[0.4, 0.4, 0.4, 0.4]) "
   ]
  },
  {
   "cell_type": "code",
   "execution_count": 11,
   "metadata": {},
   "outputs": [
    {
     "data": {
      "text/plain": [
       "=================================================================\n",
       "Layer (type:depth-idx)                   Param #\n",
       "=================================================================\n",
       "PerceptronBD                             --\n",
       "├─Sequential: 1-1                        --\n",
       "│    └─Linear: 2-1                       820\n",
       "│    └─BatchNorm1d: 2-2                  40\n",
       "│    └─Dropout1d: 2-3                    --\n",
       "│    └─ReLU: 2-4                         --\n",
       "│    └─Linear: 2-5                       210\n",
       "│    └─BatchNorm1d: 2-6                  20\n",
       "│    └─Dropout1d: 2-7                    --\n",
       "│    └─ReLU: 2-8                         --\n",
       "│    └─Linear: 2-9                       110\n",
       "│    └─BatchNorm1d: 2-10                 20\n",
       "│    └─Dropout1d: 2-11                   --\n",
       "│    └─ReLU: 2-12                        --\n",
       "│    └─Linear: 2-13                      77\n",
       "│    └─Flatten: 2-14                     --\n",
       "=================================================================\n",
       "Total params: 1,297\n",
       "Trainable params: 1,297\n",
       "Non-trainable params: 0\n",
       "================================================================="
      ]
     },
     "execution_count": 11,
     "metadata": {},
     "output_type": "execute_result"
    }
   ],
   "source": [
    "# We can visualize this model by using torchinfo\n",
    "import torchinfo\n",
    "torchinfo.summary(model)"
   ]
  },
  {
   "cell_type": "markdown",
   "metadata": {},
   "source": [
    "20 minutes for 1 epoch"
   ]
  },
  {
   "cell_type": "code",
   "execution_count": 12,
   "metadata": {},
   "outputs": [],
   "source": [
    "from inverse_modelling_tfo.model_training import ModelTrainer \n",
    "\n",
    "trainer = ModelTrainer(model, dataloader_gen, validation_method, criterion)\n",
    "trainer.run(10)"
   ]
  },
  {
   "cell_type": "code",
   "execution_count": 13,
   "metadata": {},
   "outputs": [
    {
     "data": {
      "image/png": "[encoded data removed]",
      "text/plain": [
       "<Figure size 640x480 with 1 Axes>"
      ]
     },
     "metadata": {},
     "output_type": "display_data"
    }
   ],
   "source": [
    "import matplotlib.pyplot as plt\n",
    "\n",
    "loss_plot = plt.figure()\n",
    "criterion.loss_tracker.plot_losses()    # Plot the losses"
   ]
  },
  {
   "cell_type": "code",
   "execution_count": 14,
   "metadata": {},
   "outputs": [
    {
     "name": "stdout",
     "output_type": "stream",
     "text": [
      "\n",
      "        Model Properties:\n",
      "        PerceptronBD(\n",
      "  (model): Sequential(\n",
      "    (0): Linear(in_features=40, out_features=20, bias=True)\n",
      "    (1): BatchNorm1d(20, eps=1e-05, momentum=0.1, affine=True, track_running_stats=True)\n",
      "    (2): Dropout1d(p=0.4, inplace=False)\n",
      "    (3): ReLU()\n",
      "    (4): Linear(in_features=20, out_features=10, bias=True)\n",
      "    (5): BatchNorm1d(10, eps=1e-05, momentum=0.1, affine=True, track_running_stats=True)\n",
      "    (6): Dropout1d(p=0.4, inplace=False)\n",
      "    (7): ReLU()\n",
      "    (8): Linear(in_features=10, out_features=10, bias=True)\n",
      "    (9): BatchNorm1d(10, eps=1e-05, momentum=0.1, affine=True, track_running_stats=True)\n",
      "    (10): Dropout1d(p=0.4, inplace=False)\n",
      "    (11): ReLU()\n",
      "    (12): Linear(in_features=10, out_features=7, bias=True)\n",
      "    (13): Flatten(start_dim=1, end_dim=-1)\n",
      "  )\n",
      ")\n",
      "        Optimizer Properties\"\n",
      "        SGD (\n",
      "Parameter Group 0\n",
      "    dampening: 0\n",
      "    differentiable: False\n",
      "    foreach: None\n",
      "    lr: 0.0003\n",
      "    maximize: False\n",
      "    momentum: 0.9\n",
      "    nesterov: False\n",
      "    weight_decay: 0\n",
      ")\n",
      "        DataLoader Params: \n",
      "            Batch Size: 2\n",
      "            Validation Method: Split the data randomly using np.random.shuffle with a split of 0.8\n",
      "        Loss:\n",
      "            Train Loss: 0.976770718274067\n",
      "            Val. Loss: 0.9646095083381644\n"
     ]
    }
   ],
   "source": [
    "print(trainer)"
   ]
  },
  {
   "cell_type": "markdown",
   "metadata": {},
   "source": [
    "About 2 minutes"
   ]
  },
  {
   "cell_type": "code",
   "execution_count": 15,
   "metadata": {},
   "outputs": [],
   "source": [
    "# Increase batch_size for faster visuals generation - (does not affect training!)\n",
    "from inverse_modelling_tfo.visualization.distributions import generate_model_error_and_prediction\n",
    "\n",
    "trainer.change_batch_size(4096)\n",
    "train_error, train_pred = generate_model_error_and_prediction(trainer.model, trainer.train_loader, y_columns, y_scaler)\n",
    "val_error, val_pred = generate_model_error_and_prediction(trainer.model, trainer.validation_loader, y_columns, y_scaler)"
   ]
  },
  {
   "cell_type": "code",
   "execution_count": 16,
   "metadata": {},
   "outputs": [
    {
     "data": {
      "image/png": "[encoded data removed]",
      "text/plain": [
       "<Figure size 1700x800 with 21 Axes>"
      ]
     },
     "metadata": {},
     "output_type": "display_data"
    }
   ],
   "source": [
    "import matplotlib.pyplot as plt\n",
    "\n",
    "BIN_COUNT = 50\n",
    "\n",
    "fig_dist, axes = plt.subplots(3, len(y_columns), squeeze=True, figsize=(17, 8), sharey=True)\n",
    "train_data = y_scaler.inverse_transform(trainer.train_loader.dataset[:][1].cpu())\n",
    "val_data = y_scaler.inverse_transform(trainer.validation_loader.dataset[:][1].cpu())\n",
    "\n",
    "for i in range(len(y_columns)):\n",
    "    # Plot Errors\n",
    "    ax = axes[0, i]\n",
    "    plt.sca(ax)\n",
    "    column_name = train_error.columns[i]\n",
    "    plt.hist(train_error[column_name], bins=BIN_COUNT, color='blue', alpha=0.5, label='Train')\n",
    "    plt.hist(val_error[column_name], bins=BIN_COUNT, color='orange', alpha=0.5, label='Validation')\n",
    "\n",
    "    \n",
    "    # Plot Predictions\n",
    "    ax = axes[1, i]\n",
    "    plt.sca(ax)\n",
    "    column_name = train_pred.columns[i]\n",
    "    plt.hist(train_pred[column_name], bins=BIN_COUNT, color='blue', alpha=0.5, label='Train')\n",
    "    plt.hist(val_pred[column_name], bins=BIN_COUNT, color='orange', alpha=0.5, label='Validation')\n",
    "\n",
    "    \n",
    "    # Plot Ground Truth\n",
    "    ax = axes[2, i]\n",
    "    plt.sca(ax)\n",
    "    plt.hist(train_data[:, i], bins=BIN_COUNT, color='blue', alpha=0.5, label='Train')\n",
    "    plt.hist(val_data[:, i], bins=BIN_COUNT, color='orange', alpha=0.5, label='Validation')\n",
    "\n",
    "    # X Label for the bottommost row\n",
    "    plt.xlabel(y_columns[i])\n",
    "    \n",
    "# Add text to the left of each row of plots\n",
    "for i, label in enumerate(['MAE Error', 'Prediction', 'Ground Truth']):\n",
    "    fig_dist.text(0, (2.5-i)/3, label, ha='center', va='center', rotation='vertical')\n",
    "\n",
    "# Y Labels\n",
    "for i in range(axes.shape[0]):\n",
    "    axes[i, 0].set_ylabel('Count')\n",
    "\n",
    "# Add labels to top-left subplot\n",
    "axes[0, 0].legend()\n",
    "\n",
    "\n",
    "plt.tight_layout()\n",
    "plt.show()"
   ]
  },
  {
   "cell_type": "code",
   "execution_count": 17,
   "metadata": {},
   "outputs": [],
   "source": [
    "from mdreport import MarkdownReport\n",
    "from pathlib import Path\n",
    "\n",
    "report = MarkdownReport(Path('results'), 'report_epoch10_random_all', 'Example Report')\n",
    "report.add_text_report(\"Objective\", \"Training Models using the ModelTrainer Class\")\n",
    "report.add_code_report(\"Model Used\", str(torchinfo.summary(trainer.model)))\n",
    "report.add_image_report(\"Loss Curves\", loss_plot)\n",
    "report.add_image_report(\"Error Distributions\", fig_dist)\n",
    "report.save_report()"
   ]
  }
 ],
 "metadata": {
  "kernelspec": {
   "display_name": ".venv",
   "language": "python",
   "name": "python3"
  },
  "language_info": {
   "codemirror_mode": {
    "name": "ipython",
    "version": 3
   },
   "file_extension": ".py",
   "mimetype": "text/x-python",
   "name": "python",
   "nbconvert_exporter": "python",
   "pygments_lexer": "ipython3",
   "version": "3.9.5"
  }
 },
 "nbformat": 4,
 "nbformat_minor": 2
}
