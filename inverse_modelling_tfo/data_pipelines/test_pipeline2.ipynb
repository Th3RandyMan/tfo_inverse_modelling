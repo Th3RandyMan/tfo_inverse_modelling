{
 "cells": [
  {
   "cell_type": "code",
   "execution_count": 2,
   "metadata": {},
   "outputs": [],
   "source": [
    "from pathlib import Path\n",
    "import json\n",
    "import pandas as pd\n",
    "from inverse_modelling_tfo.data_pipelines.fetal_conc_groups import dan_iccps_pencil1, generate_grouping_from_config\n",
    "from inverse_modelling_tfo.data import config_based_normalization\n",
    "from inverse_modelling_tfo.data.intensity_interpolation import (\n",
    "    interpolate_exp,\n",
    "    get_interpolate_fit_params,\n",
    "    exp_piecewise_affine,\n",
    ")\n",
    "from inverse_modelling_tfo.data.interpolation_function_zoo import *\n",
    "from inverse_modelling_tfo.features.build_features import (\n",
    "    FetalACFeatureBuilder,\n",
    "    RowCombinationFeatureBuilder,\n",
    "    TwoColumnOperationFeatureBuilder,\n",
    "    FetalACbyDCFeatureBuilder,\n",
    "    LogTransformFeatureBuilder,\n",
    "    ConcatenateFeatureBuilder,\n",
    ")\n",
    "from inverse_modelling_tfo.features.data_transformations import (\n",
    "    LongToWideIntensityTransformation,\n",
    "    ToFittingParameterTransformation,\n",
    ")\n",
    "\n",
    "# Data Setup\n",
    "# ==========================================================================================\n",
    "# out_dest = Path(__file__).parent.parent.parent / \"data\" / \"processed_data\" / \"I1_and_I2.pkl\"\n",
    "out_dest = out_dest = Path(r'/home/rraiyan/personal_projects/tfo_inverse_modelling/data/processed_data') / \"pulsation_ratio_interp.pkl\"\n",
    "# out_dest = Path(__file__).parent.parent.parent / \"data\" / \"processed_data\" / \"logI2_by_I1.pkl\"\n",
    "# out_dest = Path(__file__).parent.parent.parent / \"data\" / \"processed_data\" / \"processed1_max_long_range.pkl\"\n",
    "config_dest = out_dest.with_suffix(\".json\")\n",
    "\n",
    "in_src = Path(r\"/home/rraiyan/simulations/tfo_sim/data/compiled_intensity/pencil2.pkl\")\n",
    "config_src = in_src.with_suffix(\".json\")\n",
    "\n",
    "fconc_rounding = 2\n",
    "grouping_map = generate_grouping_from_config(config_src, fconc_rounding)\n",
    "\n",
    "\n",
    "data = pd.read_pickle(in_src)\n",
    "config_based_normalization(data, config_src)\n",
    "\n",
    "\n",
    "# Data Processing\n",
    "# ==========================================================================================\n",
    "data = data.drop(columns=\"Uterus Thickness\")\n",
    "\n",
    "# Interpolate intensity to remove noise\n",
    "data = interpolate_exp(data, weights=(1, 0.6), interpolation_function=exp_piecewise_affine, break_indices=[4, 12, 20])\n",
    "data[\"Intensity\"] = data[\"Interpolated Intensity\"]  # Replace OG intensity with interpolated intensity\n",
    "# data = data.drop(columns=\"Interpolated Intensity\")  # Cleanup"
   ]
  }
 ],
 "metadata": {
  "kernelspec": {
   "display_name": "cybercat",
   "language": "python",
   "name": "python3"
  },
  "language_info": {
   "codemirror_mode": {
    "name": "ipython",
    "version": 3
   },
   "file_extension": ".py",
   "mimetype": "text/x-python",
   "name": "python",
   "nbconvert_exporter": "python",
   "pygments_lexer": "ipython3",
   "version": "3.8.10"
  }
 },
 "nbformat": 4,
 "nbformat_minor": 2
}
